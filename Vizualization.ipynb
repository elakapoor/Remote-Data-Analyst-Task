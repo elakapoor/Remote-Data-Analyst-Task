{
 "cells": [
  {
   "cell_type": "markdown",
   "metadata": {},
   "source": [
    "# Vizulalization"
   ]
  },
  {
   "cell_type": "code",
   "execution_count": 1,
   "metadata": {},
   "outputs": [
    {
     "data": {
      "text/html": [
       "        <script type=\"text/javascript\">\n",
       "        window.PlotlyConfig = {MathJaxConfig: 'local'};\n",
       "        if (window.MathJax) {MathJax.Hub.Config({SVG: {font: \"STIX-Web\"}});}\n",
       "        if (typeof require !== 'undefined') {\n",
       "        require.undef(\"plotly\");\n",
       "        requirejs.config({\n",
       "            paths: {\n",
       "                'plotly': ['https://cdn.plot.ly/plotly-2.2.0.min']\n",
       "            }\n",
       "        });\n",
       "        require(['plotly'], function(Plotly) {\n",
       "            window._Plotly = Plotly;\n",
       "        });\n",
       "        }\n",
       "        </script>\n",
       "        "
      ]
     },
     "metadata": {},
     "output_type": "display_data"
    },
    {
     "data": {
      "text/html": [
       "        <script type=\"text/javascript\">\n",
       "        window.PlotlyConfig = {MathJaxConfig: 'local'};\n",
       "        if (window.MathJax) {MathJax.Hub.Config({SVG: {font: \"STIX-Web\"}});}\n",
       "        if (typeof require !== 'undefined') {\n",
       "        require.undef(\"plotly\");\n",
       "        requirejs.config({\n",
       "            paths: {\n",
       "                'plotly': ['https://cdn.plot.ly/plotly-2.2.0.min']\n",
       "            }\n",
       "        });\n",
       "        require(['plotly'], function(Plotly) {\n",
       "            window._Plotly = Plotly;\n",
       "        });\n",
       "        }\n",
       "        </script>\n",
       "        "
      ]
     },
     "metadata": {},
     "output_type": "display_data"
    }
   ],
   "source": [
    "import chart_studio.plotly as py\n",
    "import seaborn as sns\n",
    "import plotly.express as px\n",
    "%matplotlib inline\n",
    "\n",
    "# Make Plotly work in your Jupyter Notebook\n",
    "from plotly.offline import download_plotlyjs, init_notebook_mode, plot, iplot \n",
    "init_notebook_mode(connected = True)\n",
    "import cufflinks as cf\n",
    "\n",
    "cf.go_offline()"
   ]
  },
  {
   "cell_type": "markdown",
   "metadata": {},
   "source": [
    "If purchase month have been given then we could see the more trends according to season."
   ]
  },
  {
   "cell_type": "code",
   "execution_count": 3,
   "metadata": {},
   "outputs": [
    {
     "data": {
      "text/html": [
       "<div>\n",
       "<style scoped>\n",
       "    .dataframe tbody tr th:only-of-type {\n",
       "        vertical-align: middle;\n",
       "    }\n",
       "\n",
       "    .dataframe tbody tr th {\n",
       "        vertical-align: top;\n",
       "    }\n",
       "\n",
       "    .dataframe thead th {\n",
       "        text-align: right;\n",
       "    }\n",
       "</style>\n",
       "<table border=\"1\" class=\"dataframe\">\n",
       "  <thead>\n",
       "    <tr style=\"text-align: right;\">\n",
       "      <th></th>\n",
       "      <th>Unnamed: 0</th>\n",
       "      <th>make</th>\n",
       "      <th>model</th>\n",
       "      <th>model_variant</th>\n",
       "      <th>color</th>\n",
       "      <th>carType</th>\n",
       "      <th>city</th>\n",
       "      <th>condition</th>\n",
       "      <th>manufacture_month</th>\n",
       "      <th>manufacture_year</th>\n",
       "      <th>mileage</th>\n",
       "      <th>mileage_unit</th>\n",
       "    </tr>\n",
       "  </thead>\n",
       "  <tbody>\n",
       "    <tr>\n",
       "      <th>0</th>\n",
       "      <td>0</td>\n",
       "      <td>AGM</td>\n",
       "      <td>WLR</td>\n",
       "      <td>NaN</td>\n",
       "      <td>Weiss Mét.</td>\n",
       "      <td>Cabriolet</td>\n",
       "      <td>Zuzwil</td>\n",
       "      <td>Occasion</td>\n",
       "      <td>1</td>\n",
       "      <td>2004</td>\n",
       "      <td>NaN</td>\n",
       "      <td>NaN</td>\n",
       "    </tr>\n",
       "    <tr>\n",
       "      <th>1</th>\n",
       "      <td>1</td>\n",
       "      <td>Alfa Romeo</td>\n",
       "      <td>1300 Junior</td>\n",
       "      <td>GT</td>\n",
       "      <td>Silber</td>\n",
       "      <td>Limousine</td>\n",
       "      <td>Zuzwil</td>\n",
       "      <td>Occasion</td>\n",
       "      <td>6</td>\n",
       "      <td>1972</td>\n",
       "      <td>NaN</td>\n",
       "      <td>NaN</td>\n",
       "    </tr>\n",
       "    <tr>\n",
       "      <th>2</th>\n",
       "      <td>2</td>\n",
       "      <td>Alfa Romeo</td>\n",
       "      <td>1300 Junior</td>\n",
       "      <td>SPIDER</td>\n",
       "      <td>Weiss</td>\n",
       "      <td>Cabriolet</td>\n",
       "      <td>Zuzwil</td>\n",
       "      <td>Oldtimer</td>\n",
       "      <td>3</td>\n",
       "      <td>1970</td>\n",
       "      <td>NaN</td>\n",
       "      <td>NaN</td>\n",
       "    </tr>\n",
       "    <tr>\n",
       "      <th>3</th>\n",
       "      <td>3</td>\n",
       "      <td>Alfa Romeo</td>\n",
       "      <td>166 3.0 V6 24V Super</td>\n",
       "      <td>166</td>\n",
       "      <td>Schwarz Mét.</td>\n",
       "      <td>Limousine</td>\n",
       "      <td>Zuzwil</td>\n",
       "      <td>Occasion</td>\n",
       "      <td>2</td>\n",
       "      <td>1999</td>\n",
       "      <td>12.5</td>\n",
       "      <td>kilometer</td>\n",
       "    </tr>\n",
       "    <tr>\n",
       "      <th>4</th>\n",
       "      <td>4</td>\n",
       "      <td>Alfa Romeo</td>\n",
       "      <td>2000 Bertone</td>\n",
       "      <td>GTV</td>\n",
       "      <td>Schwarz</td>\n",
       "      <td>Coupé</td>\n",
       "      <td>Zuzwil</td>\n",
       "      <td>Occasion</td>\n",
       "      <td>2</td>\n",
       "      <td>1972</td>\n",
       "      <td>NaN</td>\n",
       "      <td>NaN</td>\n",
       "    </tr>\n",
       "  </tbody>\n",
       "</table>\n",
       "</div>"
      ],
      "text/plain": [
       "   Unnamed: 0        make                 model model_variant         color  \\\n",
       "0           0         AGM                   WLR           NaN    Weiss Mét.   \n",
       "1           1  Alfa Romeo           1300 Junior            GT        Silber   \n",
       "2           2  Alfa Romeo           1300 Junior        SPIDER         Weiss   \n",
       "3           3  Alfa Romeo  166 3.0 V6 24V Super           166  Schwarz Mét.   \n",
       "4           4  Alfa Romeo          2000 Bertone           GTV       Schwarz   \n",
       "\n",
       "     carType    city condition  manufacture_month  manufacture_year  mileage  \\\n",
       "0  Cabriolet  Zuzwil  Occasion                  1              2004      NaN   \n",
       "1  Limousine  Zuzwil  Occasion                  6              1972      NaN   \n",
       "2  Cabriolet  Zuzwil  Oldtimer                  3              1970      NaN   \n",
       "3  Limousine  Zuzwil  Occasion                  2              1999     12.5   \n",
       "4      Coupé  Zuzwil  Occasion                  2              1972      NaN   \n",
       "\n",
       "  mileage_unit  \n",
       "0          NaN  \n",
       "1          NaN  \n",
       "2          NaN  \n",
       "3    kilometer  \n",
       "4          NaN  "
      ]
     },
     "execution_count": 3,
     "metadata": {},
     "output_type": "execute_result"
    }
   ],
   "source": [
    "import pandas as pd\n",
    "df12 = pd.read_excel(\"task_output_pt.xlsx\")\n",
    "df12.head()"
   ]
  },
  {
   "cell_type": "code",
   "execution_count": 4,
   "metadata": {},
   "outputs": [
    {
     "data": {
      "application/vnd.plotly.v1+json": {
       "config": {
        "plotlyServerURL": "https://plot.ly"
       },
       "data": [
        {
         "alignmentgroup": "True",
         "bingroup": "x",
         "hovertemplate": "city=%{x}<br>count=%{y}<extra></extra>",
         "legendgroup": "",
         "marker": {
          "color": "#EC2781",
          "pattern": {
           "shape": ""
          }
         },
         "name": "",
         "offsetgroup": "",
         "orientation": "v",
         "showlegend": false,
         "type": "histogram",
         "x": [
          "Zuzwil",
          "Zuzwil",
          "Zuzwil",
          "Zuzwil",
          "Zuzwil",
          "Zuzwil",
          "Zuzwil",
          "Zuzwil",
          "Zuzwil",
          "Zuzwil",
          "Porrentruy",
          "Zuzwil",
          "Zuzwil",
          "Zuzwil",
          "Zuzwil",
          "Zuzwil",
          "Zuzwil",
          "Safenwil",
          "Zuzwil",
          "Zuzwil",
          "Zuzwil",
          "Zuzwil",
          "Zuzwil",
          "Zuzwil",
          "Zuzwil",
          "Zuzwil",
          "Zuzwil",
          "Zuzwil",
          "Zuzwil",
          "Zuzwil",
          "Zuzwil",
          "Zuzwil",
          "Zuzwil",
          "Zuzwil",
          "Zuzwil",
          "Zuzwil",
          "Zuzwil",
          "Zuzwil",
          "Zuzwil",
          "Zuzwil",
          "Zuzwil",
          "Zuzwil",
          "Zuzwil",
          "Zuzwil",
          "Zuzwil",
          "Zuzwil",
          "Zuzwil",
          "Zuzwil",
          "Zuzwil",
          "Zuzwil",
          "Zuzwil",
          "Zuzwil",
          "Zuzwil",
          "Zuzwil",
          "Zuzwil",
          "Zuzwil",
          "Zuzwil",
          "Zuzwil",
          "Zuzwil",
          "Zuzwil",
          "Zuzwil",
          "Zuzwil",
          "Zuzwil",
          "Safenwil",
          "Zuzwil",
          "Zuzwil",
          "Zuzwil",
          "Zuzwil",
          "Zuzwil",
          "Zuzwil",
          "Zuzwil",
          "Zuzwil",
          "Zuzwil",
          "St. Gallen",
          "Zuzwil",
          "Zuzwil",
          "Zuzwil",
          "Zuzwil",
          "Zuzwil",
          "Zuzwil",
          "Zuzwil",
          "Zuzwil",
          "Zuzwil",
          "Zuzwil",
          "Zuzwil",
          "Zuzwil",
          "Zuzwil",
          "Zuzwil",
          "Zuzwil",
          "Zuzwil",
          "Zuzwil",
          "Zuzwil",
          "Zuzwil",
          "Zuzwil",
          "Zuzwil",
          "Zuzwil",
          "Zuzwil",
          "Zuzwil",
          "Zuzwil",
          "Zuzwil",
          "Zuzwil",
          "Zuzwil",
          "Zuzwil",
          "Zuzwil",
          "Zuzwil",
          "Zuzwil",
          "Zuzwil",
          "Zuzwil",
          "Zuzwil",
          "Zuzwil",
          "Zuzwil",
          "Zuzwil",
          "Zuzwil",
          "Zuzwil",
          "Zuzwil",
          "Zuzwil",
          "Zuzwil",
          "Zuzwil",
          "Zuzwil",
          "Zuzwil",
          "Zuzwil",
          "Zuzwil",
          "Zuzwil",
          "Zuzwil",
          "Zuzwil",
          "Zuzwil",
          "Zuzwil",
          "Zuzwil",
          "Zuzwil",
          "Zuzwil",
          "Zuzwil",
          "Zuzwil",
          "Zuzwil",
          "Zuzwil",
          "Zuzwil",
          "Zuzwil",
          "Zuzwil",
          "Zuzwil",
          "Zuzwil",
          "Zuzwil",
          "Zuzwil",
          "Zuzwil",
          "Zuzwil",
          "Zuzwil",
          "Zuzwil",
          "Zuzwil",
          "Zuzwil",
          "Zuzwil",
          "Zuzwil",
          "Zuzwil",
          "Zuzwil",
          "Zuzwil",
          "Zuzwil",
          "Zuzwil",
          "Zuzwil",
          "Sursee",
          "Zuzwil",
          "Zuzwil",
          "Zuzwil",
          "Zuzwil",
          "Zuzwil",
          "Zuzwil",
          "Zuzwil",
          "Sursee",
          "Zuzwil",
          "Zuzwil",
          "Zuzwil",
          "Zuzwil",
          "Zuzwil",
          "Zuzwil",
          "Zuzwil",
          "Zuzwil",
          "Zuzwil",
          "Zuzwil",
          "Zuzwil",
          "Zuzwil",
          "Zuzwil",
          "Zuzwil",
          "Zuzwil",
          "Zuzwil",
          "Zuzwil",
          "Zuzwil",
          "Sursee",
          "Zuzwil",
          "Zuzwil",
          "Zuzwil",
          "Zuzwil",
          "Zuzwil",
          "Zuzwil",
          "Zuzwil",
          "Zuzwil",
          "Zuzwil",
          "Zuzwil",
          "Zuzwil",
          "Zuzwil",
          "Sursee",
          "Zuzwil",
          "Zuzwil",
          "Zuzwil",
          "Zuzwil",
          "Zuzwil",
          "Porrentruy",
          "Zuzwil",
          "Zuzwil",
          "Zuzwil",
          "Porrentruy",
          "Zuzwil",
          "Zuzwil",
          "Zuzwil",
          "Zuzwil",
          "Sursee",
          "Zuzwil",
          "Zuzwil",
          "Zuzwil",
          "Zuzwil",
          "Zuzwil",
          "Zuzwil",
          "Zuzwil",
          "Zuzwil",
          "Zuzwil",
          "Zuzwil",
          "Zuzwil",
          "Zuzwil",
          "Zuzwil",
          "Zuzwil",
          "Zuzwil",
          "Zuzwil",
          "Zuzwil",
          "Sursee",
          "Zuzwil",
          "Zuzwil",
          "Zuzwil",
          "Zuzwil",
          "Zuzwil",
          "Zuzwil",
          "Zuzwil",
          "Zuzwil",
          "Zuzwil",
          "Zuzwil",
          "Zuzwil",
          "Zuzwil",
          "Zuzwil",
          "Zuzwil",
          "Zuzwil",
          "Zuzwil",
          "Zuzwil",
          "Zuzwil",
          "Zuzwil",
          "Zuzwil",
          "Zuzwil",
          "Zuzwil",
          "Zuzwil",
          "Sursee",
          "Porrentruy",
          "Porrentruy",
          "Zuzwil",
          "Porrentruy",
          "Porrentruy",
          "Zuzwil",
          "Zuzwil",
          "Zuzwil",
          "Zuzwil",
          "Zuzwil",
          "Zuzwil",
          "Zuzwil",
          "Zuzwil",
          "St. Gallen",
          "Zuzwil",
          "Zuzwil",
          "Zuzwil",
          "Porrentruy",
          "Zuzwil",
          "Porrentruy",
          "Porrentruy",
          "Zuzwil",
          "Zuzwil",
          "Zuzwil",
          "Zuzwil",
          "Zuzwil",
          "Zuzwil",
          "Zuzwil",
          "Zuzwil",
          "Zuzwil",
          "Zuzwil",
          "Zuzwil",
          "Zuzwil",
          "Zuzwil",
          "Zuzwil",
          "Zuzwil",
          "Zuzwil",
          "Zuzwil",
          "Zuzwil",
          "Zuzwil",
          "Zuzwil",
          "Zuzwil",
          "Zuzwil",
          "Zuzwil",
          "Zuzwil",
          "Zuzwil",
          "Zuzwil",
          "Zuzwil",
          "Zuzwil",
          "Zuzwil",
          "Zuzwil",
          "Zuzwil",
          "Zuzwil",
          "Zuzwil",
          "Zuzwil",
          "Zuzwil",
          "Zuzwil",
          "Zuzwil",
          "Zuzwil",
          "Zuzwil",
          "Zuzwil",
          "Zuzwil",
          "Zuzwil",
          "Zuzwil",
          "Sursee",
          "Sursee",
          "Sursee",
          "Zuzwil",
          "Zuzwil",
          "Zuzwil",
          "Zuzwil",
          "Zuzwil",
          "Zuzwil",
          "Zuzwil",
          "Zuzwil",
          "Zuzwil",
          "Zuzwil",
          "Zuzwil",
          "Zuzwil",
          "Zuzwil",
          "Zuzwil",
          "Zuzwil",
          "Zuzwil",
          "Zuzwil",
          "Zuzwil",
          "Zuzwil",
          "Zuzwil",
          "Zuzwil",
          "Zuzwil",
          "Zuzwil",
          "Zuzwil",
          "Zuzwil",
          "Zuzwil",
          "Zuzwil",
          "Zuzwil",
          "Zuzwil",
          "Zuzwil",
          "Zuzwil",
          "Zuzwil",
          "Zuzwil",
          "Zuzwil",
          "Zuzwil",
          "Zuzwil",
          "Zuzwil",
          "Zuzwil",
          "Zuzwil",
          "Zuzwil",
          "Zuzwil",
          "Zuzwil",
          "Zuzwil",
          "Zuzwil",
          "Zuzwil",
          "Zuzwil",
          "Zuzwil",
          "Zuzwil",
          "Zuzwil",
          "Zuzwil",
          "Zuzwil",
          "Zuzwil",
          "Zuzwil",
          "Zuzwil",
          "Zuzwil",
          "Zuzwil",
          "Zuzwil",
          "Zuzwil",
          "Zuzwil",
          "Zuzwil",
          "Zuzwil",
          "Zuzwil",
          "Zuzwil",
          "Zuzwil",
          "Zuzwil",
          "Zuzwil",
          "Zuzwil",
          "Zuzwil",
          "Zuzwil",
          "Zuzwil",
          "Zuzwil",
          "Zuzwil",
          "Zuzwil",
          "Zuzwil",
          "Zuzwil",
          "Zuzwil",
          "Zuzwil",
          "Zuzwil",
          "Zuzwil",
          "Zuzwil",
          "Zuzwil",
          "Zuzwil",
          "Zuzwil",
          "Zuzwil",
          "Zuzwil",
          "Zuzwil",
          "Zuzwil",
          "Zuzwil",
          "Zuzwil",
          "Zuzwil",
          "Zuzwil",
          "Zuzwil",
          "Zuzwil",
          "Zuzwil",
          "Zuzwil",
          "Zuzwil",
          "Zuzwil",
          "Zuzwil",
          "Zuzwil",
          "Zuzwil",
          "Zuzwil",
          "Zuzwil",
          "Zuzwil",
          "Zuzwil",
          "Zuzwil",
          "Zuzwil",
          "Zuzwil",
          "Zuzwil",
          "Zuzwil",
          "Zuzwil",
          "Zuzwil",
          "Zuzwil",
          "Zuzwil",
          "Zuzwil",
          "Zuzwil",
          "Safenwil",
          "Zuzwil",
          "Zuzwil",
          "Zuzwil",
          "Zuzwil",
          "Zuzwil",
          "Zuzwil",
          "Zuzwil",
          "Zuzwil",
          "Zuzwil",
          "Zuzwil",
          "Zuzwil",
          "Zuzwil",
          "Zuzwil",
          "Zuzwil",
          "Zuzwil",
          "Zuzwil",
          "Zuzwil",
          "Zuzwil",
          "Zuzwil",
          "Zuzwil",
          "Zuzwil",
          "Zuzwil",
          "Zuzwil",
          "Zuzwil",
          "Zuzwil",
          "Zuzwil",
          "Zuzwil",
          "Zuzwil",
          "Zuzwil",
          "Zuzwil",
          "Zuzwil",
          "Zuzwil",
          "Zuzwil",
          "Zuzwil",
          "Zuzwil",
          "Zuzwil",
          "Zuzwil",
          "Zuzwil",
          "Zuzwil",
          "Zuzwil",
          "Zuzwil",
          "Sursee",
          "Zuzwil",
          "Zuzwil",
          "Zuzwil",
          "Zuzwil",
          "Zuzwil",
          "Zuzwil",
          "Zuzwil",
          "Zuzwil",
          "Zuzwil",
          "Zuzwil",
          "Zuzwil",
          "Zuzwil",
          "Zuzwil",
          "Zuzwil",
          "Zuzwil",
          "Zuzwil",
          "Zuzwil",
          "Zuzwil",
          "Zuzwil",
          "Zuzwil",
          "Zuzwil",
          "Zuzwil",
          "Zuzwil",
          "Zuzwil",
          "Zuzwil",
          "Zuzwil",
          "Zuzwil",
          "Zuzwil",
          "Zuzwil",
          "Zuzwil",
          "Zuzwil",
          "Zuzwil",
          "Zuzwil",
          "Zuzwil",
          "Zuzwil",
          "Zuzwil",
          "Zuzwil",
          "Zuzwil",
          "Zuzwil",
          "Zuzwil",
          "Zuzwil",
          "Zuzwil",
          "Zuzwil",
          "Zuzwil",
          "Zuzwil",
          "Zuzwil",
          "Zuzwil",
          "Zuzwil",
          "Zuzwil",
          "Zuzwil",
          "Zuzwil",
          "Zuzwil",
          "Zuzwil",
          "Zuzwil",
          "Zuzwil",
          "Zuzwil",
          "Zuzwil",
          "Zuzwil",
          "Zuzwil",
          "Zuzwil",
          "Zuzwil",
          "Zuzwil",
          "Zuzwil",
          "Zuzwil",
          "Zuzwil",
          "Basel",
          "Zuzwil",
          "Zuzwil",
          "Basel",
          "Zuzwil",
          "Zuzwil",
          "Zuzwil",
          "Zuzwil",
          "Zuzwil",
          "Zuzwil",
          "Zuzwil",
          "Zuzwil",
          "Zuzwil",
          "Zuzwil",
          "Zuzwil",
          "Zuzwil",
          "Zuzwil",
          "Zuzwil",
          "Zuzwil",
          "Zuzwil",
          "Zuzwil",
          "Zuzwil",
          "Zuzwil",
          "Zuzwil",
          "Zuzwil",
          "Safenwil",
          "Zuzwil",
          "Zuzwil",
          "Zuzwil",
          "Zuzwil",
          "Zuzwil",
          "Zuzwil",
          "Zuzwil",
          "Zuzwil",
          "Zuzwil",
          "Zuzwil",
          "Zuzwil",
          "Zuzwil",
          "Safenwil",
          "Zuzwil",
          "Zuzwil",
          "Zuzwil",
          "Zuzwil",
          "Zuzwil",
          "Zuzwil",
          "Zuzwil",
          "Zuzwil",
          "Zuzwil",
          "Zuzwil",
          "Zuzwil",
          "Zuzwil",
          "Zuzwil",
          "Zuzwil",
          "Zuzwil",
          "Zuzwil",
          "Zuzwil",
          "Zuzwil"
         ],
         "xaxis": "x",
         "yaxis": "y"
        }
       ],
       "layout": {
        "barmode": "relative",
        "legend": {
         "tracegroupgap": 0
        },
        "margin": {
         "t": 60
        },
        "plot_bgcolor": "white",
        "template": {
         "data": {
          "bar": [
           {
            "error_x": {
             "color": "#2a3f5f"
            },
            "error_y": {
             "color": "#2a3f5f"
            },
            "marker": {
             "line": {
              "color": "#E5ECF6",
              "width": 0.5
             },
             "pattern": {
              "fillmode": "overlay",
              "size": 10,
              "solidity": 0.2
             }
            },
            "type": "bar"
           }
          ],
          "barpolar": [
           {
            "marker": {
             "line": {
              "color": "#E5ECF6",
              "width": 0.5
             },
             "pattern": {
              "fillmode": "overlay",
              "size": 10,
              "solidity": 0.2
             }
            },
            "type": "barpolar"
           }
          ],
          "carpet": [
           {
            "aaxis": {
             "endlinecolor": "#2a3f5f",
             "gridcolor": "white",
             "linecolor": "white",
             "minorgridcolor": "white",
             "startlinecolor": "#2a3f5f"
            },
            "baxis": {
             "endlinecolor": "#2a3f5f",
             "gridcolor": "white",
             "linecolor": "white",
             "minorgridcolor": "white",
             "startlinecolor": "#2a3f5f"
            },
            "type": "carpet"
           }
          ],
          "choropleth": [
           {
            "colorbar": {
             "outlinewidth": 0,
             "ticks": ""
            },
            "type": "choropleth"
           }
          ],
          "contour": [
           {
            "colorbar": {
             "outlinewidth": 0,
             "ticks": ""
            },
            "colorscale": [
             [
              0,
              "#0d0887"
             ],
             [
              0.1111111111111111,
              "#46039f"
             ],
             [
              0.2222222222222222,
              "#7201a8"
             ],
             [
              0.3333333333333333,
              "#9c179e"
             ],
             [
              0.4444444444444444,
              "#bd3786"
             ],
             [
              0.5555555555555556,
              "#d8576b"
             ],
             [
              0.6666666666666666,
              "#ed7953"
             ],
             [
              0.7777777777777778,
              "#fb9f3a"
             ],
             [
              0.8888888888888888,
              "#fdca26"
             ],
             [
              1,
              "#f0f921"
             ]
            ],
            "type": "contour"
           }
          ],
          "contourcarpet": [
           {
            "colorbar": {
             "outlinewidth": 0,
             "ticks": ""
            },
            "type": "contourcarpet"
           }
          ],
          "heatmap": [
           {
            "colorbar": {
             "outlinewidth": 0,
             "ticks": ""
            },
            "colorscale": [
             [
              0,
              "#0d0887"
             ],
             [
              0.1111111111111111,
              "#46039f"
             ],
             [
              0.2222222222222222,
              "#7201a8"
             ],
             [
              0.3333333333333333,
              "#9c179e"
             ],
             [
              0.4444444444444444,
              "#bd3786"
             ],
             [
              0.5555555555555556,
              "#d8576b"
             ],
             [
              0.6666666666666666,
              "#ed7953"
             ],
             [
              0.7777777777777778,
              "#fb9f3a"
             ],
             [
              0.8888888888888888,
              "#fdca26"
             ],
             [
              1,
              "#f0f921"
             ]
            ],
            "type": "heatmap"
           }
          ],
          "heatmapgl": [
           {
            "colorbar": {
             "outlinewidth": 0,
             "ticks": ""
            },
            "colorscale": [
             [
              0,
              "#0d0887"
             ],
             [
              0.1111111111111111,
              "#46039f"
             ],
             [
              0.2222222222222222,
              "#7201a8"
             ],
             [
              0.3333333333333333,
              "#9c179e"
             ],
             [
              0.4444444444444444,
              "#bd3786"
             ],
             [
              0.5555555555555556,
              "#d8576b"
             ],
             [
              0.6666666666666666,
              "#ed7953"
             ],
             [
              0.7777777777777778,
              "#fb9f3a"
             ],
             [
              0.8888888888888888,
              "#fdca26"
             ],
             [
              1,
              "#f0f921"
             ]
            ],
            "type": "heatmapgl"
           }
          ],
          "histogram": [
           {
            "marker": {
             "pattern": {
              "fillmode": "overlay",
              "size": 10,
              "solidity": 0.2
             }
            },
            "type": "histogram"
           }
          ],
          "histogram2d": [
           {
            "colorbar": {
             "outlinewidth": 0,
             "ticks": ""
            },
            "colorscale": [
             [
              0,
              "#0d0887"
             ],
             [
              0.1111111111111111,
              "#46039f"
             ],
             [
              0.2222222222222222,
              "#7201a8"
             ],
             [
              0.3333333333333333,
              "#9c179e"
             ],
             [
              0.4444444444444444,
              "#bd3786"
             ],
             [
              0.5555555555555556,
              "#d8576b"
             ],
             [
              0.6666666666666666,
              "#ed7953"
             ],
             [
              0.7777777777777778,
              "#fb9f3a"
             ],
             [
              0.8888888888888888,
              "#fdca26"
             ],
             [
              1,
              "#f0f921"
             ]
            ],
            "type": "histogram2d"
           }
          ],
          "histogram2dcontour": [
           {
            "colorbar": {
             "outlinewidth": 0,
             "ticks": ""
            },
            "colorscale": [
             [
              0,
              "#0d0887"
             ],
             [
              0.1111111111111111,
              "#46039f"
             ],
             [
              0.2222222222222222,
              "#7201a8"
             ],
             [
              0.3333333333333333,
              "#9c179e"
             ],
             [
              0.4444444444444444,
              "#bd3786"
             ],
             [
              0.5555555555555556,
              "#d8576b"
             ],
             [
              0.6666666666666666,
              "#ed7953"
             ],
             [
              0.7777777777777778,
              "#fb9f3a"
             ],
             [
              0.8888888888888888,
              "#fdca26"
             ],
             [
              1,
              "#f0f921"
             ]
            ],
            "type": "histogram2dcontour"
           }
          ],
          "mesh3d": [
           {
            "colorbar": {
             "outlinewidth": 0,
             "ticks": ""
            },
            "type": "mesh3d"
           }
          ],
          "parcoords": [
           {
            "line": {
             "colorbar": {
              "outlinewidth": 0,
              "ticks": ""
             }
            },
            "type": "parcoords"
           }
          ],
          "pie": [
           {
            "automargin": true,
            "type": "pie"
           }
          ],
          "scatter": [
           {
            "marker": {
             "colorbar": {
              "outlinewidth": 0,
              "ticks": ""
             }
            },
            "type": "scatter"
           }
          ],
          "scatter3d": [
           {
            "line": {
             "colorbar": {
              "outlinewidth": 0,
              "ticks": ""
             }
            },
            "marker": {
             "colorbar": {
              "outlinewidth": 0,
              "ticks": ""
             }
            },
            "type": "scatter3d"
           }
          ],
          "scattercarpet": [
           {
            "marker": {
             "colorbar": {
              "outlinewidth": 0,
              "ticks": ""
             }
            },
            "type": "scattercarpet"
           }
          ],
          "scattergeo": [
           {
            "marker": {
             "colorbar": {
              "outlinewidth": 0,
              "ticks": ""
             }
            },
            "type": "scattergeo"
           }
          ],
          "scattergl": [
           {
            "marker": {
             "colorbar": {
              "outlinewidth": 0,
              "ticks": ""
             }
            },
            "type": "scattergl"
           }
          ],
          "scattermapbox": [
           {
            "marker": {
             "colorbar": {
              "outlinewidth": 0,
              "ticks": ""
             }
            },
            "type": "scattermapbox"
           }
          ],
          "scatterpolar": [
           {
            "marker": {
             "colorbar": {
              "outlinewidth": 0,
              "ticks": ""
             }
            },
            "type": "scatterpolar"
           }
          ],
          "scatterpolargl": [
           {
            "marker": {
             "colorbar": {
              "outlinewidth": 0,
              "ticks": ""
             }
            },
            "type": "scatterpolargl"
           }
          ],
          "scatterternary": [
           {
            "marker": {
             "colorbar": {
              "outlinewidth": 0,
              "ticks": ""
             }
            },
            "type": "scatterternary"
           }
          ],
          "surface": [
           {
            "colorbar": {
             "outlinewidth": 0,
             "ticks": ""
            },
            "colorscale": [
             [
              0,
              "#0d0887"
             ],
             [
              0.1111111111111111,
              "#46039f"
             ],
             [
              0.2222222222222222,
              "#7201a8"
             ],
             [
              0.3333333333333333,
              "#9c179e"
             ],
             [
              0.4444444444444444,
              "#bd3786"
             ],
             [
              0.5555555555555556,
              "#d8576b"
             ],
             [
              0.6666666666666666,
              "#ed7953"
             ],
             [
              0.7777777777777778,
              "#fb9f3a"
             ],
             [
              0.8888888888888888,
              "#fdca26"
             ],
             [
              1,
              "#f0f921"
             ]
            ],
            "type": "surface"
           }
          ],
          "table": [
           {
            "cells": {
             "fill": {
              "color": "#EBF0F8"
             },
             "line": {
              "color": "white"
             }
            },
            "header": {
             "fill": {
              "color": "#C8D4E3"
             },
             "line": {
              "color": "white"
             }
            },
            "type": "table"
           }
          ]
         },
         "layout": {
          "annotationdefaults": {
           "arrowcolor": "#2a3f5f",
           "arrowhead": 0,
           "arrowwidth": 1
          },
          "autotypenumbers": "strict",
          "coloraxis": {
           "colorbar": {
            "outlinewidth": 0,
            "ticks": ""
           }
          },
          "colorscale": {
           "diverging": [
            [
             0,
             "#8e0152"
            ],
            [
             0.1,
             "#c51b7d"
            ],
            [
             0.2,
             "#de77ae"
            ],
            [
             0.3,
             "#f1b6da"
            ],
            [
             0.4,
             "#fde0ef"
            ],
            [
             0.5,
             "#f7f7f7"
            ],
            [
             0.6,
             "#e6f5d0"
            ],
            [
             0.7,
             "#b8e186"
            ],
            [
             0.8,
             "#7fbc41"
            ],
            [
             0.9,
             "#4d9221"
            ],
            [
             1,
             "#276419"
            ]
           ],
           "sequential": [
            [
             0,
             "#0d0887"
            ],
            [
             0.1111111111111111,
             "#46039f"
            ],
            [
             0.2222222222222222,
             "#7201a8"
            ],
            [
             0.3333333333333333,
             "#9c179e"
            ],
            [
             0.4444444444444444,
             "#bd3786"
            ],
            [
             0.5555555555555556,
             "#d8576b"
            ],
            [
             0.6666666666666666,
             "#ed7953"
            ],
            [
             0.7777777777777778,
             "#fb9f3a"
            ],
            [
             0.8888888888888888,
             "#fdca26"
            ],
            [
             1,
             "#f0f921"
            ]
           ],
           "sequentialminus": [
            [
             0,
             "#0d0887"
            ],
            [
             0.1111111111111111,
             "#46039f"
            ],
            [
             0.2222222222222222,
             "#7201a8"
            ],
            [
             0.3333333333333333,
             "#9c179e"
            ],
            [
             0.4444444444444444,
             "#bd3786"
            ],
            [
             0.5555555555555556,
             "#d8576b"
            ],
            [
             0.6666666666666666,
             "#ed7953"
            ],
            [
             0.7777777777777778,
             "#fb9f3a"
            ],
            [
             0.8888888888888888,
             "#fdca26"
            ],
            [
             1,
             "#f0f921"
            ]
           ]
          },
          "colorway": [
           "#636efa",
           "#EF553B",
           "#00cc96",
           "#ab63fa",
           "#FFA15A",
           "#19d3f3",
           "#FF6692",
           "#B6E880",
           "#FF97FF",
           "#FECB52"
          ],
          "font": {
           "color": "#2a3f5f"
          },
          "geo": {
           "bgcolor": "white",
           "lakecolor": "white",
           "landcolor": "#E5ECF6",
           "showlakes": true,
           "showland": true,
           "subunitcolor": "white"
          },
          "hoverlabel": {
           "align": "left"
          },
          "hovermode": "closest",
          "mapbox": {
           "style": "light"
          },
          "paper_bgcolor": "white",
          "plot_bgcolor": "#E5ECF6",
          "polar": {
           "angularaxis": {
            "gridcolor": "white",
            "linecolor": "white",
            "ticks": ""
           },
           "bgcolor": "#E5ECF6",
           "radialaxis": {
            "gridcolor": "white",
            "linecolor": "white",
            "ticks": ""
           }
          },
          "scene": {
           "xaxis": {
            "backgroundcolor": "#E5ECF6",
            "gridcolor": "white",
            "gridwidth": 2,
            "linecolor": "white",
            "showbackground": true,
            "ticks": "",
            "zerolinecolor": "white"
           },
           "yaxis": {
            "backgroundcolor": "#E5ECF6",
            "gridcolor": "white",
            "gridwidth": 2,
            "linecolor": "white",
            "showbackground": true,
            "ticks": "",
            "zerolinecolor": "white"
           },
           "zaxis": {
            "backgroundcolor": "#E5ECF6",
            "gridcolor": "white",
            "gridwidth": 2,
            "linecolor": "white",
            "showbackground": true,
            "ticks": "",
            "zerolinecolor": "white"
           }
          },
          "shapedefaults": {
           "line": {
            "color": "#2a3f5f"
           }
          },
          "ternary": {
           "aaxis": {
            "gridcolor": "white",
            "linecolor": "white",
            "ticks": ""
           },
           "baxis": {
            "gridcolor": "white",
            "linecolor": "white",
            "ticks": ""
           },
           "bgcolor": "#E5ECF6",
           "caxis": {
            "gridcolor": "white",
            "linecolor": "white",
            "ticks": ""
           }
          },
          "title": {
           "x": 0.05
          },
          "xaxis": {
           "automargin": true,
           "gridcolor": "white",
           "linecolor": "white",
           "ticks": "",
           "title": {
            "standoff": 15
           },
           "zerolinecolor": "white",
           "zerolinewidth": 2
          },
          "yaxis": {
           "automargin": true,
           "gridcolor": "white",
           "linecolor": "white",
           "ticks": "",
           "title": {
            "standoff": 15
           },
           "zerolinecolor": "white",
           "zerolinewidth": 2
          }
         }
        },
        "title": {
         "text": "<b>Total car in each city</b>",
         "x": 0.5
        },
        "xaxis": {
         "anchor": "y",
         "categoryorder": "total descending",
         "domain": [
          0,
          1
         ],
         "linecolor": "black",
         "linewidth": 2,
         "showline": true,
         "showticklabels": true,
         "title": {
          "text": "City"
         }
        },
        "yaxis": {
         "anchor": "x",
         "domain": [
          0,
          1
         ],
         "linecolor": "black",
         "linewidth": 2,
         "showline": true,
         "showticklabels": true,
         "title": {
          "text": "count"
         }
        }
       }
      },
      "text/html": [
       "<div>                            <div id=\"c1c00316-ffa5-4d76-817d-1e9c105558f9\" class=\"plotly-graph-div\" style=\"height:525px; width:100%;\"></div>            <script type=\"text/javascript\">                require([\"plotly\"], function(Plotly) {                    window.PLOTLYENV=window.PLOTLYENV || {};                                    if (document.getElementById(\"c1c00316-ffa5-4d76-817d-1e9c105558f9\")) {                    Plotly.newPlot(                        \"c1c00316-ffa5-4d76-817d-1e9c105558f9\",                        [{\"alignmentgroup\":\"True\",\"bingroup\":\"x\",\"hovertemplate\":\"city=%{x}<br>count=%{y}<extra></extra>\",\"legendgroup\":\"\",\"marker\":{\"color\":\"#EC2781\",\"pattern\":{\"shape\":\"\"}},\"name\":\"\",\"offsetgroup\":\"\",\"orientation\":\"v\",\"showlegend\":false,\"type\":\"histogram\",\"x\":[\"Zuzwil\",\"Zuzwil\",\"Zuzwil\",\"Zuzwil\",\"Zuzwil\",\"Zuzwil\",\"Zuzwil\",\"Zuzwil\",\"Zuzwil\",\"Zuzwil\",\"Porrentruy\",\"Zuzwil\",\"Zuzwil\",\"Zuzwil\",\"Zuzwil\",\"Zuzwil\",\"Zuzwil\",\"Safenwil\",\"Zuzwil\",\"Zuzwil\",\"Zuzwil\",\"Zuzwil\",\"Zuzwil\",\"Zuzwil\",\"Zuzwil\",\"Zuzwil\",\"Zuzwil\",\"Zuzwil\",\"Zuzwil\",\"Zuzwil\",\"Zuzwil\",\"Zuzwil\",\"Zuzwil\",\"Zuzwil\",\"Zuzwil\",\"Zuzwil\",\"Zuzwil\",\"Zuzwil\",\"Zuzwil\",\"Zuzwil\",\"Zuzwil\",\"Zuzwil\",\"Zuzwil\",\"Zuzwil\",\"Zuzwil\",\"Zuzwil\",\"Zuzwil\",\"Zuzwil\",\"Zuzwil\",\"Zuzwil\",\"Zuzwil\",\"Zuzwil\",\"Zuzwil\",\"Zuzwil\",\"Zuzwil\",\"Zuzwil\",\"Zuzwil\",\"Zuzwil\",\"Zuzwil\",\"Zuzwil\",\"Zuzwil\",\"Zuzwil\",\"Zuzwil\",\"Safenwil\",\"Zuzwil\",\"Zuzwil\",\"Zuzwil\",\"Zuzwil\",\"Zuzwil\",\"Zuzwil\",\"Zuzwil\",\"Zuzwil\",\"Zuzwil\",\"St. Gallen\",\"Zuzwil\",\"Zuzwil\",\"Zuzwil\",\"Zuzwil\",\"Zuzwil\",\"Zuzwil\",\"Zuzwil\",\"Zuzwil\",\"Zuzwil\",\"Zuzwil\",\"Zuzwil\",\"Zuzwil\",\"Zuzwil\",\"Zuzwil\",\"Zuzwil\",\"Zuzwil\",\"Zuzwil\",\"Zuzwil\",\"Zuzwil\",\"Zuzwil\",\"Zuzwil\",\"Zuzwil\",\"Zuzwil\",\"Zuzwil\",\"Zuzwil\",\"Zuzwil\",\"Zuzwil\",\"Zuzwil\",\"Zuzwil\",\"Zuzwil\",\"Zuzwil\",\"Zuzwil\",\"Zuzwil\",\"Zuzwil\",\"Zuzwil\",\"Zuzwil\",\"Zuzwil\",\"Zuzwil\",\"Zuzwil\",\"Zuzwil\",\"Zuzwil\",\"Zuzwil\",\"Zuzwil\",\"Zuzwil\",\"Zuzwil\",\"Zuzwil\",\"Zuzwil\",\"Zuzwil\",\"Zuzwil\",\"Zuzwil\",\"Zuzwil\",\"Zuzwil\",\"Zuzwil\",\"Zuzwil\",\"Zuzwil\",\"Zuzwil\",\"Zuzwil\",\"Zuzwil\",\"Zuzwil\",\"Zuzwil\",\"Zuzwil\",\"Zuzwil\",\"Zuzwil\",\"Zuzwil\",\"Zuzwil\",\"Zuzwil\",\"Zuzwil\",\"Zuzwil\",\"Zuzwil\",\"Zuzwil\",\"Zuzwil\",\"Zuzwil\",\"Zuzwil\",\"Zuzwil\",\"Zuzwil\",\"Zuzwil\",\"Zuzwil\",\"Zuzwil\",\"Zuzwil\",\"Zuzwil\",\"Zuzwil\",\"Sursee\",\"Zuzwil\",\"Zuzwil\",\"Zuzwil\",\"Zuzwil\",\"Zuzwil\",\"Zuzwil\",\"Zuzwil\",\"Sursee\",\"Zuzwil\",\"Zuzwil\",\"Zuzwil\",\"Zuzwil\",\"Zuzwil\",\"Zuzwil\",\"Zuzwil\",\"Zuzwil\",\"Zuzwil\",\"Zuzwil\",\"Zuzwil\",\"Zuzwil\",\"Zuzwil\",\"Zuzwil\",\"Zuzwil\",\"Zuzwil\",\"Zuzwil\",\"Zuzwil\",\"Sursee\",\"Zuzwil\",\"Zuzwil\",\"Zuzwil\",\"Zuzwil\",\"Zuzwil\",\"Zuzwil\",\"Zuzwil\",\"Zuzwil\",\"Zuzwil\",\"Zuzwil\",\"Zuzwil\",\"Zuzwil\",\"Sursee\",\"Zuzwil\",\"Zuzwil\",\"Zuzwil\",\"Zuzwil\",\"Zuzwil\",\"Porrentruy\",\"Zuzwil\",\"Zuzwil\",\"Zuzwil\",\"Porrentruy\",\"Zuzwil\",\"Zuzwil\",\"Zuzwil\",\"Zuzwil\",\"Sursee\",\"Zuzwil\",\"Zuzwil\",\"Zuzwil\",\"Zuzwil\",\"Zuzwil\",\"Zuzwil\",\"Zuzwil\",\"Zuzwil\",\"Zuzwil\",\"Zuzwil\",\"Zuzwil\",\"Zuzwil\",\"Zuzwil\",\"Zuzwil\",\"Zuzwil\",\"Zuzwil\",\"Zuzwil\",\"Sursee\",\"Zuzwil\",\"Zuzwil\",\"Zuzwil\",\"Zuzwil\",\"Zuzwil\",\"Zuzwil\",\"Zuzwil\",\"Zuzwil\",\"Zuzwil\",\"Zuzwil\",\"Zuzwil\",\"Zuzwil\",\"Zuzwil\",\"Zuzwil\",\"Zuzwil\",\"Zuzwil\",\"Zuzwil\",\"Zuzwil\",\"Zuzwil\",\"Zuzwil\",\"Zuzwil\",\"Zuzwil\",\"Zuzwil\",\"Sursee\",\"Porrentruy\",\"Porrentruy\",\"Zuzwil\",\"Porrentruy\",\"Porrentruy\",\"Zuzwil\",\"Zuzwil\",\"Zuzwil\",\"Zuzwil\",\"Zuzwil\",\"Zuzwil\",\"Zuzwil\",\"Zuzwil\",\"St. Gallen\",\"Zuzwil\",\"Zuzwil\",\"Zuzwil\",\"Porrentruy\",\"Zuzwil\",\"Porrentruy\",\"Porrentruy\",\"Zuzwil\",\"Zuzwil\",\"Zuzwil\",\"Zuzwil\",\"Zuzwil\",\"Zuzwil\",\"Zuzwil\",\"Zuzwil\",\"Zuzwil\",\"Zuzwil\",\"Zuzwil\",\"Zuzwil\",\"Zuzwil\",\"Zuzwil\",\"Zuzwil\",\"Zuzwil\",\"Zuzwil\",\"Zuzwil\",\"Zuzwil\",\"Zuzwil\",\"Zuzwil\",\"Zuzwil\",\"Zuzwil\",\"Zuzwil\",\"Zuzwil\",\"Zuzwil\",\"Zuzwil\",\"Zuzwil\",\"Zuzwil\",\"Zuzwil\",\"Zuzwil\",\"Zuzwil\",\"Zuzwil\",\"Zuzwil\",\"Zuzwil\",\"Zuzwil\",\"Zuzwil\",\"Zuzwil\",\"Zuzwil\",\"Zuzwil\",\"Zuzwil\",\"Zuzwil\",\"Zuzwil\",\"Sursee\",\"Sursee\",\"Sursee\",\"Zuzwil\",\"Zuzwil\",\"Zuzwil\",\"Zuzwil\",\"Zuzwil\",\"Zuzwil\",\"Zuzwil\",\"Zuzwil\",\"Zuzwil\",\"Zuzwil\",\"Zuzwil\",\"Zuzwil\",\"Zuzwil\",\"Zuzwil\",\"Zuzwil\",\"Zuzwil\",\"Zuzwil\",\"Zuzwil\",\"Zuzwil\",\"Zuzwil\",\"Zuzwil\",\"Zuzwil\",\"Zuzwil\",\"Zuzwil\",\"Zuzwil\",\"Zuzwil\",\"Zuzwil\",\"Zuzwil\",\"Zuzwil\",\"Zuzwil\",\"Zuzwil\",\"Zuzwil\",\"Zuzwil\",\"Zuzwil\",\"Zuzwil\",\"Zuzwil\",\"Zuzwil\",\"Zuzwil\",\"Zuzwil\",\"Zuzwil\",\"Zuzwil\",\"Zuzwil\",\"Zuzwil\",\"Zuzwil\",\"Zuzwil\",\"Zuzwil\",\"Zuzwil\",\"Zuzwil\",\"Zuzwil\",\"Zuzwil\",\"Zuzwil\",\"Zuzwil\",\"Zuzwil\",\"Zuzwil\",\"Zuzwil\",\"Zuzwil\",\"Zuzwil\",\"Zuzwil\",\"Zuzwil\",\"Zuzwil\",\"Zuzwil\",\"Zuzwil\",\"Zuzwil\",\"Zuzwil\",\"Zuzwil\",\"Zuzwil\",\"Zuzwil\",\"Zuzwil\",\"Zuzwil\",\"Zuzwil\",\"Zuzwil\",\"Zuzwil\",\"Zuzwil\",\"Zuzwil\",\"Zuzwil\",\"Zuzwil\",\"Zuzwil\",\"Zuzwil\",\"Zuzwil\",\"Zuzwil\",\"Zuzwil\",\"Zuzwil\",\"Zuzwil\",\"Zuzwil\",\"Zuzwil\",\"Zuzwil\",\"Zuzwil\",\"Zuzwil\",\"Zuzwil\",\"Zuzwil\",\"Zuzwil\",\"Zuzwil\",\"Zuzwil\",\"Zuzwil\",\"Zuzwil\",\"Zuzwil\",\"Zuzwil\",\"Zuzwil\",\"Zuzwil\",\"Zuzwil\",\"Zuzwil\",\"Zuzwil\",\"Zuzwil\",\"Zuzwil\",\"Zuzwil\",\"Zuzwil\",\"Zuzwil\",\"Zuzwil\",\"Zuzwil\",\"Zuzwil\",\"Zuzwil\",\"Zuzwil\",\"Zuzwil\",\"Zuzwil\",\"Zuzwil\",\"Safenwil\",\"Zuzwil\",\"Zuzwil\",\"Zuzwil\",\"Zuzwil\",\"Zuzwil\",\"Zuzwil\",\"Zuzwil\",\"Zuzwil\",\"Zuzwil\",\"Zuzwil\",\"Zuzwil\",\"Zuzwil\",\"Zuzwil\",\"Zuzwil\",\"Zuzwil\",\"Zuzwil\",\"Zuzwil\",\"Zuzwil\",\"Zuzwil\",\"Zuzwil\",\"Zuzwil\",\"Zuzwil\",\"Zuzwil\",\"Zuzwil\",\"Zuzwil\",\"Zuzwil\",\"Zuzwil\",\"Zuzwil\",\"Zuzwil\",\"Zuzwil\",\"Zuzwil\",\"Zuzwil\",\"Zuzwil\",\"Zuzwil\",\"Zuzwil\",\"Zuzwil\",\"Zuzwil\",\"Zuzwil\",\"Zuzwil\",\"Zuzwil\",\"Zuzwil\",\"Sursee\",\"Zuzwil\",\"Zuzwil\",\"Zuzwil\",\"Zuzwil\",\"Zuzwil\",\"Zuzwil\",\"Zuzwil\",\"Zuzwil\",\"Zuzwil\",\"Zuzwil\",\"Zuzwil\",\"Zuzwil\",\"Zuzwil\",\"Zuzwil\",\"Zuzwil\",\"Zuzwil\",\"Zuzwil\",\"Zuzwil\",\"Zuzwil\",\"Zuzwil\",\"Zuzwil\",\"Zuzwil\",\"Zuzwil\",\"Zuzwil\",\"Zuzwil\",\"Zuzwil\",\"Zuzwil\",\"Zuzwil\",\"Zuzwil\",\"Zuzwil\",\"Zuzwil\",\"Zuzwil\",\"Zuzwil\",\"Zuzwil\",\"Zuzwil\",\"Zuzwil\",\"Zuzwil\",\"Zuzwil\",\"Zuzwil\",\"Zuzwil\",\"Zuzwil\",\"Zuzwil\",\"Zuzwil\",\"Zuzwil\",\"Zuzwil\",\"Zuzwil\",\"Zuzwil\",\"Zuzwil\",\"Zuzwil\",\"Zuzwil\",\"Zuzwil\",\"Zuzwil\",\"Zuzwil\",\"Zuzwil\",\"Zuzwil\",\"Zuzwil\",\"Zuzwil\",\"Zuzwil\",\"Zuzwil\",\"Zuzwil\",\"Zuzwil\",\"Zuzwil\",\"Zuzwil\",\"Zuzwil\",\"Zuzwil\",\"Basel\",\"Zuzwil\",\"Zuzwil\",\"Basel\",\"Zuzwil\",\"Zuzwil\",\"Zuzwil\",\"Zuzwil\",\"Zuzwil\",\"Zuzwil\",\"Zuzwil\",\"Zuzwil\",\"Zuzwil\",\"Zuzwil\",\"Zuzwil\",\"Zuzwil\",\"Zuzwil\",\"Zuzwil\",\"Zuzwil\",\"Zuzwil\",\"Zuzwil\",\"Zuzwil\",\"Zuzwil\",\"Zuzwil\",\"Zuzwil\",\"Safenwil\",\"Zuzwil\",\"Zuzwil\",\"Zuzwil\",\"Zuzwil\",\"Zuzwil\",\"Zuzwil\",\"Zuzwil\",\"Zuzwil\",\"Zuzwil\",\"Zuzwil\",\"Zuzwil\",\"Zuzwil\",\"Safenwil\",\"Zuzwil\",\"Zuzwil\",\"Zuzwil\",\"Zuzwil\",\"Zuzwil\",\"Zuzwil\",\"Zuzwil\",\"Zuzwil\",\"Zuzwil\",\"Zuzwil\",\"Zuzwil\",\"Zuzwil\",\"Zuzwil\",\"Zuzwil\",\"Zuzwil\",\"Zuzwil\",\"Zuzwil\",\"Zuzwil\"],\"xaxis\":\"x\",\"yaxis\":\"y\"}],                        {\"barmode\":\"relative\",\"legend\":{\"tracegroupgap\":0},\"margin\":{\"t\":60},\"plot_bgcolor\":\"white\",\"template\":{\"data\":{\"bar\":[{\"error_x\":{\"color\":\"#2a3f5f\"},\"error_y\":{\"color\":\"#2a3f5f\"},\"marker\":{\"line\":{\"color\":\"#E5ECF6\",\"width\":0.5},\"pattern\":{\"fillmode\":\"overlay\",\"size\":10,\"solidity\":0.2}},\"type\":\"bar\"}],\"barpolar\":[{\"marker\":{\"line\":{\"color\":\"#E5ECF6\",\"width\":0.5},\"pattern\":{\"fillmode\":\"overlay\",\"size\":10,\"solidity\":0.2}},\"type\":\"barpolar\"}],\"carpet\":[{\"aaxis\":{\"endlinecolor\":\"#2a3f5f\",\"gridcolor\":\"white\",\"linecolor\":\"white\",\"minorgridcolor\":\"white\",\"startlinecolor\":\"#2a3f5f\"},\"baxis\":{\"endlinecolor\":\"#2a3f5f\",\"gridcolor\":\"white\",\"linecolor\":\"white\",\"minorgridcolor\":\"white\",\"startlinecolor\":\"#2a3f5f\"},\"type\":\"carpet\"}],\"choropleth\":[{\"colorbar\":{\"outlinewidth\":0,\"ticks\":\"\"},\"type\":\"choropleth\"}],\"contour\":[{\"colorbar\":{\"outlinewidth\":0,\"ticks\":\"\"},\"colorscale\":[[0.0,\"#0d0887\"],[0.1111111111111111,\"#46039f\"],[0.2222222222222222,\"#7201a8\"],[0.3333333333333333,\"#9c179e\"],[0.4444444444444444,\"#bd3786\"],[0.5555555555555556,\"#d8576b\"],[0.6666666666666666,\"#ed7953\"],[0.7777777777777778,\"#fb9f3a\"],[0.8888888888888888,\"#fdca26\"],[1.0,\"#f0f921\"]],\"type\":\"contour\"}],\"contourcarpet\":[{\"colorbar\":{\"outlinewidth\":0,\"ticks\":\"\"},\"type\":\"contourcarpet\"}],\"heatmap\":[{\"colorbar\":{\"outlinewidth\":0,\"ticks\":\"\"},\"colorscale\":[[0.0,\"#0d0887\"],[0.1111111111111111,\"#46039f\"],[0.2222222222222222,\"#7201a8\"],[0.3333333333333333,\"#9c179e\"],[0.4444444444444444,\"#bd3786\"],[0.5555555555555556,\"#d8576b\"],[0.6666666666666666,\"#ed7953\"],[0.7777777777777778,\"#fb9f3a\"],[0.8888888888888888,\"#fdca26\"],[1.0,\"#f0f921\"]],\"type\":\"heatmap\"}],\"heatmapgl\":[{\"colorbar\":{\"outlinewidth\":0,\"ticks\":\"\"},\"colorscale\":[[0.0,\"#0d0887\"],[0.1111111111111111,\"#46039f\"],[0.2222222222222222,\"#7201a8\"],[0.3333333333333333,\"#9c179e\"],[0.4444444444444444,\"#bd3786\"],[0.5555555555555556,\"#d8576b\"],[0.6666666666666666,\"#ed7953\"],[0.7777777777777778,\"#fb9f3a\"],[0.8888888888888888,\"#fdca26\"],[1.0,\"#f0f921\"]],\"type\":\"heatmapgl\"}],\"histogram\":[{\"marker\":{\"pattern\":{\"fillmode\":\"overlay\",\"size\":10,\"solidity\":0.2}},\"type\":\"histogram\"}],\"histogram2d\":[{\"colorbar\":{\"outlinewidth\":0,\"ticks\":\"\"},\"colorscale\":[[0.0,\"#0d0887\"],[0.1111111111111111,\"#46039f\"],[0.2222222222222222,\"#7201a8\"],[0.3333333333333333,\"#9c179e\"],[0.4444444444444444,\"#bd3786\"],[0.5555555555555556,\"#d8576b\"],[0.6666666666666666,\"#ed7953\"],[0.7777777777777778,\"#fb9f3a\"],[0.8888888888888888,\"#fdca26\"],[1.0,\"#f0f921\"]],\"type\":\"histogram2d\"}],\"histogram2dcontour\":[{\"colorbar\":{\"outlinewidth\":0,\"ticks\":\"\"},\"colorscale\":[[0.0,\"#0d0887\"],[0.1111111111111111,\"#46039f\"],[0.2222222222222222,\"#7201a8\"],[0.3333333333333333,\"#9c179e\"],[0.4444444444444444,\"#bd3786\"],[0.5555555555555556,\"#d8576b\"],[0.6666666666666666,\"#ed7953\"],[0.7777777777777778,\"#fb9f3a\"],[0.8888888888888888,\"#fdca26\"],[1.0,\"#f0f921\"]],\"type\":\"histogram2dcontour\"}],\"mesh3d\":[{\"colorbar\":{\"outlinewidth\":0,\"ticks\":\"\"},\"type\":\"mesh3d\"}],\"parcoords\":[{\"line\":{\"colorbar\":{\"outlinewidth\":0,\"ticks\":\"\"}},\"type\":\"parcoords\"}],\"pie\":[{\"automargin\":true,\"type\":\"pie\"}],\"scatter\":[{\"marker\":{\"colorbar\":{\"outlinewidth\":0,\"ticks\":\"\"}},\"type\":\"scatter\"}],\"scatter3d\":[{\"line\":{\"colorbar\":{\"outlinewidth\":0,\"ticks\":\"\"}},\"marker\":{\"colorbar\":{\"outlinewidth\":0,\"ticks\":\"\"}},\"type\":\"scatter3d\"}],\"scattercarpet\":[{\"marker\":{\"colorbar\":{\"outlinewidth\":0,\"ticks\":\"\"}},\"type\":\"scattercarpet\"}],\"scattergeo\":[{\"marker\":{\"colorbar\":{\"outlinewidth\":0,\"ticks\":\"\"}},\"type\":\"scattergeo\"}],\"scattergl\":[{\"marker\":{\"colorbar\":{\"outlinewidth\":0,\"ticks\":\"\"}},\"type\":\"scattergl\"}],\"scattermapbox\":[{\"marker\":{\"colorbar\":{\"outlinewidth\":0,\"ticks\":\"\"}},\"type\":\"scattermapbox\"}],\"scatterpolar\":[{\"marker\":{\"colorbar\":{\"outlinewidth\":0,\"ticks\":\"\"}},\"type\":\"scatterpolar\"}],\"scatterpolargl\":[{\"marker\":{\"colorbar\":{\"outlinewidth\":0,\"ticks\":\"\"}},\"type\":\"scatterpolargl\"}],\"scatterternary\":[{\"marker\":{\"colorbar\":{\"outlinewidth\":0,\"ticks\":\"\"}},\"type\":\"scatterternary\"}],\"surface\":[{\"colorbar\":{\"outlinewidth\":0,\"ticks\":\"\"},\"colorscale\":[[0.0,\"#0d0887\"],[0.1111111111111111,\"#46039f\"],[0.2222222222222222,\"#7201a8\"],[0.3333333333333333,\"#9c179e\"],[0.4444444444444444,\"#bd3786\"],[0.5555555555555556,\"#d8576b\"],[0.6666666666666666,\"#ed7953\"],[0.7777777777777778,\"#fb9f3a\"],[0.8888888888888888,\"#fdca26\"],[1.0,\"#f0f921\"]],\"type\":\"surface\"}],\"table\":[{\"cells\":{\"fill\":{\"color\":\"#EBF0F8\"},\"line\":{\"color\":\"white\"}},\"header\":{\"fill\":{\"color\":\"#C8D4E3\"},\"line\":{\"color\":\"white\"}},\"type\":\"table\"}]},\"layout\":{\"annotationdefaults\":{\"arrowcolor\":\"#2a3f5f\",\"arrowhead\":0,\"arrowwidth\":1},\"autotypenumbers\":\"strict\",\"coloraxis\":{\"colorbar\":{\"outlinewidth\":0,\"ticks\":\"\"}},\"colorscale\":{\"diverging\":[[0,\"#8e0152\"],[0.1,\"#c51b7d\"],[0.2,\"#de77ae\"],[0.3,\"#f1b6da\"],[0.4,\"#fde0ef\"],[0.5,\"#f7f7f7\"],[0.6,\"#e6f5d0\"],[0.7,\"#b8e186\"],[0.8,\"#7fbc41\"],[0.9,\"#4d9221\"],[1,\"#276419\"]],\"sequential\":[[0.0,\"#0d0887\"],[0.1111111111111111,\"#46039f\"],[0.2222222222222222,\"#7201a8\"],[0.3333333333333333,\"#9c179e\"],[0.4444444444444444,\"#bd3786\"],[0.5555555555555556,\"#d8576b\"],[0.6666666666666666,\"#ed7953\"],[0.7777777777777778,\"#fb9f3a\"],[0.8888888888888888,\"#fdca26\"],[1.0,\"#f0f921\"]],\"sequentialminus\":[[0.0,\"#0d0887\"],[0.1111111111111111,\"#46039f\"],[0.2222222222222222,\"#7201a8\"],[0.3333333333333333,\"#9c179e\"],[0.4444444444444444,\"#bd3786\"],[0.5555555555555556,\"#d8576b\"],[0.6666666666666666,\"#ed7953\"],[0.7777777777777778,\"#fb9f3a\"],[0.8888888888888888,\"#fdca26\"],[1.0,\"#f0f921\"]]},\"colorway\":[\"#636efa\",\"#EF553B\",\"#00cc96\",\"#ab63fa\",\"#FFA15A\",\"#19d3f3\",\"#FF6692\",\"#B6E880\",\"#FF97FF\",\"#FECB52\"],\"font\":{\"color\":\"#2a3f5f\"},\"geo\":{\"bgcolor\":\"white\",\"lakecolor\":\"white\",\"landcolor\":\"#E5ECF6\",\"showlakes\":true,\"showland\":true,\"subunitcolor\":\"white\"},\"hoverlabel\":{\"align\":\"left\"},\"hovermode\":\"closest\",\"mapbox\":{\"style\":\"light\"},\"paper_bgcolor\":\"white\",\"plot_bgcolor\":\"#E5ECF6\",\"polar\":{\"angularaxis\":{\"gridcolor\":\"white\",\"linecolor\":\"white\",\"ticks\":\"\"},\"bgcolor\":\"#E5ECF6\",\"radialaxis\":{\"gridcolor\":\"white\",\"linecolor\":\"white\",\"ticks\":\"\"}},\"scene\":{\"xaxis\":{\"backgroundcolor\":\"#E5ECF6\",\"gridcolor\":\"white\",\"gridwidth\":2,\"linecolor\":\"white\",\"showbackground\":true,\"ticks\":\"\",\"zerolinecolor\":\"white\"},\"yaxis\":{\"backgroundcolor\":\"#E5ECF6\",\"gridcolor\":\"white\",\"gridwidth\":2,\"linecolor\":\"white\",\"showbackground\":true,\"ticks\":\"\",\"zerolinecolor\":\"white\"},\"zaxis\":{\"backgroundcolor\":\"#E5ECF6\",\"gridcolor\":\"white\",\"gridwidth\":2,\"linecolor\":\"white\",\"showbackground\":true,\"ticks\":\"\",\"zerolinecolor\":\"white\"}},\"shapedefaults\":{\"line\":{\"color\":\"#2a3f5f\"}},\"ternary\":{\"aaxis\":{\"gridcolor\":\"white\",\"linecolor\":\"white\",\"ticks\":\"\"},\"baxis\":{\"gridcolor\":\"white\",\"linecolor\":\"white\",\"ticks\":\"\"},\"bgcolor\":\"#E5ECF6\",\"caxis\":{\"gridcolor\":\"white\",\"linecolor\":\"white\",\"ticks\":\"\"}},\"title\":{\"x\":0.05},\"xaxis\":{\"automargin\":true,\"gridcolor\":\"white\",\"linecolor\":\"white\",\"ticks\":\"\",\"title\":{\"standoff\":15},\"zerolinecolor\":\"white\",\"zerolinewidth\":2},\"yaxis\":{\"automargin\":true,\"gridcolor\":\"white\",\"linecolor\":\"white\",\"ticks\":\"\",\"title\":{\"standoff\":15},\"zerolinecolor\":\"white\",\"zerolinewidth\":2}}},\"title\":{\"text\":\"<b>Total car in each city</b>\",\"x\":0.5},\"xaxis\":{\"anchor\":\"y\",\"categoryorder\":\"total descending\",\"domain\":[0.0,1.0],\"linecolor\":\"black\",\"linewidth\":2,\"showline\":true,\"showticklabels\":true,\"title\":{\"text\":\"City\"}},\"yaxis\":{\"anchor\":\"x\",\"domain\":[0.0,1.0],\"linecolor\":\"black\",\"linewidth\":2,\"showline\":true,\"showticklabels\":true,\"title\":{\"text\":\"count\"}}},                        {\"responsive\": true}                    ).then(function(){\n",
       "                            \n",
       "var gd = document.getElementById('c1c00316-ffa5-4d76-817d-1e9c105558f9');\n",
       "var x = new MutationObserver(function (mutations, observer) {{\n",
       "        var display = window.getComputedStyle(gd).display;\n",
       "        if (!display || display === 'none') {{\n",
       "            console.log([gd, 'removed!']);\n",
       "            Plotly.purge(gd);\n",
       "            observer.disconnect();\n",
       "        }}\n",
       "}});\n",
       "\n",
       "// Listen for the removal of the full notebook cells\n",
       "var notebookContainer = gd.closest('#notebook-container');\n",
       "if (notebookContainer) {{\n",
       "    x.observe(notebookContainer, {childList: true});\n",
       "}}\n",
       "\n",
       "// Listen for the clearing of the current output cell\n",
       "var outputEl = gd.closest('.output');\n",
       "if (outputEl) {{\n",
       "    x.observe(outputEl, {childList: true});\n",
       "}}\n",
       "\n",
       "                        })                };                });            </script>        </div>"
      ]
     },
     "metadata": {},
     "output_type": "display_data"
    }
   ],
   "source": [
    "fig = px.histogram(df12, x = \"city\", color_discrete_sequence = [\"#EC2781\"] * len(df12))\n",
    "fig.update_layout(xaxis={'categoryorder':'total descending'},\n",
    "                 plot_bgcolor = \"white\",\n",
    "                  xaxis_title = \"City\",\n",
    "                  title = \"<b>Total car in each city</b>\",\n",
    "                 title_x=0.5)\n",
    "\n",
    "fig.update_yaxes(showticklabels = True, showline = True, linewidth = 2, linecolor = \"black\")\n",
    "fig.update_xaxes(showticklabels = True, showline = True, linewidth = 2, linecolor = \"black\")\n",
    "\n",
    "fig.show()"
   ]
  },
  {
   "cell_type": "code",
   "execution_count": 5,
   "metadata": {},
   "outputs": [
    {
     "data": {
      "application/vnd.plotly.v1+json": {
       "config": {
        "plotlyServerURL": "https://plot.ly"
       },
       "data": [
        {
         "alignmentgroup": "True",
         "bingroup": "x",
         "hovertemplate": "condition=%{x}<br>city=Zuzwil<br>count=%{y}<extra></extra>",
         "legendgroup": "Occasion",
         "marker": {
          "color": "#636efa",
          "pattern": {
           "shape": ""
          }
         },
         "name": "Occasion",
         "offsetgroup": "Occasion",
         "orientation": "v",
         "showlegend": true,
         "type": "histogram",
         "x": [
          "Occasion",
          "Occasion",
          "Occasion",
          "Occasion",
          "Occasion",
          "Occasion",
          "Occasion",
          "Occasion",
          "Occasion",
          "Occasion",
          "Occasion",
          "Occasion",
          "Occasion",
          "Occasion",
          "Occasion",
          "Occasion",
          "Occasion",
          "Occasion",
          "Occasion",
          "Occasion",
          "Occasion",
          "Occasion",
          "Occasion",
          "Occasion",
          "Occasion",
          "Occasion",
          "Occasion",
          "Occasion",
          "Occasion",
          "Occasion",
          "Occasion",
          "Occasion",
          "Occasion",
          "Occasion",
          "Occasion",
          "Occasion",
          "Occasion",
          "Occasion",
          "Occasion",
          "Occasion",
          "Occasion",
          "Occasion",
          "Occasion",
          "Occasion",
          "Occasion",
          "Occasion",
          "Occasion",
          "Occasion",
          "Occasion",
          "Occasion",
          "Occasion",
          "Occasion",
          "Occasion",
          "Occasion",
          "Occasion",
          "Occasion",
          "Occasion",
          "Occasion",
          "Occasion",
          "Occasion",
          "Occasion",
          "Occasion",
          "Occasion",
          "Occasion",
          "Occasion",
          "Occasion",
          "Occasion",
          "Occasion",
          "Occasion",
          "Occasion",
          "Occasion",
          "Occasion",
          "Occasion",
          "Occasion",
          "Occasion",
          "Occasion",
          "Occasion",
          "Occasion",
          "Occasion",
          "Occasion",
          "Occasion",
          "Occasion",
          "Occasion",
          "Occasion",
          "Occasion",
          "Occasion",
          "Occasion",
          "Occasion",
          "Occasion",
          "Occasion",
          "Occasion",
          "Occasion",
          "Occasion",
          "Occasion",
          "Occasion",
          "Occasion",
          "Occasion",
          "Occasion",
          "Occasion",
          "Occasion",
          "Occasion",
          "Occasion",
          "Occasion",
          "Occasion",
          "Occasion",
          "Occasion",
          "Occasion",
          "Occasion",
          "Occasion",
          "Occasion",
          "Occasion",
          "Occasion",
          "Occasion",
          "Occasion",
          "Occasion",
          "Occasion",
          "Occasion",
          "Occasion",
          "Occasion",
          "Occasion",
          "Occasion",
          "Occasion",
          "Occasion",
          "Occasion",
          "Occasion",
          "Occasion",
          "Occasion",
          "Occasion",
          "Occasion",
          "Occasion",
          "Occasion",
          "Occasion",
          "Occasion",
          "Occasion",
          "Occasion",
          "Occasion",
          "Occasion",
          "Occasion",
          "Occasion",
          "Occasion",
          "Occasion",
          "Occasion",
          "Occasion",
          "Occasion",
          "Occasion",
          "Occasion",
          "Occasion",
          "Occasion",
          "Occasion",
          "Occasion",
          "Occasion",
          "Occasion",
          "Occasion",
          "Occasion",
          "Occasion",
          "Occasion",
          "Occasion",
          "Occasion",
          "Occasion",
          "Occasion",
          "Occasion",
          "Occasion",
          "Occasion",
          "Occasion",
          "Occasion",
          "Occasion",
          "Occasion",
          "Occasion",
          "Occasion",
          "Occasion",
          "Occasion",
          "Occasion",
          "Occasion",
          "Occasion",
          "Occasion",
          "Occasion",
          "Occasion",
          "Occasion",
          "Occasion",
          "Occasion",
          "Occasion",
          "Occasion",
          "Occasion",
          "Occasion",
          "Occasion",
          "Occasion",
          "Occasion",
          "Occasion",
          "Occasion",
          "Occasion",
          "Occasion",
          "Occasion",
          "Occasion",
          "Occasion",
          "Occasion",
          "Occasion",
          "Occasion",
          "Occasion",
          "Occasion",
          "Occasion",
          "Occasion",
          "Occasion",
          "Occasion",
          "Occasion",
          "Occasion",
          "Occasion",
          "Occasion",
          "Occasion",
          "Occasion",
          "Occasion",
          "Occasion",
          "Occasion",
          "Occasion",
          "Occasion",
          "Occasion",
          "Occasion",
          "Occasion",
          "Occasion",
          "Occasion",
          "Occasion",
          "Occasion",
          "Occasion",
          "Occasion",
          "Occasion",
          "Occasion",
          "Occasion",
          "Occasion",
          "Occasion",
          "Occasion",
          "Occasion",
          "Occasion",
          "Occasion",
          "Occasion",
          "Occasion",
          "Occasion",
          "Occasion",
          "Occasion",
          "Occasion",
          "Occasion",
          "Occasion",
          "Occasion",
          "Occasion",
          "Occasion",
          "Occasion",
          "Occasion",
          "Occasion",
          "Occasion",
          "Occasion",
          "Occasion",
          "Occasion",
          "Occasion",
          "Occasion",
          "Occasion",
          "Occasion",
          "Occasion",
          "Occasion",
          "Occasion",
          "Occasion",
          "Occasion",
          "Occasion",
          "Occasion",
          "Occasion",
          "Occasion",
          "Occasion",
          "Occasion",
          "Occasion",
          "Occasion",
          "Occasion",
          "Occasion",
          "Occasion",
          "Occasion",
          "Occasion",
          "Occasion",
          "Occasion",
          "Occasion",
          "Occasion",
          "Occasion",
          "Occasion",
          "Occasion",
          "Occasion",
          "Occasion",
          "Occasion",
          "Occasion",
          "Occasion",
          "Occasion",
          "Occasion",
          "Occasion",
          "Occasion",
          "Occasion",
          "Occasion",
          "Occasion",
          "Occasion",
          "Occasion",
          "Occasion",
          "Occasion",
          "Occasion",
          "Occasion",
          "Occasion",
          "Occasion",
          "Occasion",
          "Occasion",
          "Occasion",
          "Occasion",
          "Occasion",
          "Occasion",
          "Occasion",
          "Occasion",
          "Occasion",
          "Occasion",
          "Occasion",
          "Occasion",
          "Occasion",
          "Occasion",
          "Occasion",
          "Occasion",
          "Occasion",
          "Occasion",
          "Occasion",
          "Occasion",
          "Occasion",
          "Occasion",
          "Occasion",
          "Occasion",
          "Occasion",
          "Occasion",
          "Occasion",
          "Occasion",
          "Occasion",
          "Occasion",
          "Occasion",
          "Occasion",
          "Occasion",
          "Occasion",
          "Occasion",
          "Occasion",
          "Occasion",
          "Occasion",
          "Occasion",
          "Occasion",
          "Occasion",
          "Occasion",
          "Occasion",
          "Occasion",
          "Occasion",
          "Occasion",
          "Occasion",
          "Occasion",
          "Occasion",
          "Occasion",
          "Occasion",
          "Occasion",
          "Occasion",
          "Occasion",
          "Occasion",
          "Occasion",
          "Occasion",
          "Occasion",
          "Occasion",
          "Occasion",
          "Occasion",
          "Occasion",
          "Occasion",
          "Occasion",
          "Occasion",
          "Occasion",
          "Occasion",
          "Occasion",
          "Occasion",
          "Occasion",
          "Occasion",
          "Occasion",
          "Occasion",
          "Occasion",
          "Occasion",
          "Occasion",
          "Occasion",
          "Occasion",
          "Occasion",
          "Occasion",
          "Occasion",
          "Occasion",
          "Occasion",
          "Occasion",
          "Occasion",
          "Occasion",
          "Occasion",
          "Occasion",
          "Occasion",
          "Occasion",
          "Occasion",
          "Occasion",
          "Occasion",
          "Occasion",
          "Occasion",
          "Occasion",
          "Occasion",
          "Occasion",
          "Occasion",
          "Occasion",
          "Occasion",
          "Occasion",
          "Occasion",
          "Occasion",
          "Occasion",
          "Occasion",
          "Occasion",
          "Occasion",
          "Occasion",
          "Occasion",
          "Occasion",
          "Occasion",
          "Occasion",
          "Occasion",
          "Occasion",
          "Occasion",
          "Occasion",
          "Occasion",
          "Occasion",
          "Occasion",
          "Occasion",
          "Occasion",
          "Occasion",
          "Occasion",
          "Occasion",
          "Occasion",
          "Occasion",
          "Occasion",
          "Occasion",
          "Occasion",
          "Occasion",
          "Occasion",
          "Occasion",
          "Occasion",
          "Occasion",
          "Occasion",
          "Occasion",
          "Occasion",
          "Occasion",
          "Occasion",
          "Occasion",
          "Occasion",
          "Occasion",
          "Occasion",
          "Occasion",
          "Occasion",
          "Occasion",
          "Occasion",
          "Occasion",
          "Occasion",
          "Occasion",
          "Occasion",
          "Occasion",
          "Occasion",
          "Occasion",
          "Occasion",
          "Occasion",
          "Occasion",
          "Occasion",
          "Occasion",
          "Occasion",
          "Occasion",
          "Occasion",
          "Occasion",
          "Occasion",
          "Occasion",
          "Occasion",
          "Occasion",
          "Occasion",
          "Occasion",
          "Occasion",
          "Occasion",
          "Occasion",
          "Occasion",
          "Occasion",
          "Occasion",
          "Occasion",
          "Occasion",
          "Occasion",
          "Occasion",
          "Occasion",
          "Occasion",
          "Occasion",
          "Occasion",
          "Occasion",
          "Occasion",
          "Occasion",
          "Occasion",
          "Occasion",
          "Occasion",
          "Occasion",
          "Occasion",
          "Occasion",
          "Occasion",
          "Occasion",
          "Occasion",
          "Occasion",
          "Occasion",
          "Occasion",
          "Occasion",
          "Occasion",
          "Occasion",
          "Occasion",
          "Occasion",
          "Occasion",
          "Occasion",
          "Occasion",
          "Occasion",
          "Occasion",
          "Occasion",
          "Occasion",
          "Occasion",
          "Occasion",
          "Occasion",
          "Occasion",
          "Occasion",
          "Occasion",
          "Occasion",
          "Occasion",
          "Occasion",
          "Occasion",
          "Occasion",
          "Occasion",
          "Occasion",
          "Occasion",
          "Occasion",
          "Occasion",
          "Occasion",
          "Occasion",
          "Occasion",
          "Occasion",
          "Occasion",
          "Occasion",
          "Occasion",
          "Occasion",
          "Occasion",
          "Occasion"
         ],
         "xaxis": "x",
         "yaxis": "y"
        },
        {
         "alignmentgroup": "True",
         "bingroup": "x",
         "hovertemplate": "condition=%{x}<br>city=Porrentruy<br>count=%{y}<extra></extra>",
         "legendgroup": "Occasion",
         "marker": {
          "color": "#636efa",
          "pattern": {
           "shape": ""
          }
         },
         "name": "Occasion",
         "offsetgroup": "Occasion",
         "orientation": "v",
         "showlegend": false,
         "type": "histogram",
         "x": [
          "Occasion",
          "Occasion",
          "Occasion",
          "Occasion",
          "Occasion",
          "Occasion",
          "Occasion",
          "Occasion",
          "Occasion",
          "Occasion"
         ],
         "xaxis": "x2",
         "yaxis": "y2"
        },
        {
         "alignmentgroup": "True",
         "bingroup": "x",
         "hovertemplate": "condition=%{x}<br>city=Safenwil<br>count=%{y}<extra></extra>",
         "legendgroup": "Occasion",
         "marker": {
          "color": "#636efa",
          "pattern": {
           "shape": ""
          }
         },
         "name": "Occasion",
         "offsetgroup": "Occasion",
         "orientation": "v",
         "showlegend": false,
         "type": "histogram",
         "x": [
          "Occasion"
         ],
         "xaxis": "x3",
         "yaxis": "y3"
        },
        {
         "alignmentgroup": "True",
         "bingroup": "x",
         "hovertemplate": "condition=%{x}<br>city=St. Gallen<br>count=%{y}<extra></extra>",
         "legendgroup": "Occasion",
         "marker": {
          "color": "#636efa",
          "pattern": {
           "shape": ""
          }
         },
         "name": "Occasion",
         "offsetgroup": "Occasion",
         "orientation": "v",
         "showlegend": false,
         "type": "histogram",
         "x": [
          "Occasion",
          "Occasion"
         ],
         "xaxis": "x4",
         "yaxis": "y4"
        },
        {
         "alignmentgroup": "True",
         "bingroup": "x",
         "hovertemplate": "condition=%{x}<br>city=Sursee<br>count=%{y}<extra></extra>",
         "legendgroup": "Occasion",
         "marker": {
          "color": "#636efa",
          "pattern": {
           "shape": ""
          }
         },
         "name": "Occasion",
         "offsetgroup": "Occasion",
         "orientation": "v",
         "showlegend": false,
         "type": "histogram",
         "x": [
          "Occasion",
          "Occasion",
          "Occasion",
          "Occasion",
          "Occasion",
          "Occasion",
          "Occasion",
          "Occasion",
          "Occasion",
          "Occasion"
         ],
         "xaxis": "x5",
         "yaxis": "y5"
        },
        {
         "alignmentgroup": "True",
         "bingroup": "x",
         "hovertemplate": "condition=%{x}<br>city=Zuzwil<br>count=%{y}<extra></extra>",
         "legendgroup": "Oldtimer",
         "marker": {
          "color": "#EF553B",
          "pattern": {
           "shape": ""
          }
         },
         "name": "Oldtimer",
         "offsetgroup": "Oldtimer",
         "orientation": "v",
         "showlegend": true,
         "type": "histogram",
         "x": [
          "Oldtimer",
          "Oldtimer",
          "Oldtimer",
          "Oldtimer",
          "Oldtimer",
          "Oldtimer",
          "Oldtimer",
          "Oldtimer",
          "Oldtimer",
          "Oldtimer",
          "Oldtimer",
          "Oldtimer",
          "Oldtimer",
          "Oldtimer",
          "Oldtimer",
          "Oldtimer",
          "Oldtimer",
          "Oldtimer",
          "Oldtimer",
          "Oldtimer"
         ],
         "xaxis": "x",
         "yaxis": "y"
        },
        {
         "alignmentgroup": "True",
         "bingroup": "x",
         "hovertemplate": "condition=%{x}<br>city=Safenwil<br>count=%{y}<extra></extra>",
         "legendgroup": "Oldtimer",
         "marker": {
          "color": "#EF553B",
          "pattern": {
           "shape": ""
          }
         },
         "name": "Oldtimer",
         "offsetgroup": "Oldtimer",
         "orientation": "v",
         "showlegend": false,
         "type": "histogram",
         "x": [
          "Oldtimer",
          "Oldtimer",
          "Oldtimer",
          "Oldtimer"
         ],
         "xaxis": "x3",
         "yaxis": "y3"
        },
        {
         "alignmentgroup": "True",
         "bingroup": "x",
         "hovertemplate": "condition=%{x}<br>city=Sursee<br>count=%{y}<extra></extra>",
         "legendgroup": "Oldtimer",
         "marker": {
          "color": "#EF553B",
          "pattern": {
           "shape": ""
          }
         },
         "name": "Oldtimer",
         "offsetgroup": "Oldtimer",
         "orientation": "v",
         "showlegend": false,
         "type": "histogram",
         "x": [
          "Oldtimer"
         ],
         "xaxis": "x5",
         "yaxis": "y5"
        },
        {
         "alignmentgroup": "True",
         "bingroup": "x",
         "hovertemplate": "condition=%{x}<br>city=Basel<br>count=%{y}<extra></extra>",
         "legendgroup": "Oldtimer",
         "marker": {
          "color": "#EF553B",
          "pattern": {
           "shape": ""
          }
         },
         "name": "Oldtimer",
         "offsetgroup": "Oldtimer",
         "orientation": "v",
         "showlegend": false,
         "type": "histogram",
         "x": [
          "Oldtimer",
          "Oldtimer"
         ],
         "xaxis": "x6",
         "yaxis": "y6"
        },
        {
         "alignmentgroup": "True",
         "bingroup": "x",
         "hovertemplate": "condition=%{x}<br>city=Zuzwil<br>count=%{y}<extra></extra>",
         "legendgroup": "Vorführmodell",
         "marker": {
          "color": "#00cc96",
          "pattern": {
           "shape": ""
          }
         },
         "name": "Vorführmodell",
         "offsetgroup": "Vorführmodell",
         "orientation": "v",
         "showlegend": true,
         "type": "histogram",
         "x": [
          "Vorführmodell",
          "Vorführmodell",
          "Vorführmodell",
          "Vorführmodell",
          "Vorführmodell",
          "Vorführmodell",
          "Vorführmodell"
         ],
         "xaxis": "x",
         "yaxis": "y"
        },
        {
         "alignmentgroup": "True",
         "bingroup": "x",
         "hovertemplate": "condition=%{x}<br>city=Zuzwil<br>count=%{y}<extra></extra>",
         "legendgroup": "Neu",
         "marker": {
          "color": "#ab63fa",
          "pattern": {
           "shape": ""
          }
         },
         "name": "Neu",
         "offsetgroup": "Neu",
         "orientation": "v",
         "showlegend": true,
         "type": "histogram",
         "x": [
          "Neu",
          "Neu",
          "Neu",
          "Neu",
          "Neu",
          "Neu",
          "Neu"
         ],
         "xaxis": "x",
         "yaxis": "y"
        }
       ],
       "layout": {
        "annotations": [
         {
          "font": {},
          "showarrow": false,
          "text": "city=Zuzwil",
          "x": 0.075,
          "xanchor": "center",
          "xref": "paper",
          "y": 1,
          "yanchor": "bottom",
          "yref": "paper"
         },
         {
          "font": {},
          "showarrow": false,
          "text": "city=Porrentruy",
          "x": 0.24499999999999997,
          "xanchor": "center",
          "xref": "paper",
          "y": 1,
          "yanchor": "bottom",
          "yref": "paper"
         },
         {
          "font": {},
          "showarrow": false,
          "text": "city=Safenwil",
          "x": 0.415,
          "xanchor": "center",
          "xref": "paper",
          "y": 1,
          "yanchor": "bottom",
          "yref": "paper"
         },
         {
          "font": {},
          "showarrow": false,
          "text": "city=St. Gallen",
          "x": 0.585,
          "xanchor": "center",
          "xref": "paper",
          "y": 1,
          "yanchor": "bottom",
          "yref": "paper"
         },
         {
          "font": {},
          "showarrow": false,
          "text": "city=Sursee",
          "x": 0.7549999999999999,
          "xanchor": "center",
          "xref": "paper",
          "y": 1,
          "yanchor": "bottom",
          "yref": "paper"
         },
         {
          "font": {},
          "showarrow": false,
          "text": "city=Basel",
          "x": 0.925,
          "xanchor": "center",
          "xref": "paper",
          "y": 1,
          "yanchor": "bottom",
          "yref": "paper"
         }
        ],
        "barmode": "relative",
        "legend": {
         "title": {
          "text": "condition"
         },
         "tracegroupgap": 0
        },
        "margin": {
         "t": 60
        },
        "plot_bgcolor": "white",
        "template": {
         "data": {
          "bar": [
           {
            "error_x": {
             "color": "#2a3f5f"
            },
            "error_y": {
             "color": "#2a3f5f"
            },
            "marker": {
             "line": {
              "color": "#E5ECF6",
              "width": 0.5
             },
             "pattern": {
              "fillmode": "overlay",
              "size": 10,
              "solidity": 0.2
             }
            },
            "type": "bar"
           }
          ],
          "barpolar": [
           {
            "marker": {
             "line": {
              "color": "#E5ECF6",
              "width": 0.5
             },
             "pattern": {
              "fillmode": "overlay",
              "size": 10,
              "solidity": 0.2
             }
            },
            "type": "barpolar"
           }
          ],
          "carpet": [
           {
            "aaxis": {
             "endlinecolor": "#2a3f5f",
             "gridcolor": "white",
             "linecolor": "white",
             "minorgridcolor": "white",
             "startlinecolor": "#2a3f5f"
            },
            "baxis": {
             "endlinecolor": "#2a3f5f",
             "gridcolor": "white",
             "linecolor": "white",
             "minorgridcolor": "white",
             "startlinecolor": "#2a3f5f"
            },
            "type": "carpet"
           }
          ],
          "choropleth": [
           {
            "colorbar": {
             "outlinewidth": 0,
             "ticks": ""
            },
            "type": "choropleth"
           }
          ],
          "contour": [
           {
            "colorbar": {
             "outlinewidth": 0,
             "ticks": ""
            },
            "colorscale": [
             [
              0,
              "#0d0887"
             ],
             [
              0.1111111111111111,
              "#46039f"
             ],
             [
              0.2222222222222222,
              "#7201a8"
             ],
             [
              0.3333333333333333,
              "#9c179e"
             ],
             [
              0.4444444444444444,
              "#bd3786"
             ],
             [
              0.5555555555555556,
              "#d8576b"
             ],
             [
              0.6666666666666666,
              "#ed7953"
             ],
             [
              0.7777777777777778,
              "#fb9f3a"
             ],
             [
              0.8888888888888888,
              "#fdca26"
             ],
             [
              1,
              "#f0f921"
             ]
            ],
            "type": "contour"
           }
          ],
          "contourcarpet": [
           {
            "colorbar": {
             "outlinewidth": 0,
             "ticks": ""
            },
            "type": "contourcarpet"
           }
          ],
          "heatmap": [
           {
            "colorbar": {
             "outlinewidth": 0,
             "ticks": ""
            },
            "colorscale": [
             [
              0,
              "#0d0887"
             ],
             [
              0.1111111111111111,
              "#46039f"
             ],
             [
              0.2222222222222222,
              "#7201a8"
             ],
             [
              0.3333333333333333,
              "#9c179e"
             ],
             [
              0.4444444444444444,
              "#bd3786"
             ],
             [
              0.5555555555555556,
              "#d8576b"
             ],
             [
              0.6666666666666666,
              "#ed7953"
             ],
             [
              0.7777777777777778,
              "#fb9f3a"
             ],
             [
              0.8888888888888888,
              "#fdca26"
             ],
             [
              1,
              "#f0f921"
             ]
            ],
            "type": "heatmap"
           }
          ],
          "heatmapgl": [
           {
            "colorbar": {
             "outlinewidth": 0,
             "ticks": ""
            },
            "colorscale": [
             [
              0,
              "#0d0887"
             ],
             [
              0.1111111111111111,
              "#46039f"
             ],
             [
              0.2222222222222222,
              "#7201a8"
             ],
             [
              0.3333333333333333,
              "#9c179e"
             ],
             [
              0.4444444444444444,
              "#bd3786"
             ],
             [
              0.5555555555555556,
              "#d8576b"
             ],
             [
              0.6666666666666666,
              "#ed7953"
             ],
             [
              0.7777777777777778,
              "#fb9f3a"
             ],
             [
              0.8888888888888888,
              "#fdca26"
             ],
             [
              1,
              "#f0f921"
             ]
            ],
            "type": "heatmapgl"
           }
          ],
          "histogram": [
           {
            "marker": {
             "pattern": {
              "fillmode": "overlay",
              "size": 10,
              "solidity": 0.2
             }
            },
            "type": "histogram"
           }
          ],
          "histogram2d": [
           {
            "colorbar": {
             "outlinewidth": 0,
             "ticks": ""
            },
            "colorscale": [
             [
              0,
              "#0d0887"
             ],
             [
              0.1111111111111111,
              "#46039f"
             ],
             [
              0.2222222222222222,
              "#7201a8"
             ],
             [
              0.3333333333333333,
              "#9c179e"
             ],
             [
              0.4444444444444444,
              "#bd3786"
             ],
             [
              0.5555555555555556,
              "#d8576b"
             ],
             [
              0.6666666666666666,
              "#ed7953"
             ],
             [
              0.7777777777777778,
              "#fb9f3a"
             ],
             [
              0.8888888888888888,
              "#fdca26"
             ],
             [
              1,
              "#f0f921"
             ]
            ],
            "type": "histogram2d"
           }
          ],
          "histogram2dcontour": [
           {
            "colorbar": {
             "outlinewidth": 0,
             "ticks": ""
            },
            "colorscale": [
             [
              0,
              "#0d0887"
             ],
             [
              0.1111111111111111,
              "#46039f"
             ],
             [
              0.2222222222222222,
              "#7201a8"
             ],
             [
              0.3333333333333333,
              "#9c179e"
             ],
             [
              0.4444444444444444,
              "#bd3786"
             ],
             [
              0.5555555555555556,
              "#d8576b"
             ],
             [
              0.6666666666666666,
              "#ed7953"
             ],
             [
              0.7777777777777778,
              "#fb9f3a"
             ],
             [
              0.8888888888888888,
              "#fdca26"
             ],
             [
              1,
              "#f0f921"
             ]
            ],
            "type": "histogram2dcontour"
           }
          ],
          "mesh3d": [
           {
            "colorbar": {
             "outlinewidth": 0,
             "ticks": ""
            },
            "type": "mesh3d"
           }
          ],
          "parcoords": [
           {
            "line": {
             "colorbar": {
              "outlinewidth": 0,
              "ticks": ""
             }
            },
            "type": "parcoords"
           }
          ],
          "pie": [
           {
            "automargin": true,
            "type": "pie"
           }
          ],
          "scatter": [
           {
            "marker": {
             "colorbar": {
              "outlinewidth": 0,
              "ticks": ""
             }
            },
            "type": "scatter"
           }
          ],
          "scatter3d": [
           {
            "line": {
             "colorbar": {
              "outlinewidth": 0,
              "ticks": ""
             }
            },
            "marker": {
             "colorbar": {
              "outlinewidth": 0,
              "ticks": ""
             }
            },
            "type": "scatter3d"
           }
          ],
          "scattercarpet": [
           {
            "marker": {
             "colorbar": {
              "outlinewidth": 0,
              "ticks": ""
             }
            },
            "type": "scattercarpet"
           }
          ],
          "scattergeo": [
           {
            "marker": {
             "colorbar": {
              "outlinewidth": 0,
              "ticks": ""
             }
            },
            "type": "scattergeo"
           }
          ],
          "scattergl": [
           {
            "marker": {
             "colorbar": {
              "outlinewidth": 0,
              "ticks": ""
             }
            },
            "type": "scattergl"
           }
          ],
          "scattermapbox": [
           {
            "marker": {
             "colorbar": {
              "outlinewidth": 0,
              "ticks": ""
             }
            },
            "type": "scattermapbox"
           }
          ],
          "scatterpolar": [
           {
            "marker": {
             "colorbar": {
              "outlinewidth": 0,
              "ticks": ""
             }
            },
            "type": "scatterpolar"
           }
          ],
          "scatterpolargl": [
           {
            "marker": {
             "colorbar": {
              "outlinewidth": 0,
              "ticks": ""
             }
            },
            "type": "scatterpolargl"
           }
          ],
          "scatterternary": [
           {
            "marker": {
             "colorbar": {
              "outlinewidth": 0,
              "ticks": ""
             }
            },
            "type": "scatterternary"
           }
          ],
          "surface": [
           {
            "colorbar": {
             "outlinewidth": 0,
             "ticks": ""
            },
            "colorscale": [
             [
              0,
              "#0d0887"
             ],
             [
              0.1111111111111111,
              "#46039f"
             ],
             [
              0.2222222222222222,
              "#7201a8"
             ],
             [
              0.3333333333333333,
              "#9c179e"
             ],
             [
              0.4444444444444444,
              "#bd3786"
             ],
             [
              0.5555555555555556,
              "#d8576b"
             ],
             [
              0.6666666666666666,
              "#ed7953"
             ],
             [
              0.7777777777777778,
              "#fb9f3a"
             ],
             [
              0.8888888888888888,
              "#fdca26"
             ],
             [
              1,
              "#f0f921"
             ]
            ],
            "type": "surface"
           }
          ],
          "table": [
           {
            "cells": {
             "fill": {
              "color": "#EBF0F8"
             },
             "line": {
              "color": "white"
             }
            },
            "header": {
             "fill": {
              "color": "#C8D4E3"
             },
             "line": {
              "color": "white"
             }
            },
            "type": "table"
           }
          ]
         },
         "layout": {
          "annotationdefaults": {
           "arrowcolor": "#2a3f5f",
           "arrowhead": 0,
           "arrowwidth": 1
          },
          "autotypenumbers": "strict",
          "coloraxis": {
           "colorbar": {
            "outlinewidth": 0,
            "ticks": ""
           }
          },
          "colorscale": {
           "diverging": [
            [
             0,
             "#8e0152"
            ],
            [
             0.1,
             "#c51b7d"
            ],
            [
             0.2,
             "#de77ae"
            ],
            [
             0.3,
             "#f1b6da"
            ],
            [
             0.4,
             "#fde0ef"
            ],
            [
             0.5,
             "#f7f7f7"
            ],
            [
             0.6,
             "#e6f5d0"
            ],
            [
             0.7,
             "#b8e186"
            ],
            [
             0.8,
             "#7fbc41"
            ],
            [
             0.9,
             "#4d9221"
            ],
            [
             1,
             "#276419"
            ]
           ],
           "sequential": [
            [
             0,
             "#0d0887"
            ],
            [
             0.1111111111111111,
             "#46039f"
            ],
            [
             0.2222222222222222,
             "#7201a8"
            ],
            [
             0.3333333333333333,
             "#9c179e"
            ],
            [
             0.4444444444444444,
             "#bd3786"
            ],
            [
             0.5555555555555556,
             "#d8576b"
            ],
            [
             0.6666666666666666,
             "#ed7953"
            ],
            [
             0.7777777777777778,
             "#fb9f3a"
            ],
            [
             0.8888888888888888,
             "#fdca26"
            ],
            [
             1,
             "#f0f921"
            ]
           ],
           "sequentialminus": [
            [
             0,
             "#0d0887"
            ],
            [
             0.1111111111111111,
             "#46039f"
            ],
            [
             0.2222222222222222,
             "#7201a8"
            ],
            [
             0.3333333333333333,
             "#9c179e"
            ],
            [
             0.4444444444444444,
             "#bd3786"
            ],
            [
             0.5555555555555556,
             "#d8576b"
            ],
            [
             0.6666666666666666,
             "#ed7953"
            ],
            [
             0.7777777777777778,
             "#fb9f3a"
            ],
            [
             0.8888888888888888,
             "#fdca26"
            ],
            [
             1,
             "#f0f921"
            ]
           ]
          },
          "colorway": [
           "#636efa",
           "#EF553B",
           "#00cc96",
           "#ab63fa",
           "#FFA15A",
           "#19d3f3",
           "#FF6692",
           "#B6E880",
           "#FF97FF",
           "#FECB52"
          ],
          "font": {
           "color": "#2a3f5f"
          },
          "geo": {
           "bgcolor": "white",
           "lakecolor": "white",
           "landcolor": "#E5ECF6",
           "showlakes": true,
           "showland": true,
           "subunitcolor": "white"
          },
          "hoverlabel": {
           "align": "left"
          },
          "hovermode": "closest",
          "mapbox": {
           "style": "light"
          },
          "paper_bgcolor": "white",
          "plot_bgcolor": "#E5ECF6",
          "polar": {
           "angularaxis": {
            "gridcolor": "white",
            "linecolor": "white",
            "ticks": ""
           },
           "bgcolor": "#E5ECF6",
           "radialaxis": {
            "gridcolor": "white",
            "linecolor": "white",
            "ticks": ""
           }
          },
          "scene": {
           "xaxis": {
            "backgroundcolor": "#E5ECF6",
            "gridcolor": "white",
            "gridwidth": 2,
            "linecolor": "white",
            "showbackground": true,
            "ticks": "",
            "zerolinecolor": "white"
           },
           "yaxis": {
            "backgroundcolor": "#E5ECF6",
            "gridcolor": "white",
            "gridwidth": 2,
            "linecolor": "white",
            "showbackground": true,
            "ticks": "",
            "zerolinecolor": "white"
           },
           "zaxis": {
            "backgroundcolor": "#E5ECF6",
            "gridcolor": "white",
            "gridwidth": 2,
            "linecolor": "white",
            "showbackground": true,
            "ticks": "",
            "zerolinecolor": "white"
           }
          },
          "shapedefaults": {
           "line": {
            "color": "#2a3f5f"
           }
          },
          "ternary": {
           "aaxis": {
            "gridcolor": "white",
            "linecolor": "white",
            "ticks": ""
           },
           "baxis": {
            "gridcolor": "white",
            "linecolor": "white",
            "ticks": ""
           },
           "bgcolor": "#E5ECF6",
           "caxis": {
            "gridcolor": "white",
            "linecolor": "white",
            "ticks": ""
           }
          },
          "title": {
           "x": 0.05
          },
          "xaxis": {
           "automargin": true,
           "gridcolor": "white",
           "linecolor": "white",
           "ticks": "",
           "title": {
            "standoff": 15
           },
           "zerolinecolor": "white",
           "zerolinewidth": 2
          },
          "yaxis": {
           "automargin": true,
           "gridcolor": "white",
           "linecolor": "white",
           "ticks": "",
           "title": {
            "standoff": 15
           },
           "zerolinecolor": "white",
           "zerolinewidth": 2
          }
         }
        },
        "title": {
         "text": "<b>Total car in each city according to occasion</b>",
         "x": 0.5
        },
        "xaxis": {
         "anchor": "y",
         "categoryarray": [
          "Occasion",
          "Oldtimer",
          "Vorführmodell",
          "Neu"
         ],
         "categoryorder": "array",
         "domain": [
          0,
          0.15
         ],
         "title": {
          "text": "condition"
         }
        },
        "xaxis2": {
         "anchor": "y2",
         "categoryarray": [
          "Occasion",
          "Oldtimer",
          "Vorführmodell",
          "Neu"
         ],
         "categoryorder": "array",
         "domain": [
          0.16999999999999998,
          0.31999999999999995
         ],
         "matches": "x",
         "title": {
          "text": "condition"
         }
        },
        "xaxis3": {
         "anchor": "y3",
         "categoryarray": [
          "Occasion",
          "Oldtimer",
          "Vorführmodell",
          "Neu"
         ],
         "categoryorder": "array",
         "domain": [
          0.33999999999999997,
          0.49
         ],
         "matches": "x",
         "title": {
          "text": "condition"
         }
        },
        "xaxis4": {
         "anchor": "y4",
         "categoryarray": [
          "Occasion",
          "Oldtimer",
          "Vorführmodell",
          "Neu"
         ],
         "categoryorder": "array",
         "domain": [
          0.51,
          0.66
         ],
         "matches": "x",
         "title": {
          "text": "condition"
         }
        },
        "xaxis5": {
         "anchor": "y5",
         "categoryarray": [
          "Occasion",
          "Oldtimer",
          "Vorführmodell",
          "Neu"
         ],
         "categoryorder": "array",
         "domain": [
          0.6799999999999999,
          0.83
         ],
         "matches": "x",
         "title": {
          "text": "condition"
         }
        },
        "xaxis6": {
         "anchor": "y6",
         "categoryarray": [
          "Occasion",
          "Oldtimer",
          "Vorführmodell",
          "Neu"
         ],
         "categoryorder": "array",
         "domain": [
          0.85,
          1
         ],
         "matches": "x",
         "title": {
          "text": "condition"
         }
        },
        "yaxis": {
         "anchor": "x",
         "domain": [
          0,
          1
         ],
         "showticklabels": false,
         "title": {
          "text": "Total Car"
         }
        },
        "yaxis2": {
         "anchor": "x2",
         "domain": [
          0,
          1
         ],
         "showticklabels": false
        },
        "yaxis3": {
         "anchor": "x3",
         "domain": [
          0,
          1
         ],
         "showticklabels": false
        },
        "yaxis4": {
         "anchor": "x4",
         "domain": [
          0,
          1
         ],
         "showticklabels": false
        },
        "yaxis5": {
         "anchor": "x5",
         "domain": [
          0,
          1
         ],
         "showticklabels": false
        },
        "yaxis6": {
         "anchor": "x6",
         "domain": [
          0,
          1
         ],
         "showticklabels": false
        }
       }
      },
      "text/html": [
       "<div>                            <div id=\"5123973c-59c8-4ba7-bfe1-081df082e24b\" class=\"plotly-graph-div\" style=\"height:525px; width:100%;\"></div>            <script type=\"text/javascript\">                require([\"plotly\"], function(Plotly) {                    window.PLOTLYENV=window.PLOTLYENV || {};                                    if (document.getElementById(\"5123973c-59c8-4ba7-bfe1-081df082e24b\")) {                    Plotly.newPlot(                        \"5123973c-59c8-4ba7-bfe1-081df082e24b\",                        [{\"alignmentgroup\":\"True\",\"bingroup\":\"x\",\"hovertemplate\":\"condition=%{x}<br>city=Zuzwil<br>count=%{y}<extra></extra>\",\"legendgroup\":\"Occasion\",\"marker\":{\"color\":\"#636efa\",\"pattern\":{\"shape\":\"\"}},\"name\":\"Occasion\",\"offsetgroup\":\"Occasion\",\"orientation\":\"v\",\"showlegend\":true,\"type\":\"histogram\",\"x\":[\"Occasion\",\"Occasion\",\"Occasion\",\"Occasion\",\"Occasion\",\"Occasion\",\"Occasion\",\"Occasion\",\"Occasion\",\"Occasion\",\"Occasion\",\"Occasion\",\"Occasion\",\"Occasion\",\"Occasion\",\"Occasion\",\"Occasion\",\"Occasion\",\"Occasion\",\"Occasion\",\"Occasion\",\"Occasion\",\"Occasion\",\"Occasion\",\"Occasion\",\"Occasion\",\"Occasion\",\"Occasion\",\"Occasion\",\"Occasion\",\"Occasion\",\"Occasion\",\"Occasion\",\"Occasion\",\"Occasion\",\"Occasion\",\"Occasion\",\"Occasion\",\"Occasion\",\"Occasion\",\"Occasion\",\"Occasion\",\"Occasion\",\"Occasion\",\"Occasion\",\"Occasion\",\"Occasion\",\"Occasion\",\"Occasion\",\"Occasion\",\"Occasion\",\"Occasion\",\"Occasion\",\"Occasion\",\"Occasion\",\"Occasion\",\"Occasion\",\"Occasion\",\"Occasion\",\"Occasion\",\"Occasion\",\"Occasion\",\"Occasion\",\"Occasion\",\"Occasion\",\"Occasion\",\"Occasion\",\"Occasion\",\"Occasion\",\"Occasion\",\"Occasion\",\"Occasion\",\"Occasion\",\"Occasion\",\"Occasion\",\"Occasion\",\"Occasion\",\"Occasion\",\"Occasion\",\"Occasion\",\"Occasion\",\"Occasion\",\"Occasion\",\"Occasion\",\"Occasion\",\"Occasion\",\"Occasion\",\"Occasion\",\"Occasion\",\"Occasion\",\"Occasion\",\"Occasion\",\"Occasion\",\"Occasion\",\"Occasion\",\"Occasion\",\"Occasion\",\"Occasion\",\"Occasion\",\"Occasion\",\"Occasion\",\"Occasion\",\"Occasion\",\"Occasion\",\"Occasion\",\"Occasion\",\"Occasion\",\"Occasion\",\"Occasion\",\"Occasion\",\"Occasion\",\"Occasion\",\"Occasion\",\"Occasion\",\"Occasion\",\"Occasion\",\"Occasion\",\"Occasion\",\"Occasion\",\"Occasion\",\"Occasion\",\"Occasion\",\"Occasion\",\"Occasion\",\"Occasion\",\"Occasion\",\"Occasion\",\"Occasion\",\"Occasion\",\"Occasion\",\"Occasion\",\"Occasion\",\"Occasion\",\"Occasion\",\"Occasion\",\"Occasion\",\"Occasion\",\"Occasion\",\"Occasion\",\"Occasion\",\"Occasion\",\"Occasion\",\"Occasion\",\"Occasion\",\"Occasion\",\"Occasion\",\"Occasion\",\"Occasion\",\"Occasion\",\"Occasion\",\"Occasion\",\"Occasion\",\"Occasion\",\"Occasion\",\"Occasion\",\"Occasion\",\"Occasion\",\"Occasion\",\"Occasion\",\"Occasion\",\"Occasion\",\"Occasion\",\"Occasion\",\"Occasion\",\"Occasion\",\"Occasion\",\"Occasion\",\"Occasion\",\"Occasion\",\"Occasion\",\"Occasion\",\"Occasion\",\"Occasion\",\"Occasion\",\"Occasion\",\"Occasion\",\"Occasion\",\"Occasion\",\"Occasion\",\"Occasion\",\"Occasion\",\"Occasion\",\"Occasion\",\"Occasion\",\"Occasion\",\"Occasion\",\"Occasion\",\"Occasion\",\"Occasion\",\"Occasion\",\"Occasion\",\"Occasion\",\"Occasion\",\"Occasion\",\"Occasion\",\"Occasion\",\"Occasion\",\"Occasion\",\"Occasion\",\"Occasion\",\"Occasion\",\"Occasion\",\"Occasion\",\"Occasion\",\"Occasion\",\"Occasion\",\"Occasion\",\"Occasion\",\"Occasion\",\"Occasion\",\"Occasion\",\"Occasion\",\"Occasion\",\"Occasion\",\"Occasion\",\"Occasion\",\"Occasion\",\"Occasion\",\"Occasion\",\"Occasion\",\"Occasion\",\"Occasion\",\"Occasion\",\"Occasion\",\"Occasion\",\"Occasion\",\"Occasion\",\"Occasion\",\"Occasion\",\"Occasion\",\"Occasion\",\"Occasion\",\"Occasion\",\"Occasion\",\"Occasion\",\"Occasion\",\"Occasion\",\"Occasion\",\"Occasion\",\"Occasion\",\"Occasion\",\"Occasion\",\"Occasion\",\"Occasion\",\"Occasion\",\"Occasion\",\"Occasion\",\"Occasion\",\"Occasion\",\"Occasion\",\"Occasion\",\"Occasion\",\"Occasion\",\"Occasion\",\"Occasion\",\"Occasion\",\"Occasion\",\"Occasion\",\"Occasion\",\"Occasion\",\"Occasion\",\"Occasion\",\"Occasion\",\"Occasion\",\"Occasion\",\"Occasion\",\"Occasion\",\"Occasion\",\"Occasion\",\"Occasion\",\"Occasion\",\"Occasion\",\"Occasion\",\"Occasion\",\"Occasion\",\"Occasion\",\"Occasion\",\"Occasion\",\"Occasion\",\"Occasion\",\"Occasion\",\"Occasion\",\"Occasion\",\"Occasion\",\"Occasion\",\"Occasion\",\"Occasion\",\"Occasion\",\"Occasion\",\"Occasion\",\"Occasion\",\"Occasion\",\"Occasion\",\"Occasion\",\"Occasion\",\"Occasion\",\"Occasion\",\"Occasion\",\"Occasion\",\"Occasion\",\"Occasion\",\"Occasion\",\"Occasion\",\"Occasion\",\"Occasion\",\"Occasion\",\"Occasion\",\"Occasion\",\"Occasion\",\"Occasion\",\"Occasion\",\"Occasion\",\"Occasion\",\"Occasion\",\"Occasion\",\"Occasion\",\"Occasion\",\"Occasion\",\"Occasion\",\"Occasion\",\"Occasion\",\"Occasion\",\"Occasion\",\"Occasion\",\"Occasion\",\"Occasion\",\"Occasion\",\"Occasion\",\"Occasion\",\"Occasion\",\"Occasion\",\"Occasion\",\"Occasion\",\"Occasion\",\"Occasion\",\"Occasion\",\"Occasion\",\"Occasion\",\"Occasion\",\"Occasion\",\"Occasion\",\"Occasion\",\"Occasion\",\"Occasion\",\"Occasion\",\"Occasion\",\"Occasion\",\"Occasion\",\"Occasion\",\"Occasion\",\"Occasion\",\"Occasion\",\"Occasion\",\"Occasion\",\"Occasion\",\"Occasion\",\"Occasion\",\"Occasion\",\"Occasion\",\"Occasion\",\"Occasion\",\"Occasion\",\"Occasion\",\"Occasion\",\"Occasion\",\"Occasion\",\"Occasion\",\"Occasion\",\"Occasion\",\"Occasion\",\"Occasion\",\"Occasion\",\"Occasion\",\"Occasion\",\"Occasion\",\"Occasion\",\"Occasion\",\"Occasion\",\"Occasion\",\"Occasion\",\"Occasion\",\"Occasion\",\"Occasion\",\"Occasion\",\"Occasion\",\"Occasion\",\"Occasion\",\"Occasion\",\"Occasion\",\"Occasion\",\"Occasion\",\"Occasion\",\"Occasion\",\"Occasion\",\"Occasion\",\"Occasion\",\"Occasion\",\"Occasion\",\"Occasion\",\"Occasion\",\"Occasion\",\"Occasion\",\"Occasion\",\"Occasion\",\"Occasion\",\"Occasion\",\"Occasion\",\"Occasion\",\"Occasion\",\"Occasion\",\"Occasion\",\"Occasion\",\"Occasion\",\"Occasion\",\"Occasion\",\"Occasion\",\"Occasion\",\"Occasion\",\"Occasion\",\"Occasion\",\"Occasion\",\"Occasion\",\"Occasion\",\"Occasion\",\"Occasion\",\"Occasion\",\"Occasion\",\"Occasion\",\"Occasion\",\"Occasion\",\"Occasion\",\"Occasion\",\"Occasion\",\"Occasion\",\"Occasion\",\"Occasion\",\"Occasion\",\"Occasion\",\"Occasion\",\"Occasion\",\"Occasion\",\"Occasion\",\"Occasion\",\"Occasion\",\"Occasion\",\"Occasion\",\"Occasion\",\"Occasion\",\"Occasion\",\"Occasion\",\"Occasion\",\"Occasion\",\"Occasion\",\"Occasion\",\"Occasion\",\"Occasion\",\"Occasion\",\"Occasion\",\"Occasion\",\"Occasion\",\"Occasion\",\"Occasion\",\"Occasion\",\"Occasion\",\"Occasion\",\"Occasion\",\"Occasion\",\"Occasion\",\"Occasion\",\"Occasion\",\"Occasion\",\"Occasion\",\"Occasion\",\"Occasion\",\"Occasion\",\"Occasion\",\"Occasion\",\"Occasion\",\"Occasion\",\"Occasion\",\"Occasion\",\"Occasion\",\"Occasion\",\"Occasion\",\"Occasion\",\"Occasion\",\"Occasion\",\"Occasion\",\"Occasion\",\"Occasion\",\"Occasion\",\"Occasion\",\"Occasion\",\"Occasion\",\"Occasion\",\"Occasion\",\"Occasion\",\"Occasion\",\"Occasion\",\"Occasion\",\"Occasion\",\"Occasion\",\"Occasion\",\"Occasion\",\"Occasion\",\"Occasion\",\"Occasion\",\"Occasion\",\"Occasion\",\"Occasion\",\"Occasion\",\"Occasion\",\"Occasion\",\"Occasion\",\"Occasion\",\"Occasion\",\"Occasion\",\"Occasion\",\"Occasion\",\"Occasion\",\"Occasion\",\"Occasion\",\"Occasion\",\"Occasion\",\"Occasion\",\"Occasion\",\"Occasion\",\"Occasion\",\"Occasion\",\"Occasion\",\"Occasion\",\"Occasion\",\"Occasion\",\"Occasion\",\"Occasion\",\"Occasion\"],\"xaxis\":\"x\",\"yaxis\":\"y\"},{\"alignmentgroup\":\"True\",\"bingroup\":\"x\",\"hovertemplate\":\"condition=%{x}<br>city=Porrentruy<br>count=%{y}<extra></extra>\",\"legendgroup\":\"Occasion\",\"marker\":{\"color\":\"#636efa\",\"pattern\":{\"shape\":\"\"}},\"name\":\"Occasion\",\"offsetgroup\":\"Occasion\",\"orientation\":\"v\",\"showlegend\":false,\"type\":\"histogram\",\"x\":[\"Occasion\",\"Occasion\",\"Occasion\",\"Occasion\",\"Occasion\",\"Occasion\",\"Occasion\",\"Occasion\",\"Occasion\",\"Occasion\"],\"xaxis\":\"x2\",\"yaxis\":\"y2\"},{\"alignmentgroup\":\"True\",\"bingroup\":\"x\",\"hovertemplate\":\"condition=%{x}<br>city=Safenwil<br>count=%{y}<extra></extra>\",\"legendgroup\":\"Occasion\",\"marker\":{\"color\":\"#636efa\",\"pattern\":{\"shape\":\"\"}},\"name\":\"Occasion\",\"offsetgroup\":\"Occasion\",\"orientation\":\"v\",\"showlegend\":false,\"type\":\"histogram\",\"x\":[\"Occasion\"],\"xaxis\":\"x3\",\"yaxis\":\"y3\"},{\"alignmentgroup\":\"True\",\"bingroup\":\"x\",\"hovertemplate\":\"condition=%{x}<br>city=St. Gallen<br>count=%{y}<extra></extra>\",\"legendgroup\":\"Occasion\",\"marker\":{\"color\":\"#636efa\",\"pattern\":{\"shape\":\"\"}},\"name\":\"Occasion\",\"offsetgroup\":\"Occasion\",\"orientation\":\"v\",\"showlegend\":false,\"type\":\"histogram\",\"x\":[\"Occasion\",\"Occasion\"],\"xaxis\":\"x4\",\"yaxis\":\"y4\"},{\"alignmentgroup\":\"True\",\"bingroup\":\"x\",\"hovertemplate\":\"condition=%{x}<br>city=Sursee<br>count=%{y}<extra></extra>\",\"legendgroup\":\"Occasion\",\"marker\":{\"color\":\"#636efa\",\"pattern\":{\"shape\":\"\"}},\"name\":\"Occasion\",\"offsetgroup\":\"Occasion\",\"orientation\":\"v\",\"showlegend\":false,\"type\":\"histogram\",\"x\":[\"Occasion\",\"Occasion\",\"Occasion\",\"Occasion\",\"Occasion\",\"Occasion\",\"Occasion\",\"Occasion\",\"Occasion\",\"Occasion\"],\"xaxis\":\"x5\",\"yaxis\":\"y5\"},{\"alignmentgroup\":\"True\",\"bingroup\":\"x\",\"hovertemplate\":\"condition=%{x}<br>city=Zuzwil<br>count=%{y}<extra></extra>\",\"legendgroup\":\"Oldtimer\",\"marker\":{\"color\":\"#EF553B\",\"pattern\":{\"shape\":\"\"}},\"name\":\"Oldtimer\",\"offsetgroup\":\"Oldtimer\",\"orientation\":\"v\",\"showlegend\":true,\"type\":\"histogram\",\"x\":[\"Oldtimer\",\"Oldtimer\",\"Oldtimer\",\"Oldtimer\",\"Oldtimer\",\"Oldtimer\",\"Oldtimer\",\"Oldtimer\",\"Oldtimer\",\"Oldtimer\",\"Oldtimer\",\"Oldtimer\",\"Oldtimer\",\"Oldtimer\",\"Oldtimer\",\"Oldtimer\",\"Oldtimer\",\"Oldtimer\",\"Oldtimer\",\"Oldtimer\"],\"xaxis\":\"x\",\"yaxis\":\"y\"},{\"alignmentgroup\":\"True\",\"bingroup\":\"x\",\"hovertemplate\":\"condition=%{x}<br>city=Safenwil<br>count=%{y}<extra></extra>\",\"legendgroup\":\"Oldtimer\",\"marker\":{\"color\":\"#EF553B\",\"pattern\":{\"shape\":\"\"}},\"name\":\"Oldtimer\",\"offsetgroup\":\"Oldtimer\",\"orientation\":\"v\",\"showlegend\":false,\"type\":\"histogram\",\"x\":[\"Oldtimer\",\"Oldtimer\",\"Oldtimer\",\"Oldtimer\"],\"xaxis\":\"x3\",\"yaxis\":\"y3\"},{\"alignmentgroup\":\"True\",\"bingroup\":\"x\",\"hovertemplate\":\"condition=%{x}<br>city=Sursee<br>count=%{y}<extra></extra>\",\"legendgroup\":\"Oldtimer\",\"marker\":{\"color\":\"#EF553B\",\"pattern\":{\"shape\":\"\"}},\"name\":\"Oldtimer\",\"offsetgroup\":\"Oldtimer\",\"orientation\":\"v\",\"showlegend\":false,\"type\":\"histogram\",\"x\":[\"Oldtimer\"],\"xaxis\":\"x5\",\"yaxis\":\"y5\"},{\"alignmentgroup\":\"True\",\"bingroup\":\"x\",\"hovertemplate\":\"condition=%{x}<br>city=Basel<br>count=%{y}<extra></extra>\",\"legendgroup\":\"Oldtimer\",\"marker\":{\"color\":\"#EF553B\",\"pattern\":{\"shape\":\"\"}},\"name\":\"Oldtimer\",\"offsetgroup\":\"Oldtimer\",\"orientation\":\"v\",\"showlegend\":false,\"type\":\"histogram\",\"x\":[\"Oldtimer\",\"Oldtimer\"],\"xaxis\":\"x6\",\"yaxis\":\"y6\"},{\"alignmentgroup\":\"True\",\"bingroup\":\"x\",\"hovertemplate\":\"condition=%{x}<br>city=Zuzwil<br>count=%{y}<extra></extra>\",\"legendgroup\":\"Vorf\\u00fchrmodell\",\"marker\":{\"color\":\"#00cc96\",\"pattern\":{\"shape\":\"\"}},\"name\":\"Vorf\\u00fchrmodell\",\"offsetgroup\":\"Vorf\\u00fchrmodell\",\"orientation\":\"v\",\"showlegend\":true,\"type\":\"histogram\",\"x\":[\"Vorf\\u00fchrmodell\",\"Vorf\\u00fchrmodell\",\"Vorf\\u00fchrmodell\",\"Vorf\\u00fchrmodell\",\"Vorf\\u00fchrmodell\",\"Vorf\\u00fchrmodell\",\"Vorf\\u00fchrmodell\"],\"xaxis\":\"x\",\"yaxis\":\"y\"},{\"alignmentgroup\":\"True\",\"bingroup\":\"x\",\"hovertemplate\":\"condition=%{x}<br>city=Zuzwil<br>count=%{y}<extra></extra>\",\"legendgroup\":\"Neu\",\"marker\":{\"color\":\"#ab63fa\",\"pattern\":{\"shape\":\"\"}},\"name\":\"Neu\",\"offsetgroup\":\"Neu\",\"orientation\":\"v\",\"showlegend\":true,\"type\":\"histogram\",\"x\":[\"Neu\",\"Neu\",\"Neu\",\"Neu\",\"Neu\",\"Neu\",\"Neu\"],\"xaxis\":\"x\",\"yaxis\":\"y\"}],                        {\"annotations\":[{\"font\":{},\"showarrow\":false,\"text\":\"city=Zuzwil\",\"x\":0.075,\"xanchor\":\"center\",\"xref\":\"paper\",\"y\":1.0,\"yanchor\":\"bottom\",\"yref\":\"paper\"},{\"font\":{},\"showarrow\":false,\"text\":\"city=Porrentruy\",\"x\":0.24499999999999997,\"xanchor\":\"center\",\"xref\":\"paper\",\"y\":1.0,\"yanchor\":\"bottom\",\"yref\":\"paper\"},{\"font\":{},\"showarrow\":false,\"text\":\"city=Safenwil\",\"x\":0.415,\"xanchor\":\"center\",\"xref\":\"paper\",\"y\":1.0,\"yanchor\":\"bottom\",\"yref\":\"paper\"},{\"font\":{},\"showarrow\":false,\"text\":\"city=St. Gallen\",\"x\":0.585,\"xanchor\":\"center\",\"xref\":\"paper\",\"y\":1.0,\"yanchor\":\"bottom\",\"yref\":\"paper\"},{\"font\":{},\"showarrow\":false,\"text\":\"city=Sursee\",\"x\":0.7549999999999999,\"xanchor\":\"center\",\"xref\":\"paper\",\"y\":1.0,\"yanchor\":\"bottom\",\"yref\":\"paper\"},{\"font\":{},\"showarrow\":false,\"text\":\"city=Basel\",\"x\":0.925,\"xanchor\":\"center\",\"xref\":\"paper\",\"y\":1.0,\"yanchor\":\"bottom\",\"yref\":\"paper\"}],\"barmode\":\"relative\",\"legend\":{\"title\":{\"text\":\"condition\"},\"tracegroupgap\":0},\"margin\":{\"t\":60},\"plot_bgcolor\":\"white\",\"template\":{\"data\":{\"bar\":[{\"error_x\":{\"color\":\"#2a3f5f\"},\"error_y\":{\"color\":\"#2a3f5f\"},\"marker\":{\"line\":{\"color\":\"#E5ECF6\",\"width\":0.5},\"pattern\":{\"fillmode\":\"overlay\",\"size\":10,\"solidity\":0.2}},\"type\":\"bar\"}],\"barpolar\":[{\"marker\":{\"line\":{\"color\":\"#E5ECF6\",\"width\":0.5},\"pattern\":{\"fillmode\":\"overlay\",\"size\":10,\"solidity\":0.2}},\"type\":\"barpolar\"}],\"carpet\":[{\"aaxis\":{\"endlinecolor\":\"#2a3f5f\",\"gridcolor\":\"white\",\"linecolor\":\"white\",\"minorgridcolor\":\"white\",\"startlinecolor\":\"#2a3f5f\"},\"baxis\":{\"endlinecolor\":\"#2a3f5f\",\"gridcolor\":\"white\",\"linecolor\":\"white\",\"minorgridcolor\":\"white\",\"startlinecolor\":\"#2a3f5f\"},\"type\":\"carpet\"}],\"choropleth\":[{\"colorbar\":{\"outlinewidth\":0,\"ticks\":\"\"},\"type\":\"choropleth\"}],\"contour\":[{\"colorbar\":{\"outlinewidth\":0,\"ticks\":\"\"},\"colorscale\":[[0.0,\"#0d0887\"],[0.1111111111111111,\"#46039f\"],[0.2222222222222222,\"#7201a8\"],[0.3333333333333333,\"#9c179e\"],[0.4444444444444444,\"#bd3786\"],[0.5555555555555556,\"#d8576b\"],[0.6666666666666666,\"#ed7953\"],[0.7777777777777778,\"#fb9f3a\"],[0.8888888888888888,\"#fdca26\"],[1.0,\"#f0f921\"]],\"type\":\"contour\"}],\"contourcarpet\":[{\"colorbar\":{\"outlinewidth\":0,\"ticks\":\"\"},\"type\":\"contourcarpet\"}],\"heatmap\":[{\"colorbar\":{\"outlinewidth\":0,\"ticks\":\"\"},\"colorscale\":[[0.0,\"#0d0887\"],[0.1111111111111111,\"#46039f\"],[0.2222222222222222,\"#7201a8\"],[0.3333333333333333,\"#9c179e\"],[0.4444444444444444,\"#bd3786\"],[0.5555555555555556,\"#d8576b\"],[0.6666666666666666,\"#ed7953\"],[0.7777777777777778,\"#fb9f3a\"],[0.8888888888888888,\"#fdca26\"],[1.0,\"#f0f921\"]],\"type\":\"heatmap\"}],\"heatmapgl\":[{\"colorbar\":{\"outlinewidth\":0,\"ticks\":\"\"},\"colorscale\":[[0.0,\"#0d0887\"],[0.1111111111111111,\"#46039f\"],[0.2222222222222222,\"#7201a8\"],[0.3333333333333333,\"#9c179e\"],[0.4444444444444444,\"#bd3786\"],[0.5555555555555556,\"#d8576b\"],[0.6666666666666666,\"#ed7953\"],[0.7777777777777778,\"#fb9f3a\"],[0.8888888888888888,\"#fdca26\"],[1.0,\"#f0f921\"]],\"type\":\"heatmapgl\"}],\"histogram\":[{\"marker\":{\"pattern\":{\"fillmode\":\"overlay\",\"size\":10,\"solidity\":0.2}},\"type\":\"histogram\"}],\"histogram2d\":[{\"colorbar\":{\"outlinewidth\":0,\"ticks\":\"\"},\"colorscale\":[[0.0,\"#0d0887\"],[0.1111111111111111,\"#46039f\"],[0.2222222222222222,\"#7201a8\"],[0.3333333333333333,\"#9c179e\"],[0.4444444444444444,\"#bd3786\"],[0.5555555555555556,\"#d8576b\"],[0.6666666666666666,\"#ed7953\"],[0.7777777777777778,\"#fb9f3a\"],[0.8888888888888888,\"#fdca26\"],[1.0,\"#f0f921\"]],\"type\":\"histogram2d\"}],\"histogram2dcontour\":[{\"colorbar\":{\"outlinewidth\":0,\"ticks\":\"\"},\"colorscale\":[[0.0,\"#0d0887\"],[0.1111111111111111,\"#46039f\"],[0.2222222222222222,\"#7201a8\"],[0.3333333333333333,\"#9c179e\"],[0.4444444444444444,\"#bd3786\"],[0.5555555555555556,\"#d8576b\"],[0.6666666666666666,\"#ed7953\"],[0.7777777777777778,\"#fb9f3a\"],[0.8888888888888888,\"#fdca26\"],[1.0,\"#f0f921\"]],\"type\":\"histogram2dcontour\"}],\"mesh3d\":[{\"colorbar\":{\"outlinewidth\":0,\"ticks\":\"\"},\"type\":\"mesh3d\"}],\"parcoords\":[{\"line\":{\"colorbar\":{\"outlinewidth\":0,\"ticks\":\"\"}},\"type\":\"parcoords\"}],\"pie\":[{\"automargin\":true,\"type\":\"pie\"}],\"scatter\":[{\"marker\":{\"colorbar\":{\"outlinewidth\":0,\"ticks\":\"\"}},\"type\":\"scatter\"}],\"scatter3d\":[{\"line\":{\"colorbar\":{\"outlinewidth\":0,\"ticks\":\"\"}},\"marker\":{\"colorbar\":{\"outlinewidth\":0,\"ticks\":\"\"}},\"type\":\"scatter3d\"}],\"scattercarpet\":[{\"marker\":{\"colorbar\":{\"outlinewidth\":0,\"ticks\":\"\"}},\"type\":\"scattercarpet\"}],\"scattergeo\":[{\"marker\":{\"colorbar\":{\"outlinewidth\":0,\"ticks\":\"\"}},\"type\":\"scattergeo\"}],\"scattergl\":[{\"marker\":{\"colorbar\":{\"outlinewidth\":0,\"ticks\":\"\"}},\"type\":\"scattergl\"}],\"scattermapbox\":[{\"marker\":{\"colorbar\":{\"outlinewidth\":0,\"ticks\":\"\"}},\"type\":\"scattermapbox\"}],\"scatterpolar\":[{\"marker\":{\"colorbar\":{\"outlinewidth\":0,\"ticks\":\"\"}},\"type\":\"scatterpolar\"}],\"scatterpolargl\":[{\"marker\":{\"colorbar\":{\"outlinewidth\":0,\"ticks\":\"\"}},\"type\":\"scatterpolargl\"}],\"scatterternary\":[{\"marker\":{\"colorbar\":{\"outlinewidth\":0,\"ticks\":\"\"}},\"type\":\"scatterternary\"}],\"surface\":[{\"colorbar\":{\"outlinewidth\":0,\"ticks\":\"\"},\"colorscale\":[[0.0,\"#0d0887\"],[0.1111111111111111,\"#46039f\"],[0.2222222222222222,\"#7201a8\"],[0.3333333333333333,\"#9c179e\"],[0.4444444444444444,\"#bd3786\"],[0.5555555555555556,\"#d8576b\"],[0.6666666666666666,\"#ed7953\"],[0.7777777777777778,\"#fb9f3a\"],[0.8888888888888888,\"#fdca26\"],[1.0,\"#f0f921\"]],\"type\":\"surface\"}],\"table\":[{\"cells\":{\"fill\":{\"color\":\"#EBF0F8\"},\"line\":{\"color\":\"white\"}},\"header\":{\"fill\":{\"color\":\"#C8D4E3\"},\"line\":{\"color\":\"white\"}},\"type\":\"table\"}]},\"layout\":{\"annotationdefaults\":{\"arrowcolor\":\"#2a3f5f\",\"arrowhead\":0,\"arrowwidth\":1},\"autotypenumbers\":\"strict\",\"coloraxis\":{\"colorbar\":{\"outlinewidth\":0,\"ticks\":\"\"}},\"colorscale\":{\"diverging\":[[0,\"#8e0152\"],[0.1,\"#c51b7d\"],[0.2,\"#de77ae\"],[0.3,\"#f1b6da\"],[0.4,\"#fde0ef\"],[0.5,\"#f7f7f7\"],[0.6,\"#e6f5d0\"],[0.7,\"#b8e186\"],[0.8,\"#7fbc41\"],[0.9,\"#4d9221\"],[1,\"#276419\"]],\"sequential\":[[0.0,\"#0d0887\"],[0.1111111111111111,\"#46039f\"],[0.2222222222222222,\"#7201a8\"],[0.3333333333333333,\"#9c179e\"],[0.4444444444444444,\"#bd3786\"],[0.5555555555555556,\"#d8576b\"],[0.6666666666666666,\"#ed7953\"],[0.7777777777777778,\"#fb9f3a\"],[0.8888888888888888,\"#fdca26\"],[1.0,\"#f0f921\"]],\"sequentialminus\":[[0.0,\"#0d0887\"],[0.1111111111111111,\"#46039f\"],[0.2222222222222222,\"#7201a8\"],[0.3333333333333333,\"#9c179e\"],[0.4444444444444444,\"#bd3786\"],[0.5555555555555556,\"#d8576b\"],[0.6666666666666666,\"#ed7953\"],[0.7777777777777778,\"#fb9f3a\"],[0.8888888888888888,\"#fdca26\"],[1.0,\"#f0f921\"]]},\"colorway\":[\"#636efa\",\"#EF553B\",\"#00cc96\",\"#ab63fa\",\"#FFA15A\",\"#19d3f3\",\"#FF6692\",\"#B6E880\",\"#FF97FF\",\"#FECB52\"],\"font\":{\"color\":\"#2a3f5f\"},\"geo\":{\"bgcolor\":\"white\",\"lakecolor\":\"white\",\"landcolor\":\"#E5ECF6\",\"showlakes\":true,\"showland\":true,\"subunitcolor\":\"white\"},\"hoverlabel\":{\"align\":\"left\"},\"hovermode\":\"closest\",\"mapbox\":{\"style\":\"light\"},\"paper_bgcolor\":\"white\",\"plot_bgcolor\":\"#E5ECF6\",\"polar\":{\"angularaxis\":{\"gridcolor\":\"white\",\"linecolor\":\"white\",\"ticks\":\"\"},\"bgcolor\":\"#E5ECF6\",\"radialaxis\":{\"gridcolor\":\"white\",\"linecolor\":\"white\",\"ticks\":\"\"}},\"scene\":{\"xaxis\":{\"backgroundcolor\":\"#E5ECF6\",\"gridcolor\":\"white\",\"gridwidth\":2,\"linecolor\":\"white\",\"showbackground\":true,\"ticks\":\"\",\"zerolinecolor\":\"white\"},\"yaxis\":{\"backgroundcolor\":\"#E5ECF6\",\"gridcolor\":\"white\",\"gridwidth\":2,\"linecolor\":\"white\",\"showbackground\":true,\"ticks\":\"\",\"zerolinecolor\":\"white\"},\"zaxis\":{\"backgroundcolor\":\"#E5ECF6\",\"gridcolor\":\"white\",\"gridwidth\":2,\"linecolor\":\"white\",\"showbackground\":true,\"ticks\":\"\",\"zerolinecolor\":\"white\"}},\"shapedefaults\":{\"line\":{\"color\":\"#2a3f5f\"}},\"ternary\":{\"aaxis\":{\"gridcolor\":\"white\",\"linecolor\":\"white\",\"ticks\":\"\"},\"baxis\":{\"gridcolor\":\"white\",\"linecolor\":\"white\",\"ticks\":\"\"},\"bgcolor\":\"#E5ECF6\",\"caxis\":{\"gridcolor\":\"white\",\"linecolor\":\"white\",\"ticks\":\"\"}},\"title\":{\"x\":0.05},\"xaxis\":{\"automargin\":true,\"gridcolor\":\"white\",\"linecolor\":\"white\",\"ticks\":\"\",\"title\":{\"standoff\":15},\"zerolinecolor\":\"white\",\"zerolinewidth\":2},\"yaxis\":{\"automargin\":true,\"gridcolor\":\"white\",\"linecolor\":\"white\",\"ticks\":\"\",\"title\":{\"standoff\":15},\"zerolinecolor\":\"white\",\"zerolinewidth\":2}}},\"title\":{\"text\":\"<b>Total car in each city according to occasion</b>\",\"x\":0.5},\"xaxis\":{\"anchor\":\"y\",\"categoryarray\":[\"Occasion\",\"Oldtimer\",\"Vorf\\u00fchrmodell\",\"Neu\"],\"categoryorder\":\"array\",\"domain\":[0.0,0.15],\"title\":{\"text\":\"condition\"}},\"xaxis2\":{\"anchor\":\"y2\",\"categoryarray\":[\"Occasion\",\"Oldtimer\",\"Vorf\\u00fchrmodell\",\"Neu\"],\"categoryorder\":\"array\",\"domain\":[0.16999999999999998,0.31999999999999995],\"matches\":\"x\",\"title\":{\"text\":\"condition\"}},\"xaxis3\":{\"anchor\":\"y3\",\"categoryarray\":[\"Occasion\",\"Oldtimer\",\"Vorf\\u00fchrmodell\",\"Neu\"],\"categoryorder\":\"array\",\"domain\":[0.33999999999999997,0.49],\"matches\":\"x\",\"title\":{\"text\":\"condition\"}},\"xaxis4\":{\"anchor\":\"y4\",\"categoryarray\":[\"Occasion\",\"Oldtimer\",\"Vorf\\u00fchrmodell\",\"Neu\"],\"categoryorder\":\"array\",\"domain\":[0.51,0.66],\"matches\":\"x\",\"title\":{\"text\":\"condition\"}},\"xaxis5\":{\"anchor\":\"y5\",\"categoryarray\":[\"Occasion\",\"Oldtimer\",\"Vorf\\u00fchrmodell\",\"Neu\"],\"categoryorder\":\"array\",\"domain\":[0.6799999999999999,0.83],\"matches\":\"x\",\"title\":{\"text\":\"condition\"}},\"xaxis6\":{\"anchor\":\"y6\",\"categoryarray\":[\"Occasion\",\"Oldtimer\",\"Vorf\\u00fchrmodell\",\"Neu\"],\"categoryorder\":\"array\",\"domain\":[0.85,1.0],\"matches\":\"x\",\"title\":{\"text\":\"condition\"}},\"yaxis\":{\"anchor\":\"x\",\"domain\":[0.0,1.0],\"showticklabels\":false,\"title\":{\"text\":\"Total Car\"}},\"yaxis2\":{\"anchor\":\"x2\",\"domain\":[0.0,1.0],\"showticklabels\":false},\"yaxis3\":{\"anchor\":\"x3\",\"domain\":[0.0,1.0],\"showticklabels\":false},\"yaxis4\":{\"anchor\":\"x4\",\"domain\":[0.0,1.0],\"showticklabels\":false},\"yaxis5\":{\"anchor\":\"x5\",\"domain\":[0.0,1.0],\"showticklabels\":false},\"yaxis6\":{\"anchor\":\"x6\",\"domain\":[0.0,1.0],\"showticklabels\":false}},                        {\"responsive\": true}                    ).then(function(){\n",
       "                            \n",
       "var gd = document.getElementById('5123973c-59c8-4ba7-bfe1-081df082e24b');\n",
       "var x = new MutationObserver(function (mutations, observer) {{\n",
       "        var display = window.getComputedStyle(gd).display;\n",
       "        if (!display || display === 'none') {{\n",
       "            console.log([gd, 'removed!']);\n",
       "            Plotly.purge(gd);\n",
       "            observer.disconnect();\n",
       "        }}\n",
       "}});\n",
       "\n",
       "// Listen for the removal of the full notebook cells\n",
       "var notebookContainer = gd.closest('#notebook-container');\n",
       "if (notebookContainer) {{\n",
       "    x.observe(notebookContainer, {childList: true});\n",
       "}}\n",
       "\n",
       "// Listen for the clearing of the current output cell\n",
       "var outputEl = gd.closest('.output');\n",
       "if (outputEl) {{\n",
       "    x.observe(outputEl, {childList: true});\n",
       "}}\n",
       "\n",
       "                        })                };                });            </script>        </div>"
      ]
     },
     "metadata": {},
     "output_type": "display_data"
    }
   ],
   "source": [
    "import plotly.express as px\n",
    "fig = px.histogram(df12, x=\"condition\",color = \"condition\",  facet_col=\"city\")\n",
    "fig.update_layout(\n",
    "                 plot_bgcolor = \"white\",\n",
    "                  yaxis_title = \"Total Car\",\n",
    "                  title = \"<b>Total car in each city according to occasion</b>\",\n",
    "                 title_x=0.5)\n",
    "fig.update_yaxes(matches=None, showticklabels=False)\n",
    "fig.show()"
   ]
  },
  {
   "cell_type": "code",
   "execution_count": 6,
   "metadata": {},
   "outputs": [
    {
     "data": {
      "application/vnd.plotly.v1+json": {
       "config": {
        "plotlyServerURL": "https://plot.ly"
       },
       "data": [
        {
         "alignmentgroup": "True",
         "bingroup": "x",
         "hovertemplate": "condition=Occasion<br>make=%{x}<br>count=%{y}<extra></extra>",
         "legendgroup": "",
         "marker": {
          "color": "#636efa",
          "pattern": {
           "shape": ""
          }
         },
         "name": "",
         "offsetgroup": "",
         "orientation": "v",
         "showlegend": false,
         "type": "histogram",
         "x": [
          "AGM",
          "Alfa Romeo",
          "Alfa Romeo",
          "Alfa Romeo",
          "Alfa Romeo",
          "Alfa Romeo",
          "Alfa Romeo",
          "Alfa Romeo",
          "Alfa Romeo",
          "Alfa Romeo",
          "Aston Martin",
          "Aston Martin",
          "Aston Martin",
          "Aston Martin",
          "Aston Martin",
          "Aston Martin",
          "Aston Martin",
          "Aston Martin",
          "Aston Martin",
          "Aston Martin",
          "Audi",
          "Audi",
          "Audi",
          "Audi",
          "Audi",
          "Audi",
          "Audi",
          "Audi",
          "Audi",
          "Audi",
          "Audi",
          "Audi",
          "Audi",
          "Audi",
          "Audi",
          "Audi",
          "Audi",
          "Audi",
          "Audi",
          "Audi",
          "Audi",
          "Audi",
          "Audi",
          "Audi",
          "Audi",
          "Audi",
          "Audi",
          "Audi",
          "Audi",
          "Audi",
          "Audi",
          "Audi",
          "Audi",
          "Audi",
          "Audi",
          "Audi",
          "Audi",
          "Audi",
          "Audi",
          "Audi",
          "Audi",
          "Autobianchi",
          "Bentley",
          "Bentley",
          "Bentley",
          "Bentley",
          "Bentley",
          "Bentley",
          "Bentley",
          "Bentley",
          "Bentley",
          "Bentley",
          "Bentley",
          "Bentley",
          "Bentley",
          "Bentley",
          "Bentley",
          "Bentley",
          "BMW",
          "BMW",
          "BMW",
          "BMW",
          "BMW",
          "BMW",
          "BMW",
          "BMW",
          "BMW",
          "BMW",
          "BMW",
          "BMW",
          "BMW",
          "BMW",
          "BMW",
          "BMW",
          "BMW",
          "BMW",
          "BMW",
          "BMW",
          "BMW",
          "BMW",
          "BMW",
          "BMW",
          "BMW",
          "BMW",
          "BMW",
          "BMW",
          "BMW",
          "BMW",
          "BMW",
          "BMW",
          "BMW",
          "BMW",
          "BMW",
          "BMW",
          "BMW",
          "BMW",
          "BMW",
          "BMW",
          "BMW",
          "BMW",
          "BMW",
          "BMW",
          "BMW",
          "BMW",
          "BMW",
          "BMW",
          "BMW",
          "BMW",
          "BMW",
          "BMW",
          "BMW",
          "BMW",
          "BMW",
          "BMW",
          "BMW",
          "BMW",
          "BMW",
          "Bmw-Alpina",
          "Bmw-Alpina",
          "Bmw-Alpina",
          "Bmw-Alpina",
          "Bmw-Alpina",
          "Bmw-Alpina",
          "Bmw-Alpina",
          "Bmw-Alpina",
          "Bmw-Alpina",
          "Bugatti",
          "Bugatti",
          "Chevrolet",
          "Chevrolet",
          "Chevrolet",
          "Chevrolet",
          "Chevrolet",
          "Chevrolet",
          "Chevrolet",
          "Chevrolet",
          "Chevrolet",
          "Chrysler",
          "Chrysler",
          "Chrysler",
          "Citroen",
          "Citroen",
          "Daewoo",
          "Daihatsu",
          "Daimler",
          "Daimler",
          "Datsun",
          "Datsun",
          "De Tomaso",
          "Dodge",
          "Dodge",
          "Dodge",
          "Dodge",
          "Delorean",
          "Ferrari",
          "Ferrari",
          "Ferrari",
          "Ferrari",
          "Ferrari",
          "Ferrari",
          "Ferrari",
          "Ferrari",
          "Ferrari",
          "Ferrari",
          "Ferrari",
          "Ferrari",
          "Ferrari",
          "Ferrari",
          "Ferrari",
          "Ferrari",
          "Ferrari",
          "Ferrari",
          "Ferrari",
          "Ferrari",
          "Ferrari",
          "Ferrari",
          "Ferrari",
          "Ferrari",
          "Ferrari",
          "Ferrari",
          "Ferrari",
          "Fiat",
          "Fiat",
          "Fiat",
          "Fiat",
          "Fiat",
          "Fiat",
          "Fiat",
          "Ford",
          "Ford",
          "Ford",
          "Ford",
          "Ford",
          "Ford (Usa)",
          "Ford (Usa)",
          "Ford (Usa)",
          "Ford (Usa)",
          "Giottiline",
          "Harley-Davidson",
          "Honda",
          "Honda",
          "Hummer",
          "Hyundai",
          "Jaguar",
          "Jaguar",
          "Jaguar",
          "Jaguar",
          "Jaguar",
          "Jaguar",
          "Jaguar",
          "Jaguar",
          "Jaguar",
          "Jaguar",
          "Jaguar",
          "Jaguar",
          "Jaguar",
          "Jeep",
          "Jeep",
          "Kaiser",
          "Lamborghini",
          "Lamborghini",
          "Lamborghini",
          "Lamborghini",
          "Lamborghini",
          "Lamborghini",
          "Lamborghini",
          "Lamborghini",
          "Lamborghini",
          "Lamborghini",
          "Lamborghini",
          "Lamborghini",
          "Lamborghini",
          "Lamborghini",
          "Lamborghini",
          "Lamborghini",
          "Lamborghini",
          "Lamborghini",
          "Lamborghini",
          "Lamborghini",
          "Lamborghini",
          "Lancia",
          "Lancia",
          "Lancia",
          "Lancia",
          "Lancia",
          "Land Rover",
          "Land Rover",
          "Land Rover",
          "Land Rover",
          "Land Rover",
          "Land Rover",
          "Land Rover",
          "Land Rover",
          "Land Rover",
          "Land Rover",
          "Lexus",
          "Lincoln",
          "Lincoln",
          "Lotus",
          "Lotus",
          "Lotus",
          "Lotus",
          "Lotus",
          "Maserati",
          "Maserati",
          "Maserati",
          "Maserati",
          "Maserati",
          "Maserati",
          "Maserati",
          "Maserati",
          "Maserati",
          "Maserati",
          "Maserati",
          "Maserati",
          "Matra",
          "Mazda",
          "Mazda",
          "Mazda",
          "Mercedes-Benz",
          "Mercedes-Benz",
          "Mercedes-Benz",
          "Mercedes-Benz",
          "Mercedes-Benz",
          "Mercedes-Benz",
          "Mercedes-Benz",
          "Mercedes-Benz",
          "Mercedes-Benz",
          "Mercedes-Benz",
          "Mercedes-Benz",
          "Mercedes-Benz",
          "Mercedes-Benz",
          "Mercedes-Benz",
          "Mercedes-Benz",
          "Mercedes-Benz",
          "Mercedes-Benz",
          "Mercedes-Benz",
          "Mercedes-Benz",
          "Mercedes-Benz",
          "Mercedes-Benz",
          "Mercedes-Benz",
          "Mercedes-Benz",
          "Mercedes-Benz",
          "Mercedes-Benz",
          "Mercedes-Benz",
          "Mercedes-Benz",
          "Mercedes-Benz",
          "Mercedes-Benz",
          "Mercedes-Benz",
          "Mercedes-Benz",
          "Mercedes-Benz",
          "Mercedes-Benz",
          "Mercedes-Benz",
          "Mercedes-Benz",
          "Mercedes-Benz",
          "Mercedes-Benz",
          "Mercedes-Benz",
          "Mercedes-Benz",
          "Mercedes-Benz",
          "Mercedes-Benz",
          "Mercedes-Benz",
          "Mercedes-Benz",
          "Mercedes-Benz",
          "Mercedes-Benz",
          "Mercedes-Benz",
          "Mercedes-Benz",
          "Mercedes-Benz",
          "Mercedes-Benz",
          "Mercedes-Benz",
          "Mercedes-Benz",
          "Mercedes-Benz",
          "Mercedes-Benz",
          "Mercedes-Benz",
          "Mercedes-Benz",
          "Mercedes-Benz",
          "Mercedes-Benz",
          "Mercedes-Benz",
          "Mercedes-Benz",
          "Mercedes-Benz",
          "Mercedes-Benz",
          "Mercedes-Benz",
          "Mercedes-Benz",
          "Mercedes-Benz",
          "Mercedes-Benz",
          "Mercedes-Benz",
          "Mercedes-Benz",
          "Mercedes-Benz",
          "Mercedes-Benz",
          "Mercedes-Benz",
          "Mercedes-Benz",
          "Mercedes-Benz",
          "Mercedes-Benz",
          "Mercedes-Benz",
          "Mercedes-Benz",
          "Mercedes-Benz",
          "Mercedes-Benz",
          "Mercedes-Benz",
          "Mercedes-Benz",
          "Mercedes-Benz",
          "Mercedes-Benz",
          "Mercedes-Benz",
          "Mercedes-Benz",
          "Mercedes-Benz",
          "Mercedes-Benz",
          "Mercedes-Benz",
          "Mercedes-Benz",
          "Mercedes-Benz",
          "Mercedes-Benz",
          "Mercedes-Benz",
          "Mercedes-Benz",
          "Mercedes-Benz",
          "Mercedes-Benz",
          "Mercedes-Benz",
          "Mercedes-Benz",
          "Mercedes-Benz",
          "Mercedes-Benz",
          "Mercedes-Benz",
          "Mercedes-Benz",
          "Mercedes-Benz",
          "Mercedes-Benz",
          "Mercedes-Benz",
          "Mercedes-Benz",
          "Mercedes-Benz",
          "Mercedes-Benz",
          "Mercedes-Benz",
          "Mercedes-Benz",
          "Mercedes-Benz",
          "Mercedes-Benz",
          "Mercedes-Benz",
          "MG",
          "MG",
          "Mitsubishi",
          "Mitsubishi",
          "Mitsubishi",
          "Morgan",
          "Mclaren",
          "Mclaren",
          "Mclaren",
          "Nissan",
          "Nissan",
          "Nissan",
          "Nissan",
          "Nissan",
          "Nissan",
          "NSU",
          "NSU",
          "Opel",
          "Opel",
          "Opel",
          "Opel",
          "Opel",
          "Peugeot",
          "Peugeot",
          "PGO",
          "Porsche",
          "Porsche",
          "Porsche",
          "Porsche",
          "Porsche",
          "Porsche",
          "Porsche",
          "Porsche",
          "Porsche",
          "Porsche",
          "Porsche",
          "Porsche",
          "Porsche",
          "Porsche",
          "Porsche",
          "Porsche",
          "Porsche",
          "Porsche",
          "Porsche",
          "Porsche",
          "Porsche",
          "Porsche",
          "Porsche",
          "Porsche",
          "Porsche",
          "Porsche",
          "Porsche",
          "Porsche",
          "Porsche",
          "Porsche",
          "Porsche",
          "Porsche",
          "Porsche",
          "Porsche",
          "Porsche",
          "Porsche",
          "Porsche",
          "Porsche",
          "Porsche",
          "Porsche",
          "Porsche",
          "Porsche",
          "Porsche",
          "Porsche",
          "Porsche",
          "Renault",
          "Renault",
          "Renault",
          "Renault",
          "Renault",
          "Renault",
          "Renault",
          "Renault",
          "Renault",
          "Renault",
          "Renault",
          "Renault",
          "Renault",
          "Renault",
          "Renault",
          "Renault",
          "Renault",
          "Renault",
          "Renault",
          "Renault",
          "Renault",
          "Renault",
          "Renault",
          "Renault",
          "Renault",
          "Renault",
          "Renault",
          "Renault",
          "Rolls-Royce",
          "Rolls-Royce",
          "Rolls-Royce",
          "Rolls-Royce",
          "Rolls-Royce",
          "Rolls-Royce",
          "Rolls-Royce",
          "RUF",
          "RUF",
          "RUF",
          "Saab",
          "Saab",
          "Saab",
          "Saab",
          "Seat",
          "Seat",
          "Simca",
          "Smart",
          "Subaru",
          "Talbot",
          "Talbot",
          "Toyota",
          "Toyota",
          "Toyota",
          "Toyota",
          "Toyota",
          "Toyota",
          "Toyota",
          "Toyota",
          "Toyota",
          "Toyota",
          "Trabant",
          "Triumph",
          "Triumph",
          "Volvo",
          "Volvo",
          "Volvo",
          "Volvo",
          "VW",
          "VW",
          "VW",
          "VW",
          "VW",
          "VW",
          "VW",
          "VW",
          "VW",
          "VW",
          "VW",
          "VW",
          "Wiesmann",
          "Yes!"
         ],
         "xaxis": "x",
         "yaxis": "y"
        },
        {
         "alignmentgroup": "True",
         "bingroup": "x",
         "hovertemplate": "condition=Oldtimer<br>make=%{x}<br>count=%{y}<extra></extra>",
         "legendgroup": "",
         "marker": {
          "color": "#636efa",
          "pattern": {
           "shape": ""
          }
         },
         "name": "",
         "offsetgroup": "",
         "orientation": "v",
         "showlegend": false,
         "type": "histogram",
         "x": [
          "Alfa Romeo",
          "Austin-Healey",
          "Austin-Healey",
          "BMW",
          "Bmw-Alpina",
          "Ferrari",
          "Ford",
          "Ford",
          "Lamborghini",
          "Marcos",
          "Mercedes-Benz",
          "Mercedes-Benz",
          "MG",
          "MG",
          "Mini",
          "Renault",
          "Renault",
          "Renault",
          "Renault",
          "Renault",
          "Renault",
          "Rolls-Royce",
          "Rolls-Royce",
          "Toyota",
          "Toyota",
          "Toyota",
          "Triumph"
         ],
         "xaxis": "x2",
         "yaxis": "y2"
        },
        {
         "alignmentgroup": "True",
         "bingroup": "x",
         "hovertemplate": "condition=Vorführmodell<br>make=%{x}<br>count=%{y}<extra></extra>",
         "legendgroup": "",
         "marker": {
          "color": "#636efa",
          "pattern": {
           "shape": ""
          }
         },
         "name": "",
         "offsetgroup": "",
         "orientation": "v",
         "showlegend": false,
         "type": "histogram",
         "x": [
          "Aston Martin",
          "BMW",
          "BMW",
          "Hummer",
          "Mercedes-Benz",
          "Mercedes-Benz",
          "Mercedes-Benz"
         ],
         "xaxis": "x3",
         "yaxis": "y3"
        },
        {
         "alignmentgroup": "True",
         "bingroup": "x",
         "hovertemplate": "condition=Neu<br>make=%{x}<br>count=%{y}<extra></extra>",
         "legendgroup": "",
         "marker": {
          "color": "#636efa",
          "pattern": {
           "shape": ""
          }
         },
         "name": "",
         "offsetgroup": "",
         "orientation": "v",
         "showlegend": false,
         "type": "histogram",
         "x": [
          "Ferrari",
          "Mercedes-Benz",
          "Mercedes-Benz",
          "Mclaren",
          "Porsche",
          "Porsche",
          "Porsche"
         ],
         "xaxis": "x4",
         "yaxis": "y4"
        }
       ],
       "layout": {
        "annotations": [
         {
          "font": {},
          "showarrow": false,
          "text": "condition=Occasion",
          "x": 0.1175,
          "xanchor": "center",
          "xref": "paper",
          "y": 1,
          "yanchor": "bottom",
          "yref": "paper"
         },
         {
          "font": {},
          "showarrow": false,
          "text": "condition=Oldtimer",
          "x": 0.3725,
          "xanchor": "center",
          "xref": "paper",
          "y": 1,
          "yanchor": "bottom",
          "yref": "paper"
         },
         {
          "font": {},
          "showarrow": false,
          "text": "condition=Vorführmodell",
          "x": 0.6275,
          "xanchor": "center",
          "xref": "paper",
          "y": 1,
          "yanchor": "bottom",
          "yref": "paper"
         },
         {
          "font": {},
          "showarrow": false,
          "text": "condition=Neu",
          "x": 0.8824999999999998,
          "xanchor": "center",
          "xref": "paper",
          "y": 1,
          "yanchor": "bottom",
          "yref": "paper"
         }
        ],
        "barmode": "relative",
        "legend": {
         "tracegroupgap": 0
        },
        "margin": {
         "t": 60
        },
        "plot_bgcolor": "white",
        "template": {
         "data": {
          "bar": [
           {
            "error_x": {
             "color": "#2a3f5f"
            },
            "error_y": {
             "color": "#2a3f5f"
            },
            "marker": {
             "line": {
              "color": "#E5ECF6",
              "width": 0.5
             },
             "pattern": {
              "fillmode": "overlay",
              "size": 10,
              "solidity": 0.2
             }
            },
            "type": "bar"
           }
          ],
          "barpolar": [
           {
            "marker": {
             "line": {
              "color": "#E5ECF6",
              "width": 0.5
             },
             "pattern": {
              "fillmode": "overlay",
              "size": 10,
              "solidity": 0.2
             }
            },
            "type": "barpolar"
           }
          ],
          "carpet": [
           {
            "aaxis": {
             "endlinecolor": "#2a3f5f",
             "gridcolor": "white",
             "linecolor": "white",
             "minorgridcolor": "white",
             "startlinecolor": "#2a3f5f"
            },
            "baxis": {
             "endlinecolor": "#2a3f5f",
             "gridcolor": "white",
             "linecolor": "white",
             "minorgridcolor": "white",
             "startlinecolor": "#2a3f5f"
            },
            "type": "carpet"
           }
          ],
          "choropleth": [
           {
            "colorbar": {
             "outlinewidth": 0,
             "ticks": ""
            },
            "type": "choropleth"
           }
          ],
          "contour": [
           {
            "colorbar": {
             "outlinewidth": 0,
             "ticks": ""
            },
            "colorscale": [
             [
              0,
              "#0d0887"
             ],
             [
              0.1111111111111111,
              "#46039f"
             ],
             [
              0.2222222222222222,
              "#7201a8"
             ],
             [
              0.3333333333333333,
              "#9c179e"
             ],
             [
              0.4444444444444444,
              "#bd3786"
             ],
             [
              0.5555555555555556,
              "#d8576b"
             ],
             [
              0.6666666666666666,
              "#ed7953"
             ],
             [
              0.7777777777777778,
              "#fb9f3a"
             ],
             [
              0.8888888888888888,
              "#fdca26"
             ],
             [
              1,
              "#f0f921"
             ]
            ],
            "type": "contour"
           }
          ],
          "contourcarpet": [
           {
            "colorbar": {
             "outlinewidth": 0,
             "ticks": ""
            },
            "type": "contourcarpet"
           }
          ],
          "heatmap": [
           {
            "colorbar": {
             "outlinewidth": 0,
             "ticks": ""
            },
            "colorscale": [
             [
              0,
              "#0d0887"
             ],
             [
              0.1111111111111111,
              "#46039f"
             ],
             [
              0.2222222222222222,
              "#7201a8"
             ],
             [
              0.3333333333333333,
              "#9c179e"
             ],
             [
              0.4444444444444444,
              "#bd3786"
             ],
             [
              0.5555555555555556,
              "#d8576b"
             ],
             [
              0.6666666666666666,
              "#ed7953"
             ],
             [
              0.7777777777777778,
              "#fb9f3a"
             ],
             [
              0.8888888888888888,
              "#fdca26"
             ],
             [
              1,
              "#f0f921"
             ]
            ],
            "type": "heatmap"
           }
          ],
          "heatmapgl": [
           {
            "colorbar": {
             "outlinewidth": 0,
             "ticks": ""
            },
            "colorscale": [
             [
              0,
              "#0d0887"
             ],
             [
              0.1111111111111111,
              "#46039f"
             ],
             [
              0.2222222222222222,
              "#7201a8"
             ],
             [
              0.3333333333333333,
              "#9c179e"
             ],
             [
              0.4444444444444444,
              "#bd3786"
             ],
             [
              0.5555555555555556,
              "#d8576b"
             ],
             [
              0.6666666666666666,
              "#ed7953"
             ],
             [
              0.7777777777777778,
              "#fb9f3a"
             ],
             [
              0.8888888888888888,
              "#fdca26"
             ],
             [
              1,
              "#f0f921"
             ]
            ],
            "type": "heatmapgl"
           }
          ],
          "histogram": [
           {
            "marker": {
             "pattern": {
              "fillmode": "overlay",
              "size": 10,
              "solidity": 0.2
             }
            },
            "type": "histogram"
           }
          ],
          "histogram2d": [
           {
            "colorbar": {
             "outlinewidth": 0,
             "ticks": ""
            },
            "colorscale": [
             [
              0,
              "#0d0887"
             ],
             [
              0.1111111111111111,
              "#46039f"
             ],
             [
              0.2222222222222222,
              "#7201a8"
             ],
             [
              0.3333333333333333,
              "#9c179e"
             ],
             [
              0.4444444444444444,
              "#bd3786"
             ],
             [
              0.5555555555555556,
              "#d8576b"
             ],
             [
              0.6666666666666666,
              "#ed7953"
             ],
             [
              0.7777777777777778,
              "#fb9f3a"
             ],
             [
              0.8888888888888888,
              "#fdca26"
             ],
             [
              1,
              "#f0f921"
             ]
            ],
            "type": "histogram2d"
           }
          ],
          "histogram2dcontour": [
           {
            "colorbar": {
             "outlinewidth": 0,
             "ticks": ""
            },
            "colorscale": [
             [
              0,
              "#0d0887"
             ],
             [
              0.1111111111111111,
              "#46039f"
             ],
             [
              0.2222222222222222,
              "#7201a8"
             ],
             [
              0.3333333333333333,
              "#9c179e"
             ],
             [
              0.4444444444444444,
              "#bd3786"
             ],
             [
              0.5555555555555556,
              "#d8576b"
             ],
             [
              0.6666666666666666,
              "#ed7953"
             ],
             [
              0.7777777777777778,
              "#fb9f3a"
             ],
             [
              0.8888888888888888,
              "#fdca26"
             ],
             [
              1,
              "#f0f921"
             ]
            ],
            "type": "histogram2dcontour"
           }
          ],
          "mesh3d": [
           {
            "colorbar": {
             "outlinewidth": 0,
             "ticks": ""
            },
            "type": "mesh3d"
           }
          ],
          "parcoords": [
           {
            "line": {
             "colorbar": {
              "outlinewidth": 0,
              "ticks": ""
             }
            },
            "type": "parcoords"
           }
          ],
          "pie": [
           {
            "automargin": true,
            "type": "pie"
           }
          ],
          "scatter": [
           {
            "marker": {
             "colorbar": {
              "outlinewidth": 0,
              "ticks": ""
             }
            },
            "type": "scatter"
           }
          ],
          "scatter3d": [
           {
            "line": {
             "colorbar": {
              "outlinewidth": 0,
              "ticks": ""
             }
            },
            "marker": {
             "colorbar": {
              "outlinewidth": 0,
              "ticks": ""
             }
            },
            "type": "scatter3d"
           }
          ],
          "scattercarpet": [
           {
            "marker": {
             "colorbar": {
              "outlinewidth": 0,
              "ticks": ""
             }
            },
            "type": "scattercarpet"
           }
          ],
          "scattergeo": [
           {
            "marker": {
             "colorbar": {
              "outlinewidth": 0,
              "ticks": ""
             }
            },
            "type": "scattergeo"
           }
          ],
          "scattergl": [
           {
            "marker": {
             "colorbar": {
              "outlinewidth": 0,
              "ticks": ""
             }
            },
            "type": "scattergl"
           }
          ],
          "scattermapbox": [
           {
            "marker": {
             "colorbar": {
              "outlinewidth": 0,
              "ticks": ""
             }
            },
            "type": "scattermapbox"
           }
          ],
          "scatterpolar": [
           {
            "marker": {
             "colorbar": {
              "outlinewidth": 0,
              "ticks": ""
             }
            },
            "type": "scatterpolar"
           }
          ],
          "scatterpolargl": [
           {
            "marker": {
             "colorbar": {
              "outlinewidth": 0,
              "ticks": ""
             }
            },
            "type": "scatterpolargl"
           }
          ],
          "scatterternary": [
           {
            "marker": {
             "colorbar": {
              "outlinewidth": 0,
              "ticks": ""
             }
            },
            "type": "scatterternary"
           }
          ],
          "surface": [
           {
            "colorbar": {
             "outlinewidth": 0,
             "ticks": ""
            },
            "colorscale": [
             [
              0,
              "#0d0887"
             ],
             [
              0.1111111111111111,
              "#46039f"
             ],
             [
              0.2222222222222222,
              "#7201a8"
             ],
             [
              0.3333333333333333,
              "#9c179e"
             ],
             [
              0.4444444444444444,
              "#bd3786"
             ],
             [
              0.5555555555555556,
              "#d8576b"
             ],
             [
              0.6666666666666666,
              "#ed7953"
             ],
             [
              0.7777777777777778,
              "#fb9f3a"
             ],
             [
              0.8888888888888888,
              "#fdca26"
             ],
             [
              1,
              "#f0f921"
             ]
            ],
            "type": "surface"
           }
          ],
          "table": [
           {
            "cells": {
             "fill": {
              "color": "#EBF0F8"
             },
             "line": {
              "color": "white"
             }
            },
            "header": {
             "fill": {
              "color": "#C8D4E3"
             },
             "line": {
              "color": "white"
             }
            },
            "type": "table"
           }
          ]
         },
         "layout": {
          "annotationdefaults": {
           "arrowcolor": "#2a3f5f",
           "arrowhead": 0,
           "arrowwidth": 1
          },
          "autotypenumbers": "strict",
          "coloraxis": {
           "colorbar": {
            "outlinewidth": 0,
            "ticks": ""
           }
          },
          "colorscale": {
           "diverging": [
            [
             0,
             "#8e0152"
            ],
            [
             0.1,
             "#c51b7d"
            ],
            [
             0.2,
             "#de77ae"
            ],
            [
             0.3,
             "#f1b6da"
            ],
            [
             0.4,
             "#fde0ef"
            ],
            [
             0.5,
             "#f7f7f7"
            ],
            [
             0.6,
             "#e6f5d0"
            ],
            [
             0.7,
             "#b8e186"
            ],
            [
             0.8,
             "#7fbc41"
            ],
            [
             0.9,
             "#4d9221"
            ],
            [
             1,
             "#276419"
            ]
           ],
           "sequential": [
            [
             0,
             "#0d0887"
            ],
            [
             0.1111111111111111,
             "#46039f"
            ],
            [
             0.2222222222222222,
             "#7201a8"
            ],
            [
             0.3333333333333333,
             "#9c179e"
            ],
            [
             0.4444444444444444,
             "#bd3786"
            ],
            [
             0.5555555555555556,
             "#d8576b"
            ],
            [
             0.6666666666666666,
             "#ed7953"
            ],
            [
             0.7777777777777778,
             "#fb9f3a"
            ],
            [
             0.8888888888888888,
             "#fdca26"
            ],
            [
             1,
             "#f0f921"
            ]
           ],
           "sequentialminus": [
            [
             0,
             "#0d0887"
            ],
            [
             0.1111111111111111,
             "#46039f"
            ],
            [
             0.2222222222222222,
             "#7201a8"
            ],
            [
             0.3333333333333333,
             "#9c179e"
            ],
            [
             0.4444444444444444,
             "#bd3786"
            ],
            [
             0.5555555555555556,
             "#d8576b"
            ],
            [
             0.6666666666666666,
             "#ed7953"
            ],
            [
             0.7777777777777778,
             "#fb9f3a"
            ],
            [
             0.8888888888888888,
             "#fdca26"
            ],
            [
             1,
             "#f0f921"
            ]
           ]
          },
          "colorway": [
           "#636efa",
           "#EF553B",
           "#00cc96",
           "#ab63fa",
           "#FFA15A",
           "#19d3f3",
           "#FF6692",
           "#B6E880",
           "#FF97FF",
           "#FECB52"
          ],
          "font": {
           "color": "#2a3f5f"
          },
          "geo": {
           "bgcolor": "white",
           "lakecolor": "white",
           "landcolor": "#E5ECF6",
           "showlakes": true,
           "showland": true,
           "subunitcolor": "white"
          },
          "hoverlabel": {
           "align": "left"
          },
          "hovermode": "closest",
          "mapbox": {
           "style": "light"
          },
          "paper_bgcolor": "white",
          "plot_bgcolor": "#E5ECF6",
          "polar": {
           "angularaxis": {
            "gridcolor": "white",
            "linecolor": "white",
            "ticks": ""
           },
           "bgcolor": "#E5ECF6",
           "radialaxis": {
            "gridcolor": "white",
            "linecolor": "white",
            "ticks": ""
           }
          },
          "scene": {
           "xaxis": {
            "backgroundcolor": "#E5ECF6",
            "gridcolor": "white",
            "gridwidth": 2,
            "linecolor": "white",
            "showbackground": true,
            "ticks": "",
            "zerolinecolor": "white"
           },
           "yaxis": {
            "backgroundcolor": "#E5ECF6",
            "gridcolor": "white",
            "gridwidth": 2,
            "linecolor": "white",
            "showbackground": true,
            "ticks": "",
            "zerolinecolor": "white"
           },
           "zaxis": {
            "backgroundcolor": "#E5ECF6",
            "gridcolor": "white",
            "gridwidth": 2,
            "linecolor": "white",
            "showbackground": true,
            "ticks": "",
            "zerolinecolor": "white"
           }
          },
          "shapedefaults": {
           "line": {
            "color": "#2a3f5f"
           }
          },
          "ternary": {
           "aaxis": {
            "gridcolor": "white",
            "linecolor": "white",
            "ticks": ""
           },
           "baxis": {
            "gridcolor": "white",
            "linecolor": "white",
            "ticks": ""
           },
           "bgcolor": "#E5ECF6",
           "caxis": {
            "gridcolor": "white",
            "linecolor": "white",
            "ticks": ""
           }
          },
          "title": {
           "x": 0.05
          },
          "xaxis": {
           "automargin": true,
           "gridcolor": "white",
           "linecolor": "white",
           "ticks": "",
           "title": {
            "standoff": 15
           },
           "zerolinecolor": "white",
           "zerolinewidth": 2
          },
          "yaxis": {
           "automargin": true,
           "gridcolor": "white",
           "linecolor": "white",
           "ticks": "",
           "title": {
            "standoff": 15
           },
           "zerolinecolor": "white",
           "zerolinewidth": 2
          }
         }
        },
        "title": {
         "text": "<b>Car trends according to their condition and company</b>",
         "x": 0.5
        },
        "xaxis": {
         "anchor": "y",
         "domain": [
          0,
          0.235
         ],
         "title": {
          "text": "make"
         }
        },
        "xaxis2": {
         "anchor": "y2",
         "domain": [
          0.255,
          0.49
         ],
         "matches": "x",
         "title": {
          "text": "make"
         }
        },
        "xaxis3": {
         "anchor": "y3",
         "domain": [
          0.51,
          0.745
         ],
         "matches": "x",
         "title": {
          "text": "make"
         }
        },
        "xaxis4": {
         "anchor": "y4",
         "domain": [
          0.7649999999999999,
          0.9999999999999999
         ],
         "matches": "x",
         "title": {
          "text": "make"
         }
        },
        "yaxis": {
         "anchor": "x",
         "domain": [
          0,
          1
         ],
         "title": {
          "text": "Total Car"
         }
        },
        "yaxis2": {
         "anchor": "x2",
         "domain": [
          0,
          1
         ],
         "showticklabels": false
        },
        "yaxis3": {
         "anchor": "x3",
         "domain": [
          0,
          1
         ],
         "showticklabels": false
        },
        "yaxis4": {
         "anchor": "x4",
         "domain": [
          0,
          1
         ],
         "showticklabels": false
        }
       }
      },
      "text/html": [
       "<div>                            <div id=\"8db9c578-c81a-498a-9897-db3da3f3c5a7\" class=\"plotly-graph-div\" style=\"height:525px; width:100%;\"></div>            <script type=\"text/javascript\">                require([\"plotly\"], function(Plotly) {                    window.PLOTLYENV=window.PLOTLYENV || {};                                    if (document.getElementById(\"8db9c578-c81a-498a-9897-db3da3f3c5a7\")) {                    Plotly.newPlot(                        \"8db9c578-c81a-498a-9897-db3da3f3c5a7\",                        [{\"alignmentgroup\":\"True\",\"bingroup\":\"x\",\"hovertemplate\":\"condition=Occasion<br>make=%{x}<br>count=%{y}<extra></extra>\",\"legendgroup\":\"\",\"marker\":{\"color\":\"#636efa\",\"pattern\":{\"shape\":\"\"}},\"name\":\"\",\"offsetgroup\":\"\",\"orientation\":\"v\",\"showlegend\":false,\"type\":\"histogram\",\"x\":[\"AGM\",\"Alfa Romeo\",\"Alfa Romeo\",\"Alfa Romeo\",\"Alfa Romeo\",\"Alfa Romeo\",\"Alfa Romeo\",\"Alfa Romeo\",\"Alfa Romeo\",\"Alfa Romeo\",\"Aston Martin\",\"Aston Martin\",\"Aston Martin\",\"Aston Martin\",\"Aston Martin\",\"Aston Martin\",\"Aston Martin\",\"Aston Martin\",\"Aston Martin\",\"Aston Martin\",\"Audi\",\"Audi\",\"Audi\",\"Audi\",\"Audi\",\"Audi\",\"Audi\",\"Audi\",\"Audi\",\"Audi\",\"Audi\",\"Audi\",\"Audi\",\"Audi\",\"Audi\",\"Audi\",\"Audi\",\"Audi\",\"Audi\",\"Audi\",\"Audi\",\"Audi\",\"Audi\",\"Audi\",\"Audi\",\"Audi\",\"Audi\",\"Audi\",\"Audi\",\"Audi\",\"Audi\",\"Audi\",\"Audi\",\"Audi\",\"Audi\",\"Audi\",\"Audi\",\"Audi\",\"Audi\",\"Audi\",\"Audi\",\"Autobianchi\",\"Bentley\",\"Bentley\",\"Bentley\",\"Bentley\",\"Bentley\",\"Bentley\",\"Bentley\",\"Bentley\",\"Bentley\",\"Bentley\",\"Bentley\",\"Bentley\",\"Bentley\",\"Bentley\",\"Bentley\",\"Bentley\",\"BMW\",\"BMW\",\"BMW\",\"BMW\",\"BMW\",\"BMW\",\"BMW\",\"BMW\",\"BMW\",\"BMW\",\"BMW\",\"BMW\",\"BMW\",\"BMW\",\"BMW\",\"BMW\",\"BMW\",\"BMW\",\"BMW\",\"BMW\",\"BMW\",\"BMW\",\"BMW\",\"BMW\",\"BMW\",\"BMW\",\"BMW\",\"BMW\",\"BMW\",\"BMW\",\"BMW\",\"BMW\",\"BMW\",\"BMW\",\"BMW\",\"BMW\",\"BMW\",\"BMW\",\"BMW\",\"BMW\",\"BMW\",\"BMW\",\"BMW\",\"BMW\",\"BMW\",\"BMW\",\"BMW\",\"BMW\",\"BMW\",\"BMW\",\"BMW\",\"BMW\",\"BMW\",\"BMW\",\"BMW\",\"BMW\",\"BMW\",\"BMW\",\"BMW\",\"Bmw-Alpina\",\"Bmw-Alpina\",\"Bmw-Alpina\",\"Bmw-Alpina\",\"Bmw-Alpina\",\"Bmw-Alpina\",\"Bmw-Alpina\",\"Bmw-Alpina\",\"Bmw-Alpina\",\"Bugatti\",\"Bugatti\",\"Chevrolet\",\"Chevrolet\",\"Chevrolet\",\"Chevrolet\",\"Chevrolet\",\"Chevrolet\",\"Chevrolet\",\"Chevrolet\",\"Chevrolet\",\"Chrysler\",\"Chrysler\",\"Chrysler\",\"Citroen\",\"Citroen\",\"Daewoo\",\"Daihatsu\",\"Daimler\",\"Daimler\",\"Datsun\",\"Datsun\",\"De Tomaso\",\"Dodge\",\"Dodge\",\"Dodge\",\"Dodge\",\"Delorean\",\"Ferrari\",\"Ferrari\",\"Ferrari\",\"Ferrari\",\"Ferrari\",\"Ferrari\",\"Ferrari\",\"Ferrari\",\"Ferrari\",\"Ferrari\",\"Ferrari\",\"Ferrari\",\"Ferrari\",\"Ferrari\",\"Ferrari\",\"Ferrari\",\"Ferrari\",\"Ferrari\",\"Ferrari\",\"Ferrari\",\"Ferrari\",\"Ferrari\",\"Ferrari\",\"Ferrari\",\"Ferrari\",\"Ferrari\",\"Ferrari\",\"Fiat\",\"Fiat\",\"Fiat\",\"Fiat\",\"Fiat\",\"Fiat\",\"Fiat\",\"Ford\",\"Ford\",\"Ford\",\"Ford\",\"Ford\",\"Ford (Usa)\",\"Ford (Usa)\",\"Ford (Usa)\",\"Ford (Usa)\",\"Giottiline\",\"Harley-Davidson\",\"Honda\",\"Honda\",\"Hummer\",\"Hyundai\",\"Jaguar\",\"Jaguar\",\"Jaguar\",\"Jaguar\",\"Jaguar\",\"Jaguar\",\"Jaguar\",\"Jaguar\",\"Jaguar\",\"Jaguar\",\"Jaguar\",\"Jaguar\",\"Jaguar\",\"Jeep\",\"Jeep\",\"Kaiser\",\"Lamborghini\",\"Lamborghini\",\"Lamborghini\",\"Lamborghini\",\"Lamborghini\",\"Lamborghini\",\"Lamborghini\",\"Lamborghini\",\"Lamborghini\",\"Lamborghini\",\"Lamborghini\",\"Lamborghini\",\"Lamborghini\",\"Lamborghini\",\"Lamborghini\",\"Lamborghini\",\"Lamborghini\",\"Lamborghini\",\"Lamborghini\",\"Lamborghini\",\"Lamborghini\",\"Lancia\",\"Lancia\",\"Lancia\",\"Lancia\",\"Lancia\",\"Land Rover\",\"Land Rover\",\"Land Rover\",\"Land Rover\",\"Land Rover\",\"Land Rover\",\"Land Rover\",\"Land Rover\",\"Land Rover\",\"Land Rover\",\"Lexus\",\"Lincoln\",\"Lincoln\",\"Lotus\",\"Lotus\",\"Lotus\",\"Lotus\",\"Lotus\",\"Maserati\",\"Maserati\",\"Maserati\",\"Maserati\",\"Maserati\",\"Maserati\",\"Maserati\",\"Maserati\",\"Maserati\",\"Maserati\",\"Maserati\",\"Maserati\",\"Matra\",\"Mazda\",\"Mazda\",\"Mazda\",\"Mercedes-Benz\",\"Mercedes-Benz\",\"Mercedes-Benz\",\"Mercedes-Benz\",\"Mercedes-Benz\",\"Mercedes-Benz\",\"Mercedes-Benz\",\"Mercedes-Benz\",\"Mercedes-Benz\",\"Mercedes-Benz\",\"Mercedes-Benz\",\"Mercedes-Benz\",\"Mercedes-Benz\",\"Mercedes-Benz\",\"Mercedes-Benz\",\"Mercedes-Benz\",\"Mercedes-Benz\",\"Mercedes-Benz\",\"Mercedes-Benz\",\"Mercedes-Benz\",\"Mercedes-Benz\",\"Mercedes-Benz\",\"Mercedes-Benz\",\"Mercedes-Benz\",\"Mercedes-Benz\",\"Mercedes-Benz\",\"Mercedes-Benz\",\"Mercedes-Benz\",\"Mercedes-Benz\",\"Mercedes-Benz\",\"Mercedes-Benz\",\"Mercedes-Benz\",\"Mercedes-Benz\",\"Mercedes-Benz\",\"Mercedes-Benz\",\"Mercedes-Benz\",\"Mercedes-Benz\",\"Mercedes-Benz\",\"Mercedes-Benz\",\"Mercedes-Benz\",\"Mercedes-Benz\",\"Mercedes-Benz\",\"Mercedes-Benz\",\"Mercedes-Benz\",\"Mercedes-Benz\",\"Mercedes-Benz\",\"Mercedes-Benz\",\"Mercedes-Benz\",\"Mercedes-Benz\",\"Mercedes-Benz\",\"Mercedes-Benz\",\"Mercedes-Benz\",\"Mercedes-Benz\",\"Mercedes-Benz\",\"Mercedes-Benz\",\"Mercedes-Benz\",\"Mercedes-Benz\",\"Mercedes-Benz\",\"Mercedes-Benz\",\"Mercedes-Benz\",\"Mercedes-Benz\",\"Mercedes-Benz\",\"Mercedes-Benz\",\"Mercedes-Benz\",\"Mercedes-Benz\",\"Mercedes-Benz\",\"Mercedes-Benz\",\"Mercedes-Benz\",\"Mercedes-Benz\",\"Mercedes-Benz\",\"Mercedes-Benz\",\"Mercedes-Benz\",\"Mercedes-Benz\",\"Mercedes-Benz\",\"Mercedes-Benz\",\"Mercedes-Benz\",\"Mercedes-Benz\",\"Mercedes-Benz\",\"Mercedes-Benz\",\"Mercedes-Benz\",\"Mercedes-Benz\",\"Mercedes-Benz\",\"Mercedes-Benz\",\"Mercedes-Benz\",\"Mercedes-Benz\",\"Mercedes-Benz\",\"Mercedes-Benz\",\"Mercedes-Benz\",\"Mercedes-Benz\",\"Mercedes-Benz\",\"Mercedes-Benz\",\"Mercedes-Benz\",\"Mercedes-Benz\",\"Mercedes-Benz\",\"Mercedes-Benz\",\"Mercedes-Benz\",\"Mercedes-Benz\",\"Mercedes-Benz\",\"Mercedes-Benz\",\"Mercedes-Benz\",\"Mercedes-Benz\",\"Mercedes-Benz\",\"Mercedes-Benz\",\"Mercedes-Benz\",\"Mercedes-Benz\",\"Mercedes-Benz\",\"Mercedes-Benz\",\"Mercedes-Benz\",\"Mercedes-Benz\",\"Mercedes-Benz\",\"MG\",\"MG\",\"Mitsubishi\",\"Mitsubishi\",\"Mitsubishi\",\"Morgan\",\"Mclaren\",\"Mclaren\",\"Mclaren\",\"Nissan\",\"Nissan\",\"Nissan\",\"Nissan\",\"Nissan\",\"Nissan\",\"NSU\",\"NSU\",\"Opel\",\"Opel\",\"Opel\",\"Opel\",\"Opel\",\"Peugeot\",\"Peugeot\",\"PGO\",\"Porsche\",\"Porsche\",\"Porsche\",\"Porsche\",\"Porsche\",\"Porsche\",\"Porsche\",\"Porsche\",\"Porsche\",\"Porsche\",\"Porsche\",\"Porsche\",\"Porsche\",\"Porsche\",\"Porsche\",\"Porsche\",\"Porsche\",\"Porsche\",\"Porsche\",\"Porsche\",\"Porsche\",\"Porsche\",\"Porsche\",\"Porsche\",\"Porsche\",\"Porsche\",\"Porsche\",\"Porsche\",\"Porsche\",\"Porsche\",\"Porsche\",\"Porsche\",\"Porsche\",\"Porsche\",\"Porsche\",\"Porsche\",\"Porsche\",\"Porsche\",\"Porsche\",\"Porsche\",\"Porsche\",\"Porsche\",\"Porsche\",\"Porsche\",\"Porsche\",\"Renault\",\"Renault\",\"Renault\",\"Renault\",\"Renault\",\"Renault\",\"Renault\",\"Renault\",\"Renault\",\"Renault\",\"Renault\",\"Renault\",\"Renault\",\"Renault\",\"Renault\",\"Renault\",\"Renault\",\"Renault\",\"Renault\",\"Renault\",\"Renault\",\"Renault\",\"Renault\",\"Renault\",\"Renault\",\"Renault\",\"Renault\",\"Renault\",\"Rolls-Royce\",\"Rolls-Royce\",\"Rolls-Royce\",\"Rolls-Royce\",\"Rolls-Royce\",\"Rolls-Royce\",\"Rolls-Royce\",\"RUF\",\"RUF\",\"RUF\",\"Saab\",\"Saab\",\"Saab\",\"Saab\",\"Seat\",\"Seat\",\"Simca\",\"Smart\",\"Subaru\",\"Talbot\",\"Talbot\",\"Toyota\",\"Toyota\",\"Toyota\",\"Toyota\",\"Toyota\",\"Toyota\",\"Toyota\",\"Toyota\",\"Toyota\",\"Toyota\",\"Trabant\",\"Triumph\",\"Triumph\",\"Volvo\",\"Volvo\",\"Volvo\",\"Volvo\",\"VW\",\"VW\",\"VW\",\"VW\",\"VW\",\"VW\",\"VW\",\"VW\",\"VW\",\"VW\",\"VW\",\"VW\",\"Wiesmann\",\"Yes!\"],\"xaxis\":\"x\",\"yaxis\":\"y\"},{\"alignmentgroup\":\"True\",\"bingroup\":\"x\",\"hovertemplate\":\"condition=Oldtimer<br>make=%{x}<br>count=%{y}<extra></extra>\",\"legendgroup\":\"\",\"marker\":{\"color\":\"#636efa\",\"pattern\":{\"shape\":\"\"}},\"name\":\"\",\"offsetgroup\":\"\",\"orientation\":\"v\",\"showlegend\":false,\"type\":\"histogram\",\"x\":[\"Alfa Romeo\",\"Austin-Healey\",\"Austin-Healey\",\"BMW\",\"Bmw-Alpina\",\"Ferrari\",\"Ford\",\"Ford\",\"Lamborghini\",\"Marcos\",\"Mercedes-Benz\",\"Mercedes-Benz\",\"MG\",\"MG\",\"Mini\",\"Renault\",\"Renault\",\"Renault\",\"Renault\",\"Renault\",\"Renault\",\"Rolls-Royce\",\"Rolls-Royce\",\"Toyota\",\"Toyota\",\"Toyota\",\"Triumph\"],\"xaxis\":\"x2\",\"yaxis\":\"y2\"},{\"alignmentgroup\":\"True\",\"bingroup\":\"x\",\"hovertemplate\":\"condition=Vorf\\u00fchrmodell<br>make=%{x}<br>count=%{y}<extra></extra>\",\"legendgroup\":\"\",\"marker\":{\"color\":\"#636efa\",\"pattern\":{\"shape\":\"\"}},\"name\":\"\",\"offsetgroup\":\"\",\"orientation\":\"v\",\"showlegend\":false,\"type\":\"histogram\",\"x\":[\"Aston Martin\",\"BMW\",\"BMW\",\"Hummer\",\"Mercedes-Benz\",\"Mercedes-Benz\",\"Mercedes-Benz\"],\"xaxis\":\"x3\",\"yaxis\":\"y3\"},{\"alignmentgroup\":\"True\",\"bingroup\":\"x\",\"hovertemplate\":\"condition=Neu<br>make=%{x}<br>count=%{y}<extra></extra>\",\"legendgroup\":\"\",\"marker\":{\"color\":\"#636efa\",\"pattern\":{\"shape\":\"\"}},\"name\":\"\",\"offsetgroup\":\"\",\"orientation\":\"v\",\"showlegend\":false,\"type\":\"histogram\",\"x\":[\"Ferrari\",\"Mercedes-Benz\",\"Mercedes-Benz\",\"Mclaren\",\"Porsche\",\"Porsche\",\"Porsche\"],\"xaxis\":\"x4\",\"yaxis\":\"y4\"}],                        {\"annotations\":[{\"font\":{},\"showarrow\":false,\"text\":\"condition=Occasion\",\"x\":0.1175,\"xanchor\":\"center\",\"xref\":\"paper\",\"y\":1.0,\"yanchor\":\"bottom\",\"yref\":\"paper\"},{\"font\":{},\"showarrow\":false,\"text\":\"condition=Oldtimer\",\"x\":0.3725,\"xanchor\":\"center\",\"xref\":\"paper\",\"y\":1.0,\"yanchor\":\"bottom\",\"yref\":\"paper\"},{\"font\":{},\"showarrow\":false,\"text\":\"condition=Vorf\\u00fchrmodell\",\"x\":0.6275,\"xanchor\":\"center\",\"xref\":\"paper\",\"y\":1.0,\"yanchor\":\"bottom\",\"yref\":\"paper\"},{\"font\":{},\"showarrow\":false,\"text\":\"condition=Neu\",\"x\":0.8824999999999998,\"xanchor\":\"center\",\"xref\":\"paper\",\"y\":1.0,\"yanchor\":\"bottom\",\"yref\":\"paper\"}],\"barmode\":\"relative\",\"legend\":{\"tracegroupgap\":0},\"margin\":{\"t\":60},\"plot_bgcolor\":\"white\",\"template\":{\"data\":{\"bar\":[{\"error_x\":{\"color\":\"#2a3f5f\"},\"error_y\":{\"color\":\"#2a3f5f\"},\"marker\":{\"line\":{\"color\":\"#E5ECF6\",\"width\":0.5},\"pattern\":{\"fillmode\":\"overlay\",\"size\":10,\"solidity\":0.2}},\"type\":\"bar\"}],\"barpolar\":[{\"marker\":{\"line\":{\"color\":\"#E5ECF6\",\"width\":0.5},\"pattern\":{\"fillmode\":\"overlay\",\"size\":10,\"solidity\":0.2}},\"type\":\"barpolar\"}],\"carpet\":[{\"aaxis\":{\"endlinecolor\":\"#2a3f5f\",\"gridcolor\":\"white\",\"linecolor\":\"white\",\"minorgridcolor\":\"white\",\"startlinecolor\":\"#2a3f5f\"},\"baxis\":{\"endlinecolor\":\"#2a3f5f\",\"gridcolor\":\"white\",\"linecolor\":\"white\",\"minorgridcolor\":\"white\",\"startlinecolor\":\"#2a3f5f\"},\"type\":\"carpet\"}],\"choropleth\":[{\"colorbar\":{\"outlinewidth\":0,\"ticks\":\"\"},\"type\":\"choropleth\"}],\"contour\":[{\"colorbar\":{\"outlinewidth\":0,\"ticks\":\"\"},\"colorscale\":[[0.0,\"#0d0887\"],[0.1111111111111111,\"#46039f\"],[0.2222222222222222,\"#7201a8\"],[0.3333333333333333,\"#9c179e\"],[0.4444444444444444,\"#bd3786\"],[0.5555555555555556,\"#d8576b\"],[0.6666666666666666,\"#ed7953\"],[0.7777777777777778,\"#fb9f3a\"],[0.8888888888888888,\"#fdca26\"],[1.0,\"#f0f921\"]],\"type\":\"contour\"}],\"contourcarpet\":[{\"colorbar\":{\"outlinewidth\":0,\"ticks\":\"\"},\"type\":\"contourcarpet\"}],\"heatmap\":[{\"colorbar\":{\"outlinewidth\":0,\"ticks\":\"\"},\"colorscale\":[[0.0,\"#0d0887\"],[0.1111111111111111,\"#46039f\"],[0.2222222222222222,\"#7201a8\"],[0.3333333333333333,\"#9c179e\"],[0.4444444444444444,\"#bd3786\"],[0.5555555555555556,\"#d8576b\"],[0.6666666666666666,\"#ed7953\"],[0.7777777777777778,\"#fb9f3a\"],[0.8888888888888888,\"#fdca26\"],[1.0,\"#f0f921\"]],\"type\":\"heatmap\"}],\"heatmapgl\":[{\"colorbar\":{\"outlinewidth\":0,\"ticks\":\"\"},\"colorscale\":[[0.0,\"#0d0887\"],[0.1111111111111111,\"#46039f\"],[0.2222222222222222,\"#7201a8\"],[0.3333333333333333,\"#9c179e\"],[0.4444444444444444,\"#bd3786\"],[0.5555555555555556,\"#d8576b\"],[0.6666666666666666,\"#ed7953\"],[0.7777777777777778,\"#fb9f3a\"],[0.8888888888888888,\"#fdca26\"],[1.0,\"#f0f921\"]],\"type\":\"heatmapgl\"}],\"histogram\":[{\"marker\":{\"pattern\":{\"fillmode\":\"overlay\",\"size\":10,\"solidity\":0.2}},\"type\":\"histogram\"}],\"histogram2d\":[{\"colorbar\":{\"outlinewidth\":0,\"ticks\":\"\"},\"colorscale\":[[0.0,\"#0d0887\"],[0.1111111111111111,\"#46039f\"],[0.2222222222222222,\"#7201a8\"],[0.3333333333333333,\"#9c179e\"],[0.4444444444444444,\"#bd3786\"],[0.5555555555555556,\"#d8576b\"],[0.6666666666666666,\"#ed7953\"],[0.7777777777777778,\"#fb9f3a\"],[0.8888888888888888,\"#fdca26\"],[1.0,\"#f0f921\"]],\"type\":\"histogram2d\"}],\"histogram2dcontour\":[{\"colorbar\":{\"outlinewidth\":0,\"ticks\":\"\"},\"colorscale\":[[0.0,\"#0d0887\"],[0.1111111111111111,\"#46039f\"],[0.2222222222222222,\"#7201a8\"],[0.3333333333333333,\"#9c179e\"],[0.4444444444444444,\"#bd3786\"],[0.5555555555555556,\"#d8576b\"],[0.6666666666666666,\"#ed7953\"],[0.7777777777777778,\"#fb9f3a\"],[0.8888888888888888,\"#fdca26\"],[1.0,\"#f0f921\"]],\"type\":\"histogram2dcontour\"}],\"mesh3d\":[{\"colorbar\":{\"outlinewidth\":0,\"ticks\":\"\"},\"type\":\"mesh3d\"}],\"parcoords\":[{\"line\":{\"colorbar\":{\"outlinewidth\":0,\"ticks\":\"\"}},\"type\":\"parcoords\"}],\"pie\":[{\"automargin\":true,\"type\":\"pie\"}],\"scatter\":[{\"marker\":{\"colorbar\":{\"outlinewidth\":0,\"ticks\":\"\"}},\"type\":\"scatter\"}],\"scatter3d\":[{\"line\":{\"colorbar\":{\"outlinewidth\":0,\"ticks\":\"\"}},\"marker\":{\"colorbar\":{\"outlinewidth\":0,\"ticks\":\"\"}},\"type\":\"scatter3d\"}],\"scattercarpet\":[{\"marker\":{\"colorbar\":{\"outlinewidth\":0,\"ticks\":\"\"}},\"type\":\"scattercarpet\"}],\"scattergeo\":[{\"marker\":{\"colorbar\":{\"outlinewidth\":0,\"ticks\":\"\"}},\"type\":\"scattergeo\"}],\"scattergl\":[{\"marker\":{\"colorbar\":{\"outlinewidth\":0,\"ticks\":\"\"}},\"type\":\"scattergl\"}],\"scattermapbox\":[{\"marker\":{\"colorbar\":{\"outlinewidth\":0,\"ticks\":\"\"}},\"type\":\"scattermapbox\"}],\"scatterpolar\":[{\"marker\":{\"colorbar\":{\"outlinewidth\":0,\"ticks\":\"\"}},\"type\":\"scatterpolar\"}],\"scatterpolargl\":[{\"marker\":{\"colorbar\":{\"outlinewidth\":0,\"ticks\":\"\"}},\"type\":\"scatterpolargl\"}],\"scatterternary\":[{\"marker\":{\"colorbar\":{\"outlinewidth\":0,\"ticks\":\"\"}},\"type\":\"scatterternary\"}],\"surface\":[{\"colorbar\":{\"outlinewidth\":0,\"ticks\":\"\"},\"colorscale\":[[0.0,\"#0d0887\"],[0.1111111111111111,\"#46039f\"],[0.2222222222222222,\"#7201a8\"],[0.3333333333333333,\"#9c179e\"],[0.4444444444444444,\"#bd3786\"],[0.5555555555555556,\"#d8576b\"],[0.6666666666666666,\"#ed7953\"],[0.7777777777777778,\"#fb9f3a\"],[0.8888888888888888,\"#fdca26\"],[1.0,\"#f0f921\"]],\"type\":\"surface\"}],\"table\":[{\"cells\":{\"fill\":{\"color\":\"#EBF0F8\"},\"line\":{\"color\":\"white\"}},\"header\":{\"fill\":{\"color\":\"#C8D4E3\"},\"line\":{\"color\":\"white\"}},\"type\":\"table\"}]},\"layout\":{\"annotationdefaults\":{\"arrowcolor\":\"#2a3f5f\",\"arrowhead\":0,\"arrowwidth\":1},\"autotypenumbers\":\"strict\",\"coloraxis\":{\"colorbar\":{\"outlinewidth\":0,\"ticks\":\"\"}},\"colorscale\":{\"diverging\":[[0,\"#8e0152\"],[0.1,\"#c51b7d\"],[0.2,\"#de77ae\"],[0.3,\"#f1b6da\"],[0.4,\"#fde0ef\"],[0.5,\"#f7f7f7\"],[0.6,\"#e6f5d0\"],[0.7,\"#b8e186\"],[0.8,\"#7fbc41\"],[0.9,\"#4d9221\"],[1,\"#276419\"]],\"sequential\":[[0.0,\"#0d0887\"],[0.1111111111111111,\"#46039f\"],[0.2222222222222222,\"#7201a8\"],[0.3333333333333333,\"#9c179e\"],[0.4444444444444444,\"#bd3786\"],[0.5555555555555556,\"#d8576b\"],[0.6666666666666666,\"#ed7953\"],[0.7777777777777778,\"#fb9f3a\"],[0.8888888888888888,\"#fdca26\"],[1.0,\"#f0f921\"]],\"sequentialminus\":[[0.0,\"#0d0887\"],[0.1111111111111111,\"#46039f\"],[0.2222222222222222,\"#7201a8\"],[0.3333333333333333,\"#9c179e\"],[0.4444444444444444,\"#bd3786\"],[0.5555555555555556,\"#d8576b\"],[0.6666666666666666,\"#ed7953\"],[0.7777777777777778,\"#fb9f3a\"],[0.8888888888888888,\"#fdca26\"],[1.0,\"#f0f921\"]]},\"colorway\":[\"#636efa\",\"#EF553B\",\"#00cc96\",\"#ab63fa\",\"#FFA15A\",\"#19d3f3\",\"#FF6692\",\"#B6E880\",\"#FF97FF\",\"#FECB52\"],\"font\":{\"color\":\"#2a3f5f\"},\"geo\":{\"bgcolor\":\"white\",\"lakecolor\":\"white\",\"landcolor\":\"#E5ECF6\",\"showlakes\":true,\"showland\":true,\"subunitcolor\":\"white\"},\"hoverlabel\":{\"align\":\"left\"},\"hovermode\":\"closest\",\"mapbox\":{\"style\":\"light\"},\"paper_bgcolor\":\"white\",\"plot_bgcolor\":\"#E5ECF6\",\"polar\":{\"angularaxis\":{\"gridcolor\":\"white\",\"linecolor\":\"white\",\"ticks\":\"\"},\"bgcolor\":\"#E5ECF6\",\"radialaxis\":{\"gridcolor\":\"white\",\"linecolor\":\"white\",\"ticks\":\"\"}},\"scene\":{\"xaxis\":{\"backgroundcolor\":\"#E5ECF6\",\"gridcolor\":\"white\",\"gridwidth\":2,\"linecolor\":\"white\",\"showbackground\":true,\"ticks\":\"\",\"zerolinecolor\":\"white\"},\"yaxis\":{\"backgroundcolor\":\"#E5ECF6\",\"gridcolor\":\"white\",\"gridwidth\":2,\"linecolor\":\"white\",\"showbackground\":true,\"ticks\":\"\",\"zerolinecolor\":\"white\"},\"zaxis\":{\"backgroundcolor\":\"#E5ECF6\",\"gridcolor\":\"white\",\"gridwidth\":2,\"linecolor\":\"white\",\"showbackground\":true,\"ticks\":\"\",\"zerolinecolor\":\"white\"}},\"shapedefaults\":{\"line\":{\"color\":\"#2a3f5f\"}},\"ternary\":{\"aaxis\":{\"gridcolor\":\"white\",\"linecolor\":\"white\",\"ticks\":\"\"},\"baxis\":{\"gridcolor\":\"white\",\"linecolor\":\"white\",\"ticks\":\"\"},\"bgcolor\":\"#E5ECF6\",\"caxis\":{\"gridcolor\":\"white\",\"linecolor\":\"white\",\"ticks\":\"\"}},\"title\":{\"x\":0.05},\"xaxis\":{\"automargin\":true,\"gridcolor\":\"white\",\"linecolor\":\"white\",\"ticks\":\"\",\"title\":{\"standoff\":15},\"zerolinecolor\":\"white\",\"zerolinewidth\":2},\"yaxis\":{\"automargin\":true,\"gridcolor\":\"white\",\"linecolor\":\"white\",\"ticks\":\"\",\"title\":{\"standoff\":15},\"zerolinecolor\":\"white\",\"zerolinewidth\":2}}},\"title\":{\"text\":\"<b>Car trends according to their condition and company</b>\",\"x\":0.5},\"xaxis\":{\"anchor\":\"y\",\"domain\":[0.0,0.235],\"title\":{\"text\":\"make\"}},\"xaxis2\":{\"anchor\":\"y2\",\"domain\":[0.255,0.49],\"matches\":\"x\",\"title\":{\"text\":\"make\"}},\"xaxis3\":{\"anchor\":\"y3\",\"domain\":[0.51,0.745],\"matches\":\"x\",\"title\":{\"text\":\"make\"}},\"xaxis4\":{\"anchor\":\"y4\",\"domain\":[0.7649999999999999,0.9999999999999999],\"matches\":\"x\",\"title\":{\"text\":\"make\"}},\"yaxis\":{\"anchor\":\"x\",\"domain\":[0.0,1.0],\"title\":{\"text\":\"Total Car\"}},\"yaxis2\":{\"anchor\":\"x2\",\"domain\":[0.0,1.0],\"showticklabels\":false},\"yaxis3\":{\"anchor\":\"x3\",\"domain\":[0.0,1.0],\"showticklabels\":false},\"yaxis4\":{\"anchor\":\"x4\",\"domain\":[0.0,1.0],\"showticklabels\":false}},                        {\"responsive\": true}                    ).then(function(){\n",
       "                            \n",
       "var gd = document.getElementById('8db9c578-c81a-498a-9897-db3da3f3c5a7');\n",
       "var x = new MutationObserver(function (mutations, observer) {{\n",
       "        var display = window.getComputedStyle(gd).display;\n",
       "        if (!display || display === 'none') {{\n",
       "            console.log([gd, 'removed!']);\n",
       "            Plotly.purge(gd);\n",
       "            observer.disconnect();\n",
       "        }}\n",
       "}});\n",
       "\n",
       "// Listen for the removal of the full notebook cells\n",
       "var notebookContainer = gd.closest('#notebook-container');\n",
       "if (notebookContainer) {{\n",
       "    x.observe(notebookContainer, {childList: true});\n",
       "}}\n",
       "\n",
       "// Listen for the clearing of the current output cell\n",
       "var outputEl = gd.closest('.output');\n",
       "if (outputEl) {{\n",
       "    x.observe(outputEl, {childList: true});\n",
       "}}\n",
       "\n",
       "                        })                };                });            </script>        </div>"
      ]
     },
     "metadata": {},
     "output_type": "display_data"
    }
   ],
   "source": [
    "fig = px.histogram(df12, x=\"make\", facet_col=\"condition\")\n",
    "fig.update_layout(\n",
    "                 plot_bgcolor = \"white\",\n",
    "                  yaxis_title = \"Total Car\",\n",
    "                  title = \"<b>Car trends according to their condition and company</b>\",\n",
    "                 title_x=0.5)\n",
    "\n",
    "fig.update_yaxes(matches=None)\n",
    "fig.show()"
   ]
  },
  {
   "cell_type": "code",
   "execution_count": 7,
   "metadata": {},
   "outputs": [
    {
     "data": {
      "application/vnd.plotly.v1+json": {
       "config": {
        "plotlyServerURL": "https://plot.ly"
       },
       "data": [
        {
         "alignmentgroup": "True",
         "bingroup": "x",
         "hovertemplate": "make=%{x}<br>count=%{y}<extra></extra>",
         "legendgroup": "",
         "marker": {
          "color": "#ffd514",
          "pattern": {
           "shape": ""
          }
         },
         "name": "",
         "offsetgroup": "",
         "orientation": "v",
         "showlegend": false,
         "type": "histogram",
         "x": [
          "AGM",
          "Alfa Romeo",
          "Alfa Romeo",
          "Alfa Romeo",
          "Alfa Romeo",
          "Alfa Romeo",
          "Alfa Romeo",
          "Alfa Romeo",
          "Alfa Romeo",
          "Alfa Romeo",
          "Alfa Romeo",
          "Aston Martin",
          "Aston Martin",
          "Aston Martin",
          "Aston Martin",
          "Aston Martin",
          "Aston Martin",
          "Aston Martin",
          "Aston Martin",
          "Aston Martin",
          "Aston Martin",
          "Aston Martin",
          "Audi",
          "Audi",
          "Audi",
          "Audi",
          "Audi",
          "Audi",
          "Audi",
          "Audi",
          "Audi",
          "Audi",
          "Audi",
          "Audi",
          "Audi",
          "Audi",
          "Audi",
          "Audi",
          "Audi",
          "Audi",
          "Audi",
          "Audi",
          "Audi",
          "Audi",
          "Audi",
          "Audi",
          "Audi",
          "Audi",
          "Audi",
          "Audi",
          "Audi",
          "Audi",
          "Audi",
          "Audi",
          "Audi",
          "Audi",
          "Audi",
          "Audi",
          "Audi",
          "Audi",
          "Audi",
          "Audi",
          "Audi",
          "Austin-Healey",
          "Austin-Healey",
          "Autobianchi",
          "Bentley",
          "Bentley",
          "Bentley",
          "Bentley",
          "Bentley",
          "Bentley",
          "Bentley",
          "Bentley",
          "Bentley",
          "Bentley",
          "Bentley",
          "Bentley",
          "Bentley",
          "Bentley",
          "Bentley",
          "Bentley",
          "BMW",
          "BMW",
          "BMW",
          "BMW",
          "BMW",
          "BMW",
          "BMW",
          "BMW",
          "BMW",
          "BMW",
          "BMW",
          "BMW",
          "BMW",
          "BMW",
          "BMW",
          "BMW",
          "BMW",
          "BMW",
          "BMW",
          "BMW",
          "BMW",
          "BMW",
          "BMW",
          "BMW",
          "BMW",
          "BMW",
          "BMW",
          "BMW",
          "BMW",
          "BMW",
          "BMW",
          "BMW",
          "BMW",
          "BMW",
          "BMW",
          "BMW",
          "BMW",
          "BMW",
          "BMW",
          "BMW",
          "BMW",
          "BMW",
          "BMW",
          "BMW",
          "BMW",
          "BMW",
          "BMW",
          "BMW",
          "BMW",
          "BMW",
          "BMW",
          "BMW",
          "BMW",
          "BMW",
          "BMW",
          "BMW",
          "BMW",
          "BMW",
          "BMW",
          "BMW",
          "BMW",
          "BMW",
          "Bmw-Alpina",
          "Bmw-Alpina",
          "Bmw-Alpina",
          "Bmw-Alpina",
          "Bmw-Alpina",
          "Bmw-Alpina",
          "Bmw-Alpina",
          "Bmw-Alpina",
          "Bmw-Alpina",
          "Bmw-Alpina",
          "Bugatti",
          "Bugatti",
          "Chevrolet",
          "Chevrolet",
          "Chevrolet",
          "Chevrolet",
          "Chevrolet",
          "Chevrolet",
          "Chevrolet",
          "Chevrolet",
          "Chevrolet",
          "Chrysler",
          "Chrysler",
          "Chrysler",
          "Citroen",
          "Citroen",
          "Daewoo",
          "Daihatsu",
          "Daimler",
          "Daimler",
          "Datsun",
          "Datsun",
          "De Tomaso",
          "Dodge",
          "Dodge",
          "Dodge",
          "Dodge",
          "Delorean",
          "Ferrari",
          "Ferrari",
          "Ferrari",
          "Ferrari",
          "Ferrari",
          "Ferrari",
          "Ferrari",
          "Ferrari",
          "Ferrari",
          "Ferrari",
          "Ferrari",
          "Ferrari",
          "Ferrari",
          "Ferrari",
          "Ferrari",
          "Ferrari",
          "Ferrari",
          "Ferrari",
          "Ferrari",
          "Ferrari",
          "Ferrari",
          "Ferrari",
          "Ferrari",
          "Ferrari",
          "Ferrari",
          "Ferrari",
          "Ferrari",
          "Ferrari",
          "Ferrari",
          "Fiat",
          "Fiat",
          "Fiat",
          "Fiat",
          "Fiat",
          "Fiat",
          "Fiat",
          "Ford",
          "Ford",
          "Ford",
          "Ford",
          "Ford",
          "Ford",
          "Ford",
          "Ford (Usa)",
          "Ford (Usa)",
          "Ford (Usa)",
          "Ford (Usa)",
          "Giottiline",
          "Harley-Davidson",
          "Honda",
          "Honda",
          "Hummer",
          "Hummer",
          "Hyundai",
          "Jaguar",
          "Jaguar",
          "Jaguar",
          "Jaguar",
          "Jaguar",
          "Jaguar",
          "Jaguar",
          "Jaguar",
          "Jaguar",
          "Jaguar",
          "Jaguar",
          "Jaguar",
          "Jaguar",
          "Jeep",
          "Jeep",
          "Kaiser",
          "Lamborghini",
          "Lamborghini",
          "Lamborghini",
          "Lamborghini",
          "Lamborghini",
          "Lamborghini",
          "Lamborghini",
          "Lamborghini",
          "Lamborghini",
          "Lamborghini",
          "Lamborghini",
          "Lamborghini",
          "Lamborghini",
          "Lamborghini",
          "Lamborghini",
          "Lamborghini",
          "Lamborghini",
          "Lamborghini",
          "Lamborghini",
          "Lamborghini",
          "Lamborghini",
          "Lamborghini",
          "Lancia",
          "Lancia",
          "Lancia",
          "Lancia",
          "Lancia",
          "Land Rover",
          "Land Rover",
          "Land Rover",
          "Land Rover",
          "Land Rover",
          "Land Rover",
          "Land Rover",
          "Land Rover",
          "Land Rover",
          "Land Rover",
          "Lexus",
          "Lincoln",
          "Lincoln",
          "Lotus",
          "Lotus",
          "Lotus",
          "Lotus",
          "Lotus",
          "Marcos",
          "Maserati",
          "Maserati",
          "Maserati",
          "Maserati",
          "Maserati",
          "Maserati",
          "Maserati",
          "Maserati",
          "Maserati",
          "Maserati",
          "Maserati",
          "Maserati",
          "Matra",
          "Mazda",
          "Mazda",
          "Mazda",
          "Mercedes-Benz",
          "Mercedes-Benz",
          "Mercedes-Benz",
          "Mercedes-Benz",
          "Mercedes-Benz",
          "Mercedes-Benz",
          "Mercedes-Benz",
          "Mercedes-Benz",
          "Mercedes-Benz",
          "Mercedes-Benz",
          "Mercedes-Benz",
          "Mercedes-Benz",
          "Mercedes-Benz",
          "Mercedes-Benz",
          "Mercedes-Benz",
          "Mercedes-Benz",
          "Mercedes-Benz",
          "Mercedes-Benz",
          "Mercedes-Benz",
          "Mercedes-Benz",
          "Mercedes-Benz",
          "Mercedes-Benz",
          "Mercedes-Benz",
          "Mercedes-Benz",
          "Mercedes-Benz",
          "Mercedes-Benz",
          "Mercedes-Benz",
          "Mercedes-Benz",
          "Mercedes-Benz",
          "Mercedes-Benz",
          "Mercedes-Benz",
          "Mercedes-Benz",
          "Mercedes-Benz",
          "Mercedes-Benz",
          "Mercedes-Benz",
          "Mercedes-Benz",
          "Mercedes-Benz",
          "Mercedes-Benz",
          "Mercedes-Benz",
          "Mercedes-Benz",
          "Mercedes-Benz",
          "Mercedes-Benz",
          "Mercedes-Benz",
          "Mercedes-Benz",
          "Mercedes-Benz",
          "Mercedes-Benz",
          "Mercedes-Benz",
          "Mercedes-Benz",
          "Mercedes-Benz",
          "Mercedes-Benz",
          "Mercedes-Benz",
          "Mercedes-Benz",
          "Mercedes-Benz",
          "Mercedes-Benz",
          "Mercedes-Benz",
          "Mercedes-Benz",
          "Mercedes-Benz",
          "Mercedes-Benz",
          "Mercedes-Benz",
          "Mercedes-Benz",
          "Mercedes-Benz",
          "Mercedes-Benz",
          "Mercedes-Benz",
          "Mercedes-Benz",
          "Mercedes-Benz",
          "Mercedes-Benz",
          "Mercedes-Benz",
          "Mercedes-Benz",
          "Mercedes-Benz",
          "Mercedes-Benz",
          "Mercedes-Benz",
          "Mercedes-Benz",
          "Mercedes-Benz",
          "Mercedes-Benz",
          "Mercedes-Benz",
          "Mercedes-Benz",
          "Mercedes-Benz",
          "Mercedes-Benz",
          "Mercedes-Benz",
          "Mercedes-Benz",
          "Mercedes-Benz",
          "Mercedes-Benz",
          "Mercedes-Benz",
          "Mercedes-Benz",
          "Mercedes-Benz",
          "Mercedes-Benz",
          "Mercedes-Benz",
          "Mercedes-Benz",
          "Mercedes-Benz",
          "Mercedes-Benz",
          "Mercedes-Benz",
          "Mercedes-Benz",
          "Mercedes-Benz",
          "Mercedes-Benz",
          "Mercedes-Benz",
          "Mercedes-Benz",
          "Mercedes-Benz",
          "Mercedes-Benz",
          "Mercedes-Benz",
          "Mercedes-Benz",
          "Mercedes-Benz",
          "Mercedes-Benz",
          "Mercedes-Benz",
          "Mercedes-Benz",
          "Mercedes-Benz",
          "Mercedes-Benz",
          "Mercedes-Benz",
          "Mercedes-Benz",
          "Mercedes-Benz",
          "Mercedes-Benz",
          "Mercedes-Benz",
          "Mercedes-Benz",
          "Mercedes-Benz",
          "Mercedes-Benz",
          "Mercedes-Benz",
          "Mercedes-Benz",
          "Mercedes-Benz",
          "MG",
          "MG",
          "MG",
          "MG",
          "Mini",
          "Mitsubishi",
          "Mitsubishi",
          "Mitsubishi",
          "Morgan",
          "Mclaren",
          "Mclaren",
          "Mclaren",
          "Mclaren",
          "Nissan",
          "Nissan",
          "Nissan",
          "Nissan",
          "Nissan",
          "Nissan",
          "NSU",
          "NSU",
          "Opel",
          "Opel",
          "Opel",
          "Opel",
          "Opel",
          "Peugeot",
          "Peugeot",
          "PGO",
          "Porsche",
          "Porsche",
          "Porsche",
          "Porsche",
          "Porsche",
          "Porsche",
          "Porsche",
          "Porsche",
          "Porsche",
          "Porsche",
          "Porsche",
          "Porsche",
          "Porsche",
          "Porsche",
          "Porsche",
          "Porsche",
          "Porsche",
          "Porsche",
          "Porsche",
          "Porsche",
          "Porsche",
          "Porsche",
          "Porsche",
          "Porsche",
          "Porsche",
          "Porsche",
          "Porsche",
          "Porsche",
          "Porsche",
          "Porsche",
          "Porsche",
          "Porsche",
          "Porsche",
          "Porsche",
          "Porsche",
          "Porsche",
          "Porsche",
          "Porsche",
          "Porsche",
          "Porsche",
          "Porsche",
          "Porsche",
          "Porsche",
          "Porsche",
          "Porsche",
          "Porsche",
          "Porsche",
          "Porsche",
          "Renault",
          "Renault",
          "Renault",
          "Renault",
          "Renault",
          "Renault",
          "Renault",
          "Renault",
          "Renault",
          "Renault",
          "Renault",
          "Renault",
          "Renault",
          "Renault",
          "Renault",
          "Renault",
          "Renault",
          "Renault",
          "Renault",
          "Renault",
          "Renault",
          "Renault",
          "Renault",
          "Renault",
          "Renault",
          "Renault",
          "Renault",
          "Renault",
          "Renault",
          "Renault",
          "Renault",
          "Renault",
          "Renault",
          "Renault",
          "Rolls-Royce",
          "Rolls-Royce",
          "Rolls-Royce",
          "Rolls-Royce",
          "Rolls-Royce",
          "Rolls-Royce",
          "Rolls-Royce",
          "Rolls-Royce",
          "Rolls-Royce",
          "RUF",
          "RUF",
          "RUF",
          "Saab",
          "Saab",
          "Saab",
          "Saab",
          "Seat",
          "Seat",
          "Simca",
          "Smart",
          "Subaru",
          "Talbot",
          "Talbot",
          "Toyota",
          "Toyota",
          "Toyota",
          "Toyota",
          "Toyota",
          "Toyota",
          "Toyota",
          "Toyota",
          "Toyota",
          "Toyota",
          "Toyota",
          "Toyota",
          "Toyota",
          "Trabant",
          "Triumph",
          "Triumph",
          "Triumph",
          "Volvo",
          "Volvo",
          "Volvo",
          "Volvo",
          "VW",
          "VW",
          "VW",
          "VW",
          "VW",
          "VW",
          "VW",
          "VW",
          "VW",
          "VW",
          "VW",
          "VW",
          "Wiesmann",
          "Yes!"
         ],
         "xaxis": "x",
         "yaxis": "y"
        }
       ],
       "layout": {
        "barmode": "relative",
        "legend": {
         "tracegroupgap": 0
        },
        "margin": {
         "t": 60
        },
        "plot_bgcolor": "white",
        "template": {
         "data": {
          "bar": [
           {
            "error_x": {
             "color": "#2a3f5f"
            },
            "error_y": {
             "color": "#2a3f5f"
            },
            "marker": {
             "line": {
              "color": "#E5ECF6",
              "width": 0.5
             },
             "pattern": {
              "fillmode": "overlay",
              "size": 10,
              "solidity": 0.2
             }
            },
            "type": "bar"
           }
          ],
          "barpolar": [
           {
            "marker": {
             "line": {
              "color": "#E5ECF6",
              "width": 0.5
             },
             "pattern": {
              "fillmode": "overlay",
              "size": 10,
              "solidity": 0.2
             }
            },
            "type": "barpolar"
           }
          ],
          "carpet": [
           {
            "aaxis": {
             "endlinecolor": "#2a3f5f",
             "gridcolor": "white",
             "linecolor": "white",
             "minorgridcolor": "white",
             "startlinecolor": "#2a3f5f"
            },
            "baxis": {
             "endlinecolor": "#2a3f5f",
             "gridcolor": "white",
             "linecolor": "white",
             "minorgridcolor": "white",
             "startlinecolor": "#2a3f5f"
            },
            "type": "carpet"
           }
          ],
          "choropleth": [
           {
            "colorbar": {
             "outlinewidth": 0,
             "ticks": ""
            },
            "type": "choropleth"
           }
          ],
          "contour": [
           {
            "colorbar": {
             "outlinewidth": 0,
             "ticks": ""
            },
            "colorscale": [
             [
              0,
              "#0d0887"
             ],
             [
              0.1111111111111111,
              "#46039f"
             ],
             [
              0.2222222222222222,
              "#7201a8"
             ],
             [
              0.3333333333333333,
              "#9c179e"
             ],
             [
              0.4444444444444444,
              "#bd3786"
             ],
             [
              0.5555555555555556,
              "#d8576b"
             ],
             [
              0.6666666666666666,
              "#ed7953"
             ],
             [
              0.7777777777777778,
              "#fb9f3a"
             ],
             [
              0.8888888888888888,
              "#fdca26"
             ],
             [
              1,
              "#f0f921"
             ]
            ],
            "type": "contour"
           }
          ],
          "contourcarpet": [
           {
            "colorbar": {
             "outlinewidth": 0,
             "ticks": ""
            },
            "type": "contourcarpet"
           }
          ],
          "heatmap": [
           {
            "colorbar": {
             "outlinewidth": 0,
             "ticks": ""
            },
            "colorscale": [
             [
              0,
              "#0d0887"
             ],
             [
              0.1111111111111111,
              "#46039f"
             ],
             [
              0.2222222222222222,
              "#7201a8"
             ],
             [
              0.3333333333333333,
              "#9c179e"
             ],
             [
              0.4444444444444444,
              "#bd3786"
             ],
             [
              0.5555555555555556,
              "#d8576b"
             ],
             [
              0.6666666666666666,
              "#ed7953"
             ],
             [
              0.7777777777777778,
              "#fb9f3a"
             ],
             [
              0.8888888888888888,
              "#fdca26"
             ],
             [
              1,
              "#f0f921"
             ]
            ],
            "type": "heatmap"
           }
          ],
          "heatmapgl": [
           {
            "colorbar": {
             "outlinewidth": 0,
             "ticks": ""
            },
            "colorscale": [
             [
              0,
              "#0d0887"
             ],
             [
              0.1111111111111111,
              "#46039f"
             ],
             [
              0.2222222222222222,
              "#7201a8"
             ],
             [
              0.3333333333333333,
              "#9c179e"
             ],
             [
              0.4444444444444444,
              "#bd3786"
             ],
             [
              0.5555555555555556,
              "#d8576b"
             ],
             [
              0.6666666666666666,
              "#ed7953"
             ],
             [
              0.7777777777777778,
              "#fb9f3a"
             ],
             [
              0.8888888888888888,
              "#fdca26"
             ],
             [
              1,
              "#f0f921"
             ]
            ],
            "type": "heatmapgl"
           }
          ],
          "histogram": [
           {
            "marker": {
             "pattern": {
              "fillmode": "overlay",
              "size": 10,
              "solidity": 0.2
             }
            },
            "type": "histogram"
           }
          ],
          "histogram2d": [
           {
            "colorbar": {
             "outlinewidth": 0,
             "ticks": ""
            },
            "colorscale": [
             [
              0,
              "#0d0887"
             ],
             [
              0.1111111111111111,
              "#46039f"
             ],
             [
              0.2222222222222222,
              "#7201a8"
             ],
             [
              0.3333333333333333,
              "#9c179e"
             ],
             [
              0.4444444444444444,
              "#bd3786"
             ],
             [
              0.5555555555555556,
              "#d8576b"
             ],
             [
              0.6666666666666666,
              "#ed7953"
             ],
             [
              0.7777777777777778,
              "#fb9f3a"
             ],
             [
              0.8888888888888888,
              "#fdca26"
             ],
             [
              1,
              "#f0f921"
             ]
            ],
            "type": "histogram2d"
           }
          ],
          "histogram2dcontour": [
           {
            "colorbar": {
             "outlinewidth": 0,
             "ticks": ""
            },
            "colorscale": [
             [
              0,
              "#0d0887"
             ],
             [
              0.1111111111111111,
              "#46039f"
             ],
             [
              0.2222222222222222,
              "#7201a8"
             ],
             [
              0.3333333333333333,
              "#9c179e"
             ],
             [
              0.4444444444444444,
              "#bd3786"
             ],
             [
              0.5555555555555556,
              "#d8576b"
             ],
             [
              0.6666666666666666,
              "#ed7953"
             ],
             [
              0.7777777777777778,
              "#fb9f3a"
             ],
             [
              0.8888888888888888,
              "#fdca26"
             ],
             [
              1,
              "#f0f921"
             ]
            ],
            "type": "histogram2dcontour"
           }
          ],
          "mesh3d": [
           {
            "colorbar": {
             "outlinewidth": 0,
             "ticks": ""
            },
            "type": "mesh3d"
           }
          ],
          "parcoords": [
           {
            "line": {
             "colorbar": {
              "outlinewidth": 0,
              "ticks": ""
             }
            },
            "type": "parcoords"
           }
          ],
          "pie": [
           {
            "automargin": true,
            "type": "pie"
           }
          ],
          "scatter": [
           {
            "marker": {
             "colorbar": {
              "outlinewidth": 0,
              "ticks": ""
             }
            },
            "type": "scatter"
           }
          ],
          "scatter3d": [
           {
            "line": {
             "colorbar": {
              "outlinewidth": 0,
              "ticks": ""
             }
            },
            "marker": {
             "colorbar": {
              "outlinewidth": 0,
              "ticks": ""
             }
            },
            "type": "scatter3d"
           }
          ],
          "scattercarpet": [
           {
            "marker": {
             "colorbar": {
              "outlinewidth": 0,
              "ticks": ""
             }
            },
            "type": "scattercarpet"
           }
          ],
          "scattergeo": [
           {
            "marker": {
             "colorbar": {
              "outlinewidth": 0,
              "ticks": ""
             }
            },
            "type": "scattergeo"
           }
          ],
          "scattergl": [
           {
            "marker": {
             "colorbar": {
              "outlinewidth": 0,
              "ticks": ""
             }
            },
            "type": "scattergl"
           }
          ],
          "scattermapbox": [
           {
            "marker": {
             "colorbar": {
              "outlinewidth": 0,
              "ticks": ""
             }
            },
            "type": "scattermapbox"
           }
          ],
          "scatterpolar": [
           {
            "marker": {
             "colorbar": {
              "outlinewidth": 0,
              "ticks": ""
             }
            },
            "type": "scatterpolar"
           }
          ],
          "scatterpolargl": [
           {
            "marker": {
             "colorbar": {
              "outlinewidth": 0,
              "ticks": ""
             }
            },
            "type": "scatterpolargl"
           }
          ],
          "scatterternary": [
           {
            "marker": {
             "colorbar": {
              "outlinewidth": 0,
              "ticks": ""
             }
            },
            "type": "scatterternary"
           }
          ],
          "surface": [
           {
            "colorbar": {
             "outlinewidth": 0,
             "ticks": ""
            },
            "colorscale": [
             [
              0,
              "#0d0887"
             ],
             [
              0.1111111111111111,
              "#46039f"
             ],
             [
              0.2222222222222222,
              "#7201a8"
             ],
             [
              0.3333333333333333,
              "#9c179e"
             ],
             [
              0.4444444444444444,
              "#bd3786"
             ],
             [
              0.5555555555555556,
              "#d8576b"
             ],
             [
              0.6666666666666666,
              "#ed7953"
             ],
             [
              0.7777777777777778,
              "#fb9f3a"
             ],
             [
              0.8888888888888888,
              "#fdca26"
             ],
             [
              1,
              "#f0f921"
             ]
            ],
            "type": "surface"
           }
          ],
          "table": [
           {
            "cells": {
             "fill": {
              "color": "#EBF0F8"
             },
             "line": {
              "color": "white"
             }
            },
            "header": {
             "fill": {
              "color": "#C8D4E3"
             },
             "line": {
              "color": "white"
             }
            },
            "type": "table"
           }
          ]
         },
         "layout": {
          "annotationdefaults": {
           "arrowcolor": "#2a3f5f",
           "arrowhead": 0,
           "arrowwidth": 1
          },
          "autotypenumbers": "strict",
          "coloraxis": {
           "colorbar": {
            "outlinewidth": 0,
            "ticks": ""
           }
          },
          "colorscale": {
           "diverging": [
            [
             0,
             "#8e0152"
            ],
            [
             0.1,
             "#c51b7d"
            ],
            [
             0.2,
             "#de77ae"
            ],
            [
             0.3,
             "#f1b6da"
            ],
            [
             0.4,
             "#fde0ef"
            ],
            [
             0.5,
             "#f7f7f7"
            ],
            [
             0.6,
             "#e6f5d0"
            ],
            [
             0.7,
             "#b8e186"
            ],
            [
             0.8,
             "#7fbc41"
            ],
            [
             0.9,
             "#4d9221"
            ],
            [
             1,
             "#276419"
            ]
           ],
           "sequential": [
            [
             0,
             "#0d0887"
            ],
            [
             0.1111111111111111,
             "#46039f"
            ],
            [
             0.2222222222222222,
             "#7201a8"
            ],
            [
             0.3333333333333333,
             "#9c179e"
            ],
            [
             0.4444444444444444,
             "#bd3786"
            ],
            [
             0.5555555555555556,
             "#d8576b"
            ],
            [
             0.6666666666666666,
             "#ed7953"
            ],
            [
             0.7777777777777778,
             "#fb9f3a"
            ],
            [
             0.8888888888888888,
             "#fdca26"
            ],
            [
             1,
             "#f0f921"
            ]
           ],
           "sequentialminus": [
            [
             0,
             "#0d0887"
            ],
            [
             0.1111111111111111,
             "#46039f"
            ],
            [
             0.2222222222222222,
             "#7201a8"
            ],
            [
             0.3333333333333333,
             "#9c179e"
            ],
            [
             0.4444444444444444,
             "#bd3786"
            ],
            [
             0.5555555555555556,
             "#d8576b"
            ],
            [
             0.6666666666666666,
             "#ed7953"
            ],
            [
             0.7777777777777778,
             "#fb9f3a"
            ],
            [
             0.8888888888888888,
             "#fdca26"
            ],
            [
             1,
             "#f0f921"
            ]
           ]
          },
          "colorway": [
           "#636efa",
           "#EF553B",
           "#00cc96",
           "#ab63fa",
           "#FFA15A",
           "#19d3f3",
           "#FF6692",
           "#B6E880",
           "#FF97FF",
           "#FECB52"
          ],
          "font": {
           "color": "#2a3f5f"
          },
          "geo": {
           "bgcolor": "white",
           "lakecolor": "white",
           "landcolor": "#E5ECF6",
           "showlakes": true,
           "showland": true,
           "subunitcolor": "white"
          },
          "hoverlabel": {
           "align": "left"
          },
          "hovermode": "closest",
          "mapbox": {
           "style": "light"
          },
          "paper_bgcolor": "white",
          "plot_bgcolor": "#E5ECF6",
          "polar": {
           "angularaxis": {
            "gridcolor": "white",
            "linecolor": "white",
            "ticks": ""
           },
           "bgcolor": "#E5ECF6",
           "radialaxis": {
            "gridcolor": "white",
            "linecolor": "white",
            "ticks": ""
           }
          },
          "scene": {
           "xaxis": {
            "backgroundcolor": "#E5ECF6",
            "gridcolor": "white",
            "gridwidth": 2,
            "linecolor": "white",
            "showbackground": true,
            "ticks": "",
            "zerolinecolor": "white"
           },
           "yaxis": {
            "backgroundcolor": "#E5ECF6",
            "gridcolor": "white",
            "gridwidth": 2,
            "linecolor": "white",
            "showbackground": true,
            "ticks": "",
            "zerolinecolor": "white"
           },
           "zaxis": {
            "backgroundcolor": "#E5ECF6",
            "gridcolor": "white",
            "gridwidth": 2,
            "linecolor": "white",
            "showbackground": true,
            "ticks": "",
            "zerolinecolor": "white"
           }
          },
          "shapedefaults": {
           "line": {
            "color": "#2a3f5f"
           }
          },
          "ternary": {
           "aaxis": {
            "gridcolor": "white",
            "linecolor": "white",
            "ticks": ""
           },
           "baxis": {
            "gridcolor": "white",
            "linecolor": "white",
            "ticks": ""
           },
           "bgcolor": "#E5ECF6",
           "caxis": {
            "gridcolor": "white",
            "linecolor": "white",
            "ticks": ""
           }
          },
          "title": {
           "x": 0.05
          },
          "xaxis": {
           "automargin": true,
           "gridcolor": "white",
           "linecolor": "white",
           "ticks": "",
           "title": {
            "standoff": 15
           },
           "zerolinecolor": "white",
           "zerolinewidth": 2
          },
          "yaxis": {
           "automargin": true,
           "gridcolor": "white",
           "linecolor": "white",
           "ticks": "",
           "title": {
            "standoff": 15
           },
           "zerolinecolor": "white",
           "zerolinewidth": 2
          }
         }
        },
        "title": {
         "text": "<b>Most popular cars</b>",
         "x": 0.5
        },
        "xaxis": {
         "anchor": "y",
         "categoryorder": "total descending",
         "domain": [
          0,
          1
         ],
         "linecolor": "black",
         "linewidth": 2,
         "showline": true,
         "showticklabels": true,
         "title": {
          "text": "Car Types"
         }
        },
        "yaxis": {
         "anchor": "x",
         "domain": [
          0,
          1
         ],
         "linecolor": "black",
         "linewidth": 2,
         "showline": true,
         "showticklabels": true,
         "title": {
          "text": "Car Count"
         }
        }
       }
      },
      "text/html": [
       "<div>                            <div id=\"45afc966-c09d-4828-8a37-e8e55ef2fbf7\" class=\"plotly-graph-div\" style=\"height:525px; width:100%;\"></div>            <script type=\"text/javascript\">                require([\"plotly\"], function(Plotly) {                    window.PLOTLYENV=window.PLOTLYENV || {};                                    if (document.getElementById(\"45afc966-c09d-4828-8a37-e8e55ef2fbf7\")) {                    Plotly.newPlot(                        \"45afc966-c09d-4828-8a37-e8e55ef2fbf7\",                        [{\"alignmentgroup\":\"True\",\"bingroup\":\"x\",\"hovertemplate\":\"make=%{x}<br>count=%{y}<extra></extra>\",\"legendgroup\":\"\",\"marker\":{\"color\":\"#ffd514\",\"pattern\":{\"shape\":\"\"}},\"name\":\"\",\"offsetgroup\":\"\",\"orientation\":\"v\",\"showlegend\":false,\"type\":\"histogram\",\"x\":[\"AGM\",\"Alfa Romeo\",\"Alfa Romeo\",\"Alfa Romeo\",\"Alfa Romeo\",\"Alfa Romeo\",\"Alfa Romeo\",\"Alfa Romeo\",\"Alfa Romeo\",\"Alfa Romeo\",\"Alfa Romeo\",\"Aston Martin\",\"Aston Martin\",\"Aston Martin\",\"Aston Martin\",\"Aston Martin\",\"Aston Martin\",\"Aston Martin\",\"Aston Martin\",\"Aston Martin\",\"Aston Martin\",\"Aston Martin\",\"Audi\",\"Audi\",\"Audi\",\"Audi\",\"Audi\",\"Audi\",\"Audi\",\"Audi\",\"Audi\",\"Audi\",\"Audi\",\"Audi\",\"Audi\",\"Audi\",\"Audi\",\"Audi\",\"Audi\",\"Audi\",\"Audi\",\"Audi\",\"Audi\",\"Audi\",\"Audi\",\"Audi\",\"Audi\",\"Audi\",\"Audi\",\"Audi\",\"Audi\",\"Audi\",\"Audi\",\"Audi\",\"Audi\",\"Audi\",\"Audi\",\"Audi\",\"Audi\",\"Audi\",\"Audi\",\"Audi\",\"Audi\",\"Austin-Healey\",\"Austin-Healey\",\"Autobianchi\",\"Bentley\",\"Bentley\",\"Bentley\",\"Bentley\",\"Bentley\",\"Bentley\",\"Bentley\",\"Bentley\",\"Bentley\",\"Bentley\",\"Bentley\",\"Bentley\",\"Bentley\",\"Bentley\",\"Bentley\",\"Bentley\",\"BMW\",\"BMW\",\"BMW\",\"BMW\",\"BMW\",\"BMW\",\"BMW\",\"BMW\",\"BMW\",\"BMW\",\"BMW\",\"BMW\",\"BMW\",\"BMW\",\"BMW\",\"BMW\",\"BMW\",\"BMW\",\"BMW\",\"BMW\",\"BMW\",\"BMW\",\"BMW\",\"BMW\",\"BMW\",\"BMW\",\"BMW\",\"BMW\",\"BMW\",\"BMW\",\"BMW\",\"BMW\",\"BMW\",\"BMW\",\"BMW\",\"BMW\",\"BMW\",\"BMW\",\"BMW\",\"BMW\",\"BMW\",\"BMW\",\"BMW\",\"BMW\",\"BMW\",\"BMW\",\"BMW\",\"BMW\",\"BMW\",\"BMW\",\"BMW\",\"BMW\",\"BMW\",\"BMW\",\"BMW\",\"BMW\",\"BMW\",\"BMW\",\"BMW\",\"BMW\",\"BMW\",\"BMW\",\"Bmw-Alpina\",\"Bmw-Alpina\",\"Bmw-Alpina\",\"Bmw-Alpina\",\"Bmw-Alpina\",\"Bmw-Alpina\",\"Bmw-Alpina\",\"Bmw-Alpina\",\"Bmw-Alpina\",\"Bmw-Alpina\",\"Bugatti\",\"Bugatti\",\"Chevrolet\",\"Chevrolet\",\"Chevrolet\",\"Chevrolet\",\"Chevrolet\",\"Chevrolet\",\"Chevrolet\",\"Chevrolet\",\"Chevrolet\",\"Chrysler\",\"Chrysler\",\"Chrysler\",\"Citroen\",\"Citroen\",\"Daewoo\",\"Daihatsu\",\"Daimler\",\"Daimler\",\"Datsun\",\"Datsun\",\"De Tomaso\",\"Dodge\",\"Dodge\",\"Dodge\",\"Dodge\",\"Delorean\",\"Ferrari\",\"Ferrari\",\"Ferrari\",\"Ferrari\",\"Ferrari\",\"Ferrari\",\"Ferrari\",\"Ferrari\",\"Ferrari\",\"Ferrari\",\"Ferrari\",\"Ferrari\",\"Ferrari\",\"Ferrari\",\"Ferrari\",\"Ferrari\",\"Ferrari\",\"Ferrari\",\"Ferrari\",\"Ferrari\",\"Ferrari\",\"Ferrari\",\"Ferrari\",\"Ferrari\",\"Ferrari\",\"Ferrari\",\"Ferrari\",\"Ferrari\",\"Ferrari\",\"Fiat\",\"Fiat\",\"Fiat\",\"Fiat\",\"Fiat\",\"Fiat\",\"Fiat\",\"Ford\",\"Ford\",\"Ford\",\"Ford\",\"Ford\",\"Ford\",\"Ford\",\"Ford (Usa)\",\"Ford (Usa)\",\"Ford (Usa)\",\"Ford (Usa)\",\"Giottiline\",\"Harley-Davidson\",\"Honda\",\"Honda\",\"Hummer\",\"Hummer\",\"Hyundai\",\"Jaguar\",\"Jaguar\",\"Jaguar\",\"Jaguar\",\"Jaguar\",\"Jaguar\",\"Jaguar\",\"Jaguar\",\"Jaguar\",\"Jaguar\",\"Jaguar\",\"Jaguar\",\"Jaguar\",\"Jeep\",\"Jeep\",\"Kaiser\",\"Lamborghini\",\"Lamborghini\",\"Lamborghini\",\"Lamborghini\",\"Lamborghini\",\"Lamborghini\",\"Lamborghini\",\"Lamborghini\",\"Lamborghini\",\"Lamborghini\",\"Lamborghini\",\"Lamborghini\",\"Lamborghini\",\"Lamborghini\",\"Lamborghini\",\"Lamborghini\",\"Lamborghini\",\"Lamborghini\",\"Lamborghini\",\"Lamborghini\",\"Lamborghini\",\"Lamborghini\",\"Lancia\",\"Lancia\",\"Lancia\",\"Lancia\",\"Lancia\",\"Land Rover\",\"Land Rover\",\"Land Rover\",\"Land Rover\",\"Land Rover\",\"Land Rover\",\"Land Rover\",\"Land Rover\",\"Land Rover\",\"Land Rover\",\"Lexus\",\"Lincoln\",\"Lincoln\",\"Lotus\",\"Lotus\",\"Lotus\",\"Lotus\",\"Lotus\",\"Marcos\",\"Maserati\",\"Maserati\",\"Maserati\",\"Maserati\",\"Maserati\",\"Maserati\",\"Maserati\",\"Maserati\",\"Maserati\",\"Maserati\",\"Maserati\",\"Maserati\",\"Matra\",\"Mazda\",\"Mazda\",\"Mazda\",\"Mercedes-Benz\",\"Mercedes-Benz\",\"Mercedes-Benz\",\"Mercedes-Benz\",\"Mercedes-Benz\",\"Mercedes-Benz\",\"Mercedes-Benz\",\"Mercedes-Benz\",\"Mercedes-Benz\",\"Mercedes-Benz\",\"Mercedes-Benz\",\"Mercedes-Benz\",\"Mercedes-Benz\",\"Mercedes-Benz\",\"Mercedes-Benz\",\"Mercedes-Benz\",\"Mercedes-Benz\",\"Mercedes-Benz\",\"Mercedes-Benz\",\"Mercedes-Benz\",\"Mercedes-Benz\",\"Mercedes-Benz\",\"Mercedes-Benz\",\"Mercedes-Benz\",\"Mercedes-Benz\",\"Mercedes-Benz\",\"Mercedes-Benz\",\"Mercedes-Benz\",\"Mercedes-Benz\",\"Mercedes-Benz\",\"Mercedes-Benz\",\"Mercedes-Benz\",\"Mercedes-Benz\",\"Mercedes-Benz\",\"Mercedes-Benz\",\"Mercedes-Benz\",\"Mercedes-Benz\",\"Mercedes-Benz\",\"Mercedes-Benz\",\"Mercedes-Benz\",\"Mercedes-Benz\",\"Mercedes-Benz\",\"Mercedes-Benz\",\"Mercedes-Benz\",\"Mercedes-Benz\",\"Mercedes-Benz\",\"Mercedes-Benz\",\"Mercedes-Benz\",\"Mercedes-Benz\",\"Mercedes-Benz\",\"Mercedes-Benz\",\"Mercedes-Benz\",\"Mercedes-Benz\",\"Mercedes-Benz\",\"Mercedes-Benz\",\"Mercedes-Benz\",\"Mercedes-Benz\",\"Mercedes-Benz\",\"Mercedes-Benz\",\"Mercedes-Benz\",\"Mercedes-Benz\",\"Mercedes-Benz\",\"Mercedes-Benz\",\"Mercedes-Benz\",\"Mercedes-Benz\",\"Mercedes-Benz\",\"Mercedes-Benz\",\"Mercedes-Benz\",\"Mercedes-Benz\",\"Mercedes-Benz\",\"Mercedes-Benz\",\"Mercedes-Benz\",\"Mercedes-Benz\",\"Mercedes-Benz\",\"Mercedes-Benz\",\"Mercedes-Benz\",\"Mercedes-Benz\",\"Mercedes-Benz\",\"Mercedes-Benz\",\"Mercedes-Benz\",\"Mercedes-Benz\",\"Mercedes-Benz\",\"Mercedes-Benz\",\"Mercedes-Benz\",\"Mercedes-Benz\",\"Mercedes-Benz\",\"Mercedes-Benz\",\"Mercedes-Benz\",\"Mercedes-Benz\",\"Mercedes-Benz\",\"Mercedes-Benz\",\"Mercedes-Benz\",\"Mercedes-Benz\",\"Mercedes-Benz\",\"Mercedes-Benz\",\"Mercedes-Benz\",\"Mercedes-Benz\",\"Mercedes-Benz\",\"Mercedes-Benz\",\"Mercedes-Benz\",\"Mercedes-Benz\",\"Mercedes-Benz\",\"Mercedes-Benz\",\"Mercedes-Benz\",\"Mercedes-Benz\",\"Mercedes-Benz\",\"Mercedes-Benz\",\"Mercedes-Benz\",\"Mercedes-Benz\",\"Mercedes-Benz\",\"Mercedes-Benz\",\"Mercedes-Benz\",\"Mercedes-Benz\",\"Mercedes-Benz\",\"Mercedes-Benz\",\"Mercedes-Benz\",\"Mercedes-Benz\",\"MG\",\"MG\",\"MG\",\"MG\",\"Mini\",\"Mitsubishi\",\"Mitsubishi\",\"Mitsubishi\",\"Morgan\",\"Mclaren\",\"Mclaren\",\"Mclaren\",\"Mclaren\",\"Nissan\",\"Nissan\",\"Nissan\",\"Nissan\",\"Nissan\",\"Nissan\",\"NSU\",\"NSU\",\"Opel\",\"Opel\",\"Opel\",\"Opel\",\"Opel\",\"Peugeot\",\"Peugeot\",\"PGO\",\"Porsche\",\"Porsche\",\"Porsche\",\"Porsche\",\"Porsche\",\"Porsche\",\"Porsche\",\"Porsche\",\"Porsche\",\"Porsche\",\"Porsche\",\"Porsche\",\"Porsche\",\"Porsche\",\"Porsche\",\"Porsche\",\"Porsche\",\"Porsche\",\"Porsche\",\"Porsche\",\"Porsche\",\"Porsche\",\"Porsche\",\"Porsche\",\"Porsche\",\"Porsche\",\"Porsche\",\"Porsche\",\"Porsche\",\"Porsche\",\"Porsche\",\"Porsche\",\"Porsche\",\"Porsche\",\"Porsche\",\"Porsche\",\"Porsche\",\"Porsche\",\"Porsche\",\"Porsche\",\"Porsche\",\"Porsche\",\"Porsche\",\"Porsche\",\"Porsche\",\"Porsche\",\"Porsche\",\"Porsche\",\"Renault\",\"Renault\",\"Renault\",\"Renault\",\"Renault\",\"Renault\",\"Renault\",\"Renault\",\"Renault\",\"Renault\",\"Renault\",\"Renault\",\"Renault\",\"Renault\",\"Renault\",\"Renault\",\"Renault\",\"Renault\",\"Renault\",\"Renault\",\"Renault\",\"Renault\",\"Renault\",\"Renault\",\"Renault\",\"Renault\",\"Renault\",\"Renault\",\"Renault\",\"Renault\",\"Renault\",\"Renault\",\"Renault\",\"Renault\",\"Rolls-Royce\",\"Rolls-Royce\",\"Rolls-Royce\",\"Rolls-Royce\",\"Rolls-Royce\",\"Rolls-Royce\",\"Rolls-Royce\",\"Rolls-Royce\",\"Rolls-Royce\",\"RUF\",\"RUF\",\"RUF\",\"Saab\",\"Saab\",\"Saab\",\"Saab\",\"Seat\",\"Seat\",\"Simca\",\"Smart\",\"Subaru\",\"Talbot\",\"Talbot\",\"Toyota\",\"Toyota\",\"Toyota\",\"Toyota\",\"Toyota\",\"Toyota\",\"Toyota\",\"Toyota\",\"Toyota\",\"Toyota\",\"Toyota\",\"Toyota\",\"Toyota\",\"Trabant\",\"Triumph\",\"Triumph\",\"Triumph\",\"Volvo\",\"Volvo\",\"Volvo\",\"Volvo\",\"VW\",\"VW\",\"VW\",\"VW\",\"VW\",\"VW\",\"VW\",\"VW\",\"VW\",\"VW\",\"VW\",\"VW\",\"Wiesmann\",\"Yes!\"],\"xaxis\":\"x\",\"yaxis\":\"y\"}],                        {\"barmode\":\"relative\",\"legend\":{\"tracegroupgap\":0},\"margin\":{\"t\":60},\"plot_bgcolor\":\"white\",\"template\":{\"data\":{\"bar\":[{\"error_x\":{\"color\":\"#2a3f5f\"},\"error_y\":{\"color\":\"#2a3f5f\"},\"marker\":{\"line\":{\"color\":\"#E5ECF6\",\"width\":0.5},\"pattern\":{\"fillmode\":\"overlay\",\"size\":10,\"solidity\":0.2}},\"type\":\"bar\"}],\"barpolar\":[{\"marker\":{\"line\":{\"color\":\"#E5ECF6\",\"width\":0.5},\"pattern\":{\"fillmode\":\"overlay\",\"size\":10,\"solidity\":0.2}},\"type\":\"barpolar\"}],\"carpet\":[{\"aaxis\":{\"endlinecolor\":\"#2a3f5f\",\"gridcolor\":\"white\",\"linecolor\":\"white\",\"minorgridcolor\":\"white\",\"startlinecolor\":\"#2a3f5f\"},\"baxis\":{\"endlinecolor\":\"#2a3f5f\",\"gridcolor\":\"white\",\"linecolor\":\"white\",\"minorgridcolor\":\"white\",\"startlinecolor\":\"#2a3f5f\"},\"type\":\"carpet\"}],\"choropleth\":[{\"colorbar\":{\"outlinewidth\":0,\"ticks\":\"\"},\"type\":\"choropleth\"}],\"contour\":[{\"colorbar\":{\"outlinewidth\":0,\"ticks\":\"\"},\"colorscale\":[[0.0,\"#0d0887\"],[0.1111111111111111,\"#46039f\"],[0.2222222222222222,\"#7201a8\"],[0.3333333333333333,\"#9c179e\"],[0.4444444444444444,\"#bd3786\"],[0.5555555555555556,\"#d8576b\"],[0.6666666666666666,\"#ed7953\"],[0.7777777777777778,\"#fb9f3a\"],[0.8888888888888888,\"#fdca26\"],[1.0,\"#f0f921\"]],\"type\":\"contour\"}],\"contourcarpet\":[{\"colorbar\":{\"outlinewidth\":0,\"ticks\":\"\"},\"type\":\"contourcarpet\"}],\"heatmap\":[{\"colorbar\":{\"outlinewidth\":0,\"ticks\":\"\"},\"colorscale\":[[0.0,\"#0d0887\"],[0.1111111111111111,\"#46039f\"],[0.2222222222222222,\"#7201a8\"],[0.3333333333333333,\"#9c179e\"],[0.4444444444444444,\"#bd3786\"],[0.5555555555555556,\"#d8576b\"],[0.6666666666666666,\"#ed7953\"],[0.7777777777777778,\"#fb9f3a\"],[0.8888888888888888,\"#fdca26\"],[1.0,\"#f0f921\"]],\"type\":\"heatmap\"}],\"heatmapgl\":[{\"colorbar\":{\"outlinewidth\":0,\"ticks\":\"\"},\"colorscale\":[[0.0,\"#0d0887\"],[0.1111111111111111,\"#46039f\"],[0.2222222222222222,\"#7201a8\"],[0.3333333333333333,\"#9c179e\"],[0.4444444444444444,\"#bd3786\"],[0.5555555555555556,\"#d8576b\"],[0.6666666666666666,\"#ed7953\"],[0.7777777777777778,\"#fb9f3a\"],[0.8888888888888888,\"#fdca26\"],[1.0,\"#f0f921\"]],\"type\":\"heatmapgl\"}],\"histogram\":[{\"marker\":{\"pattern\":{\"fillmode\":\"overlay\",\"size\":10,\"solidity\":0.2}},\"type\":\"histogram\"}],\"histogram2d\":[{\"colorbar\":{\"outlinewidth\":0,\"ticks\":\"\"},\"colorscale\":[[0.0,\"#0d0887\"],[0.1111111111111111,\"#46039f\"],[0.2222222222222222,\"#7201a8\"],[0.3333333333333333,\"#9c179e\"],[0.4444444444444444,\"#bd3786\"],[0.5555555555555556,\"#d8576b\"],[0.6666666666666666,\"#ed7953\"],[0.7777777777777778,\"#fb9f3a\"],[0.8888888888888888,\"#fdca26\"],[1.0,\"#f0f921\"]],\"type\":\"histogram2d\"}],\"histogram2dcontour\":[{\"colorbar\":{\"outlinewidth\":0,\"ticks\":\"\"},\"colorscale\":[[0.0,\"#0d0887\"],[0.1111111111111111,\"#46039f\"],[0.2222222222222222,\"#7201a8\"],[0.3333333333333333,\"#9c179e\"],[0.4444444444444444,\"#bd3786\"],[0.5555555555555556,\"#d8576b\"],[0.6666666666666666,\"#ed7953\"],[0.7777777777777778,\"#fb9f3a\"],[0.8888888888888888,\"#fdca26\"],[1.0,\"#f0f921\"]],\"type\":\"histogram2dcontour\"}],\"mesh3d\":[{\"colorbar\":{\"outlinewidth\":0,\"ticks\":\"\"},\"type\":\"mesh3d\"}],\"parcoords\":[{\"line\":{\"colorbar\":{\"outlinewidth\":0,\"ticks\":\"\"}},\"type\":\"parcoords\"}],\"pie\":[{\"automargin\":true,\"type\":\"pie\"}],\"scatter\":[{\"marker\":{\"colorbar\":{\"outlinewidth\":0,\"ticks\":\"\"}},\"type\":\"scatter\"}],\"scatter3d\":[{\"line\":{\"colorbar\":{\"outlinewidth\":0,\"ticks\":\"\"}},\"marker\":{\"colorbar\":{\"outlinewidth\":0,\"ticks\":\"\"}},\"type\":\"scatter3d\"}],\"scattercarpet\":[{\"marker\":{\"colorbar\":{\"outlinewidth\":0,\"ticks\":\"\"}},\"type\":\"scattercarpet\"}],\"scattergeo\":[{\"marker\":{\"colorbar\":{\"outlinewidth\":0,\"ticks\":\"\"}},\"type\":\"scattergeo\"}],\"scattergl\":[{\"marker\":{\"colorbar\":{\"outlinewidth\":0,\"ticks\":\"\"}},\"type\":\"scattergl\"}],\"scattermapbox\":[{\"marker\":{\"colorbar\":{\"outlinewidth\":0,\"ticks\":\"\"}},\"type\":\"scattermapbox\"}],\"scatterpolar\":[{\"marker\":{\"colorbar\":{\"outlinewidth\":0,\"ticks\":\"\"}},\"type\":\"scatterpolar\"}],\"scatterpolargl\":[{\"marker\":{\"colorbar\":{\"outlinewidth\":0,\"ticks\":\"\"}},\"type\":\"scatterpolargl\"}],\"scatterternary\":[{\"marker\":{\"colorbar\":{\"outlinewidth\":0,\"ticks\":\"\"}},\"type\":\"scatterternary\"}],\"surface\":[{\"colorbar\":{\"outlinewidth\":0,\"ticks\":\"\"},\"colorscale\":[[0.0,\"#0d0887\"],[0.1111111111111111,\"#46039f\"],[0.2222222222222222,\"#7201a8\"],[0.3333333333333333,\"#9c179e\"],[0.4444444444444444,\"#bd3786\"],[0.5555555555555556,\"#d8576b\"],[0.6666666666666666,\"#ed7953\"],[0.7777777777777778,\"#fb9f3a\"],[0.8888888888888888,\"#fdca26\"],[1.0,\"#f0f921\"]],\"type\":\"surface\"}],\"table\":[{\"cells\":{\"fill\":{\"color\":\"#EBF0F8\"},\"line\":{\"color\":\"white\"}},\"header\":{\"fill\":{\"color\":\"#C8D4E3\"},\"line\":{\"color\":\"white\"}},\"type\":\"table\"}]},\"layout\":{\"annotationdefaults\":{\"arrowcolor\":\"#2a3f5f\",\"arrowhead\":0,\"arrowwidth\":1},\"autotypenumbers\":\"strict\",\"coloraxis\":{\"colorbar\":{\"outlinewidth\":0,\"ticks\":\"\"}},\"colorscale\":{\"diverging\":[[0,\"#8e0152\"],[0.1,\"#c51b7d\"],[0.2,\"#de77ae\"],[0.3,\"#f1b6da\"],[0.4,\"#fde0ef\"],[0.5,\"#f7f7f7\"],[0.6,\"#e6f5d0\"],[0.7,\"#b8e186\"],[0.8,\"#7fbc41\"],[0.9,\"#4d9221\"],[1,\"#276419\"]],\"sequential\":[[0.0,\"#0d0887\"],[0.1111111111111111,\"#46039f\"],[0.2222222222222222,\"#7201a8\"],[0.3333333333333333,\"#9c179e\"],[0.4444444444444444,\"#bd3786\"],[0.5555555555555556,\"#d8576b\"],[0.6666666666666666,\"#ed7953\"],[0.7777777777777778,\"#fb9f3a\"],[0.8888888888888888,\"#fdca26\"],[1.0,\"#f0f921\"]],\"sequentialminus\":[[0.0,\"#0d0887\"],[0.1111111111111111,\"#46039f\"],[0.2222222222222222,\"#7201a8\"],[0.3333333333333333,\"#9c179e\"],[0.4444444444444444,\"#bd3786\"],[0.5555555555555556,\"#d8576b\"],[0.6666666666666666,\"#ed7953\"],[0.7777777777777778,\"#fb9f3a\"],[0.8888888888888888,\"#fdca26\"],[1.0,\"#f0f921\"]]},\"colorway\":[\"#636efa\",\"#EF553B\",\"#00cc96\",\"#ab63fa\",\"#FFA15A\",\"#19d3f3\",\"#FF6692\",\"#B6E880\",\"#FF97FF\",\"#FECB52\"],\"font\":{\"color\":\"#2a3f5f\"},\"geo\":{\"bgcolor\":\"white\",\"lakecolor\":\"white\",\"landcolor\":\"#E5ECF6\",\"showlakes\":true,\"showland\":true,\"subunitcolor\":\"white\"},\"hoverlabel\":{\"align\":\"left\"},\"hovermode\":\"closest\",\"mapbox\":{\"style\":\"light\"},\"paper_bgcolor\":\"white\",\"plot_bgcolor\":\"#E5ECF6\",\"polar\":{\"angularaxis\":{\"gridcolor\":\"white\",\"linecolor\":\"white\",\"ticks\":\"\"},\"bgcolor\":\"#E5ECF6\",\"radialaxis\":{\"gridcolor\":\"white\",\"linecolor\":\"white\",\"ticks\":\"\"}},\"scene\":{\"xaxis\":{\"backgroundcolor\":\"#E5ECF6\",\"gridcolor\":\"white\",\"gridwidth\":2,\"linecolor\":\"white\",\"showbackground\":true,\"ticks\":\"\",\"zerolinecolor\":\"white\"},\"yaxis\":{\"backgroundcolor\":\"#E5ECF6\",\"gridcolor\":\"white\",\"gridwidth\":2,\"linecolor\":\"white\",\"showbackground\":true,\"ticks\":\"\",\"zerolinecolor\":\"white\"},\"zaxis\":{\"backgroundcolor\":\"#E5ECF6\",\"gridcolor\":\"white\",\"gridwidth\":2,\"linecolor\":\"white\",\"showbackground\":true,\"ticks\":\"\",\"zerolinecolor\":\"white\"}},\"shapedefaults\":{\"line\":{\"color\":\"#2a3f5f\"}},\"ternary\":{\"aaxis\":{\"gridcolor\":\"white\",\"linecolor\":\"white\",\"ticks\":\"\"},\"baxis\":{\"gridcolor\":\"white\",\"linecolor\":\"white\",\"ticks\":\"\"},\"bgcolor\":\"#E5ECF6\",\"caxis\":{\"gridcolor\":\"white\",\"linecolor\":\"white\",\"ticks\":\"\"}},\"title\":{\"x\":0.05},\"xaxis\":{\"automargin\":true,\"gridcolor\":\"white\",\"linecolor\":\"white\",\"ticks\":\"\",\"title\":{\"standoff\":15},\"zerolinecolor\":\"white\",\"zerolinewidth\":2},\"yaxis\":{\"automargin\":true,\"gridcolor\":\"white\",\"linecolor\":\"white\",\"ticks\":\"\",\"title\":{\"standoff\":15},\"zerolinecolor\":\"white\",\"zerolinewidth\":2}}},\"title\":{\"text\":\"<b>Most popular cars</b>\",\"x\":0.5},\"xaxis\":{\"anchor\":\"y\",\"categoryorder\":\"total descending\",\"domain\":[0.0,1.0],\"linecolor\":\"black\",\"linewidth\":2,\"showline\":true,\"showticklabels\":true,\"title\":{\"text\":\"Car Types\"}},\"yaxis\":{\"anchor\":\"x\",\"domain\":[0.0,1.0],\"linecolor\":\"black\",\"linewidth\":2,\"showline\":true,\"showticklabels\":true,\"title\":{\"text\":\"Car Count\"}}},                        {\"responsive\": true}                    ).then(function(){\n",
       "                            \n",
       "var gd = document.getElementById('45afc966-c09d-4828-8a37-e8e55ef2fbf7');\n",
       "var x = new MutationObserver(function (mutations, observer) {{\n",
       "        var display = window.getComputedStyle(gd).display;\n",
       "        if (!display || display === 'none') {{\n",
       "            console.log([gd, 'removed!']);\n",
       "            Plotly.purge(gd);\n",
       "            observer.disconnect();\n",
       "        }}\n",
       "}});\n",
       "\n",
       "// Listen for the removal of the full notebook cells\n",
       "var notebookContainer = gd.closest('#notebook-container');\n",
       "if (notebookContainer) {{\n",
       "    x.observe(notebookContainer, {childList: true});\n",
       "}}\n",
       "\n",
       "// Listen for the clearing of the current output cell\n",
       "var outputEl = gd.closest('.output');\n",
       "if (outputEl) {{\n",
       "    x.observe(outputEl, {childList: true});\n",
       "}}\n",
       "\n",
       "                        })                };                });            </script>        </div>"
      ]
     },
     "metadata": {},
     "output_type": "display_data"
    }
   ],
   "source": [
    "fig = px.histogram(df12, x = \"make\", color_discrete_sequence = [\"#ffd514\"] * len(df12))\n",
    "fig.update_layout(xaxis={'categoryorder':'total descending'},\n",
    "                 plot_bgcolor = \"white\",\n",
    "                  yaxis_title = \"Car Count\",\n",
    "                  xaxis_title = \"Car Types\",\n",
    "                  title = \"<b>Most popular cars</b>\",\n",
    "                 title_x=0.5)\n",
    "\n",
    "fig.update_yaxes(showticklabels = True, showline = True, linewidth = 2, linecolor = \"black\")\n",
    "fig.update_xaxes(showticklabels = True, showline = True, linewidth = 2, linecolor = \"black\")\n",
    "\n",
    "fig.show()"
   ]
  },
  {
   "cell_type": "code",
   "execution_count": 8,
   "metadata": {},
   "outputs": [
    {
     "data": {
      "application/vnd.plotly.v1+json": {
       "config": {
        "plotlyServerURL": "https://plot.ly"
       },
       "data": [
        {
         "alignmentgroup": "True",
         "bingroup": "x",
         "hovertemplate": "manufacture_year=%{x}<br>count=%{y}<extra></extra>",
         "legendgroup": "",
         "marker": {
          "color": "#0099cc",
          "pattern": {
           "shape": ""
          }
         },
         "name": "",
         "offsetgroup": "",
         "orientation": "v",
         "showlegend": false,
         "type": "histogram",
         "x": [
          2004,
          1972,
          1970,
          1999,
          1972,
          1984,
          1981,
          2008,
          1984,
          1988,
          2011,
          1998,
          2004,
          2005,
          2005,
          2012,
          2010,
          1987,
          2007,
          2010,
          2003,
          1991,
          2004,
          1998,
          2002,
          2004,
          2002,
          1998,
          2004,
          2000,
          1999,
          2004,
          1999,
          1997,
          1996,
          2007,
          2009,
          2012,
          2010,
          2006,
          2013,
          2006,
          2001,
          2006,
          2011,
          2013,
          2008,
          2008,
          2008,
          2002,
          2010,
          2002,
          2000,
          2008,
          2000,
          1997,
          2001,
          1998,
          2014,
          2001,
          2005,
          2008,
          1990,
          1959,
          1960,
          1974,
          2000,
          2005,
          2001,
          2002,
          1995,
          2006,
          2005,
          2008,
          2007,
          1994,
          2010,
          2000,
          1979,
          1986,
          1990,
          1995,
          2008,
          1975,
          2007,
          2009,
          1996,
          1979,
          2000,
          1980,
          1997,
          1998,
          1995,
          1996,
          2002,
          2000,
          2001,
          2007,
          1997,
          2002,
          2007,
          1997,
          2010,
          2004,
          2001,
          2006,
          2012,
          1996,
          2011,
          1996,
          1998,
          2003,
          2007,
          2004,
          2013,
          1998,
          2007,
          2007,
          1999,
          1995,
          1999,
          2004,
          1997,
          2009,
          1995,
          2003,
          1982,
          1977,
          1973,
          1982,
          2001,
          2004,
          1999,
          2012,
          1974,
          2012,
          2004,
          2001,
          2002,
          2004,
          2003,
          2011,
          1990,
          1974,
          1998,
          1997,
          2003,
          2012,
          2007,
          1985,
          1986,
          1984,
          1980,
          1999,
          1998,
          2008,
          2007,
          1961,
          1967,
          1994,
          2008,
          2010,
          2010,
          1969,
          1981,
          2007,
          2000,
          1996,
          1986,
          2001,
          2003,
          1985,
          1996,
          1998,
          1969,
          1981,
          1974,
          1979,
          2001,
          2006,
          1994,
          1981,
          1974,
          1994,
          1996,
          2000,
          1999,
          2010,
          2015,
          2012,
          2006,
          2008,
          2010,
          2004,
          2008,
          1970,
          2013,
          1995,
          1997,
          1998,
          2004,
          2000,
          2003,
          2007,
          2008,
          2007,
          1997,
          1992,
          2003,
          1989,
          1989,
          1972,
          1970,
          1978,
          1974,
          2004,
          1980,
          2006,
          1966,
          1994,
          1978,
          1971,
          1986,
          1990,
          1927,
          2015,
          1999,
          2012,
          1968,
          2014,
          2006,
          1998,
          2001,
          2006,
          2008,
          2007,
          1956,
          1974,
          1999,
          2002,
          1997,
          2007,
          1996,
          2001,
          1998,
          2009,
          1999,
          2000,
          1996,
          1996,
          1995,
          1966,
          2014,
          1993,
          1999,
          1993,
          1998,
          1995,
          1973,
          2004,
          2006,
          2009,
          2009,
          2011,
          2011,
          2007,
          2014,
          2016,
          2003,
          2006,
          2007,
          2010,
          2008,
          1996,
          1992,
          1993,
          1995,
          1978,
          1984,
          1989,
          2011,
          1998,
          2007,
          2003,
          2012,
          1995,
          2010,
          2006,
          2010,
          2006,
          2003,
          2002,
          2001,
          2002,
          2002,
          2005,
          1969,
          1968,
          2000,
          1995,
          2002,
          2005,
          1996,
          2009,
          2009,
          2005,
          2006,
          2008,
          2009,
          2003,
          1979,
          2001,
          2007,
          1989,
          1939,
          1992,
          1991,
          1971,
          1960,
          1955,
          1991,
          1985,
          1991,
          2000,
          1996,
          2004,
          2005,
          2006,
          2012,
          2012,
          2012,
          2006,
          1997,
          1997,
          2000,
          1997,
          2002,
          2006,
          1998,
          2009,
          2000,
          2000,
          2011,
          2006,
          2002,
          2001,
          2008,
          2008,
          1998,
          2001,
          2000,
          2008,
          2005,
          2008,
          2010,
          2004,
          2005,
          2007,
          1997,
          2003,
          2003,
          2010,
          2001,
          2007,
          1996,
          1999,
          2005,
          1996,
          1996,
          1998,
          1997,
          2004,
          1994,
          2002,
          1996,
          2009,
          2007,
          2012,
          2013,
          2008,
          2013,
          2003,
          2002,
          2001,
          2002,
          2005,
          2012,
          2007,
          2005,
          2008,
          2006,
          2011,
          1997,
          2004,
          2010,
          2001,
          2005,
          2006,
          1999,
          2002,
          1999,
          2003,
          1996,
          2003,
          2010,
          2008,
          2006,
          2007,
          2004,
          1971,
          1967,
          1993,
          2000,
          2004,
          1990,
          2000,
          1996,
          2004,
          1992,
          2003,
          2008,
          2005,
          1973,
          2011,
          2009,
          2002,
          2003,
          2000,
          2008,
          2005,
          2011,
          1986,
          1968,
          1930,
          1957,
          1976,
          1999,
          2003,
          1983,
          2006,
          2012,
          2013,
          2012,
          2013,
          1992,
          1990,
          2005,
          2007,
          2002,
          1992,
          1972,
          1971,
          1982,
          2001,
          2003,
          2004,
          2006,
          2003,
          1984,
          2008,
          1998,
          1992,
          1995,
          1999,
          1995,
          2002,
          2004,
          2006,
          2006,
          1984,
          2004,
          1996,
          2005,
          2006,
          2002,
          2004,
          2000,
          2011,
          1997,
          2003,
          2008,
          1991,
          2015,
          2011,
          2011,
          2011,
          1985,
          1990,
          1998,
          2000,
          2007,
          2006,
          2009,
          2004,
          2006,
          2010,
          2001,
          2000,
          2007,
          2001,
          2010,
          2009,
          1983,
          1971,
          2007,
          1980,
          1993,
          1978,
          1973,
          1971,
          1969,
          1972,
          1973,
          1976,
          1976,
          1970,
          1971,
          1972,
          1979,
          1976,
          1979,
          1977,
          1981,
          1981,
          1984,
          1992,
          1984,
          1988,
          2008,
          2004,
          1960,
          2004,
          1972,
          1978,
          1982,
          1985,
          1969,
          2000,
          1997,
          1983,
          2000,
          1977,
          1987,
          1982,
          2002,
          1978,
          1980,
          1990,
          1983,
          2004,
          1988,
          1990,
          1997,
          2007,
          2005,
          2003,
          2001,
          2002,
          2005,
          2009,
          1976,
          2003,
          2006,
          1982,
          1982,
          1977,
          1971,
          1981,
          1985,
          1976,
          1979,
          1981,
          1983,
          1986,
          2004,
          1972,
          1982,
          1990,
          2009,
          1974,
          1977,
          1957,
          2001,
          1999,
          2001,
          2002,
          2007,
          2007,
          2011,
          2007,
          2009,
          2000,
          2008,
          2003,
          2003,
          2006,
          2008,
          2008,
          2008,
          2007
         ],
         "xaxis": "x",
         "yaxis": "y"
        }
       ],
       "layout": {
        "barmode": "relative",
        "legend": {
         "tracegroupgap": 0
        },
        "margin": {
         "t": 60
        },
        "plot_bgcolor": "white",
        "template": {
         "data": {
          "bar": [
           {
            "error_x": {
             "color": "#2a3f5f"
            },
            "error_y": {
             "color": "#2a3f5f"
            },
            "marker": {
             "line": {
              "color": "#E5ECF6",
              "width": 0.5
             },
             "pattern": {
              "fillmode": "overlay",
              "size": 10,
              "solidity": 0.2
             }
            },
            "type": "bar"
           }
          ],
          "barpolar": [
           {
            "marker": {
             "line": {
              "color": "#E5ECF6",
              "width": 0.5
             },
             "pattern": {
              "fillmode": "overlay",
              "size": 10,
              "solidity": 0.2
             }
            },
            "type": "barpolar"
           }
          ],
          "carpet": [
           {
            "aaxis": {
             "endlinecolor": "#2a3f5f",
             "gridcolor": "white",
             "linecolor": "white",
             "minorgridcolor": "white",
             "startlinecolor": "#2a3f5f"
            },
            "baxis": {
             "endlinecolor": "#2a3f5f",
             "gridcolor": "white",
             "linecolor": "white",
             "minorgridcolor": "white",
             "startlinecolor": "#2a3f5f"
            },
            "type": "carpet"
           }
          ],
          "choropleth": [
           {
            "colorbar": {
             "outlinewidth": 0,
             "ticks": ""
            },
            "type": "choropleth"
           }
          ],
          "contour": [
           {
            "colorbar": {
             "outlinewidth": 0,
             "ticks": ""
            },
            "colorscale": [
             [
              0,
              "#0d0887"
             ],
             [
              0.1111111111111111,
              "#46039f"
             ],
             [
              0.2222222222222222,
              "#7201a8"
             ],
             [
              0.3333333333333333,
              "#9c179e"
             ],
             [
              0.4444444444444444,
              "#bd3786"
             ],
             [
              0.5555555555555556,
              "#d8576b"
             ],
             [
              0.6666666666666666,
              "#ed7953"
             ],
             [
              0.7777777777777778,
              "#fb9f3a"
             ],
             [
              0.8888888888888888,
              "#fdca26"
             ],
             [
              1,
              "#f0f921"
             ]
            ],
            "type": "contour"
           }
          ],
          "contourcarpet": [
           {
            "colorbar": {
             "outlinewidth": 0,
             "ticks": ""
            },
            "type": "contourcarpet"
           }
          ],
          "heatmap": [
           {
            "colorbar": {
             "outlinewidth": 0,
             "ticks": ""
            },
            "colorscale": [
             [
              0,
              "#0d0887"
             ],
             [
              0.1111111111111111,
              "#46039f"
             ],
             [
              0.2222222222222222,
              "#7201a8"
             ],
             [
              0.3333333333333333,
              "#9c179e"
             ],
             [
              0.4444444444444444,
              "#bd3786"
             ],
             [
              0.5555555555555556,
              "#d8576b"
             ],
             [
              0.6666666666666666,
              "#ed7953"
             ],
             [
              0.7777777777777778,
              "#fb9f3a"
             ],
             [
              0.8888888888888888,
              "#fdca26"
             ],
             [
              1,
              "#f0f921"
             ]
            ],
            "type": "heatmap"
           }
          ],
          "heatmapgl": [
           {
            "colorbar": {
             "outlinewidth": 0,
             "ticks": ""
            },
            "colorscale": [
             [
              0,
              "#0d0887"
             ],
             [
              0.1111111111111111,
              "#46039f"
             ],
             [
              0.2222222222222222,
              "#7201a8"
             ],
             [
              0.3333333333333333,
              "#9c179e"
             ],
             [
              0.4444444444444444,
              "#bd3786"
             ],
             [
              0.5555555555555556,
              "#d8576b"
             ],
             [
              0.6666666666666666,
              "#ed7953"
             ],
             [
              0.7777777777777778,
              "#fb9f3a"
             ],
             [
              0.8888888888888888,
              "#fdca26"
             ],
             [
              1,
              "#f0f921"
             ]
            ],
            "type": "heatmapgl"
           }
          ],
          "histogram": [
           {
            "marker": {
             "pattern": {
              "fillmode": "overlay",
              "size": 10,
              "solidity": 0.2
             }
            },
            "type": "histogram"
           }
          ],
          "histogram2d": [
           {
            "colorbar": {
             "outlinewidth": 0,
             "ticks": ""
            },
            "colorscale": [
             [
              0,
              "#0d0887"
             ],
             [
              0.1111111111111111,
              "#46039f"
             ],
             [
              0.2222222222222222,
              "#7201a8"
             ],
             [
              0.3333333333333333,
              "#9c179e"
             ],
             [
              0.4444444444444444,
              "#bd3786"
             ],
             [
              0.5555555555555556,
              "#d8576b"
             ],
             [
              0.6666666666666666,
              "#ed7953"
             ],
             [
              0.7777777777777778,
              "#fb9f3a"
             ],
             [
              0.8888888888888888,
              "#fdca26"
             ],
             [
              1,
              "#f0f921"
             ]
            ],
            "type": "histogram2d"
           }
          ],
          "histogram2dcontour": [
           {
            "colorbar": {
             "outlinewidth": 0,
             "ticks": ""
            },
            "colorscale": [
             [
              0,
              "#0d0887"
             ],
             [
              0.1111111111111111,
              "#46039f"
             ],
             [
              0.2222222222222222,
              "#7201a8"
             ],
             [
              0.3333333333333333,
              "#9c179e"
             ],
             [
              0.4444444444444444,
              "#bd3786"
             ],
             [
              0.5555555555555556,
              "#d8576b"
             ],
             [
              0.6666666666666666,
              "#ed7953"
             ],
             [
              0.7777777777777778,
              "#fb9f3a"
             ],
             [
              0.8888888888888888,
              "#fdca26"
             ],
             [
              1,
              "#f0f921"
             ]
            ],
            "type": "histogram2dcontour"
           }
          ],
          "mesh3d": [
           {
            "colorbar": {
             "outlinewidth": 0,
             "ticks": ""
            },
            "type": "mesh3d"
           }
          ],
          "parcoords": [
           {
            "line": {
             "colorbar": {
              "outlinewidth": 0,
              "ticks": ""
             }
            },
            "type": "parcoords"
           }
          ],
          "pie": [
           {
            "automargin": true,
            "type": "pie"
           }
          ],
          "scatter": [
           {
            "marker": {
             "colorbar": {
              "outlinewidth": 0,
              "ticks": ""
             }
            },
            "type": "scatter"
           }
          ],
          "scatter3d": [
           {
            "line": {
             "colorbar": {
              "outlinewidth": 0,
              "ticks": ""
             }
            },
            "marker": {
             "colorbar": {
              "outlinewidth": 0,
              "ticks": ""
             }
            },
            "type": "scatter3d"
           }
          ],
          "scattercarpet": [
           {
            "marker": {
             "colorbar": {
              "outlinewidth": 0,
              "ticks": ""
             }
            },
            "type": "scattercarpet"
           }
          ],
          "scattergeo": [
           {
            "marker": {
             "colorbar": {
              "outlinewidth": 0,
              "ticks": ""
             }
            },
            "type": "scattergeo"
           }
          ],
          "scattergl": [
           {
            "marker": {
             "colorbar": {
              "outlinewidth": 0,
              "ticks": ""
             }
            },
            "type": "scattergl"
           }
          ],
          "scattermapbox": [
           {
            "marker": {
             "colorbar": {
              "outlinewidth": 0,
              "ticks": ""
             }
            },
            "type": "scattermapbox"
           }
          ],
          "scatterpolar": [
           {
            "marker": {
             "colorbar": {
              "outlinewidth": 0,
              "ticks": ""
             }
            },
            "type": "scatterpolar"
           }
          ],
          "scatterpolargl": [
           {
            "marker": {
             "colorbar": {
              "outlinewidth": 0,
              "ticks": ""
             }
            },
            "type": "scatterpolargl"
           }
          ],
          "scatterternary": [
           {
            "marker": {
             "colorbar": {
              "outlinewidth": 0,
              "ticks": ""
             }
            },
            "type": "scatterternary"
           }
          ],
          "surface": [
           {
            "colorbar": {
             "outlinewidth": 0,
             "ticks": ""
            },
            "colorscale": [
             [
              0,
              "#0d0887"
             ],
             [
              0.1111111111111111,
              "#46039f"
             ],
             [
              0.2222222222222222,
              "#7201a8"
             ],
             [
              0.3333333333333333,
              "#9c179e"
             ],
             [
              0.4444444444444444,
              "#bd3786"
             ],
             [
              0.5555555555555556,
              "#d8576b"
             ],
             [
              0.6666666666666666,
              "#ed7953"
             ],
             [
              0.7777777777777778,
              "#fb9f3a"
             ],
             [
              0.8888888888888888,
              "#fdca26"
             ],
             [
              1,
              "#f0f921"
             ]
            ],
            "type": "surface"
           }
          ],
          "table": [
           {
            "cells": {
             "fill": {
              "color": "#EBF0F8"
             },
             "line": {
              "color": "white"
             }
            },
            "header": {
             "fill": {
              "color": "#C8D4E3"
             },
             "line": {
              "color": "white"
             }
            },
            "type": "table"
           }
          ]
         },
         "layout": {
          "annotationdefaults": {
           "arrowcolor": "#2a3f5f",
           "arrowhead": 0,
           "arrowwidth": 1
          },
          "autotypenumbers": "strict",
          "coloraxis": {
           "colorbar": {
            "outlinewidth": 0,
            "ticks": ""
           }
          },
          "colorscale": {
           "diverging": [
            [
             0,
             "#8e0152"
            ],
            [
             0.1,
             "#c51b7d"
            ],
            [
             0.2,
             "#de77ae"
            ],
            [
             0.3,
             "#f1b6da"
            ],
            [
             0.4,
             "#fde0ef"
            ],
            [
             0.5,
             "#f7f7f7"
            ],
            [
             0.6,
             "#e6f5d0"
            ],
            [
             0.7,
             "#b8e186"
            ],
            [
             0.8,
             "#7fbc41"
            ],
            [
             0.9,
             "#4d9221"
            ],
            [
             1,
             "#276419"
            ]
           ],
           "sequential": [
            [
             0,
             "#0d0887"
            ],
            [
             0.1111111111111111,
             "#46039f"
            ],
            [
             0.2222222222222222,
             "#7201a8"
            ],
            [
             0.3333333333333333,
             "#9c179e"
            ],
            [
             0.4444444444444444,
             "#bd3786"
            ],
            [
             0.5555555555555556,
             "#d8576b"
            ],
            [
             0.6666666666666666,
             "#ed7953"
            ],
            [
             0.7777777777777778,
             "#fb9f3a"
            ],
            [
             0.8888888888888888,
             "#fdca26"
            ],
            [
             1,
             "#f0f921"
            ]
           ],
           "sequentialminus": [
            [
             0,
             "#0d0887"
            ],
            [
             0.1111111111111111,
             "#46039f"
            ],
            [
             0.2222222222222222,
             "#7201a8"
            ],
            [
             0.3333333333333333,
             "#9c179e"
            ],
            [
             0.4444444444444444,
             "#bd3786"
            ],
            [
             0.5555555555555556,
             "#d8576b"
            ],
            [
             0.6666666666666666,
             "#ed7953"
            ],
            [
             0.7777777777777778,
             "#fb9f3a"
            ],
            [
             0.8888888888888888,
             "#fdca26"
            ],
            [
             1,
             "#f0f921"
            ]
           ]
          },
          "colorway": [
           "#636efa",
           "#EF553B",
           "#00cc96",
           "#ab63fa",
           "#FFA15A",
           "#19d3f3",
           "#FF6692",
           "#B6E880",
           "#FF97FF",
           "#FECB52"
          ],
          "font": {
           "color": "#2a3f5f"
          },
          "geo": {
           "bgcolor": "white",
           "lakecolor": "white",
           "landcolor": "#E5ECF6",
           "showlakes": true,
           "showland": true,
           "subunitcolor": "white"
          },
          "hoverlabel": {
           "align": "left"
          },
          "hovermode": "closest",
          "mapbox": {
           "style": "light"
          },
          "paper_bgcolor": "white",
          "plot_bgcolor": "#E5ECF6",
          "polar": {
           "angularaxis": {
            "gridcolor": "white",
            "linecolor": "white",
            "ticks": ""
           },
           "bgcolor": "#E5ECF6",
           "radialaxis": {
            "gridcolor": "white",
            "linecolor": "white",
            "ticks": ""
           }
          },
          "scene": {
           "xaxis": {
            "backgroundcolor": "#E5ECF6",
            "gridcolor": "white",
            "gridwidth": 2,
            "linecolor": "white",
            "showbackground": true,
            "ticks": "",
            "zerolinecolor": "white"
           },
           "yaxis": {
            "backgroundcolor": "#E5ECF6",
            "gridcolor": "white",
            "gridwidth": 2,
            "linecolor": "white",
            "showbackground": true,
            "ticks": "",
            "zerolinecolor": "white"
           },
           "zaxis": {
            "backgroundcolor": "#E5ECF6",
            "gridcolor": "white",
            "gridwidth": 2,
            "linecolor": "white",
            "showbackground": true,
            "ticks": "",
            "zerolinecolor": "white"
           }
          },
          "shapedefaults": {
           "line": {
            "color": "#2a3f5f"
           }
          },
          "ternary": {
           "aaxis": {
            "gridcolor": "white",
            "linecolor": "white",
            "ticks": ""
           },
           "baxis": {
            "gridcolor": "white",
            "linecolor": "white",
            "ticks": ""
           },
           "bgcolor": "#E5ECF6",
           "caxis": {
            "gridcolor": "white",
            "linecolor": "white",
            "ticks": ""
           }
          },
          "title": {
           "x": 0.05
          },
          "xaxis": {
           "automargin": true,
           "gridcolor": "white",
           "linecolor": "white",
           "ticks": "",
           "title": {
            "standoff": 15
           },
           "zerolinecolor": "white",
           "zerolinewidth": 2
          },
          "yaxis": {
           "automargin": true,
           "gridcolor": "white",
           "linecolor": "white",
           "ticks": "",
           "title": {
            "standoff": 15
           },
           "zerolinecolor": "white",
           "zerolinewidth": 2
          }
         }
        },
        "title": {
         "text": "<b>Total count of manufacturing year of all cars</b>",
         "x": 0.5
        },
        "xaxis": {
         "anchor": "y",
         "categoryorder": "total descending",
         "domain": [
          0,
          1
         ],
         "linecolor": "black",
         "linewidth": 2,
         "showline": true,
         "showticklabels": true,
         "title": {
          "text": "Manufacture Year"
         }
        },
        "yaxis": {
         "anchor": "x",
         "domain": [
          0,
          1
         ],
         "linecolor": "black",
         "linewidth": 2,
         "showline": true,
         "showticklabels": true,
         "title": {
          "text": "Total Cars"
         }
        }
       }
      },
      "text/html": [
       "<div>                            <div id=\"26bfe69f-b169-4b7b-9366-d1870ba8bcfb\" class=\"plotly-graph-div\" style=\"height:525px; width:100%;\"></div>            <script type=\"text/javascript\">                require([\"plotly\"], function(Plotly) {                    window.PLOTLYENV=window.PLOTLYENV || {};                                    if (document.getElementById(\"26bfe69f-b169-4b7b-9366-d1870ba8bcfb\")) {                    Plotly.newPlot(                        \"26bfe69f-b169-4b7b-9366-d1870ba8bcfb\",                        [{\"alignmentgroup\":\"True\",\"bingroup\":\"x\",\"hovertemplate\":\"manufacture_year=%{x}<br>count=%{y}<extra></extra>\",\"legendgroup\":\"\",\"marker\":{\"color\":\"#0099cc\",\"pattern\":{\"shape\":\"\"}},\"name\":\"\",\"offsetgroup\":\"\",\"orientation\":\"v\",\"showlegend\":false,\"type\":\"histogram\",\"x\":[2004,1972,1970,1999,1972,1984,1981,2008,1984,1988,2011,1998,2004,2005,2005,2012,2010,1987,2007,2010,2003,1991,2004,1998,2002,2004,2002,1998,2004,2000,1999,2004,1999,1997,1996,2007,2009,2012,2010,2006,2013,2006,2001,2006,2011,2013,2008,2008,2008,2002,2010,2002,2000,2008,2000,1997,2001,1998,2014,2001,2005,2008,1990,1959,1960,1974,2000,2005,2001,2002,1995,2006,2005,2008,2007,1994,2010,2000,1979,1986,1990,1995,2008,1975,2007,2009,1996,1979,2000,1980,1997,1998,1995,1996,2002,2000,2001,2007,1997,2002,2007,1997,2010,2004,2001,2006,2012,1996,2011,1996,1998,2003,2007,2004,2013,1998,2007,2007,1999,1995,1999,2004,1997,2009,1995,2003,1982,1977,1973,1982,2001,2004,1999,2012,1974,2012,2004,2001,2002,2004,2003,2011,1990,1974,1998,1997,2003,2012,2007,1985,1986,1984,1980,1999,1998,2008,2007,1961,1967,1994,2008,2010,2010,1969,1981,2007,2000,1996,1986,2001,2003,1985,1996,1998,1969,1981,1974,1979,2001,2006,1994,1981,1974,1994,1996,2000,1999,2010,2015,2012,2006,2008,2010,2004,2008,1970,2013,1995,1997,1998,2004,2000,2003,2007,2008,2007,1997,1992,2003,1989,1989,1972,1970,1978,1974,2004,1980,2006,1966,1994,1978,1971,1986,1990,1927,2015,1999,2012,1968,2014,2006,1998,2001,2006,2008,2007,1956,1974,1999,2002,1997,2007,1996,2001,1998,2009,1999,2000,1996,1996,1995,1966,2014,1993,1999,1993,1998,1995,1973,2004,2006,2009,2009,2011,2011,2007,2014,2016,2003,2006,2007,2010,2008,1996,1992,1993,1995,1978,1984,1989,2011,1998,2007,2003,2012,1995,2010,2006,2010,2006,2003,2002,2001,2002,2002,2005,1969,1968,2000,1995,2002,2005,1996,2009,2009,2005,2006,2008,2009,2003,1979,2001,2007,1989,1939,1992,1991,1971,1960,1955,1991,1985,1991,2000,1996,2004,2005,2006,2012,2012,2012,2006,1997,1997,2000,1997,2002,2006,1998,2009,2000,2000,2011,2006,2002,2001,2008,2008,1998,2001,2000,2008,2005,2008,2010,2004,2005,2007,1997,2003,2003,2010,2001,2007,1996,1999,2005,1996,1996,1998,1997,2004,1994,2002,1996,2009,2007,2012,2013,2008,2013,2003,2002,2001,2002,2005,2012,2007,2005,2008,2006,2011,1997,2004,2010,2001,2005,2006,1999,2002,1999,2003,1996,2003,2010,2008,2006,2007,2004,1971,1967,1993,2000,2004,1990,2000,1996,2004,1992,2003,2008,2005,1973,2011,2009,2002,2003,2000,2008,2005,2011,1986,1968,1930,1957,1976,1999,2003,1983,2006,2012,2013,2012,2013,1992,1990,2005,2007,2002,1992,1972,1971,1982,2001,2003,2004,2006,2003,1984,2008,1998,1992,1995,1999,1995,2002,2004,2006,2006,1984,2004,1996,2005,2006,2002,2004,2000,2011,1997,2003,2008,1991,2015,2011,2011,2011,1985,1990,1998,2000,2007,2006,2009,2004,2006,2010,2001,2000,2007,2001,2010,2009,1983,1971,2007,1980,1993,1978,1973,1971,1969,1972,1973,1976,1976,1970,1971,1972,1979,1976,1979,1977,1981,1981,1984,1992,1984,1988,2008,2004,1960,2004,1972,1978,1982,1985,1969,2000,1997,1983,2000,1977,1987,1982,2002,1978,1980,1990,1983,2004,1988,1990,1997,2007,2005,2003,2001,2002,2005,2009,1976,2003,2006,1982,1982,1977,1971,1981,1985,1976,1979,1981,1983,1986,2004,1972,1982,1990,2009,1974,1977,1957,2001,1999,2001,2002,2007,2007,2011,2007,2009,2000,2008,2003,2003,2006,2008,2008,2008,2007],\"xaxis\":\"x\",\"yaxis\":\"y\"}],                        {\"barmode\":\"relative\",\"legend\":{\"tracegroupgap\":0},\"margin\":{\"t\":60},\"plot_bgcolor\":\"white\",\"template\":{\"data\":{\"bar\":[{\"error_x\":{\"color\":\"#2a3f5f\"},\"error_y\":{\"color\":\"#2a3f5f\"},\"marker\":{\"line\":{\"color\":\"#E5ECF6\",\"width\":0.5},\"pattern\":{\"fillmode\":\"overlay\",\"size\":10,\"solidity\":0.2}},\"type\":\"bar\"}],\"barpolar\":[{\"marker\":{\"line\":{\"color\":\"#E5ECF6\",\"width\":0.5},\"pattern\":{\"fillmode\":\"overlay\",\"size\":10,\"solidity\":0.2}},\"type\":\"barpolar\"}],\"carpet\":[{\"aaxis\":{\"endlinecolor\":\"#2a3f5f\",\"gridcolor\":\"white\",\"linecolor\":\"white\",\"minorgridcolor\":\"white\",\"startlinecolor\":\"#2a3f5f\"},\"baxis\":{\"endlinecolor\":\"#2a3f5f\",\"gridcolor\":\"white\",\"linecolor\":\"white\",\"minorgridcolor\":\"white\",\"startlinecolor\":\"#2a3f5f\"},\"type\":\"carpet\"}],\"choropleth\":[{\"colorbar\":{\"outlinewidth\":0,\"ticks\":\"\"},\"type\":\"choropleth\"}],\"contour\":[{\"colorbar\":{\"outlinewidth\":0,\"ticks\":\"\"},\"colorscale\":[[0.0,\"#0d0887\"],[0.1111111111111111,\"#46039f\"],[0.2222222222222222,\"#7201a8\"],[0.3333333333333333,\"#9c179e\"],[0.4444444444444444,\"#bd3786\"],[0.5555555555555556,\"#d8576b\"],[0.6666666666666666,\"#ed7953\"],[0.7777777777777778,\"#fb9f3a\"],[0.8888888888888888,\"#fdca26\"],[1.0,\"#f0f921\"]],\"type\":\"contour\"}],\"contourcarpet\":[{\"colorbar\":{\"outlinewidth\":0,\"ticks\":\"\"},\"type\":\"contourcarpet\"}],\"heatmap\":[{\"colorbar\":{\"outlinewidth\":0,\"ticks\":\"\"},\"colorscale\":[[0.0,\"#0d0887\"],[0.1111111111111111,\"#46039f\"],[0.2222222222222222,\"#7201a8\"],[0.3333333333333333,\"#9c179e\"],[0.4444444444444444,\"#bd3786\"],[0.5555555555555556,\"#d8576b\"],[0.6666666666666666,\"#ed7953\"],[0.7777777777777778,\"#fb9f3a\"],[0.8888888888888888,\"#fdca26\"],[1.0,\"#f0f921\"]],\"type\":\"heatmap\"}],\"heatmapgl\":[{\"colorbar\":{\"outlinewidth\":0,\"ticks\":\"\"},\"colorscale\":[[0.0,\"#0d0887\"],[0.1111111111111111,\"#46039f\"],[0.2222222222222222,\"#7201a8\"],[0.3333333333333333,\"#9c179e\"],[0.4444444444444444,\"#bd3786\"],[0.5555555555555556,\"#d8576b\"],[0.6666666666666666,\"#ed7953\"],[0.7777777777777778,\"#fb9f3a\"],[0.8888888888888888,\"#fdca26\"],[1.0,\"#f0f921\"]],\"type\":\"heatmapgl\"}],\"histogram\":[{\"marker\":{\"pattern\":{\"fillmode\":\"overlay\",\"size\":10,\"solidity\":0.2}},\"type\":\"histogram\"}],\"histogram2d\":[{\"colorbar\":{\"outlinewidth\":0,\"ticks\":\"\"},\"colorscale\":[[0.0,\"#0d0887\"],[0.1111111111111111,\"#46039f\"],[0.2222222222222222,\"#7201a8\"],[0.3333333333333333,\"#9c179e\"],[0.4444444444444444,\"#bd3786\"],[0.5555555555555556,\"#d8576b\"],[0.6666666666666666,\"#ed7953\"],[0.7777777777777778,\"#fb9f3a\"],[0.8888888888888888,\"#fdca26\"],[1.0,\"#f0f921\"]],\"type\":\"histogram2d\"}],\"histogram2dcontour\":[{\"colorbar\":{\"outlinewidth\":0,\"ticks\":\"\"},\"colorscale\":[[0.0,\"#0d0887\"],[0.1111111111111111,\"#46039f\"],[0.2222222222222222,\"#7201a8\"],[0.3333333333333333,\"#9c179e\"],[0.4444444444444444,\"#bd3786\"],[0.5555555555555556,\"#d8576b\"],[0.6666666666666666,\"#ed7953\"],[0.7777777777777778,\"#fb9f3a\"],[0.8888888888888888,\"#fdca26\"],[1.0,\"#f0f921\"]],\"type\":\"histogram2dcontour\"}],\"mesh3d\":[{\"colorbar\":{\"outlinewidth\":0,\"ticks\":\"\"},\"type\":\"mesh3d\"}],\"parcoords\":[{\"line\":{\"colorbar\":{\"outlinewidth\":0,\"ticks\":\"\"}},\"type\":\"parcoords\"}],\"pie\":[{\"automargin\":true,\"type\":\"pie\"}],\"scatter\":[{\"marker\":{\"colorbar\":{\"outlinewidth\":0,\"ticks\":\"\"}},\"type\":\"scatter\"}],\"scatter3d\":[{\"line\":{\"colorbar\":{\"outlinewidth\":0,\"ticks\":\"\"}},\"marker\":{\"colorbar\":{\"outlinewidth\":0,\"ticks\":\"\"}},\"type\":\"scatter3d\"}],\"scattercarpet\":[{\"marker\":{\"colorbar\":{\"outlinewidth\":0,\"ticks\":\"\"}},\"type\":\"scattercarpet\"}],\"scattergeo\":[{\"marker\":{\"colorbar\":{\"outlinewidth\":0,\"ticks\":\"\"}},\"type\":\"scattergeo\"}],\"scattergl\":[{\"marker\":{\"colorbar\":{\"outlinewidth\":0,\"ticks\":\"\"}},\"type\":\"scattergl\"}],\"scattermapbox\":[{\"marker\":{\"colorbar\":{\"outlinewidth\":0,\"ticks\":\"\"}},\"type\":\"scattermapbox\"}],\"scatterpolar\":[{\"marker\":{\"colorbar\":{\"outlinewidth\":0,\"ticks\":\"\"}},\"type\":\"scatterpolar\"}],\"scatterpolargl\":[{\"marker\":{\"colorbar\":{\"outlinewidth\":0,\"ticks\":\"\"}},\"type\":\"scatterpolargl\"}],\"scatterternary\":[{\"marker\":{\"colorbar\":{\"outlinewidth\":0,\"ticks\":\"\"}},\"type\":\"scatterternary\"}],\"surface\":[{\"colorbar\":{\"outlinewidth\":0,\"ticks\":\"\"},\"colorscale\":[[0.0,\"#0d0887\"],[0.1111111111111111,\"#46039f\"],[0.2222222222222222,\"#7201a8\"],[0.3333333333333333,\"#9c179e\"],[0.4444444444444444,\"#bd3786\"],[0.5555555555555556,\"#d8576b\"],[0.6666666666666666,\"#ed7953\"],[0.7777777777777778,\"#fb9f3a\"],[0.8888888888888888,\"#fdca26\"],[1.0,\"#f0f921\"]],\"type\":\"surface\"}],\"table\":[{\"cells\":{\"fill\":{\"color\":\"#EBF0F8\"},\"line\":{\"color\":\"white\"}},\"header\":{\"fill\":{\"color\":\"#C8D4E3\"},\"line\":{\"color\":\"white\"}},\"type\":\"table\"}]},\"layout\":{\"annotationdefaults\":{\"arrowcolor\":\"#2a3f5f\",\"arrowhead\":0,\"arrowwidth\":1},\"autotypenumbers\":\"strict\",\"coloraxis\":{\"colorbar\":{\"outlinewidth\":0,\"ticks\":\"\"}},\"colorscale\":{\"diverging\":[[0,\"#8e0152\"],[0.1,\"#c51b7d\"],[0.2,\"#de77ae\"],[0.3,\"#f1b6da\"],[0.4,\"#fde0ef\"],[0.5,\"#f7f7f7\"],[0.6,\"#e6f5d0\"],[0.7,\"#b8e186\"],[0.8,\"#7fbc41\"],[0.9,\"#4d9221\"],[1,\"#276419\"]],\"sequential\":[[0.0,\"#0d0887\"],[0.1111111111111111,\"#46039f\"],[0.2222222222222222,\"#7201a8\"],[0.3333333333333333,\"#9c179e\"],[0.4444444444444444,\"#bd3786\"],[0.5555555555555556,\"#d8576b\"],[0.6666666666666666,\"#ed7953\"],[0.7777777777777778,\"#fb9f3a\"],[0.8888888888888888,\"#fdca26\"],[1.0,\"#f0f921\"]],\"sequentialminus\":[[0.0,\"#0d0887\"],[0.1111111111111111,\"#46039f\"],[0.2222222222222222,\"#7201a8\"],[0.3333333333333333,\"#9c179e\"],[0.4444444444444444,\"#bd3786\"],[0.5555555555555556,\"#d8576b\"],[0.6666666666666666,\"#ed7953\"],[0.7777777777777778,\"#fb9f3a\"],[0.8888888888888888,\"#fdca26\"],[1.0,\"#f0f921\"]]},\"colorway\":[\"#636efa\",\"#EF553B\",\"#00cc96\",\"#ab63fa\",\"#FFA15A\",\"#19d3f3\",\"#FF6692\",\"#B6E880\",\"#FF97FF\",\"#FECB52\"],\"font\":{\"color\":\"#2a3f5f\"},\"geo\":{\"bgcolor\":\"white\",\"lakecolor\":\"white\",\"landcolor\":\"#E5ECF6\",\"showlakes\":true,\"showland\":true,\"subunitcolor\":\"white\"},\"hoverlabel\":{\"align\":\"left\"},\"hovermode\":\"closest\",\"mapbox\":{\"style\":\"light\"},\"paper_bgcolor\":\"white\",\"plot_bgcolor\":\"#E5ECF6\",\"polar\":{\"angularaxis\":{\"gridcolor\":\"white\",\"linecolor\":\"white\",\"ticks\":\"\"},\"bgcolor\":\"#E5ECF6\",\"radialaxis\":{\"gridcolor\":\"white\",\"linecolor\":\"white\",\"ticks\":\"\"}},\"scene\":{\"xaxis\":{\"backgroundcolor\":\"#E5ECF6\",\"gridcolor\":\"white\",\"gridwidth\":2,\"linecolor\":\"white\",\"showbackground\":true,\"ticks\":\"\",\"zerolinecolor\":\"white\"},\"yaxis\":{\"backgroundcolor\":\"#E5ECF6\",\"gridcolor\":\"white\",\"gridwidth\":2,\"linecolor\":\"white\",\"showbackground\":true,\"ticks\":\"\",\"zerolinecolor\":\"white\"},\"zaxis\":{\"backgroundcolor\":\"#E5ECF6\",\"gridcolor\":\"white\",\"gridwidth\":2,\"linecolor\":\"white\",\"showbackground\":true,\"ticks\":\"\",\"zerolinecolor\":\"white\"}},\"shapedefaults\":{\"line\":{\"color\":\"#2a3f5f\"}},\"ternary\":{\"aaxis\":{\"gridcolor\":\"white\",\"linecolor\":\"white\",\"ticks\":\"\"},\"baxis\":{\"gridcolor\":\"white\",\"linecolor\":\"white\",\"ticks\":\"\"},\"bgcolor\":\"#E5ECF6\",\"caxis\":{\"gridcolor\":\"white\",\"linecolor\":\"white\",\"ticks\":\"\"}},\"title\":{\"x\":0.05},\"xaxis\":{\"automargin\":true,\"gridcolor\":\"white\",\"linecolor\":\"white\",\"ticks\":\"\",\"title\":{\"standoff\":15},\"zerolinecolor\":\"white\",\"zerolinewidth\":2},\"yaxis\":{\"automargin\":true,\"gridcolor\":\"white\",\"linecolor\":\"white\",\"ticks\":\"\",\"title\":{\"standoff\":15},\"zerolinecolor\":\"white\",\"zerolinewidth\":2}}},\"title\":{\"text\":\"<b>Total count of manufacturing year of all cars</b>\",\"x\":0.5},\"xaxis\":{\"anchor\":\"y\",\"categoryorder\":\"total descending\",\"domain\":[0.0,1.0],\"linecolor\":\"black\",\"linewidth\":2,\"showline\":true,\"showticklabels\":true,\"title\":{\"text\":\"Manufacture Year\"}},\"yaxis\":{\"anchor\":\"x\",\"domain\":[0.0,1.0],\"linecolor\":\"black\",\"linewidth\":2,\"showline\":true,\"showticklabels\":true,\"title\":{\"text\":\"Total Cars\"}}},                        {\"responsive\": true}                    ).then(function(){\n",
       "                            \n",
       "var gd = document.getElementById('26bfe69f-b169-4b7b-9366-d1870ba8bcfb');\n",
       "var x = new MutationObserver(function (mutations, observer) {{\n",
       "        var display = window.getComputedStyle(gd).display;\n",
       "        if (!display || display === 'none') {{\n",
       "            console.log([gd, 'removed!']);\n",
       "            Plotly.purge(gd);\n",
       "            observer.disconnect();\n",
       "        }}\n",
       "}});\n",
       "\n",
       "// Listen for the removal of the full notebook cells\n",
       "var notebookContainer = gd.closest('#notebook-container');\n",
       "if (notebookContainer) {{\n",
       "    x.observe(notebookContainer, {childList: true});\n",
       "}}\n",
       "\n",
       "// Listen for the clearing of the current output cell\n",
       "var outputEl = gd.closest('.output');\n",
       "if (outputEl) {{\n",
       "    x.observe(outputEl, {childList: true});\n",
       "}}\n",
       "\n",
       "                        })                };                });            </script>        </div>"
      ]
     },
     "metadata": {},
     "output_type": "display_data"
    }
   ],
   "source": [
    "fig = px.histogram(df12, x = \"manufacture_year\", \n",
    "                   color_discrete_sequence =['#0099cc']*len(df12))\n",
    "fig.update_layout(xaxis={'categoryorder':'total descending'},\n",
    "                 plot_bgcolor = \"white\",\n",
    "                  yaxis_title = \"Total Cars\",\n",
    "                  xaxis_title = \"Manufacture Year\",\n",
    "                  title = \"<b>Total count of manufacturing year of all cars</b>\",\n",
    "                 title_x=0.5)\n",
    "\n",
    "fig.update_yaxes(showticklabels = True, showline = True, linewidth = 2, linecolor = \"black\")\n",
    "fig.update_xaxes(showticklabels = True, showline = True, linewidth = 2, linecolor = \"black\")\n",
    "\n",
    "fig.show()"
   ]
  },
  {
   "cell_type": "code",
   "execution_count": 11,
   "metadata": {},
   "outputs": [
    {
     "data": {
      "application/vnd.plotly.v1+json": {
       "config": {
        "plotlyServerURL": "https://plot.ly"
       },
       "data": [
        {
         "alignmentgroup": "True",
         "bingroup": "x",
         "hovertemplate": "condition=Occasion<br>manufacture_year=%{x}<br>count=%{y}<extra></extra>",
         "legendgroup": "Occasion",
         "marker": {
          "color": "#636efa",
          "pattern": {
           "shape": ""
          }
         },
         "name": "Occasion",
         "offsetgroup": "Occasion",
         "orientation": "v",
         "showlegend": true,
         "type": "histogram",
         "x": [
          2004,
          1972,
          1999,
          1972,
          1984,
          1981,
          2008,
          1984,
          1988,
          2011,
          1998,
          2004,
          2005,
          2005,
          2012,
          2010,
          1987,
          2007,
          2003,
          1991,
          2004,
          1998,
          2002,
          2004,
          2002,
          1998,
          2004,
          2000,
          1999,
          2004,
          1999,
          1997,
          1996,
          2007,
          2009,
          2012,
          2010,
          2006,
          2013,
          2006,
          2001,
          2006,
          2011,
          2013,
          2008,
          2008,
          2008,
          2002,
          2010,
          2002,
          2000,
          2008,
          2000,
          1997,
          2001,
          1998,
          2014,
          2001,
          2005,
          2008,
          1990,
          1974,
          2000,
          2005,
          2001,
          2002,
          1995,
          2006,
          2005,
          2008,
          2007,
          1994,
          2010,
          2000,
          1979,
          1986,
          1990,
          1995,
          2008,
          2007,
          2009,
          1996,
          1979,
          2000,
          1980,
          1997,
          1998,
          1995,
          1996,
          2002,
          2000,
          2001,
          2007,
          2002,
          2007,
          1997,
          2010,
          2004,
          2001,
          2006,
          2012,
          1996,
          2011,
          1996,
          1998,
          2003,
          2007,
          2004,
          2013,
          1998,
          2007,
          2007,
          1999,
          1995,
          1999,
          2004,
          1997,
          2009,
          1995,
          2003,
          1982,
          1977,
          1973,
          1982,
          2001,
          2004,
          1999,
          2012,
          1974,
          2012,
          2004,
          2001,
          2002,
          2004,
          2003,
          1990,
          1974,
          1998,
          1997,
          2003,
          2012,
          2007,
          1985,
          1986,
          1984,
          1999,
          1998,
          2008,
          2007,
          1961,
          1967,
          1994,
          2008,
          2010,
          2010,
          1969,
          1981,
          2007,
          2000,
          1996,
          1986,
          2001,
          2003,
          1985,
          1996,
          1998,
          1969,
          1981,
          1974,
          1979,
          2001,
          2006,
          1994,
          1981,
          1974,
          1994,
          1996,
          2000,
          1999,
          2010,
          2012,
          2006,
          2008,
          2010,
          2004,
          2008,
          2013,
          1995,
          1997,
          1998,
          2004,
          2000,
          2003,
          2007,
          2008,
          2007,
          1997,
          1992,
          2003,
          1989,
          1989,
          1972,
          1970,
          1978,
          1974,
          2004,
          1980,
          2006,
          1994,
          1978,
          1971,
          1986,
          1990,
          2015,
          1999,
          2012,
          1968,
          2014,
          2006,
          1998,
          2001,
          2006,
          2007,
          1956,
          1974,
          1999,
          2002,
          1997,
          2007,
          1996,
          2001,
          1998,
          2009,
          1999,
          2000,
          1996,
          1996,
          1995,
          1966,
          2014,
          1993,
          1999,
          1993,
          1998,
          1995,
          2004,
          2006,
          2009,
          2009,
          2011,
          2011,
          2007,
          2014,
          2016,
          2003,
          2006,
          2007,
          2010,
          2008,
          1996,
          1992,
          1993,
          1995,
          1978,
          1984,
          1989,
          2011,
          1998,
          2007,
          2003,
          2012,
          1995,
          2010,
          2006,
          2010,
          2006,
          2003,
          2002,
          2001,
          2002,
          2002,
          2005,
          1969,
          2000,
          1995,
          2002,
          2005,
          1996,
          2009,
          2009,
          2005,
          2006,
          2008,
          2009,
          2003,
          1979,
          2001,
          2007,
          1989,
          1992,
          1991,
          1971,
          1960,
          1955,
          1991,
          1985,
          1991,
          2000,
          1996,
          2004,
          2005,
          2006,
          2012,
          2012,
          2012,
          2006,
          1997,
          1997,
          2000,
          1997,
          2002,
          2006,
          1998,
          2009,
          2000,
          2000,
          2011,
          2006,
          2002,
          2001,
          2008,
          2008,
          1998,
          2000,
          2008,
          2005,
          2008,
          2010,
          2004,
          2005,
          2007,
          1997,
          2003,
          2003,
          2010,
          2001,
          1996,
          1999,
          2005,
          1996,
          1996,
          1998,
          1997,
          2004,
          1994,
          2002,
          1996,
          2009,
          2007,
          2012,
          2013,
          2008,
          2013,
          2003,
          2002,
          2001,
          2002,
          2012,
          2007,
          2005,
          2008,
          2011,
          1997,
          2004,
          2010,
          2001,
          2005,
          2006,
          1999,
          2002,
          1999,
          2003,
          1996,
          2003,
          2010,
          2008,
          2006,
          2007,
          2004,
          1971,
          1967,
          1993,
          2000,
          2004,
          1990,
          2000,
          1996,
          2004,
          1992,
          2003,
          2008,
          2005,
          2011,
          2002,
          2003,
          2000,
          2008,
          2005,
          2011,
          1986,
          1968,
          1999,
          2003,
          1983,
          2006,
          2013,
          2012,
          2013,
          1992,
          1990,
          2005,
          2007,
          2002,
          1992,
          1972,
          1971,
          1982,
          2001,
          2003,
          2004,
          2006,
          2003,
          1984,
          2008,
          1998,
          1992,
          1995,
          1999,
          1995,
          2002,
          2004,
          2006,
          2006,
          1984,
          2004,
          1996,
          2005,
          2006,
          2002,
          2004,
          2000,
          2011,
          1997,
          2003,
          2008,
          1991,
          2011,
          2011,
          1985,
          1990,
          1998,
          2000,
          2007,
          2006,
          2009,
          2004,
          2010,
          2001,
          2000,
          2007,
          2001,
          2010,
          2009,
          1983,
          1971,
          2007,
          1980,
          1993,
          1978,
          1973,
          1971,
          1969,
          1972,
          1973,
          1976,
          1970,
          1971,
          1979,
          1977,
          1981,
          1981,
          1984,
          1992,
          1984,
          1988,
          2008,
          2004,
          1960,
          2004,
          1972,
          1978,
          1985,
          2000,
          1997,
          1983,
          2000,
          1977,
          1987,
          2002,
          1978,
          1990,
          1983,
          2004,
          1988,
          1990,
          1997,
          2007,
          2005,
          2003,
          2001,
          2002,
          2005,
          2009,
          1976,
          2003,
          2006,
          1982,
          1982,
          1977,
          1971,
          1976,
          1979,
          1981,
          1983,
          1986,
          2004,
          1982,
          1990,
          2009,
          1974,
          1977,
          2001,
          1999,
          2001,
          2002,
          2007,
          2007,
          2011,
          2007,
          2009,
          2000,
          2008,
          2003,
          2003,
          2006,
          2008,
          2008,
          2008,
          2007
         ],
         "xaxis": "x",
         "yaxis": "y"
        },
        {
         "alignmentgroup": "True",
         "bingroup": "x",
         "hovertemplate": "condition=Oldtimer<br>manufacture_year=%{x}<br>count=%{y}<extra></extra>",
         "legendgroup": "Oldtimer",
         "marker": {
          "color": "#EF553B",
          "pattern": {
           "shape": ""
          }
         },
         "name": "Oldtimer",
         "offsetgroup": "Oldtimer",
         "orientation": "v",
         "showlegend": true,
         "type": "histogram",
         "x": [
          1970,
          1959,
          1960,
          1975,
          1980,
          1970,
          1966,
          1927,
          1973,
          1968,
          1939,
          1973,
          1930,
          1957,
          1976,
          1976,
          1972,
          1976,
          1979,
          1982,
          1969,
          1982,
          1980,
          1981,
          1985,
          1972,
          1957
         ],
         "xaxis": "x",
         "yaxis": "y"
        },
        {
         "alignmentgroup": "True",
         "bingroup": "x",
         "hovertemplate": "condition=Vorführmodell<br>manufacture_year=%{x}<br>count=%{y}<extra></extra>",
         "legendgroup": "Vorführmodell",
         "marker": {
          "color": "#00cc96",
          "pattern": {
           "shape": ""
          }
         },
         "name": "Vorführmodell",
         "offsetgroup": "Vorführmodell",
         "orientation": "v",
         "showlegend": true,
         "type": "histogram",
         "x": [
          2010,
          1997,
          2011,
          2008,
          2001,
          2007,
          2009
         ],
         "xaxis": "x",
         "yaxis": "y"
        },
        {
         "alignmentgroup": "True",
         "bingroup": "x",
         "hovertemplate": "condition=Neu<br>manufacture_year=%{x}<br>count=%{y}<extra></extra>",
         "legendgroup": "Neu",
         "marker": {
          "color": "#ab63fa",
          "pattern": {
           "shape": ""
          }
         },
         "name": "Neu",
         "offsetgroup": "Neu",
         "orientation": "v",
         "showlegend": true,
         "type": "histogram",
         "x": [
          2015,
          2005,
          2006,
          2012,
          2015,
          2011,
          2006
         ],
         "xaxis": "x",
         "yaxis": "y"
        }
       ],
       "layout": {
        "barmode": "relative",
        "legend": {
         "title": {
          "text": "condition"
         },
         "tracegroupgap": 0
        },
        "margin": {
         "t": 60
        },
        "plot_bgcolor": "white",
        "template": {
         "data": {
          "bar": [
           {
            "error_x": {
             "color": "#2a3f5f"
            },
            "error_y": {
             "color": "#2a3f5f"
            },
            "marker": {
             "line": {
              "color": "#E5ECF6",
              "width": 0.5
             },
             "pattern": {
              "fillmode": "overlay",
              "size": 10,
              "solidity": 0.2
             }
            },
            "type": "bar"
           }
          ],
          "barpolar": [
           {
            "marker": {
             "line": {
              "color": "#E5ECF6",
              "width": 0.5
             },
             "pattern": {
              "fillmode": "overlay",
              "size": 10,
              "solidity": 0.2
             }
            },
            "type": "barpolar"
           }
          ],
          "carpet": [
           {
            "aaxis": {
             "endlinecolor": "#2a3f5f",
             "gridcolor": "white",
             "linecolor": "white",
             "minorgridcolor": "white",
             "startlinecolor": "#2a3f5f"
            },
            "baxis": {
             "endlinecolor": "#2a3f5f",
             "gridcolor": "white",
             "linecolor": "white",
             "minorgridcolor": "white",
             "startlinecolor": "#2a3f5f"
            },
            "type": "carpet"
           }
          ],
          "choropleth": [
           {
            "colorbar": {
             "outlinewidth": 0,
             "ticks": ""
            },
            "type": "choropleth"
           }
          ],
          "contour": [
           {
            "colorbar": {
             "outlinewidth": 0,
             "ticks": ""
            },
            "colorscale": [
             [
              0,
              "#0d0887"
             ],
             [
              0.1111111111111111,
              "#46039f"
             ],
             [
              0.2222222222222222,
              "#7201a8"
             ],
             [
              0.3333333333333333,
              "#9c179e"
             ],
             [
              0.4444444444444444,
              "#bd3786"
             ],
             [
              0.5555555555555556,
              "#d8576b"
             ],
             [
              0.6666666666666666,
              "#ed7953"
             ],
             [
              0.7777777777777778,
              "#fb9f3a"
             ],
             [
              0.8888888888888888,
              "#fdca26"
             ],
             [
              1,
              "#f0f921"
             ]
            ],
            "type": "contour"
           }
          ],
          "contourcarpet": [
           {
            "colorbar": {
             "outlinewidth": 0,
             "ticks": ""
            },
            "type": "contourcarpet"
           }
          ],
          "heatmap": [
           {
            "colorbar": {
             "outlinewidth": 0,
             "ticks": ""
            },
            "colorscale": [
             [
              0,
              "#0d0887"
             ],
             [
              0.1111111111111111,
              "#46039f"
             ],
             [
              0.2222222222222222,
              "#7201a8"
             ],
             [
              0.3333333333333333,
              "#9c179e"
             ],
             [
              0.4444444444444444,
              "#bd3786"
             ],
             [
              0.5555555555555556,
              "#d8576b"
             ],
             [
              0.6666666666666666,
              "#ed7953"
             ],
             [
              0.7777777777777778,
              "#fb9f3a"
             ],
             [
              0.8888888888888888,
              "#fdca26"
             ],
             [
              1,
              "#f0f921"
             ]
            ],
            "type": "heatmap"
           }
          ],
          "heatmapgl": [
           {
            "colorbar": {
             "outlinewidth": 0,
             "ticks": ""
            },
            "colorscale": [
             [
              0,
              "#0d0887"
             ],
             [
              0.1111111111111111,
              "#46039f"
             ],
             [
              0.2222222222222222,
              "#7201a8"
             ],
             [
              0.3333333333333333,
              "#9c179e"
             ],
             [
              0.4444444444444444,
              "#bd3786"
             ],
             [
              0.5555555555555556,
              "#d8576b"
             ],
             [
              0.6666666666666666,
              "#ed7953"
             ],
             [
              0.7777777777777778,
              "#fb9f3a"
             ],
             [
              0.8888888888888888,
              "#fdca26"
             ],
             [
              1,
              "#f0f921"
             ]
            ],
            "type": "heatmapgl"
           }
          ],
          "histogram": [
           {
            "marker": {
             "pattern": {
              "fillmode": "overlay",
              "size": 10,
              "solidity": 0.2
             }
            },
            "type": "histogram"
           }
          ],
          "histogram2d": [
           {
            "colorbar": {
             "outlinewidth": 0,
             "ticks": ""
            },
            "colorscale": [
             [
              0,
              "#0d0887"
             ],
             [
              0.1111111111111111,
              "#46039f"
             ],
             [
              0.2222222222222222,
              "#7201a8"
             ],
             [
              0.3333333333333333,
              "#9c179e"
             ],
             [
              0.4444444444444444,
              "#bd3786"
             ],
             [
              0.5555555555555556,
              "#d8576b"
             ],
             [
              0.6666666666666666,
              "#ed7953"
             ],
             [
              0.7777777777777778,
              "#fb9f3a"
             ],
             [
              0.8888888888888888,
              "#fdca26"
             ],
             [
              1,
              "#f0f921"
             ]
            ],
            "type": "histogram2d"
           }
          ],
          "histogram2dcontour": [
           {
            "colorbar": {
             "outlinewidth": 0,
             "ticks": ""
            },
            "colorscale": [
             [
              0,
              "#0d0887"
             ],
             [
              0.1111111111111111,
              "#46039f"
             ],
             [
              0.2222222222222222,
              "#7201a8"
             ],
             [
              0.3333333333333333,
              "#9c179e"
             ],
             [
              0.4444444444444444,
              "#bd3786"
             ],
             [
              0.5555555555555556,
              "#d8576b"
             ],
             [
              0.6666666666666666,
              "#ed7953"
             ],
             [
              0.7777777777777778,
              "#fb9f3a"
             ],
             [
              0.8888888888888888,
              "#fdca26"
             ],
             [
              1,
              "#f0f921"
             ]
            ],
            "type": "histogram2dcontour"
           }
          ],
          "mesh3d": [
           {
            "colorbar": {
             "outlinewidth": 0,
             "ticks": ""
            },
            "type": "mesh3d"
           }
          ],
          "parcoords": [
           {
            "line": {
             "colorbar": {
              "outlinewidth": 0,
              "ticks": ""
             }
            },
            "type": "parcoords"
           }
          ],
          "pie": [
           {
            "automargin": true,
            "type": "pie"
           }
          ],
          "scatter": [
           {
            "marker": {
             "colorbar": {
              "outlinewidth": 0,
              "ticks": ""
             }
            },
            "type": "scatter"
           }
          ],
          "scatter3d": [
           {
            "line": {
             "colorbar": {
              "outlinewidth": 0,
              "ticks": ""
             }
            },
            "marker": {
             "colorbar": {
              "outlinewidth": 0,
              "ticks": ""
             }
            },
            "type": "scatter3d"
           }
          ],
          "scattercarpet": [
           {
            "marker": {
             "colorbar": {
              "outlinewidth": 0,
              "ticks": ""
             }
            },
            "type": "scattercarpet"
           }
          ],
          "scattergeo": [
           {
            "marker": {
             "colorbar": {
              "outlinewidth": 0,
              "ticks": ""
             }
            },
            "type": "scattergeo"
           }
          ],
          "scattergl": [
           {
            "marker": {
             "colorbar": {
              "outlinewidth": 0,
              "ticks": ""
             }
            },
            "type": "scattergl"
           }
          ],
          "scattermapbox": [
           {
            "marker": {
             "colorbar": {
              "outlinewidth": 0,
              "ticks": ""
             }
            },
            "type": "scattermapbox"
           }
          ],
          "scatterpolar": [
           {
            "marker": {
             "colorbar": {
              "outlinewidth": 0,
              "ticks": ""
             }
            },
            "type": "scatterpolar"
           }
          ],
          "scatterpolargl": [
           {
            "marker": {
             "colorbar": {
              "outlinewidth": 0,
              "ticks": ""
             }
            },
            "type": "scatterpolargl"
           }
          ],
          "scatterternary": [
           {
            "marker": {
             "colorbar": {
              "outlinewidth": 0,
              "ticks": ""
             }
            },
            "type": "scatterternary"
           }
          ],
          "surface": [
           {
            "colorbar": {
             "outlinewidth": 0,
             "ticks": ""
            },
            "colorscale": [
             [
              0,
              "#0d0887"
             ],
             [
              0.1111111111111111,
              "#46039f"
             ],
             [
              0.2222222222222222,
              "#7201a8"
             ],
             [
              0.3333333333333333,
              "#9c179e"
             ],
             [
              0.4444444444444444,
              "#bd3786"
             ],
             [
              0.5555555555555556,
              "#d8576b"
             ],
             [
              0.6666666666666666,
              "#ed7953"
             ],
             [
              0.7777777777777778,
              "#fb9f3a"
             ],
             [
              0.8888888888888888,
              "#fdca26"
             ],
             [
              1,
              "#f0f921"
             ]
            ],
            "type": "surface"
           }
          ],
          "table": [
           {
            "cells": {
             "fill": {
              "color": "#EBF0F8"
             },
             "line": {
              "color": "white"
             }
            },
            "header": {
             "fill": {
              "color": "#C8D4E3"
             },
             "line": {
              "color": "white"
             }
            },
            "type": "table"
           }
          ]
         },
         "layout": {
          "annotationdefaults": {
           "arrowcolor": "#2a3f5f",
           "arrowhead": 0,
           "arrowwidth": 1
          },
          "autotypenumbers": "strict",
          "coloraxis": {
           "colorbar": {
            "outlinewidth": 0,
            "ticks": ""
           }
          },
          "colorscale": {
           "diverging": [
            [
             0,
             "#8e0152"
            ],
            [
             0.1,
             "#c51b7d"
            ],
            [
             0.2,
             "#de77ae"
            ],
            [
             0.3,
             "#f1b6da"
            ],
            [
             0.4,
             "#fde0ef"
            ],
            [
             0.5,
             "#f7f7f7"
            ],
            [
             0.6,
             "#e6f5d0"
            ],
            [
             0.7,
             "#b8e186"
            ],
            [
             0.8,
             "#7fbc41"
            ],
            [
             0.9,
             "#4d9221"
            ],
            [
             1,
             "#276419"
            ]
           ],
           "sequential": [
            [
             0,
             "#0d0887"
            ],
            [
             0.1111111111111111,
             "#46039f"
            ],
            [
             0.2222222222222222,
             "#7201a8"
            ],
            [
             0.3333333333333333,
             "#9c179e"
            ],
            [
             0.4444444444444444,
             "#bd3786"
            ],
            [
             0.5555555555555556,
             "#d8576b"
            ],
            [
             0.6666666666666666,
             "#ed7953"
            ],
            [
             0.7777777777777778,
             "#fb9f3a"
            ],
            [
             0.8888888888888888,
             "#fdca26"
            ],
            [
             1,
             "#f0f921"
            ]
           ],
           "sequentialminus": [
            [
             0,
             "#0d0887"
            ],
            [
             0.1111111111111111,
             "#46039f"
            ],
            [
             0.2222222222222222,
             "#7201a8"
            ],
            [
             0.3333333333333333,
             "#9c179e"
            ],
            [
             0.4444444444444444,
             "#bd3786"
            ],
            [
             0.5555555555555556,
             "#d8576b"
            ],
            [
             0.6666666666666666,
             "#ed7953"
            ],
            [
             0.7777777777777778,
             "#fb9f3a"
            ],
            [
             0.8888888888888888,
             "#fdca26"
            ],
            [
             1,
             "#f0f921"
            ]
           ]
          },
          "colorway": [
           "#636efa",
           "#EF553B",
           "#00cc96",
           "#ab63fa",
           "#FFA15A",
           "#19d3f3",
           "#FF6692",
           "#B6E880",
           "#FF97FF",
           "#FECB52"
          ],
          "font": {
           "color": "#2a3f5f"
          },
          "geo": {
           "bgcolor": "white",
           "lakecolor": "white",
           "landcolor": "#E5ECF6",
           "showlakes": true,
           "showland": true,
           "subunitcolor": "white"
          },
          "hoverlabel": {
           "align": "left"
          },
          "hovermode": "closest",
          "mapbox": {
           "style": "light"
          },
          "paper_bgcolor": "white",
          "plot_bgcolor": "#E5ECF6",
          "polar": {
           "angularaxis": {
            "gridcolor": "white",
            "linecolor": "white",
            "ticks": ""
           },
           "bgcolor": "#E5ECF6",
           "radialaxis": {
            "gridcolor": "white",
            "linecolor": "white",
            "ticks": ""
           }
          },
          "scene": {
           "xaxis": {
            "backgroundcolor": "#E5ECF6",
            "gridcolor": "white",
            "gridwidth": 2,
            "linecolor": "white",
            "showbackground": true,
            "ticks": "",
            "zerolinecolor": "white"
           },
           "yaxis": {
            "backgroundcolor": "#E5ECF6",
            "gridcolor": "white",
            "gridwidth": 2,
            "linecolor": "white",
            "showbackground": true,
            "ticks": "",
            "zerolinecolor": "white"
           },
           "zaxis": {
            "backgroundcolor": "#E5ECF6",
            "gridcolor": "white",
            "gridwidth": 2,
            "linecolor": "white",
            "showbackground": true,
            "ticks": "",
            "zerolinecolor": "white"
           }
          },
          "shapedefaults": {
           "line": {
            "color": "#2a3f5f"
           }
          },
          "ternary": {
           "aaxis": {
            "gridcolor": "white",
            "linecolor": "white",
            "ticks": ""
           },
           "baxis": {
            "gridcolor": "white",
            "linecolor": "white",
            "ticks": ""
           },
           "bgcolor": "#E5ECF6",
           "caxis": {
            "gridcolor": "white",
            "linecolor": "white",
            "ticks": ""
           }
          },
          "title": {
           "x": 0.05
          },
          "xaxis": {
           "automargin": true,
           "gridcolor": "white",
           "linecolor": "white",
           "ticks": "",
           "title": {
            "standoff": 15
           },
           "zerolinecolor": "white",
           "zerolinewidth": 2
          },
          "yaxis": {
           "automargin": true,
           "gridcolor": "white",
           "linecolor": "white",
           "ticks": "",
           "title": {
            "standoff": 15
           },
           "zerolinecolor": "white",
           "zerolinewidth": 2
          }
         }
        },
        "title": {
         "text": "<b>Total count of manufacturing year of all cars</b>",
         "x": 0.5
        },
        "xaxis": {
         "anchor": "y",
         "categoryorder": "total descending",
         "domain": [
          0,
          1
         ],
         "linecolor": "black",
         "linewidth": 2,
         "showline": true,
         "showticklabels": true,
         "title": {
          "text": "Manufacture Year"
         }
        },
        "yaxis": {
         "anchor": "x",
         "domain": [
          0,
          1
         ],
         "linecolor": "black",
         "linewidth": 2,
         "showline": true,
         "showticklabels": true,
         "title": {
          "text": "Total Cars"
         }
        }
       }
      },
      "text/html": [
       "<div>                            <div id=\"8861a58b-835a-47bb-a2e3-151fe651adff\" class=\"plotly-graph-div\" style=\"height:525px; width:100%;\"></div>            <script type=\"text/javascript\">                require([\"plotly\"], function(Plotly) {                    window.PLOTLYENV=window.PLOTLYENV || {};                                    if (document.getElementById(\"8861a58b-835a-47bb-a2e3-151fe651adff\")) {                    Plotly.newPlot(                        \"8861a58b-835a-47bb-a2e3-151fe651adff\",                        [{\"alignmentgroup\":\"True\",\"bingroup\":\"x\",\"hovertemplate\":\"condition=Occasion<br>manufacture_year=%{x}<br>count=%{y}<extra></extra>\",\"legendgroup\":\"Occasion\",\"marker\":{\"color\":\"#636efa\",\"pattern\":{\"shape\":\"\"}},\"name\":\"Occasion\",\"offsetgroup\":\"Occasion\",\"orientation\":\"v\",\"showlegend\":true,\"type\":\"histogram\",\"x\":[2004,1972,1999,1972,1984,1981,2008,1984,1988,2011,1998,2004,2005,2005,2012,2010,1987,2007,2003,1991,2004,1998,2002,2004,2002,1998,2004,2000,1999,2004,1999,1997,1996,2007,2009,2012,2010,2006,2013,2006,2001,2006,2011,2013,2008,2008,2008,2002,2010,2002,2000,2008,2000,1997,2001,1998,2014,2001,2005,2008,1990,1974,2000,2005,2001,2002,1995,2006,2005,2008,2007,1994,2010,2000,1979,1986,1990,1995,2008,2007,2009,1996,1979,2000,1980,1997,1998,1995,1996,2002,2000,2001,2007,2002,2007,1997,2010,2004,2001,2006,2012,1996,2011,1996,1998,2003,2007,2004,2013,1998,2007,2007,1999,1995,1999,2004,1997,2009,1995,2003,1982,1977,1973,1982,2001,2004,1999,2012,1974,2012,2004,2001,2002,2004,2003,1990,1974,1998,1997,2003,2012,2007,1985,1986,1984,1999,1998,2008,2007,1961,1967,1994,2008,2010,2010,1969,1981,2007,2000,1996,1986,2001,2003,1985,1996,1998,1969,1981,1974,1979,2001,2006,1994,1981,1974,1994,1996,2000,1999,2010,2012,2006,2008,2010,2004,2008,2013,1995,1997,1998,2004,2000,2003,2007,2008,2007,1997,1992,2003,1989,1989,1972,1970,1978,1974,2004,1980,2006,1994,1978,1971,1986,1990,2015,1999,2012,1968,2014,2006,1998,2001,2006,2007,1956,1974,1999,2002,1997,2007,1996,2001,1998,2009,1999,2000,1996,1996,1995,1966,2014,1993,1999,1993,1998,1995,2004,2006,2009,2009,2011,2011,2007,2014,2016,2003,2006,2007,2010,2008,1996,1992,1993,1995,1978,1984,1989,2011,1998,2007,2003,2012,1995,2010,2006,2010,2006,2003,2002,2001,2002,2002,2005,1969,2000,1995,2002,2005,1996,2009,2009,2005,2006,2008,2009,2003,1979,2001,2007,1989,1992,1991,1971,1960,1955,1991,1985,1991,2000,1996,2004,2005,2006,2012,2012,2012,2006,1997,1997,2000,1997,2002,2006,1998,2009,2000,2000,2011,2006,2002,2001,2008,2008,1998,2000,2008,2005,2008,2010,2004,2005,2007,1997,2003,2003,2010,2001,1996,1999,2005,1996,1996,1998,1997,2004,1994,2002,1996,2009,2007,2012,2013,2008,2013,2003,2002,2001,2002,2012,2007,2005,2008,2011,1997,2004,2010,2001,2005,2006,1999,2002,1999,2003,1996,2003,2010,2008,2006,2007,2004,1971,1967,1993,2000,2004,1990,2000,1996,2004,1992,2003,2008,2005,2011,2002,2003,2000,2008,2005,2011,1986,1968,1999,2003,1983,2006,2013,2012,2013,1992,1990,2005,2007,2002,1992,1972,1971,1982,2001,2003,2004,2006,2003,1984,2008,1998,1992,1995,1999,1995,2002,2004,2006,2006,1984,2004,1996,2005,2006,2002,2004,2000,2011,1997,2003,2008,1991,2011,2011,1985,1990,1998,2000,2007,2006,2009,2004,2010,2001,2000,2007,2001,2010,2009,1983,1971,2007,1980,1993,1978,1973,1971,1969,1972,1973,1976,1970,1971,1979,1977,1981,1981,1984,1992,1984,1988,2008,2004,1960,2004,1972,1978,1985,2000,1997,1983,2000,1977,1987,2002,1978,1990,1983,2004,1988,1990,1997,2007,2005,2003,2001,2002,2005,2009,1976,2003,2006,1982,1982,1977,1971,1976,1979,1981,1983,1986,2004,1982,1990,2009,1974,1977,2001,1999,2001,2002,2007,2007,2011,2007,2009,2000,2008,2003,2003,2006,2008,2008,2008,2007],\"xaxis\":\"x\",\"yaxis\":\"y\"},{\"alignmentgroup\":\"True\",\"bingroup\":\"x\",\"hovertemplate\":\"condition=Oldtimer<br>manufacture_year=%{x}<br>count=%{y}<extra></extra>\",\"legendgroup\":\"Oldtimer\",\"marker\":{\"color\":\"#EF553B\",\"pattern\":{\"shape\":\"\"}},\"name\":\"Oldtimer\",\"offsetgroup\":\"Oldtimer\",\"orientation\":\"v\",\"showlegend\":true,\"type\":\"histogram\",\"x\":[1970,1959,1960,1975,1980,1970,1966,1927,1973,1968,1939,1973,1930,1957,1976,1976,1972,1976,1979,1982,1969,1982,1980,1981,1985,1972,1957],\"xaxis\":\"x\",\"yaxis\":\"y\"},{\"alignmentgroup\":\"True\",\"bingroup\":\"x\",\"hovertemplate\":\"condition=Vorf\\u00fchrmodell<br>manufacture_year=%{x}<br>count=%{y}<extra></extra>\",\"legendgroup\":\"Vorf\\u00fchrmodell\",\"marker\":{\"color\":\"#00cc96\",\"pattern\":{\"shape\":\"\"}},\"name\":\"Vorf\\u00fchrmodell\",\"offsetgroup\":\"Vorf\\u00fchrmodell\",\"orientation\":\"v\",\"showlegend\":true,\"type\":\"histogram\",\"x\":[2010,1997,2011,2008,2001,2007,2009],\"xaxis\":\"x\",\"yaxis\":\"y\"},{\"alignmentgroup\":\"True\",\"bingroup\":\"x\",\"hovertemplate\":\"condition=Neu<br>manufacture_year=%{x}<br>count=%{y}<extra></extra>\",\"legendgroup\":\"Neu\",\"marker\":{\"color\":\"#ab63fa\",\"pattern\":{\"shape\":\"\"}},\"name\":\"Neu\",\"offsetgroup\":\"Neu\",\"orientation\":\"v\",\"showlegend\":true,\"type\":\"histogram\",\"x\":[2015,2005,2006,2012,2015,2011,2006],\"xaxis\":\"x\",\"yaxis\":\"y\"}],                        {\"barmode\":\"relative\",\"legend\":{\"title\":{\"text\":\"condition\"},\"tracegroupgap\":0},\"margin\":{\"t\":60},\"plot_bgcolor\":\"white\",\"template\":{\"data\":{\"bar\":[{\"error_x\":{\"color\":\"#2a3f5f\"},\"error_y\":{\"color\":\"#2a3f5f\"},\"marker\":{\"line\":{\"color\":\"#E5ECF6\",\"width\":0.5},\"pattern\":{\"fillmode\":\"overlay\",\"size\":10,\"solidity\":0.2}},\"type\":\"bar\"}],\"barpolar\":[{\"marker\":{\"line\":{\"color\":\"#E5ECF6\",\"width\":0.5},\"pattern\":{\"fillmode\":\"overlay\",\"size\":10,\"solidity\":0.2}},\"type\":\"barpolar\"}],\"carpet\":[{\"aaxis\":{\"endlinecolor\":\"#2a3f5f\",\"gridcolor\":\"white\",\"linecolor\":\"white\",\"minorgridcolor\":\"white\",\"startlinecolor\":\"#2a3f5f\"},\"baxis\":{\"endlinecolor\":\"#2a3f5f\",\"gridcolor\":\"white\",\"linecolor\":\"white\",\"minorgridcolor\":\"white\",\"startlinecolor\":\"#2a3f5f\"},\"type\":\"carpet\"}],\"choropleth\":[{\"colorbar\":{\"outlinewidth\":0,\"ticks\":\"\"},\"type\":\"choropleth\"}],\"contour\":[{\"colorbar\":{\"outlinewidth\":0,\"ticks\":\"\"},\"colorscale\":[[0.0,\"#0d0887\"],[0.1111111111111111,\"#46039f\"],[0.2222222222222222,\"#7201a8\"],[0.3333333333333333,\"#9c179e\"],[0.4444444444444444,\"#bd3786\"],[0.5555555555555556,\"#d8576b\"],[0.6666666666666666,\"#ed7953\"],[0.7777777777777778,\"#fb9f3a\"],[0.8888888888888888,\"#fdca26\"],[1.0,\"#f0f921\"]],\"type\":\"contour\"}],\"contourcarpet\":[{\"colorbar\":{\"outlinewidth\":0,\"ticks\":\"\"},\"type\":\"contourcarpet\"}],\"heatmap\":[{\"colorbar\":{\"outlinewidth\":0,\"ticks\":\"\"},\"colorscale\":[[0.0,\"#0d0887\"],[0.1111111111111111,\"#46039f\"],[0.2222222222222222,\"#7201a8\"],[0.3333333333333333,\"#9c179e\"],[0.4444444444444444,\"#bd3786\"],[0.5555555555555556,\"#d8576b\"],[0.6666666666666666,\"#ed7953\"],[0.7777777777777778,\"#fb9f3a\"],[0.8888888888888888,\"#fdca26\"],[1.0,\"#f0f921\"]],\"type\":\"heatmap\"}],\"heatmapgl\":[{\"colorbar\":{\"outlinewidth\":0,\"ticks\":\"\"},\"colorscale\":[[0.0,\"#0d0887\"],[0.1111111111111111,\"#46039f\"],[0.2222222222222222,\"#7201a8\"],[0.3333333333333333,\"#9c179e\"],[0.4444444444444444,\"#bd3786\"],[0.5555555555555556,\"#d8576b\"],[0.6666666666666666,\"#ed7953\"],[0.7777777777777778,\"#fb9f3a\"],[0.8888888888888888,\"#fdca26\"],[1.0,\"#f0f921\"]],\"type\":\"heatmapgl\"}],\"histogram\":[{\"marker\":{\"pattern\":{\"fillmode\":\"overlay\",\"size\":10,\"solidity\":0.2}},\"type\":\"histogram\"}],\"histogram2d\":[{\"colorbar\":{\"outlinewidth\":0,\"ticks\":\"\"},\"colorscale\":[[0.0,\"#0d0887\"],[0.1111111111111111,\"#46039f\"],[0.2222222222222222,\"#7201a8\"],[0.3333333333333333,\"#9c179e\"],[0.4444444444444444,\"#bd3786\"],[0.5555555555555556,\"#d8576b\"],[0.6666666666666666,\"#ed7953\"],[0.7777777777777778,\"#fb9f3a\"],[0.8888888888888888,\"#fdca26\"],[1.0,\"#f0f921\"]],\"type\":\"histogram2d\"}],\"histogram2dcontour\":[{\"colorbar\":{\"outlinewidth\":0,\"ticks\":\"\"},\"colorscale\":[[0.0,\"#0d0887\"],[0.1111111111111111,\"#46039f\"],[0.2222222222222222,\"#7201a8\"],[0.3333333333333333,\"#9c179e\"],[0.4444444444444444,\"#bd3786\"],[0.5555555555555556,\"#d8576b\"],[0.6666666666666666,\"#ed7953\"],[0.7777777777777778,\"#fb9f3a\"],[0.8888888888888888,\"#fdca26\"],[1.0,\"#f0f921\"]],\"type\":\"histogram2dcontour\"}],\"mesh3d\":[{\"colorbar\":{\"outlinewidth\":0,\"ticks\":\"\"},\"type\":\"mesh3d\"}],\"parcoords\":[{\"line\":{\"colorbar\":{\"outlinewidth\":0,\"ticks\":\"\"}},\"type\":\"parcoords\"}],\"pie\":[{\"automargin\":true,\"type\":\"pie\"}],\"scatter\":[{\"marker\":{\"colorbar\":{\"outlinewidth\":0,\"ticks\":\"\"}},\"type\":\"scatter\"}],\"scatter3d\":[{\"line\":{\"colorbar\":{\"outlinewidth\":0,\"ticks\":\"\"}},\"marker\":{\"colorbar\":{\"outlinewidth\":0,\"ticks\":\"\"}},\"type\":\"scatter3d\"}],\"scattercarpet\":[{\"marker\":{\"colorbar\":{\"outlinewidth\":0,\"ticks\":\"\"}},\"type\":\"scattercarpet\"}],\"scattergeo\":[{\"marker\":{\"colorbar\":{\"outlinewidth\":0,\"ticks\":\"\"}},\"type\":\"scattergeo\"}],\"scattergl\":[{\"marker\":{\"colorbar\":{\"outlinewidth\":0,\"ticks\":\"\"}},\"type\":\"scattergl\"}],\"scattermapbox\":[{\"marker\":{\"colorbar\":{\"outlinewidth\":0,\"ticks\":\"\"}},\"type\":\"scattermapbox\"}],\"scatterpolar\":[{\"marker\":{\"colorbar\":{\"outlinewidth\":0,\"ticks\":\"\"}},\"type\":\"scatterpolar\"}],\"scatterpolargl\":[{\"marker\":{\"colorbar\":{\"outlinewidth\":0,\"ticks\":\"\"}},\"type\":\"scatterpolargl\"}],\"scatterternary\":[{\"marker\":{\"colorbar\":{\"outlinewidth\":0,\"ticks\":\"\"}},\"type\":\"scatterternary\"}],\"surface\":[{\"colorbar\":{\"outlinewidth\":0,\"ticks\":\"\"},\"colorscale\":[[0.0,\"#0d0887\"],[0.1111111111111111,\"#46039f\"],[0.2222222222222222,\"#7201a8\"],[0.3333333333333333,\"#9c179e\"],[0.4444444444444444,\"#bd3786\"],[0.5555555555555556,\"#d8576b\"],[0.6666666666666666,\"#ed7953\"],[0.7777777777777778,\"#fb9f3a\"],[0.8888888888888888,\"#fdca26\"],[1.0,\"#f0f921\"]],\"type\":\"surface\"}],\"table\":[{\"cells\":{\"fill\":{\"color\":\"#EBF0F8\"},\"line\":{\"color\":\"white\"}},\"header\":{\"fill\":{\"color\":\"#C8D4E3\"},\"line\":{\"color\":\"white\"}},\"type\":\"table\"}]},\"layout\":{\"annotationdefaults\":{\"arrowcolor\":\"#2a3f5f\",\"arrowhead\":0,\"arrowwidth\":1},\"autotypenumbers\":\"strict\",\"coloraxis\":{\"colorbar\":{\"outlinewidth\":0,\"ticks\":\"\"}},\"colorscale\":{\"diverging\":[[0,\"#8e0152\"],[0.1,\"#c51b7d\"],[0.2,\"#de77ae\"],[0.3,\"#f1b6da\"],[0.4,\"#fde0ef\"],[0.5,\"#f7f7f7\"],[0.6,\"#e6f5d0\"],[0.7,\"#b8e186\"],[0.8,\"#7fbc41\"],[0.9,\"#4d9221\"],[1,\"#276419\"]],\"sequential\":[[0.0,\"#0d0887\"],[0.1111111111111111,\"#46039f\"],[0.2222222222222222,\"#7201a8\"],[0.3333333333333333,\"#9c179e\"],[0.4444444444444444,\"#bd3786\"],[0.5555555555555556,\"#d8576b\"],[0.6666666666666666,\"#ed7953\"],[0.7777777777777778,\"#fb9f3a\"],[0.8888888888888888,\"#fdca26\"],[1.0,\"#f0f921\"]],\"sequentialminus\":[[0.0,\"#0d0887\"],[0.1111111111111111,\"#46039f\"],[0.2222222222222222,\"#7201a8\"],[0.3333333333333333,\"#9c179e\"],[0.4444444444444444,\"#bd3786\"],[0.5555555555555556,\"#d8576b\"],[0.6666666666666666,\"#ed7953\"],[0.7777777777777778,\"#fb9f3a\"],[0.8888888888888888,\"#fdca26\"],[1.0,\"#f0f921\"]]},\"colorway\":[\"#636efa\",\"#EF553B\",\"#00cc96\",\"#ab63fa\",\"#FFA15A\",\"#19d3f3\",\"#FF6692\",\"#B6E880\",\"#FF97FF\",\"#FECB52\"],\"font\":{\"color\":\"#2a3f5f\"},\"geo\":{\"bgcolor\":\"white\",\"lakecolor\":\"white\",\"landcolor\":\"#E5ECF6\",\"showlakes\":true,\"showland\":true,\"subunitcolor\":\"white\"},\"hoverlabel\":{\"align\":\"left\"},\"hovermode\":\"closest\",\"mapbox\":{\"style\":\"light\"},\"paper_bgcolor\":\"white\",\"plot_bgcolor\":\"#E5ECF6\",\"polar\":{\"angularaxis\":{\"gridcolor\":\"white\",\"linecolor\":\"white\",\"ticks\":\"\"},\"bgcolor\":\"#E5ECF6\",\"radialaxis\":{\"gridcolor\":\"white\",\"linecolor\":\"white\",\"ticks\":\"\"}},\"scene\":{\"xaxis\":{\"backgroundcolor\":\"#E5ECF6\",\"gridcolor\":\"white\",\"gridwidth\":2,\"linecolor\":\"white\",\"showbackground\":true,\"ticks\":\"\",\"zerolinecolor\":\"white\"},\"yaxis\":{\"backgroundcolor\":\"#E5ECF6\",\"gridcolor\":\"white\",\"gridwidth\":2,\"linecolor\":\"white\",\"showbackground\":true,\"ticks\":\"\",\"zerolinecolor\":\"white\"},\"zaxis\":{\"backgroundcolor\":\"#E5ECF6\",\"gridcolor\":\"white\",\"gridwidth\":2,\"linecolor\":\"white\",\"showbackground\":true,\"ticks\":\"\",\"zerolinecolor\":\"white\"}},\"shapedefaults\":{\"line\":{\"color\":\"#2a3f5f\"}},\"ternary\":{\"aaxis\":{\"gridcolor\":\"white\",\"linecolor\":\"white\",\"ticks\":\"\"},\"baxis\":{\"gridcolor\":\"white\",\"linecolor\":\"white\",\"ticks\":\"\"},\"bgcolor\":\"#E5ECF6\",\"caxis\":{\"gridcolor\":\"white\",\"linecolor\":\"white\",\"ticks\":\"\"}},\"title\":{\"x\":0.05},\"xaxis\":{\"automargin\":true,\"gridcolor\":\"white\",\"linecolor\":\"white\",\"ticks\":\"\",\"title\":{\"standoff\":15},\"zerolinecolor\":\"white\",\"zerolinewidth\":2},\"yaxis\":{\"automargin\":true,\"gridcolor\":\"white\",\"linecolor\":\"white\",\"ticks\":\"\",\"title\":{\"standoff\":15},\"zerolinecolor\":\"white\",\"zerolinewidth\":2}}},\"title\":{\"text\":\"<b>Total count of manufacturing year of all cars</b>\",\"x\":0.5},\"xaxis\":{\"anchor\":\"y\",\"categoryorder\":\"total descending\",\"domain\":[0.0,1.0],\"linecolor\":\"black\",\"linewidth\":2,\"showline\":true,\"showticklabels\":true,\"title\":{\"text\":\"Manufacture Year\"}},\"yaxis\":{\"anchor\":\"x\",\"domain\":[0.0,1.0],\"linecolor\":\"black\",\"linewidth\":2,\"showline\":true,\"showticklabels\":true,\"title\":{\"text\":\"Total Cars\"}}},                        {\"responsive\": true}                    ).then(function(){\n",
       "                            \n",
       "var gd = document.getElementById('8861a58b-835a-47bb-a2e3-151fe651adff');\n",
       "var x = new MutationObserver(function (mutations, observer) {{\n",
       "        var display = window.getComputedStyle(gd).display;\n",
       "        if (!display || display === 'none') {{\n",
       "            console.log([gd, 'removed!']);\n",
       "            Plotly.purge(gd);\n",
       "            observer.disconnect();\n",
       "        }}\n",
       "}});\n",
       "\n",
       "// Listen for the removal of the full notebook cells\n",
       "var notebookContainer = gd.closest('#notebook-container');\n",
       "if (notebookContainer) {{\n",
       "    x.observe(notebookContainer, {childList: true});\n",
       "}}\n",
       "\n",
       "// Listen for the clearing of the current output cell\n",
       "var outputEl = gd.closest('.output');\n",
       "if (outputEl) {{\n",
       "    x.observe(outputEl, {childList: true});\n",
       "}}\n",
       "\n",
       "                        })                };                });            </script>        </div>"
      ]
     },
     "metadata": {},
     "output_type": "display_data"
    }
   ],
   "source": [
    "df_90 = df12[df12[\"manufacture_year\"] <= 1990]\n",
    "fig = px.histogram(df12, x = \"manufacture_year\", color = \"condition\")\n",
    "\n",
    "fig.update_layout(xaxis={'categoryorder':'total descending'},\n",
    "                 plot_bgcolor = \"white\",\n",
    "                  yaxis_title = \"Total Cars\",\n",
    "                  xaxis_title = \"Manufacture Year\",\n",
    "                  title = \"<b>Total count of manufacturing year of all cars</b>\",\n",
    "                 title_x=0.5)\n",
    "\n",
    "fig.update_yaxes(showticklabels = True, showline = True, linewidth = 2, linecolor = \"black\")\n",
    "fig.update_xaxes(showticklabels = True, showline = True, linewidth = 2, linecolor = \"black\")\n",
    "\n",
    "fig.show()"
   ]
  },
  {
   "cell_type": "code",
   "execution_count": 12,
   "metadata": {},
   "outputs": [
    {
     "data": {
      "application/vnd.plotly.v1+json": {
       "config": {
        "plotlyServerURL": "https://plot.ly"
       },
       "data": [
        {
         "domain": {
          "x": [
           0,
           1
          ],
          "y": [
           0,
           1
          ]
         },
         "hovertemplate": "make=%{label}<extra></extra>",
         "labels": [
          "Alfa Romeo",
          "Alfa Romeo",
          "Alfa Romeo",
          "Alfa Romeo",
          "Alfa Romeo",
          "Alfa Romeo",
          "Alfa Romeo",
          "Aston Martin",
          "Audi",
          "Austin-Healey",
          "Austin-Healey",
          "Autobianchi",
          "Bentley",
          "Bentley",
          "Bentley",
          "BMW",
          "BMW",
          "BMW",
          "BMW",
          "BMW",
          "BMW",
          "BMW",
          "BMW",
          "BMW",
          "BMW",
          "Bmw-Alpina",
          "Bmw-Alpina",
          "Bmw-Alpina",
          "Bmw-Alpina",
          "Chevrolet",
          "Chevrolet",
          "Chevrolet",
          "Chevrolet",
          "Citroen",
          "Daihatsu",
          "Datsun",
          "Datsun",
          "De Tomaso",
          "Dodge",
          "Delorean",
          "Ferrari",
          "Ferrari",
          "Ferrari",
          "Ferrari",
          "Fiat",
          "Fiat",
          "Fiat",
          "Fiat",
          "Fiat",
          "Ford",
          "Ford",
          "Ford",
          "Ford",
          "Ford",
          "Ford",
          "Ford (Usa)",
          "Jaguar",
          "Jaguar",
          "Kaiser",
          "Lamborghini",
          "Lancia",
          "Lancia",
          "Land Rover",
          "Lotus",
          "Marcos",
          "Matra",
          "Mazda",
          "Mercedes-Benz",
          "Mercedes-Benz",
          "Mercedes-Benz",
          "Mercedes-Benz",
          "Mercedes-Benz",
          "Mercedes-Benz",
          "Mercedes-Benz",
          "Mercedes-Benz",
          "Mercedes-Benz",
          "MG",
          "MG",
          "MG",
          "MG",
          "Mini",
          "Mitsubishi",
          "Nissan",
          "NSU",
          "NSU",
          "Opel",
          "Peugeot",
          "Porsche",
          "Porsche",
          "Porsche",
          "Porsche",
          "Porsche",
          "Porsche",
          "Porsche",
          "Renault",
          "Renault",
          "Renault",
          "Renault",
          "Renault",
          "Renault",
          "Renault",
          "Renault",
          "Renault",
          "Renault",
          "Renault",
          "Renault",
          "Renault",
          "Renault",
          "Renault",
          "Renault",
          "Renault",
          "Renault",
          "Renault",
          "Renault",
          "Renault",
          "Renault",
          "Renault",
          "Renault",
          "Renault",
          "Renault",
          "Renault",
          "Rolls-Royce",
          "Rolls-Royce",
          "Rolls-Royce",
          "Rolls-Royce",
          "Rolls-Royce",
          "Rolls-Royce",
          "Rolls-Royce",
          "RUF",
          "Simca",
          "Talbot",
          "Talbot",
          "Toyota",
          "Toyota",
          "Toyota",
          "Toyota",
          "Toyota",
          "Toyota",
          "Toyota",
          "Toyota",
          "Toyota",
          "Toyota",
          "Toyota",
          "Toyota",
          "Triumph",
          "Triumph",
          "Triumph"
         ],
         "legendgroup": "",
         "name": "",
         "showlegend": true,
         "type": "pie"
        }
       ],
       "layout": {
        "legend": {
         "tracegroupgap": 0
        },
        "margin": {
         "t": 60
        },
        "plot_bgcolor": "white",
        "template": {
         "data": {
          "bar": [
           {
            "error_x": {
             "color": "#2a3f5f"
            },
            "error_y": {
             "color": "#2a3f5f"
            },
            "marker": {
             "line": {
              "color": "#E5ECF6",
              "width": 0.5
             },
             "pattern": {
              "fillmode": "overlay",
              "size": 10,
              "solidity": 0.2
             }
            },
            "type": "bar"
           }
          ],
          "barpolar": [
           {
            "marker": {
             "line": {
              "color": "#E5ECF6",
              "width": 0.5
             },
             "pattern": {
              "fillmode": "overlay",
              "size": 10,
              "solidity": 0.2
             }
            },
            "type": "barpolar"
           }
          ],
          "carpet": [
           {
            "aaxis": {
             "endlinecolor": "#2a3f5f",
             "gridcolor": "white",
             "linecolor": "white",
             "minorgridcolor": "white",
             "startlinecolor": "#2a3f5f"
            },
            "baxis": {
             "endlinecolor": "#2a3f5f",
             "gridcolor": "white",
             "linecolor": "white",
             "minorgridcolor": "white",
             "startlinecolor": "#2a3f5f"
            },
            "type": "carpet"
           }
          ],
          "choropleth": [
           {
            "colorbar": {
             "outlinewidth": 0,
             "ticks": ""
            },
            "type": "choropleth"
           }
          ],
          "contour": [
           {
            "colorbar": {
             "outlinewidth": 0,
             "ticks": ""
            },
            "colorscale": [
             [
              0,
              "#0d0887"
             ],
             [
              0.1111111111111111,
              "#46039f"
             ],
             [
              0.2222222222222222,
              "#7201a8"
             ],
             [
              0.3333333333333333,
              "#9c179e"
             ],
             [
              0.4444444444444444,
              "#bd3786"
             ],
             [
              0.5555555555555556,
              "#d8576b"
             ],
             [
              0.6666666666666666,
              "#ed7953"
             ],
             [
              0.7777777777777778,
              "#fb9f3a"
             ],
             [
              0.8888888888888888,
              "#fdca26"
             ],
             [
              1,
              "#f0f921"
             ]
            ],
            "type": "contour"
           }
          ],
          "contourcarpet": [
           {
            "colorbar": {
             "outlinewidth": 0,
             "ticks": ""
            },
            "type": "contourcarpet"
           }
          ],
          "heatmap": [
           {
            "colorbar": {
             "outlinewidth": 0,
             "ticks": ""
            },
            "colorscale": [
             [
              0,
              "#0d0887"
             ],
             [
              0.1111111111111111,
              "#46039f"
             ],
             [
              0.2222222222222222,
              "#7201a8"
             ],
             [
              0.3333333333333333,
              "#9c179e"
             ],
             [
              0.4444444444444444,
              "#bd3786"
             ],
             [
              0.5555555555555556,
              "#d8576b"
             ],
             [
              0.6666666666666666,
              "#ed7953"
             ],
             [
              0.7777777777777778,
              "#fb9f3a"
             ],
             [
              0.8888888888888888,
              "#fdca26"
             ],
             [
              1,
              "#f0f921"
             ]
            ],
            "type": "heatmap"
           }
          ],
          "heatmapgl": [
           {
            "colorbar": {
             "outlinewidth": 0,
             "ticks": ""
            },
            "colorscale": [
             [
              0,
              "#0d0887"
             ],
             [
              0.1111111111111111,
              "#46039f"
             ],
             [
              0.2222222222222222,
              "#7201a8"
             ],
             [
              0.3333333333333333,
              "#9c179e"
             ],
             [
              0.4444444444444444,
              "#bd3786"
             ],
             [
              0.5555555555555556,
              "#d8576b"
             ],
             [
              0.6666666666666666,
              "#ed7953"
             ],
             [
              0.7777777777777778,
              "#fb9f3a"
             ],
             [
              0.8888888888888888,
              "#fdca26"
             ],
             [
              1,
              "#f0f921"
             ]
            ],
            "type": "heatmapgl"
           }
          ],
          "histogram": [
           {
            "marker": {
             "pattern": {
              "fillmode": "overlay",
              "size": 10,
              "solidity": 0.2
             }
            },
            "type": "histogram"
           }
          ],
          "histogram2d": [
           {
            "colorbar": {
             "outlinewidth": 0,
             "ticks": ""
            },
            "colorscale": [
             [
              0,
              "#0d0887"
             ],
             [
              0.1111111111111111,
              "#46039f"
             ],
             [
              0.2222222222222222,
              "#7201a8"
             ],
             [
              0.3333333333333333,
              "#9c179e"
             ],
             [
              0.4444444444444444,
              "#bd3786"
             ],
             [
              0.5555555555555556,
              "#d8576b"
             ],
             [
              0.6666666666666666,
              "#ed7953"
             ],
             [
              0.7777777777777778,
              "#fb9f3a"
             ],
             [
              0.8888888888888888,
              "#fdca26"
             ],
             [
              1,
              "#f0f921"
             ]
            ],
            "type": "histogram2d"
           }
          ],
          "histogram2dcontour": [
           {
            "colorbar": {
             "outlinewidth": 0,
             "ticks": ""
            },
            "colorscale": [
             [
              0,
              "#0d0887"
             ],
             [
              0.1111111111111111,
              "#46039f"
             ],
             [
              0.2222222222222222,
              "#7201a8"
             ],
             [
              0.3333333333333333,
              "#9c179e"
             ],
             [
              0.4444444444444444,
              "#bd3786"
             ],
             [
              0.5555555555555556,
              "#d8576b"
             ],
             [
              0.6666666666666666,
              "#ed7953"
             ],
             [
              0.7777777777777778,
              "#fb9f3a"
             ],
             [
              0.8888888888888888,
              "#fdca26"
             ],
             [
              1,
              "#f0f921"
             ]
            ],
            "type": "histogram2dcontour"
           }
          ],
          "mesh3d": [
           {
            "colorbar": {
             "outlinewidth": 0,
             "ticks": ""
            },
            "type": "mesh3d"
           }
          ],
          "parcoords": [
           {
            "line": {
             "colorbar": {
              "outlinewidth": 0,
              "ticks": ""
             }
            },
            "type": "parcoords"
           }
          ],
          "pie": [
           {
            "automargin": true,
            "type": "pie"
           }
          ],
          "scatter": [
           {
            "marker": {
             "colorbar": {
              "outlinewidth": 0,
              "ticks": ""
             }
            },
            "type": "scatter"
           }
          ],
          "scatter3d": [
           {
            "line": {
             "colorbar": {
              "outlinewidth": 0,
              "ticks": ""
             }
            },
            "marker": {
             "colorbar": {
              "outlinewidth": 0,
              "ticks": ""
             }
            },
            "type": "scatter3d"
           }
          ],
          "scattercarpet": [
           {
            "marker": {
             "colorbar": {
              "outlinewidth": 0,
              "ticks": ""
             }
            },
            "type": "scattercarpet"
           }
          ],
          "scattergeo": [
           {
            "marker": {
             "colorbar": {
              "outlinewidth": 0,
              "ticks": ""
             }
            },
            "type": "scattergeo"
           }
          ],
          "scattergl": [
           {
            "marker": {
             "colorbar": {
              "outlinewidth": 0,
              "ticks": ""
             }
            },
            "type": "scattergl"
           }
          ],
          "scattermapbox": [
           {
            "marker": {
             "colorbar": {
              "outlinewidth": 0,
              "ticks": ""
             }
            },
            "type": "scattermapbox"
           }
          ],
          "scatterpolar": [
           {
            "marker": {
             "colorbar": {
              "outlinewidth": 0,
              "ticks": ""
             }
            },
            "type": "scatterpolar"
           }
          ],
          "scatterpolargl": [
           {
            "marker": {
             "colorbar": {
              "outlinewidth": 0,
              "ticks": ""
             }
            },
            "type": "scatterpolargl"
           }
          ],
          "scatterternary": [
           {
            "marker": {
             "colorbar": {
              "outlinewidth": 0,
              "ticks": ""
             }
            },
            "type": "scatterternary"
           }
          ],
          "surface": [
           {
            "colorbar": {
             "outlinewidth": 0,
             "ticks": ""
            },
            "colorscale": [
             [
              0,
              "#0d0887"
             ],
             [
              0.1111111111111111,
              "#46039f"
             ],
             [
              0.2222222222222222,
              "#7201a8"
             ],
             [
              0.3333333333333333,
              "#9c179e"
             ],
             [
              0.4444444444444444,
              "#bd3786"
             ],
             [
              0.5555555555555556,
              "#d8576b"
             ],
             [
              0.6666666666666666,
              "#ed7953"
             ],
             [
              0.7777777777777778,
              "#fb9f3a"
             ],
             [
              0.8888888888888888,
              "#fdca26"
             ],
             [
              1,
              "#f0f921"
             ]
            ],
            "type": "surface"
           }
          ],
          "table": [
           {
            "cells": {
             "fill": {
              "color": "#EBF0F8"
             },
             "line": {
              "color": "white"
             }
            },
            "header": {
             "fill": {
              "color": "#C8D4E3"
             },
             "line": {
              "color": "white"
             }
            },
            "type": "table"
           }
          ]
         },
         "layout": {
          "annotationdefaults": {
           "arrowcolor": "#2a3f5f",
           "arrowhead": 0,
           "arrowwidth": 1
          },
          "autotypenumbers": "strict",
          "coloraxis": {
           "colorbar": {
            "outlinewidth": 0,
            "ticks": ""
           }
          },
          "colorscale": {
           "diverging": [
            [
             0,
             "#8e0152"
            ],
            [
             0.1,
             "#c51b7d"
            ],
            [
             0.2,
             "#de77ae"
            ],
            [
             0.3,
             "#f1b6da"
            ],
            [
             0.4,
             "#fde0ef"
            ],
            [
             0.5,
             "#f7f7f7"
            ],
            [
             0.6,
             "#e6f5d0"
            ],
            [
             0.7,
             "#b8e186"
            ],
            [
             0.8,
             "#7fbc41"
            ],
            [
             0.9,
             "#4d9221"
            ],
            [
             1,
             "#276419"
            ]
           ],
           "sequential": [
            [
             0,
             "#0d0887"
            ],
            [
             0.1111111111111111,
             "#46039f"
            ],
            [
             0.2222222222222222,
             "#7201a8"
            ],
            [
             0.3333333333333333,
             "#9c179e"
            ],
            [
             0.4444444444444444,
             "#bd3786"
            ],
            [
             0.5555555555555556,
             "#d8576b"
            ],
            [
             0.6666666666666666,
             "#ed7953"
            ],
            [
             0.7777777777777778,
             "#fb9f3a"
            ],
            [
             0.8888888888888888,
             "#fdca26"
            ],
            [
             1,
             "#f0f921"
            ]
           ],
           "sequentialminus": [
            [
             0,
             "#0d0887"
            ],
            [
             0.1111111111111111,
             "#46039f"
            ],
            [
             0.2222222222222222,
             "#7201a8"
            ],
            [
             0.3333333333333333,
             "#9c179e"
            ],
            [
             0.4444444444444444,
             "#bd3786"
            ],
            [
             0.5555555555555556,
             "#d8576b"
            ],
            [
             0.6666666666666666,
             "#ed7953"
            ],
            [
             0.7777777777777778,
             "#fb9f3a"
            ],
            [
             0.8888888888888888,
             "#fdca26"
            ],
            [
             1,
             "#f0f921"
            ]
           ]
          },
          "colorway": [
           "#636efa",
           "#EF553B",
           "#00cc96",
           "#ab63fa",
           "#FFA15A",
           "#19d3f3",
           "#FF6692",
           "#B6E880",
           "#FF97FF",
           "#FECB52"
          ],
          "font": {
           "color": "#2a3f5f"
          },
          "geo": {
           "bgcolor": "white",
           "lakecolor": "white",
           "landcolor": "#E5ECF6",
           "showlakes": true,
           "showland": true,
           "subunitcolor": "white"
          },
          "hoverlabel": {
           "align": "left"
          },
          "hovermode": "closest",
          "mapbox": {
           "style": "light"
          },
          "paper_bgcolor": "white",
          "plot_bgcolor": "#E5ECF6",
          "polar": {
           "angularaxis": {
            "gridcolor": "white",
            "linecolor": "white",
            "ticks": ""
           },
           "bgcolor": "#E5ECF6",
           "radialaxis": {
            "gridcolor": "white",
            "linecolor": "white",
            "ticks": ""
           }
          },
          "scene": {
           "xaxis": {
            "backgroundcolor": "#E5ECF6",
            "gridcolor": "white",
            "gridwidth": 2,
            "linecolor": "white",
            "showbackground": true,
            "ticks": "",
            "zerolinecolor": "white"
           },
           "yaxis": {
            "backgroundcolor": "#E5ECF6",
            "gridcolor": "white",
            "gridwidth": 2,
            "linecolor": "white",
            "showbackground": true,
            "ticks": "",
            "zerolinecolor": "white"
           },
           "zaxis": {
            "backgroundcolor": "#E5ECF6",
            "gridcolor": "white",
            "gridwidth": 2,
            "linecolor": "white",
            "showbackground": true,
            "ticks": "",
            "zerolinecolor": "white"
           }
          },
          "shapedefaults": {
           "line": {
            "color": "#2a3f5f"
           }
          },
          "ternary": {
           "aaxis": {
            "gridcolor": "white",
            "linecolor": "white",
            "ticks": ""
           },
           "baxis": {
            "gridcolor": "white",
            "linecolor": "white",
            "ticks": ""
           },
           "bgcolor": "#E5ECF6",
           "caxis": {
            "gridcolor": "white",
            "linecolor": "white",
            "ticks": ""
           }
          },
          "title": {
           "x": 0.05
          },
          "xaxis": {
           "automargin": true,
           "gridcolor": "white",
           "linecolor": "white",
           "ticks": "",
           "title": {
            "standoff": 15
           },
           "zerolinecolor": "white",
           "zerolinewidth": 2
          },
          "yaxis": {
           "automargin": true,
           "gridcolor": "white",
           "linecolor": "white",
           "ticks": "",
           "title": {
            "standoff": 15
           },
           "zerolinecolor": "white",
           "zerolinewidth": 2
          }
         }
        },
        "title": {
         "text": "<b>Percentage distribution of car manufactured in 2007</b>",
         "x": 0.5
        }
       }
      },
      "text/html": [
       "<div>                            <div id=\"4ee21c90-109b-44da-bc3b-a284999ba35c\" class=\"plotly-graph-div\" style=\"height:525px; width:100%;\"></div>            <script type=\"text/javascript\">                require([\"plotly\"], function(Plotly) {                    window.PLOTLYENV=window.PLOTLYENV || {};                                    if (document.getElementById(\"4ee21c90-109b-44da-bc3b-a284999ba35c\")) {                    Plotly.newPlot(                        \"4ee21c90-109b-44da-bc3b-a284999ba35c\",                        [{\"domain\":{\"x\":[0.0,1.0],\"y\":[0.0,1.0]},\"hovertemplate\":\"make=%{label}<extra></extra>\",\"labels\":[\"Alfa Romeo\",\"Alfa Romeo\",\"Alfa Romeo\",\"Alfa Romeo\",\"Alfa Romeo\",\"Alfa Romeo\",\"Alfa Romeo\",\"Aston Martin\",\"Audi\",\"Austin-Healey\",\"Austin-Healey\",\"Autobianchi\",\"Bentley\",\"Bentley\",\"Bentley\",\"BMW\",\"BMW\",\"BMW\",\"BMW\",\"BMW\",\"BMW\",\"BMW\",\"BMW\",\"BMW\",\"BMW\",\"Bmw-Alpina\",\"Bmw-Alpina\",\"Bmw-Alpina\",\"Bmw-Alpina\",\"Chevrolet\",\"Chevrolet\",\"Chevrolet\",\"Chevrolet\",\"Citroen\",\"Daihatsu\",\"Datsun\",\"Datsun\",\"De Tomaso\",\"Dodge\",\"Delorean\",\"Ferrari\",\"Ferrari\",\"Ferrari\",\"Ferrari\",\"Fiat\",\"Fiat\",\"Fiat\",\"Fiat\",\"Fiat\",\"Ford\",\"Ford\",\"Ford\",\"Ford\",\"Ford\",\"Ford\",\"Ford (Usa)\",\"Jaguar\",\"Jaguar\",\"Kaiser\",\"Lamborghini\",\"Lancia\",\"Lancia\",\"Land Rover\",\"Lotus\",\"Marcos\",\"Matra\",\"Mazda\",\"Mercedes-Benz\",\"Mercedes-Benz\",\"Mercedes-Benz\",\"Mercedes-Benz\",\"Mercedes-Benz\",\"Mercedes-Benz\",\"Mercedes-Benz\",\"Mercedes-Benz\",\"Mercedes-Benz\",\"MG\",\"MG\",\"MG\",\"MG\",\"Mini\",\"Mitsubishi\",\"Nissan\",\"NSU\",\"NSU\",\"Opel\",\"Peugeot\",\"Porsche\",\"Porsche\",\"Porsche\",\"Porsche\",\"Porsche\",\"Porsche\",\"Porsche\",\"Renault\",\"Renault\",\"Renault\",\"Renault\",\"Renault\",\"Renault\",\"Renault\",\"Renault\",\"Renault\",\"Renault\",\"Renault\",\"Renault\",\"Renault\",\"Renault\",\"Renault\",\"Renault\",\"Renault\",\"Renault\",\"Renault\",\"Renault\",\"Renault\",\"Renault\",\"Renault\",\"Renault\",\"Renault\",\"Renault\",\"Renault\",\"Rolls-Royce\",\"Rolls-Royce\",\"Rolls-Royce\",\"Rolls-Royce\",\"Rolls-Royce\",\"Rolls-Royce\",\"Rolls-Royce\",\"RUF\",\"Simca\",\"Talbot\",\"Talbot\",\"Toyota\",\"Toyota\",\"Toyota\",\"Toyota\",\"Toyota\",\"Toyota\",\"Toyota\",\"Toyota\",\"Toyota\",\"Toyota\",\"Toyota\",\"Toyota\",\"Triumph\",\"Triumph\",\"Triumph\"],\"legendgroup\":\"\",\"name\":\"\",\"showlegend\":true,\"type\":\"pie\"}],                        {\"legend\":{\"tracegroupgap\":0},\"margin\":{\"t\":60},\"plot_bgcolor\":\"white\",\"template\":{\"data\":{\"bar\":[{\"error_x\":{\"color\":\"#2a3f5f\"},\"error_y\":{\"color\":\"#2a3f5f\"},\"marker\":{\"line\":{\"color\":\"#E5ECF6\",\"width\":0.5},\"pattern\":{\"fillmode\":\"overlay\",\"size\":10,\"solidity\":0.2}},\"type\":\"bar\"}],\"barpolar\":[{\"marker\":{\"line\":{\"color\":\"#E5ECF6\",\"width\":0.5},\"pattern\":{\"fillmode\":\"overlay\",\"size\":10,\"solidity\":0.2}},\"type\":\"barpolar\"}],\"carpet\":[{\"aaxis\":{\"endlinecolor\":\"#2a3f5f\",\"gridcolor\":\"white\",\"linecolor\":\"white\",\"minorgridcolor\":\"white\",\"startlinecolor\":\"#2a3f5f\"},\"baxis\":{\"endlinecolor\":\"#2a3f5f\",\"gridcolor\":\"white\",\"linecolor\":\"white\",\"minorgridcolor\":\"white\",\"startlinecolor\":\"#2a3f5f\"},\"type\":\"carpet\"}],\"choropleth\":[{\"colorbar\":{\"outlinewidth\":0,\"ticks\":\"\"},\"type\":\"choropleth\"}],\"contour\":[{\"colorbar\":{\"outlinewidth\":0,\"ticks\":\"\"},\"colorscale\":[[0.0,\"#0d0887\"],[0.1111111111111111,\"#46039f\"],[0.2222222222222222,\"#7201a8\"],[0.3333333333333333,\"#9c179e\"],[0.4444444444444444,\"#bd3786\"],[0.5555555555555556,\"#d8576b\"],[0.6666666666666666,\"#ed7953\"],[0.7777777777777778,\"#fb9f3a\"],[0.8888888888888888,\"#fdca26\"],[1.0,\"#f0f921\"]],\"type\":\"contour\"}],\"contourcarpet\":[{\"colorbar\":{\"outlinewidth\":0,\"ticks\":\"\"},\"type\":\"contourcarpet\"}],\"heatmap\":[{\"colorbar\":{\"outlinewidth\":0,\"ticks\":\"\"},\"colorscale\":[[0.0,\"#0d0887\"],[0.1111111111111111,\"#46039f\"],[0.2222222222222222,\"#7201a8\"],[0.3333333333333333,\"#9c179e\"],[0.4444444444444444,\"#bd3786\"],[0.5555555555555556,\"#d8576b\"],[0.6666666666666666,\"#ed7953\"],[0.7777777777777778,\"#fb9f3a\"],[0.8888888888888888,\"#fdca26\"],[1.0,\"#f0f921\"]],\"type\":\"heatmap\"}],\"heatmapgl\":[{\"colorbar\":{\"outlinewidth\":0,\"ticks\":\"\"},\"colorscale\":[[0.0,\"#0d0887\"],[0.1111111111111111,\"#46039f\"],[0.2222222222222222,\"#7201a8\"],[0.3333333333333333,\"#9c179e\"],[0.4444444444444444,\"#bd3786\"],[0.5555555555555556,\"#d8576b\"],[0.6666666666666666,\"#ed7953\"],[0.7777777777777778,\"#fb9f3a\"],[0.8888888888888888,\"#fdca26\"],[1.0,\"#f0f921\"]],\"type\":\"heatmapgl\"}],\"histogram\":[{\"marker\":{\"pattern\":{\"fillmode\":\"overlay\",\"size\":10,\"solidity\":0.2}},\"type\":\"histogram\"}],\"histogram2d\":[{\"colorbar\":{\"outlinewidth\":0,\"ticks\":\"\"},\"colorscale\":[[0.0,\"#0d0887\"],[0.1111111111111111,\"#46039f\"],[0.2222222222222222,\"#7201a8\"],[0.3333333333333333,\"#9c179e\"],[0.4444444444444444,\"#bd3786\"],[0.5555555555555556,\"#d8576b\"],[0.6666666666666666,\"#ed7953\"],[0.7777777777777778,\"#fb9f3a\"],[0.8888888888888888,\"#fdca26\"],[1.0,\"#f0f921\"]],\"type\":\"histogram2d\"}],\"histogram2dcontour\":[{\"colorbar\":{\"outlinewidth\":0,\"ticks\":\"\"},\"colorscale\":[[0.0,\"#0d0887\"],[0.1111111111111111,\"#46039f\"],[0.2222222222222222,\"#7201a8\"],[0.3333333333333333,\"#9c179e\"],[0.4444444444444444,\"#bd3786\"],[0.5555555555555556,\"#d8576b\"],[0.6666666666666666,\"#ed7953\"],[0.7777777777777778,\"#fb9f3a\"],[0.8888888888888888,\"#fdca26\"],[1.0,\"#f0f921\"]],\"type\":\"histogram2dcontour\"}],\"mesh3d\":[{\"colorbar\":{\"outlinewidth\":0,\"ticks\":\"\"},\"type\":\"mesh3d\"}],\"parcoords\":[{\"line\":{\"colorbar\":{\"outlinewidth\":0,\"ticks\":\"\"}},\"type\":\"parcoords\"}],\"pie\":[{\"automargin\":true,\"type\":\"pie\"}],\"scatter\":[{\"marker\":{\"colorbar\":{\"outlinewidth\":0,\"ticks\":\"\"}},\"type\":\"scatter\"}],\"scatter3d\":[{\"line\":{\"colorbar\":{\"outlinewidth\":0,\"ticks\":\"\"}},\"marker\":{\"colorbar\":{\"outlinewidth\":0,\"ticks\":\"\"}},\"type\":\"scatter3d\"}],\"scattercarpet\":[{\"marker\":{\"colorbar\":{\"outlinewidth\":0,\"ticks\":\"\"}},\"type\":\"scattercarpet\"}],\"scattergeo\":[{\"marker\":{\"colorbar\":{\"outlinewidth\":0,\"ticks\":\"\"}},\"type\":\"scattergeo\"}],\"scattergl\":[{\"marker\":{\"colorbar\":{\"outlinewidth\":0,\"ticks\":\"\"}},\"type\":\"scattergl\"}],\"scattermapbox\":[{\"marker\":{\"colorbar\":{\"outlinewidth\":0,\"ticks\":\"\"}},\"type\":\"scattermapbox\"}],\"scatterpolar\":[{\"marker\":{\"colorbar\":{\"outlinewidth\":0,\"ticks\":\"\"}},\"type\":\"scatterpolar\"}],\"scatterpolargl\":[{\"marker\":{\"colorbar\":{\"outlinewidth\":0,\"ticks\":\"\"}},\"type\":\"scatterpolargl\"}],\"scatterternary\":[{\"marker\":{\"colorbar\":{\"outlinewidth\":0,\"ticks\":\"\"}},\"type\":\"scatterternary\"}],\"surface\":[{\"colorbar\":{\"outlinewidth\":0,\"ticks\":\"\"},\"colorscale\":[[0.0,\"#0d0887\"],[0.1111111111111111,\"#46039f\"],[0.2222222222222222,\"#7201a8\"],[0.3333333333333333,\"#9c179e\"],[0.4444444444444444,\"#bd3786\"],[0.5555555555555556,\"#d8576b\"],[0.6666666666666666,\"#ed7953\"],[0.7777777777777778,\"#fb9f3a\"],[0.8888888888888888,\"#fdca26\"],[1.0,\"#f0f921\"]],\"type\":\"surface\"}],\"table\":[{\"cells\":{\"fill\":{\"color\":\"#EBF0F8\"},\"line\":{\"color\":\"white\"}},\"header\":{\"fill\":{\"color\":\"#C8D4E3\"},\"line\":{\"color\":\"white\"}},\"type\":\"table\"}]},\"layout\":{\"annotationdefaults\":{\"arrowcolor\":\"#2a3f5f\",\"arrowhead\":0,\"arrowwidth\":1},\"autotypenumbers\":\"strict\",\"coloraxis\":{\"colorbar\":{\"outlinewidth\":0,\"ticks\":\"\"}},\"colorscale\":{\"diverging\":[[0,\"#8e0152\"],[0.1,\"#c51b7d\"],[0.2,\"#de77ae\"],[0.3,\"#f1b6da\"],[0.4,\"#fde0ef\"],[0.5,\"#f7f7f7\"],[0.6,\"#e6f5d0\"],[0.7,\"#b8e186\"],[0.8,\"#7fbc41\"],[0.9,\"#4d9221\"],[1,\"#276419\"]],\"sequential\":[[0.0,\"#0d0887\"],[0.1111111111111111,\"#46039f\"],[0.2222222222222222,\"#7201a8\"],[0.3333333333333333,\"#9c179e\"],[0.4444444444444444,\"#bd3786\"],[0.5555555555555556,\"#d8576b\"],[0.6666666666666666,\"#ed7953\"],[0.7777777777777778,\"#fb9f3a\"],[0.8888888888888888,\"#fdca26\"],[1.0,\"#f0f921\"]],\"sequentialminus\":[[0.0,\"#0d0887\"],[0.1111111111111111,\"#46039f\"],[0.2222222222222222,\"#7201a8\"],[0.3333333333333333,\"#9c179e\"],[0.4444444444444444,\"#bd3786\"],[0.5555555555555556,\"#d8576b\"],[0.6666666666666666,\"#ed7953\"],[0.7777777777777778,\"#fb9f3a\"],[0.8888888888888888,\"#fdca26\"],[1.0,\"#f0f921\"]]},\"colorway\":[\"#636efa\",\"#EF553B\",\"#00cc96\",\"#ab63fa\",\"#FFA15A\",\"#19d3f3\",\"#FF6692\",\"#B6E880\",\"#FF97FF\",\"#FECB52\"],\"font\":{\"color\":\"#2a3f5f\"},\"geo\":{\"bgcolor\":\"white\",\"lakecolor\":\"white\",\"landcolor\":\"#E5ECF6\",\"showlakes\":true,\"showland\":true,\"subunitcolor\":\"white\"},\"hoverlabel\":{\"align\":\"left\"},\"hovermode\":\"closest\",\"mapbox\":{\"style\":\"light\"},\"paper_bgcolor\":\"white\",\"plot_bgcolor\":\"#E5ECF6\",\"polar\":{\"angularaxis\":{\"gridcolor\":\"white\",\"linecolor\":\"white\",\"ticks\":\"\"},\"bgcolor\":\"#E5ECF6\",\"radialaxis\":{\"gridcolor\":\"white\",\"linecolor\":\"white\",\"ticks\":\"\"}},\"scene\":{\"xaxis\":{\"backgroundcolor\":\"#E5ECF6\",\"gridcolor\":\"white\",\"gridwidth\":2,\"linecolor\":\"white\",\"showbackground\":true,\"ticks\":\"\",\"zerolinecolor\":\"white\"},\"yaxis\":{\"backgroundcolor\":\"#E5ECF6\",\"gridcolor\":\"white\",\"gridwidth\":2,\"linecolor\":\"white\",\"showbackground\":true,\"ticks\":\"\",\"zerolinecolor\":\"white\"},\"zaxis\":{\"backgroundcolor\":\"#E5ECF6\",\"gridcolor\":\"white\",\"gridwidth\":2,\"linecolor\":\"white\",\"showbackground\":true,\"ticks\":\"\",\"zerolinecolor\":\"white\"}},\"shapedefaults\":{\"line\":{\"color\":\"#2a3f5f\"}},\"ternary\":{\"aaxis\":{\"gridcolor\":\"white\",\"linecolor\":\"white\",\"ticks\":\"\"},\"baxis\":{\"gridcolor\":\"white\",\"linecolor\":\"white\",\"ticks\":\"\"},\"bgcolor\":\"#E5ECF6\",\"caxis\":{\"gridcolor\":\"white\",\"linecolor\":\"white\",\"ticks\":\"\"}},\"title\":{\"x\":0.05},\"xaxis\":{\"automargin\":true,\"gridcolor\":\"white\",\"linecolor\":\"white\",\"ticks\":\"\",\"title\":{\"standoff\":15},\"zerolinecolor\":\"white\",\"zerolinewidth\":2},\"yaxis\":{\"automargin\":true,\"gridcolor\":\"white\",\"linecolor\":\"white\",\"ticks\":\"\",\"title\":{\"standoff\":15},\"zerolinecolor\":\"white\",\"zerolinewidth\":2}}},\"title\":{\"text\":\"<b>Percentage distribution of car manufactured in 2007</b>\",\"x\":0.5}},                        {\"responsive\": true}                    ).then(function(){\n",
       "                            \n",
       "var gd = document.getElementById('4ee21c90-109b-44da-bc3b-a284999ba35c');\n",
       "var x = new MutationObserver(function (mutations, observer) {{\n",
       "        var display = window.getComputedStyle(gd).display;\n",
       "        if (!display || display === 'none') {{\n",
       "            console.log([gd, 'removed!']);\n",
       "            Plotly.purge(gd);\n",
       "            observer.disconnect();\n",
       "        }}\n",
       "}});\n",
       "\n",
       "// Listen for the removal of the full notebook cells\n",
       "var notebookContainer = gd.closest('#notebook-container');\n",
       "if (notebookContainer) {{\n",
       "    x.observe(notebookContainer, {childList: true});\n",
       "}}\n",
       "\n",
       "// Listen for the clearing of the current output cell\n",
       "var outputEl = gd.closest('.output');\n",
       "if (outputEl) {{\n",
       "    x.observe(outputEl, {childList: true});\n",
       "}}\n",
       "\n",
       "                        })                };                });            </script>        </div>"
      ]
     },
     "metadata": {},
     "output_type": "display_data"
    }
   ],
   "source": [
    "fig = px.pie(df_90, names = \"make\")\n",
    "fig.update_layout(\n",
    "                 plot_bgcolor = \"white\",\n",
    "                  title = \"<b>Percentage distribution of car manufactured in 2007</b>\",\n",
    "                 title_x=0.5)\n",
    "fig.show()"
   ]
  },
  {
   "cell_type": "code",
   "execution_count": 16,
   "metadata": {},
   "outputs": [
    {
     "data": {
      "application/vnd.plotly.v1+json": {
       "config": {
        "plotlyServerURL": "https://plot.ly"
       },
       "data": [
        {
         "alignmentgroup": "True",
         "bingroup": "x",
         "hovertemplate": "make=%{x}<br>count=%{y}<extra></extra>",
         "legendgroup": "",
         "marker": {
          "color": "#636efa",
          "pattern": {
           "shape": ""
          }
         },
         "name": "",
         "offsetgroup": "",
         "orientation": "v",
         "showlegend": false,
         "type": "histogram",
         "x": [
          "Alfa Romeo",
          "Alfa Romeo",
          "Alfa Romeo",
          "Alfa Romeo",
          "Alfa Romeo",
          "Alfa Romeo",
          "Alfa Romeo",
          "Aston Martin",
          "Audi",
          "Austin-Healey",
          "Austin-Healey",
          "Autobianchi",
          "Bentley",
          "Bentley",
          "Bentley",
          "BMW",
          "BMW",
          "BMW",
          "BMW",
          "BMW",
          "BMW",
          "BMW",
          "BMW",
          "BMW",
          "BMW",
          "Bmw-Alpina",
          "Bmw-Alpina",
          "Bmw-Alpina",
          "Bmw-Alpina",
          "Chevrolet",
          "Chevrolet",
          "Chevrolet",
          "Chevrolet",
          "Citroen",
          "Daihatsu",
          "Datsun",
          "Datsun",
          "De Tomaso",
          "Dodge",
          "Delorean",
          "Ferrari",
          "Ferrari",
          "Ferrari",
          "Ferrari",
          "Fiat",
          "Fiat",
          "Fiat",
          "Fiat",
          "Fiat",
          "Ford",
          "Ford",
          "Ford",
          "Ford",
          "Ford",
          "Ford",
          "Ford (Usa)",
          "Jaguar",
          "Jaguar",
          "Kaiser",
          "Lamborghini",
          "Lancia",
          "Lancia",
          "Land Rover",
          "Lotus",
          "Marcos",
          "Matra",
          "Mazda",
          "Mercedes-Benz",
          "Mercedes-Benz",
          "Mercedes-Benz",
          "Mercedes-Benz",
          "Mercedes-Benz",
          "Mercedes-Benz",
          "Mercedes-Benz",
          "Mercedes-Benz",
          "Mercedes-Benz",
          "MG",
          "MG",
          "MG",
          "MG",
          "Mini",
          "Mitsubishi",
          "Nissan",
          "NSU",
          "NSU",
          "Opel",
          "Peugeot",
          "Porsche",
          "Porsche",
          "Porsche",
          "Porsche",
          "Porsche",
          "Porsche",
          "Porsche",
          "Renault",
          "Renault",
          "Renault",
          "Renault",
          "Renault",
          "Renault",
          "Renault",
          "Renault",
          "Renault",
          "Renault",
          "Renault",
          "Renault",
          "Renault",
          "Renault",
          "Renault",
          "Renault",
          "Renault",
          "Renault",
          "Renault",
          "Renault",
          "Renault",
          "Renault",
          "Renault",
          "Renault",
          "Renault",
          "Renault",
          "Renault",
          "Rolls-Royce",
          "Rolls-Royce",
          "Rolls-Royce",
          "Rolls-Royce",
          "Rolls-Royce",
          "Rolls-Royce",
          "Rolls-Royce",
          "RUF",
          "Simca",
          "Talbot",
          "Talbot",
          "Toyota",
          "Toyota",
          "Toyota",
          "Toyota",
          "Toyota",
          "Toyota",
          "Toyota",
          "Toyota",
          "Toyota",
          "Toyota",
          "Toyota",
          "Toyota",
          "Triumph",
          "Triumph",
          "Triumph"
         ],
         "xaxis": "x",
         "yaxis": "y"
        }
       ],
       "layout": {
        "barmode": "relative",
        "legend": {
         "tracegroupgap": 0
        },
        "margin": {
         "t": 60
        },
        "plot_bgcolor": "white",
        "template": {
         "data": {
          "bar": [
           {
            "error_x": {
             "color": "#2a3f5f"
            },
            "error_y": {
             "color": "#2a3f5f"
            },
            "marker": {
             "line": {
              "color": "#E5ECF6",
              "width": 0.5
             },
             "pattern": {
              "fillmode": "overlay",
              "size": 10,
              "solidity": 0.2
             }
            },
            "type": "bar"
           }
          ],
          "barpolar": [
           {
            "marker": {
             "line": {
              "color": "#E5ECF6",
              "width": 0.5
             },
             "pattern": {
              "fillmode": "overlay",
              "size": 10,
              "solidity": 0.2
             }
            },
            "type": "barpolar"
           }
          ],
          "carpet": [
           {
            "aaxis": {
             "endlinecolor": "#2a3f5f",
             "gridcolor": "white",
             "linecolor": "white",
             "minorgridcolor": "white",
             "startlinecolor": "#2a3f5f"
            },
            "baxis": {
             "endlinecolor": "#2a3f5f",
             "gridcolor": "white",
             "linecolor": "white",
             "minorgridcolor": "white",
             "startlinecolor": "#2a3f5f"
            },
            "type": "carpet"
           }
          ],
          "choropleth": [
           {
            "colorbar": {
             "outlinewidth": 0,
             "ticks": ""
            },
            "type": "choropleth"
           }
          ],
          "contour": [
           {
            "colorbar": {
             "outlinewidth": 0,
             "ticks": ""
            },
            "colorscale": [
             [
              0,
              "#0d0887"
             ],
             [
              0.1111111111111111,
              "#46039f"
             ],
             [
              0.2222222222222222,
              "#7201a8"
             ],
             [
              0.3333333333333333,
              "#9c179e"
             ],
             [
              0.4444444444444444,
              "#bd3786"
             ],
             [
              0.5555555555555556,
              "#d8576b"
             ],
             [
              0.6666666666666666,
              "#ed7953"
             ],
             [
              0.7777777777777778,
              "#fb9f3a"
             ],
             [
              0.8888888888888888,
              "#fdca26"
             ],
             [
              1,
              "#f0f921"
             ]
            ],
            "type": "contour"
           }
          ],
          "contourcarpet": [
           {
            "colorbar": {
             "outlinewidth": 0,
             "ticks": ""
            },
            "type": "contourcarpet"
           }
          ],
          "heatmap": [
           {
            "colorbar": {
             "outlinewidth": 0,
             "ticks": ""
            },
            "colorscale": [
             [
              0,
              "#0d0887"
             ],
             [
              0.1111111111111111,
              "#46039f"
             ],
             [
              0.2222222222222222,
              "#7201a8"
             ],
             [
              0.3333333333333333,
              "#9c179e"
             ],
             [
              0.4444444444444444,
              "#bd3786"
             ],
             [
              0.5555555555555556,
              "#d8576b"
             ],
             [
              0.6666666666666666,
              "#ed7953"
             ],
             [
              0.7777777777777778,
              "#fb9f3a"
             ],
             [
              0.8888888888888888,
              "#fdca26"
             ],
             [
              1,
              "#f0f921"
             ]
            ],
            "type": "heatmap"
           }
          ],
          "heatmapgl": [
           {
            "colorbar": {
             "outlinewidth": 0,
             "ticks": ""
            },
            "colorscale": [
             [
              0,
              "#0d0887"
             ],
             [
              0.1111111111111111,
              "#46039f"
             ],
             [
              0.2222222222222222,
              "#7201a8"
             ],
             [
              0.3333333333333333,
              "#9c179e"
             ],
             [
              0.4444444444444444,
              "#bd3786"
             ],
             [
              0.5555555555555556,
              "#d8576b"
             ],
             [
              0.6666666666666666,
              "#ed7953"
             ],
             [
              0.7777777777777778,
              "#fb9f3a"
             ],
             [
              0.8888888888888888,
              "#fdca26"
             ],
             [
              1,
              "#f0f921"
             ]
            ],
            "type": "heatmapgl"
           }
          ],
          "histogram": [
           {
            "marker": {
             "pattern": {
              "fillmode": "overlay",
              "size": 10,
              "solidity": 0.2
             }
            },
            "type": "histogram"
           }
          ],
          "histogram2d": [
           {
            "colorbar": {
             "outlinewidth": 0,
             "ticks": ""
            },
            "colorscale": [
             [
              0,
              "#0d0887"
             ],
             [
              0.1111111111111111,
              "#46039f"
             ],
             [
              0.2222222222222222,
              "#7201a8"
             ],
             [
              0.3333333333333333,
              "#9c179e"
             ],
             [
              0.4444444444444444,
              "#bd3786"
             ],
             [
              0.5555555555555556,
              "#d8576b"
             ],
             [
              0.6666666666666666,
              "#ed7953"
             ],
             [
              0.7777777777777778,
              "#fb9f3a"
             ],
             [
              0.8888888888888888,
              "#fdca26"
             ],
             [
              1,
              "#f0f921"
             ]
            ],
            "type": "histogram2d"
           }
          ],
          "histogram2dcontour": [
           {
            "colorbar": {
             "outlinewidth": 0,
             "ticks": ""
            },
            "colorscale": [
             [
              0,
              "#0d0887"
             ],
             [
              0.1111111111111111,
              "#46039f"
             ],
             [
              0.2222222222222222,
              "#7201a8"
             ],
             [
              0.3333333333333333,
              "#9c179e"
             ],
             [
              0.4444444444444444,
              "#bd3786"
             ],
             [
              0.5555555555555556,
              "#d8576b"
             ],
             [
              0.6666666666666666,
              "#ed7953"
             ],
             [
              0.7777777777777778,
              "#fb9f3a"
             ],
             [
              0.8888888888888888,
              "#fdca26"
             ],
             [
              1,
              "#f0f921"
             ]
            ],
            "type": "histogram2dcontour"
           }
          ],
          "mesh3d": [
           {
            "colorbar": {
             "outlinewidth": 0,
             "ticks": ""
            },
            "type": "mesh3d"
           }
          ],
          "parcoords": [
           {
            "line": {
             "colorbar": {
              "outlinewidth": 0,
              "ticks": ""
             }
            },
            "type": "parcoords"
           }
          ],
          "pie": [
           {
            "automargin": true,
            "type": "pie"
           }
          ],
          "scatter": [
           {
            "marker": {
             "colorbar": {
              "outlinewidth": 0,
              "ticks": ""
             }
            },
            "type": "scatter"
           }
          ],
          "scatter3d": [
           {
            "line": {
             "colorbar": {
              "outlinewidth": 0,
              "ticks": ""
             }
            },
            "marker": {
             "colorbar": {
              "outlinewidth": 0,
              "ticks": ""
             }
            },
            "type": "scatter3d"
           }
          ],
          "scattercarpet": [
           {
            "marker": {
             "colorbar": {
              "outlinewidth": 0,
              "ticks": ""
             }
            },
            "type": "scattercarpet"
           }
          ],
          "scattergeo": [
           {
            "marker": {
             "colorbar": {
              "outlinewidth": 0,
              "ticks": ""
             }
            },
            "type": "scattergeo"
           }
          ],
          "scattergl": [
           {
            "marker": {
             "colorbar": {
              "outlinewidth": 0,
              "ticks": ""
             }
            },
            "type": "scattergl"
           }
          ],
          "scattermapbox": [
           {
            "marker": {
             "colorbar": {
              "outlinewidth": 0,
              "ticks": ""
             }
            },
            "type": "scattermapbox"
           }
          ],
          "scatterpolar": [
           {
            "marker": {
             "colorbar": {
              "outlinewidth": 0,
              "ticks": ""
             }
            },
            "type": "scatterpolar"
           }
          ],
          "scatterpolargl": [
           {
            "marker": {
             "colorbar": {
              "outlinewidth": 0,
              "ticks": ""
             }
            },
            "type": "scatterpolargl"
           }
          ],
          "scatterternary": [
           {
            "marker": {
             "colorbar": {
              "outlinewidth": 0,
              "ticks": ""
             }
            },
            "type": "scatterternary"
           }
          ],
          "surface": [
           {
            "colorbar": {
             "outlinewidth": 0,
             "ticks": ""
            },
            "colorscale": [
             [
              0,
              "#0d0887"
             ],
             [
              0.1111111111111111,
              "#46039f"
             ],
             [
              0.2222222222222222,
              "#7201a8"
             ],
             [
              0.3333333333333333,
              "#9c179e"
             ],
             [
              0.4444444444444444,
              "#bd3786"
             ],
             [
              0.5555555555555556,
              "#d8576b"
             ],
             [
              0.6666666666666666,
              "#ed7953"
             ],
             [
              0.7777777777777778,
              "#fb9f3a"
             ],
             [
              0.8888888888888888,
              "#fdca26"
             ],
             [
              1,
              "#f0f921"
             ]
            ],
            "type": "surface"
           }
          ],
          "table": [
           {
            "cells": {
             "fill": {
              "color": "#EBF0F8"
             },
             "line": {
              "color": "white"
             }
            },
            "header": {
             "fill": {
              "color": "#C8D4E3"
             },
             "line": {
              "color": "white"
             }
            },
            "type": "table"
           }
          ]
         },
         "layout": {
          "annotationdefaults": {
           "arrowcolor": "#2a3f5f",
           "arrowhead": 0,
           "arrowwidth": 1
          },
          "autotypenumbers": "strict",
          "coloraxis": {
           "colorbar": {
            "outlinewidth": 0,
            "ticks": ""
           }
          },
          "colorscale": {
           "diverging": [
            [
             0,
             "#8e0152"
            ],
            [
             0.1,
             "#c51b7d"
            ],
            [
             0.2,
             "#de77ae"
            ],
            [
             0.3,
             "#f1b6da"
            ],
            [
             0.4,
             "#fde0ef"
            ],
            [
             0.5,
             "#f7f7f7"
            ],
            [
             0.6,
             "#e6f5d0"
            ],
            [
             0.7,
             "#b8e186"
            ],
            [
             0.8,
             "#7fbc41"
            ],
            [
             0.9,
             "#4d9221"
            ],
            [
             1,
             "#276419"
            ]
           ],
           "sequential": [
            [
             0,
             "#0d0887"
            ],
            [
             0.1111111111111111,
             "#46039f"
            ],
            [
             0.2222222222222222,
             "#7201a8"
            ],
            [
             0.3333333333333333,
             "#9c179e"
            ],
            [
             0.4444444444444444,
             "#bd3786"
            ],
            [
             0.5555555555555556,
             "#d8576b"
            ],
            [
             0.6666666666666666,
             "#ed7953"
            ],
            [
             0.7777777777777778,
             "#fb9f3a"
            ],
            [
             0.8888888888888888,
             "#fdca26"
            ],
            [
             1,
             "#f0f921"
            ]
           ],
           "sequentialminus": [
            [
             0,
             "#0d0887"
            ],
            [
             0.1111111111111111,
             "#46039f"
            ],
            [
             0.2222222222222222,
             "#7201a8"
            ],
            [
             0.3333333333333333,
             "#9c179e"
            ],
            [
             0.4444444444444444,
             "#bd3786"
            ],
            [
             0.5555555555555556,
             "#d8576b"
            ],
            [
             0.6666666666666666,
             "#ed7953"
            ],
            [
             0.7777777777777778,
             "#fb9f3a"
            ],
            [
             0.8888888888888888,
             "#fdca26"
            ],
            [
             1,
             "#f0f921"
            ]
           ]
          },
          "colorway": [
           "#636efa",
           "#EF553B",
           "#00cc96",
           "#ab63fa",
           "#FFA15A",
           "#19d3f3",
           "#FF6692",
           "#B6E880",
           "#FF97FF",
           "#FECB52"
          ],
          "font": {
           "color": "#2a3f5f"
          },
          "geo": {
           "bgcolor": "white",
           "lakecolor": "white",
           "landcolor": "#E5ECF6",
           "showlakes": true,
           "showland": true,
           "subunitcolor": "white"
          },
          "hoverlabel": {
           "align": "left"
          },
          "hovermode": "closest",
          "mapbox": {
           "style": "light"
          },
          "paper_bgcolor": "white",
          "plot_bgcolor": "#E5ECF6",
          "polar": {
           "angularaxis": {
            "gridcolor": "white",
            "linecolor": "white",
            "ticks": ""
           },
           "bgcolor": "#E5ECF6",
           "radialaxis": {
            "gridcolor": "white",
            "linecolor": "white",
            "ticks": ""
           }
          },
          "scene": {
           "xaxis": {
            "backgroundcolor": "#E5ECF6",
            "gridcolor": "white",
            "gridwidth": 2,
            "linecolor": "white",
            "showbackground": true,
            "ticks": "",
            "zerolinecolor": "white"
           },
           "yaxis": {
            "backgroundcolor": "#E5ECF6",
            "gridcolor": "white",
            "gridwidth": 2,
            "linecolor": "white",
            "showbackground": true,
            "ticks": "",
            "zerolinecolor": "white"
           },
           "zaxis": {
            "backgroundcolor": "#E5ECF6",
            "gridcolor": "white",
            "gridwidth": 2,
            "linecolor": "white",
            "showbackground": true,
            "ticks": "",
            "zerolinecolor": "white"
           }
          },
          "shapedefaults": {
           "line": {
            "color": "#2a3f5f"
           }
          },
          "ternary": {
           "aaxis": {
            "gridcolor": "white",
            "linecolor": "white",
            "ticks": ""
           },
           "baxis": {
            "gridcolor": "white",
            "linecolor": "white",
            "ticks": ""
           },
           "bgcolor": "#E5ECF6",
           "caxis": {
            "gridcolor": "white",
            "linecolor": "white",
            "ticks": ""
           }
          },
          "title": {
           "x": 0.05
          },
          "xaxis": {
           "automargin": true,
           "gridcolor": "white",
           "linecolor": "white",
           "ticks": "",
           "title": {
            "standoff": 15
           },
           "zerolinecolor": "white",
           "zerolinewidth": 2
          },
          "yaxis": {
           "automargin": true,
           "gridcolor": "white",
           "linecolor": "white",
           "ticks": "",
           "title": {
            "standoff": 15
           },
           "zerolinecolor": "white",
           "zerolinewidth": 2
          }
         }
        },
        "title": {
         "text": "<b>Old Car Models</b>",
         "x": 0.5
        },
        "xaxis": {
         "anchor": "y",
         "categoryorder": "total descending",
         "domain": [
          0,
          1
         ],
         "linecolor": "black",
         "linewidth": 2,
         "showline": true,
         "showticklabels": true,
         "title": {
          "text": "Car Company"
         }
        },
        "yaxis": {
         "anchor": "x",
         "domain": [
          0,
          1
         ],
         "linecolor": "black",
         "linewidth": 2,
         "showline": true,
         "showticklabels": true,
         "title": {
          "text": "Sum of Mileage"
         }
        }
       }
      },
      "text/html": [
       "<div>                            <div id=\"3319b84c-ddd4-48e2-96c8-4be761f52f14\" class=\"plotly-graph-div\" style=\"height:525px; width:100%;\"></div>            <script type=\"text/javascript\">                require([\"plotly\"], function(Plotly) {                    window.PLOTLYENV=window.PLOTLYENV || {};                                    if (document.getElementById(\"3319b84c-ddd4-48e2-96c8-4be761f52f14\")) {                    Plotly.newPlot(                        \"3319b84c-ddd4-48e2-96c8-4be761f52f14\",                        [{\"alignmentgroup\":\"True\",\"bingroup\":\"x\",\"hovertemplate\":\"make=%{x}<br>count=%{y}<extra></extra>\",\"legendgroup\":\"\",\"marker\":{\"color\":\"#636efa\",\"pattern\":{\"shape\":\"\"}},\"name\":\"\",\"offsetgroup\":\"\",\"orientation\":\"v\",\"showlegend\":false,\"type\":\"histogram\",\"x\":[\"Alfa Romeo\",\"Alfa Romeo\",\"Alfa Romeo\",\"Alfa Romeo\",\"Alfa Romeo\",\"Alfa Romeo\",\"Alfa Romeo\",\"Aston Martin\",\"Audi\",\"Austin-Healey\",\"Austin-Healey\",\"Autobianchi\",\"Bentley\",\"Bentley\",\"Bentley\",\"BMW\",\"BMW\",\"BMW\",\"BMW\",\"BMW\",\"BMW\",\"BMW\",\"BMW\",\"BMW\",\"BMW\",\"Bmw-Alpina\",\"Bmw-Alpina\",\"Bmw-Alpina\",\"Bmw-Alpina\",\"Chevrolet\",\"Chevrolet\",\"Chevrolet\",\"Chevrolet\",\"Citroen\",\"Daihatsu\",\"Datsun\",\"Datsun\",\"De Tomaso\",\"Dodge\",\"Delorean\",\"Ferrari\",\"Ferrari\",\"Ferrari\",\"Ferrari\",\"Fiat\",\"Fiat\",\"Fiat\",\"Fiat\",\"Fiat\",\"Ford\",\"Ford\",\"Ford\",\"Ford\",\"Ford\",\"Ford\",\"Ford (Usa)\",\"Jaguar\",\"Jaguar\",\"Kaiser\",\"Lamborghini\",\"Lancia\",\"Lancia\",\"Land Rover\",\"Lotus\",\"Marcos\",\"Matra\",\"Mazda\",\"Mercedes-Benz\",\"Mercedes-Benz\",\"Mercedes-Benz\",\"Mercedes-Benz\",\"Mercedes-Benz\",\"Mercedes-Benz\",\"Mercedes-Benz\",\"Mercedes-Benz\",\"Mercedes-Benz\",\"MG\",\"MG\",\"MG\",\"MG\",\"Mini\",\"Mitsubishi\",\"Nissan\",\"NSU\",\"NSU\",\"Opel\",\"Peugeot\",\"Porsche\",\"Porsche\",\"Porsche\",\"Porsche\",\"Porsche\",\"Porsche\",\"Porsche\",\"Renault\",\"Renault\",\"Renault\",\"Renault\",\"Renault\",\"Renault\",\"Renault\",\"Renault\",\"Renault\",\"Renault\",\"Renault\",\"Renault\",\"Renault\",\"Renault\",\"Renault\",\"Renault\",\"Renault\",\"Renault\",\"Renault\",\"Renault\",\"Renault\",\"Renault\",\"Renault\",\"Renault\",\"Renault\",\"Renault\",\"Renault\",\"Rolls-Royce\",\"Rolls-Royce\",\"Rolls-Royce\",\"Rolls-Royce\",\"Rolls-Royce\",\"Rolls-Royce\",\"Rolls-Royce\",\"RUF\",\"Simca\",\"Talbot\",\"Talbot\",\"Toyota\",\"Toyota\",\"Toyota\",\"Toyota\",\"Toyota\",\"Toyota\",\"Toyota\",\"Toyota\",\"Toyota\",\"Toyota\",\"Toyota\",\"Toyota\",\"Triumph\",\"Triumph\",\"Triumph\"],\"xaxis\":\"x\",\"yaxis\":\"y\"}],                        {\"barmode\":\"relative\",\"legend\":{\"tracegroupgap\":0},\"margin\":{\"t\":60},\"plot_bgcolor\":\"white\",\"template\":{\"data\":{\"bar\":[{\"error_x\":{\"color\":\"#2a3f5f\"},\"error_y\":{\"color\":\"#2a3f5f\"},\"marker\":{\"line\":{\"color\":\"#E5ECF6\",\"width\":0.5},\"pattern\":{\"fillmode\":\"overlay\",\"size\":10,\"solidity\":0.2}},\"type\":\"bar\"}],\"barpolar\":[{\"marker\":{\"line\":{\"color\":\"#E5ECF6\",\"width\":0.5},\"pattern\":{\"fillmode\":\"overlay\",\"size\":10,\"solidity\":0.2}},\"type\":\"barpolar\"}],\"carpet\":[{\"aaxis\":{\"endlinecolor\":\"#2a3f5f\",\"gridcolor\":\"white\",\"linecolor\":\"white\",\"minorgridcolor\":\"white\",\"startlinecolor\":\"#2a3f5f\"},\"baxis\":{\"endlinecolor\":\"#2a3f5f\",\"gridcolor\":\"white\",\"linecolor\":\"white\",\"minorgridcolor\":\"white\",\"startlinecolor\":\"#2a3f5f\"},\"type\":\"carpet\"}],\"choropleth\":[{\"colorbar\":{\"outlinewidth\":0,\"ticks\":\"\"},\"type\":\"choropleth\"}],\"contour\":[{\"colorbar\":{\"outlinewidth\":0,\"ticks\":\"\"},\"colorscale\":[[0.0,\"#0d0887\"],[0.1111111111111111,\"#46039f\"],[0.2222222222222222,\"#7201a8\"],[0.3333333333333333,\"#9c179e\"],[0.4444444444444444,\"#bd3786\"],[0.5555555555555556,\"#d8576b\"],[0.6666666666666666,\"#ed7953\"],[0.7777777777777778,\"#fb9f3a\"],[0.8888888888888888,\"#fdca26\"],[1.0,\"#f0f921\"]],\"type\":\"contour\"}],\"contourcarpet\":[{\"colorbar\":{\"outlinewidth\":0,\"ticks\":\"\"},\"type\":\"contourcarpet\"}],\"heatmap\":[{\"colorbar\":{\"outlinewidth\":0,\"ticks\":\"\"},\"colorscale\":[[0.0,\"#0d0887\"],[0.1111111111111111,\"#46039f\"],[0.2222222222222222,\"#7201a8\"],[0.3333333333333333,\"#9c179e\"],[0.4444444444444444,\"#bd3786\"],[0.5555555555555556,\"#d8576b\"],[0.6666666666666666,\"#ed7953\"],[0.7777777777777778,\"#fb9f3a\"],[0.8888888888888888,\"#fdca26\"],[1.0,\"#f0f921\"]],\"type\":\"heatmap\"}],\"heatmapgl\":[{\"colorbar\":{\"outlinewidth\":0,\"ticks\":\"\"},\"colorscale\":[[0.0,\"#0d0887\"],[0.1111111111111111,\"#46039f\"],[0.2222222222222222,\"#7201a8\"],[0.3333333333333333,\"#9c179e\"],[0.4444444444444444,\"#bd3786\"],[0.5555555555555556,\"#d8576b\"],[0.6666666666666666,\"#ed7953\"],[0.7777777777777778,\"#fb9f3a\"],[0.8888888888888888,\"#fdca26\"],[1.0,\"#f0f921\"]],\"type\":\"heatmapgl\"}],\"histogram\":[{\"marker\":{\"pattern\":{\"fillmode\":\"overlay\",\"size\":10,\"solidity\":0.2}},\"type\":\"histogram\"}],\"histogram2d\":[{\"colorbar\":{\"outlinewidth\":0,\"ticks\":\"\"},\"colorscale\":[[0.0,\"#0d0887\"],[0.1111111111111111,\"#46039f\"],[0.2222222222222222,\"#7201a8\"],[0.3333333333333333,\"#9c179e\"],[0.4444444444444444,\"#bd3786\"],[0.5555555555555556,\"#d8576b\"],[0.6666666666666666,\"#ed7953\"],[0.7777777777777778,\"#fb9f3a\"],[0.8888888888888888,\"#fdca26\"],[1.0,\"#f0f921\"]],\"type\":\"histogram2d\"}],\"histogram2dcontour\":[{\"colorbar\":{\"outlinewidth\":0,\"ticks\":\"\"},\"colorscale\":[[0.0,\"#0d0887\"],[0.1111111111111111,\"#46039f\"],[0.2222222222222222,\"#7201a8\"],[0.3333333333333333,\"#9c179e\"],[0.4444444444444444,\"#bd3786\"],[0.5555555555555556,\"#d8576b\"],[0.6666666666666666,\"#ed7953\"],[0.7777777777777778,\"#fb9f3a\"],[0.8888888888888888,\"#fdca26\"],[1.0,\"#f0f921\"]],\"type\":\"histogram2dcontour\"}],\"mesh3d\":[{\"colorbar\":{\"outlinewidth\":0,\"ticks\":\"\"},\"type\":\"mesh3d\"}],\"parcoords\":[{\"line\":{\"colorbar\":{\"outlinewidth\":0,\"ticks\":\"\"}},\"type\":\"parcoords\"}],\"pie\":[{\"automargin\":true,\"type\":\"pie\"}],\"scatter\":[{\"marker\":{\"colorbar\":{\"outlinewidth\":0,\"ticks\":\"\"}},\"type\":\"scatter\"}],\"scatter3d\":[{\"line\":{\"colorbar\":{\"outlinewidth\":0,\"ticks\":\"\"}},\"marker\":{\"colorbar\":{\"outlinewidth\":0,\"ticks\":\"\"}},\"type\":\"scatter3d\"}],\"scattercarpet\":[{\"marker\":{\"colorbar\":{\"outlinewidth\":0,\"ticks\":\"\"}},\"type\":\"scattercarpet\"}],\"scattergeo\":[{\"marker\":{\"colorbar\":{\"outlinewidth\":0,\"ticks\":\"\"}},\"type\":\"scattergeo\"}],\"scattergl\":[{\"marker\":{\"colorbar\":{\"outlinewidth\":0,\"ticks\":\"\"}},\"type\":\"scattergl\"}],\"scattermapbox\":[{\"marker\":{\"colorbar\":{\"outlinewidth\":0,\"ticks\":\"\"}},\"type\":\"scattermapbox\"}],\"scatterpolar\":[{\"marker\":{\"colorbar\":{\"outlinewidth\":0,\"ticks\":\"\"}},\"type\":\"scatterpolar\"}],\"scatterpolargl\":[{\"marker\":{\"colorbar\":{\"outlinewidth\":0,\"ticks\":\"\"}},\"type\":\"scatterpolargl\"}],\"scatterternary\":[{\"marker\":{\"colorbar\":{\"outlinewidth\":0,\"ticks\":\"\"}},\"type\":\"scatterternary\"}],\"surface\":[{\"colorbar\":{\"outlinewidth\":0,\"ticks\":\"\"},\"colorscale\":[[0.0,\"#0d0887\"],[0.1111111111111111,\"#46039f\"],[0.2222222222222222,\"#7201a8\"],[0.3333333333333333,\"#9c179e\"],[0.4444444444444444,\"#bd3786\"],[0.5555555555555556,\"#d8576b\"],[0.6666666666666666,\"#ed7953\"],[0.7777777777777778,\"#fb9f3a\"],[0.8888888888888888,\"#fdca26\"],[1.0,\"#f0f921\"]],\"type\":\"surface\"}],\"table\":[{\"cells\":{\"fill\":{\"color\":\"#EBF0F8\"},\"line\":{\"color\":\"white\"}},\"header\":{\"fill\":{\"color\":\"#C8D4E3\"},\"line\":{\"color\":\"white\"}},\"type\":\"table\"}]},\"layout\":{\"annotationdefaults\":{\"arrowcolor\":\"#2a3f5f\",\"arrowhead\":0,\"arrowwidth\":1},\"autotypenumbers\":\"strict\",\"coloraxis\":{\"colorbar\":{\"outlinewidth\":0,\"ticks\":\"\"}},\"colorscale\":{\"diverging\":[[0,\"#8e0152\"],[0.1,\"#c51b7d\"],[0.2,\"#de77ae\"],[0.3,\"#f1b6da\"],[0.4,\"#fde0ef\"],[0.5,\"#f7f7f7\"],[0.6,\"#e6f5d0\"],[0.7,\"#b8e186\"],[0.8,\"#7fbc41\"],[0.9,\"#4d9221\"],[1,\"#276419\"]],\"sequential\":[[0.0,\"#0d0887\"],[0.1111111111111111,\"#46039f\"],[0.2222222222222222,\"#7201a8\"],[0.3333333333333333,\"#9c179e\"],[0.4444444444444444,\"#bd3786\"],[0.5555555555555556,\"#d8576b\"],[0.6666666666666666,\"#ed7953\"],[0.7777777777777778,\"#fb9f3a\"],[0.8888888888888888,\"#fdca26\"],[1.0,\"#f0f921\"]],\"sequentialminus\":[[0.0,\"#0d0887\"],[0.1111111111111111,\"#46039f\"],[0.2222222222222222,\"#7201a8\"],[0.3333333333333333,\"#9c179e\"],[0.4444444444444444,\"#bd3786\"],[0.5555555555555556,\"#d8576b\"],[0.6666666666666666,\"#ed7953\"],[0.7777777777777778,\"#fb9f3a\"],[0.8888888888888888,\"#fdca26\"],[1.0,\"#f0f921\"]]},\"colorway\":[\"#636efa\",\"#EF553B\",\"#00cc96\",\"#ab63fa\",\"#FFA15A\",\"#19d3f3\",\"#FF6692\",\"#B6E880\",\"#FF97FF\",\"#FECB52\"],\"font\":{\"color\":\"#2a3f5f\"},\"geo\":{\"bgcolor\":\"white\",\"lakecolor\":\"white\",\"landcolor\":\"#E5ECF6\",\"showlakes\":true,\"showland\":true,\"subunitcolor\":\"white\"},\"hoverlabel\":{\"align\":\"left\"},\"hovermode\":\"closest\",\"mapbox\":{\"style\":\"light\"},\"paper_bgcolor\":\"white\",\"plot_bgcolor\":\"#E5ECF6\",\"polar\":{\"angularaxis\":{\"gridcolor\":\"white\",\"linecolor\":\"white\",\"ticks\":\"\"},\"bgcolor\":\"#E5ECF6\",\"radialaxis\":{\"gridcolor\":\"white\",\"linecolor\":\"white\",\"ticks\":\"\"}},\"scene\":{\"xaxis\":{\"backgroundcolor\":\"#E5ECF6\",\"gridcolor\":\"white\",\"gridwidth\":2,\"linecolor\":\"white\",\"showbackground\":true,\"ticks\":\"\",\"zerolinecolor\":\"white\"},\"yaxis\":{\"backgroundcolor\":\"#E5ECF6\",\"gridcolor\":\"white\",\"gridwidth\":2,\"linecolor\":\"white\",\"showbackground\":true,\"ticks\":\"\",\"zerolinecolor\":\"white\"},\"zaxis\":{\"backgroundcolor\":\"#E5ECF6\",\"gridcolor\":\"white\",\"gridwidth\":2,\"linecolor\":\"white\",\"showbackground\":true,\"ticks\":\"\",\"zerolinecolor\":\"white\"}},\"shapedefaults\":{\"line\":{\"color\":\"#2a3f5f\"}},\"ternary\":{\"aaxis\":{\"gridcolor\":\"white\",\"linecolor\":\"white\",\"ticks\":\"\"},\"baxis\":{\"gridcolor\":\"white\",\"linecolor\":\"white\",\"ticks\":\"\"},\"bgcolor\":\"#E5ECF6\",\"caxis\":{\"gridcolor\":\"white\",\"linecolor\":\"white\",\"ticks\":\"\"}},\"title\":{\"x\":0.05},\"xaxis\":{\"automargin\":true,\"gridcolor\":\"white\",\"linecolor\":\"white\",\"ticks\":\"\",\"title\":{\"standoff\":15},\"zerolinecolor\":\"white\",\"zerolinewidth\":2},\"yaxis\":{\"automargin\":true,\"gridcolor\":\"white\",\"linecolor\":\"white\",\"ticks\":\"\",\"title\":{\"standoff\":15},\"zerolinecolor\":\"white\",\"zerolinewidth\":2}}},\"title\":{\"text\":\"<b>Old Car Models</b>\",\"x\":0.5},\"xaxis\":{\"anchor\":\"y\",\"categoryorder\":\"total descending\",\"domain\":[0.0,1.0],\"linecolor\":\"black\",\"linewidth\":2,\"showline\":true,\"showticklabels\":true,\"title\":{\"text\":\"Car Company\"}},\"yaxis\":{\"anchor\":\"x\",\"domain\":[0.0,1.0],\"linecolor\":\"black\",\"linewidth\":2,\"showline\":true,\"showticklabels\":true,\"title\":{\"text\":\"Sum of Mileage\"}}},                        {\"responsive\": true}                    ).then(function(){\n",
       "                            \n",
       "var gd = document.getElementById('3319b84c-ddd4-48e2-96c8-4be761f52f14');\n",
       "var x = new MutationObserver(function (mutations, observer) {{\n",
       "        var display = window.getComputedStyle(gd).display;\n",
       "        if (!display || display === 'none') {{\n",
       "            console.log([gd, 'removed!']);\n",
       "            Plotly.purge(gd);\n",
       "            observer.disconnect();\n",
       "        }}\n",
       "}});\n",
       "\n",
       "// Listen for the removal of the full notebook cells\n",
       "var notebookContainer = gd.closest('#notebook-container');\n",
       "if (notebookContainer) {{\n",
       "    x.observe(notebookContainer, {childList: true});\n",
       "}}\n",
       "\n",
       "// Listen for the clearing of the current output cell\n",
       "var outputEl = gd.closest('.output');\n",
       "if (outputEl) {{\n",
       "    x.observe(outputEl, {childList: true});\n",
       "}}\n",
       "\n",
       "                        })                };                });            </script>        </div>"
      ]
     },
     "metadata": {},
     "output_type": "display_data"
    }
   ],
   "source": [
    "fig = px.histogram(df_90, x = \"make\")\n",
    "fig.update_layout(xaxis={'categoryorder':'total descending'},\n",
    "                 plot_bgcolor = \"white\",\n",
    "                  yaxis_title = \"Sum of Mileage\",\n",
    "                  xaxis_title = \"Car Company\",\n",
    "                  title = \"<b>Old Car Models</b>\",\n",
    "                 title_x=0.5)\n",
    "\n",
    "fig.update_yaxes(showticklabels = True, showline = True, linewidth = 2, linecolor = \"black\")\n",
    "fig.update_xaxes(showticklabels = True, showline = True, linewidth = 2, linecolor = \"black\")\n",
    "\n",
    "fig.show()"
   ]
  },
  {
   "cell_type": "code",
   "execution_count": 17,
   "metadata": {},
   "outputs": [
    {
     "data": {
      "application/vnd.plotly.v1+json": {
       "config": {
        "plotlyServerURL": "https://plot.ly"
       },
       "data": [
        {
         "alignmentgroup": "True",
         "bingroup": "x",
         "hovertemplate": "condition=Occasion<br>manufacture_year=%{x}<br>count=%{y}<extra></extra>",
         "legendgroup": "Occasion",
         "marker": {
          "color": "#636efa",
          "pattern": {
           "shape": ""
          }
         },
         "name": "Occasion",
         "offsetgroup": "Occasion",
         "orientation": "v",
         "showlegend": true,
         "type": "histogram",
         "x": [
          2004,
          1972,
          1999,
          1972,
          1984,
          1981,
          2008,
          1984,
          1988,
          2011,
          1998,
          2004,
          2005,
          2005,
          2012,
          2010,
          1987,
          2007,
          2003,
          1991,
          2004,
          1998,
          2002,
          2004,
          2002,
          1998,
          2004,
          2000,
          1999,
          2004,
          1999,
          1997,
          1996,
          2007,
          2009,
          2012,
          2010,
          2006,
          2013,
          2006,
          2001,
          2006,
          2011,
          2013,
          2008,
          2008,
          2008,
          2002,
          2010,
          2002,
          2000,
          2008,
          2000,
          1997,
          2001,
          1998,
          2014,
          2001,
          2005,
          2008,
          1990,
          1974,
          2000,
          2005,
          2001,
          2002,
          1995,
          2006,
          2005,
          2008,
          2007,
          1994,
          2010,
          2000,
          1979,
          1986,
          1990,
          1995,
          2008,
          2007,
          2009,
          1996,
          1979,
          2000,
          1980,
          1997,
          1998,
          1995,
          1996,
          2002,
          2000,
          2001,
          2007,
          2002,
          2007,
          1997,
          2010,
          2004,
          2001,
          2006,
          2012,
          1996,
          2011,
          1996,
          1998,
          2003,
          2007,
          2004,
          2013,
          1998,
          2007,
          2007,
          1999,
          1995,
          1999,
          2004,
          1997,
          2009,
          1995,
          2003,
          1982,
          1977,
          1973,
          1982,
          2001,
          2004,
          1999,
          2012,
          1974,
          2012,
          2004,
          2001,
          2002,
          2004,
          2003,
          1990,
          1974,
          1998,
          1997,
          2003,
          2012,
          2007,
          1985,
          1986,
          1984,
          1999,
          1998,
          2008,
          2007,
          1961,
          1967,
          1994,
          2008,
          2010,
          2010,
          1969,
          1981,
          2007,
          2000,
          1996,
          1986,
          2001,
          2003,
          1985,
          1996,
          1998,
          1969,
          1981,
          1974,
          1979,
          2001,
          2006,
          1994,
          1981,
          1974,
          1994,
          1996,
          2000,
          1999,
          2010,
          2012,
          2006,
          2008,
          2010,
          2004,
          2008,
          2013,
          1995,
          1997,
          1998,
          2004,
          2000,
          2003,
          2007,
          2008,
          2007,
          1997,
          1992,
          2003,
          1989,
          1989,
          1972,
          1970,
          1978,
          1974,
          2004,
          1980,
          2006,
          1994,
          1978,
          1971,
          1986,
          1990,
          2015,
          1999,
          2012,
          1968,
          2014,
          2006,
          1998,
          2001,
          2006,
          2007,
          1956,
          1974,
          1999,
          2002,
          1997,
          2007,
          1996,
          2001,
          1998,
          2009,
          1999,
          2000,
          1996,
          1996,
          1995,
          1966,
          2014,
          1993,
          1999,
          1993,
          1998,
          1995,
          2004,
          2006,
          2009,
          2009,
          2011,
          2011,
          2007,
          2014,
          2016,
          2003,
          2006,
          2007,
          2010,
          2008,
          1996,
          1992,
          1993,
          1995,
          1978,
          1984,
          1989,
          2011,
          1998,
          2007,
          2003,
          2012,
          1995,
          2010,
          2006,
          2010,
          2006,
          2003,
          2002,
          2001,
          2002,
          2002,
          2005,
          1969,
          2000,
          1995,
          2002,
          2005,
          1996,
          2009,
          2009,
          2005,
          2006,
          2008,
          2009,
          2003,
          1979,
          2001,
          2007,
          1989,
          1992,
          1991,
          1971,
          1960,
          1955,
          1991,
          1985,
          1991,
          2000,
          1996,
          2004,
          2005,
          2006,
          2012,
          2012,
          2012,
          2006,
          1997,
          1997,
          2000,
          1997,
          2002,
          2006,
          1998,
          2009,
          2000,
          2000,
          2011,
          2006,
          2002,
          2001,
          2008,
          2008,
          1998,
          2000,
          2008,
          2005,
          2008,
          2010,
          2004,
          2005,
          2007,
          1997,
          2003,
          2003,
          2010,
          2001,
          1996,
          1999,
          2005,
          1996,
          1996,
          1998,
          1997,
          2004,
          1994,
          2002,
          1996,
          2009,
          2007,
          2012,
          2013,
          2008,
          2013,
          2003,
          2002,
          2001,
          2002,
          2012,
          2007,
          2005,
          2008,
          2011,
          1997,
          2004,
          2010,
          2001,
          2005,
          2006,
          1999,
          2002,
          1999,
          2003,
          1996,
          2003,
          2010,
          2008,
          2006,
          2007,
          2004,
          1971,
          1967,
          1993,
          2000,
          2004,
          1990,
          2000,
          1996,
          2004,
          1992,
          2003,
          2008,
          2005,
          2011,
          2002,
          2003,
          2000,
          2008,
          2005,
          2011,
          1986,
          1968,
          1999,
          2003,
          1983,
          2006,
          2013,
          2012,
          2013,
          1992,
          1990,
          2005,
          2007,
          2002,
          1992,
          1972,
          1971,
          1982,
          2001,
          2003,
          2004,
          2006,
          2003,
          1984,
          2008,
          1998,
          1992,
          1995,
          1999,
          1995,
          2002,
          2004,
          2006,
          2006,
          1984,
          2004,
          1996,
          2005,
          2006,
          2002,
          2004,
          2000,
          2011,
          1997,
          2003,
          2008,
          1991,
          2011,
          2011,
          1985,
          1990,
          1998,
          2000,
          2007,
          2006,
          2009,
          2004,
          2010,
          2001,
          2000,
          2007,
          2001,
          2010,
          2009,
          1983,
          1971,
          2007,
          1980,
          1993,
          1978,
          1973,
          1971,
          1969,
          1972,
          1973,
          1976,
          1970,
          1971,
          1979,
          1977,
          1981,
          1981,
          1984,
          1992,
          1984,
          1988,
          2008,
          2004,
          1960,
          2004,
          1972,
          1978,
          1985,
          2000,
          1997,
          1983,
          2000,
          1977,
          1987,
          2002,
          1978,
          1990,
          1983,
          2004,
          1988,
          1990,
          1997,
          2007,
          2005,
          2003,
          2001,
          2002,
          2005,
          2009,
          1976,
          2003,
          2006,
          1982,
          1982,
          1977,
          1971,
          1976,
          1979,
          1981,
          1983,
          1986,
          2004,
          1982,
          1990,
          2009,
          1974,
          1977,
          2001,
          1999,
          2001,
          2002,
          2007,
          2007,
          2011,
          2007,
          2009,
          2000,
          2008,
          2003,
          2003,
          2006,
          2008,
          2008,
          2008,
          2007
         ],
         "xaxis": "x",
         "yaxis": "y"
        },
        {
         "alignmentgroup": "True",
         "bingroup": "x",
         "hovertemplate": "condition=Oldtimer<br>manufacture_year=%{x}<br>count=%{y}<extra></extra>",
         "legendgroup": "Oldtimer",
         "marker": {
          "color": "#EF553B",
          "pattern": {
           "shape": ""
          }
         },
         "name": "Oldtimer",
         "offsetgroup": "Oldtimer",
         "orientation": "v",
         "showlegend": true,
         "type": "histogram",
         "x": [
          1970,
          1959,
          1960,
          1975,
          1980,
          1970,
          1966,
          1927,
          1973,
          1968,
          1939,
          1973,
          1930,
          1957,
          1976,
          1976,
          1972,
          1976,
          1979,
          1982,
          1969,
          1982,
          1980,
          1981,
          1985,
          1972,
          1957
         ],
         "xaxis": "x",
         "yaxis": "y"
        },
        {
         "alignmentgroup": "True",
         "bingroup": "x",
         "hovertemplate": "condition=Vorführmodell<br>manufacture_year=%{x}<br>count=%{y}<extra></extra>",
         "legendgroup": "Vorführmodell",
         "marker": {
          "color": "#00cc96",
          "pattern": {
           "shape": ""
          }
         },
         "name": "Vorführmodell",
         "offsetgroup": "Vorführmodell",
         "orientation": "v",
         "showlegend": true,
         "type": "histogram",
         "x": [
          2010,
          1997,
          2011,
          2008,
          2001,
          2007,
          2009
         ],
         "xaxis": "x",
         "yaxis": "y"
        },
        {
         "alignmentgroup": "True",
         "bingroup": "x",
         "hovertemplate": "condition=Neu<br>manufacture_year=%{x}<br>count=%{y}<extra></extra>",
         "legendgroup": "Neu",
         "marker": {
          "color": "#ab63fa",
          "pattern": {
           "shape": ""
          }
         },
         "name": "Neu",
         "offsetgroup": "Neu",
         "orientation": "v",
         "showlegend": true,
         "type": "histogram",
         "x": [
          2015,
          2005,
          2006,
          2012,
          2015,
          2011,
          2006
         ],
         "xaxis": "x",
         "yaxis": "y"
        }
       ],
       "layout": {
        "barmode": "relative",
        "legend": {
         "title": {
          "text": "condition"
         },
         "tracegroupgap": 0
        },
        "margin": {
         "t": 60
        },
        "plot_bgcolor": "white",
        "template": {
         "data": {
          "bar": [
           {
            "error_x": {
             "color": "#2a3f5f"
            },
            "error_y": {
             "color": "#2a3f5f"
            },
            "marker": {
             "line": {
              "color": "#E5ECF6",
              "width": 0.5
             },
             "pattern": {
              "fillmode": "overlay",
              "size": 10,
              "solidity": 0.2
             }
            },
            "type": "bar"
           }
          ],
          "barpolar": [
           {
            "marker": {
             "line": {
              "color": "#E5ECF6",
              "width": 0.5
             },
             "pattern": {
              "fillmode": "overlay",
              "size": 10,
              "solidity": 0.2
             }
            },
            "type": "barpolar"
           }
          ],
          "carpet": [
           {
            "aaxis": {
             "endlinecolor": "#2a3f5f",
             "gridcolor": "white",
             "linecolor": "white",
             "minorgridcolor": "white",
             "startlinecolor": "#2a3f5f"
            },
            "baxis": {
             "endlinecolor": "#2a3f5f",
             "gridcolor": "white",
             "linecolor": "white",
             "minorgridcolor": "white",
             "startlinecolor": "#2a3f5f"
            },
            "type": "carpet"
           }
          ],
          "choropleth": [
           {
            "colorbar": {
             "outlinewidth": 0,
             "ticks": ""
            },
            "type": "choropleth"
           }
          ],
          "contour": [
           {
            "colorbar": {
             "outlinewidth": 0,
             "ticks": ""
            },
            "colorscale": [
             [
              0,
              "#0d0887"
             ],
             [
              0.1111111111111111,
              "#46039f"
             ],
             [
              0.2222222222222222,
              "#7201a8"
             ],
             [
              0.3333333333333333,
              "#9c179e"
             ],
             [
              0.4444444444444444,
              "#bd3786"
             ],
             [
              0.5555555555555556,
              "#d8576b"
             ],
             [
              0.6666666666666666,
              "#ed7953"
             ],
             [
              0.7777777777777778,
              "#fb9f3a"
             ],
             [
              0.8888888888888888,
              "#fdca26"
             ],
             [
              1,
              "#f0f921"
             ]
            ],
            "type": "contour"
           }
          ],
          "contourcarpet": [
           {
            "colorbar": {
             "outlinewidth": 0,
             "ticks": ""
            },
            "type": "contourcarpet"
           }
          ],
          "heatmap": [
           {
            "colorbar": {
             "outlinewidth": 0,
             "ticks": ""
            },
            "colorscale": [
             [
              0,
              "#0d0887"
             ],
             [
              0.1111111111111111,
              "#46039f"
             ],
             [
              0.2222222222222222,
              "#7201a8"
             ],
             [
              0.3333333333333333,
              "#9c179e"
             ],
             [
              0.4444444444444444,
              "#bd3786"
             ],
             [
              0.5555555555555556,
              "#d8576b"
             ],
             [
              0.6666666666666666,
              "#ed7953"
             ],
             [
              0.7777777777777778,
              "#fb9f3a"
             ],
             [
              0.8888888888888888,
              "#fdca26"
             ],
             [
              1,
              "#f0f921"
             ]
            ],
            "type": "heatmap"
           }
          ],
          "heatmapgl": [
           {
            "colorbar": {
             "outlinewidth": 0,
             "ticks": ""
            },
            "colorscale": [
             [
              0,
              "#0d0887"
             ],
             [
              0.1111111111111111,
              "#46039f"
             ],
             [
              0.2222222222222222,
              "#7201a8"
             ],
             [
              0.3333333333333333,
              "#9c179e"
             ],
             [
              0.4444444444444444,
              "#bd3786"
             ],
             [
              0.5555555555555556,
              "#d8576b"
             ],
             [
              0.6666666666666666,
              "#ed7953"
             ],
             [
              0.7777777777777778,
              "#fb9f3a"
             ],
             [
              0.8888888888888888,
              "#fdca26"
             ],
             [
              1,
              "#f0f921"
             ]
            ],
            "type": "heatmapgl"
           }
          ],
          "histogram": [
           {
            "marker": {
             "pattern": {
              "fillmode": "overlay",
              "size": 10,
              "solidity": 0.2
             }
            },
            "type": "histogram"
           }
          ],
          "histogram2d": [
           {
            "colorbar": {
             "outlinewidth": 0,
             "ticks": ""
            },
            "colorscale": [
             [
              0,
              "#0d0887"
             ],
             [
              0.1111111111111111,
              "#46039f"
             ],
             [
              0.2222222222222222,
              "#7201a8"
             ],
             [
              0.3333333333333333,
              "#9c179e"
             ],
             [
              0.4444444444444444,
              "#bd3786"
             ],
             [
              0.5555555555555556,
              "#d8576b"
             ],
             [
              0.6666666666666666,
              "#ed7953"
             ],
             [
              0.7777777777777778,
              "#fb9f3a"
             ],
             [
              0.8888888888888888,
              "#fdca26"
             ],
             [
              1,
              "#f0f921"
             ]
            ],
            "type": "histogram2d"
           }
          ],
          "histogram2dcontour": [
           {
            "colorbar": {
             "outlinewidth": 0,
             "ticks": ""
            },
            "colorscale": [
             [
              0,
              "#0d0887"
             ],
             [
              0.1111111111111111,
              "#46039f"
             ],
             [
              0.2222222222222222,
              "#7201a8"
             ],
             [
              0.3333333333333333,
              "#9c179e"
             ],
             [
              0.4444444444444444,
              "#bd3786"
             ],
             [
              0.5555555555555556,
              "#d8576b"
             ],
             [
              0.6666666666666666,
              "#ed7953"
             ],
             [
              0.7777777777777778,
              "#fb9f3a"
             ],
             [
              0.8888888888888888,
              "#fdca26"
             ],
             [
              1,
              "#f0f921"
             ]
            ],
            "type": "histogram2dcontour"
           }
          ],
          "mesh3d": [
           {
            "colorbar": {
             "outlinewidth": 0,
             "ticks": ""
            },
            "type": "mesh3d"
           }
          ],
          "parcoords": [
           {
            "line": {
             "colorbar": {
              "outlinewidth": 0,
              "ticks": ""
             }
            },
            "type": "parcoords"
           }
          ],
          "pie": [
           {
            "automargin": true,
            "type": "pie"
           }
          ],
          "scatter": [
           {
            "marker": {
             "colorbar": {
              "outlinewidth": 0,
              "ticks": ""
             }
            },
            "type": "scatter"
           }
          ],
          "scatter3d": [
           {
            "line": {
             "colorbar": {
              "outlinewidth": 0,
              "ticks": ""
             }
            },
            "marker": {
             "colorbar": {
              "outlinewidth": 0,
              "ticks": ""
             }
            },
            "type": "scatter3d"
           }
          ],
          "scattercarpet": [
           {
            "marker": {
             "colorbar": {
              "outlinewidth": 0,
              "ticks": ""
             }
            },
            "type": "scattercarpet"
           }
          ],
          "scattergeo": [
           {
            "marker": {
             "colorbar": {
              "outlinewidth": 0,
              "ticks": ""
             }
            },
            "type": "scattergeo"
           }
          ],
          "scattergl": [
           {
            "marker": {
             "colorbar": {
              "outlinewidth": 0,
              "ticks": ""
             }
            },
            "type": "scattergl"
           }
          ],
          "scattermapbox": [
           {
            "marker": {
             "colorbar": {
              "outlinewidth": 0,
              "ticks": ""
             }
            },
            "type": "scattermapbox"
           }
          ],
          "scatterpolar": [
           {
            "marker": {
             "colorbar": {
              "outlinewidth": 0,
              "ticks": ""
             }
            },
            "type": "scatterpolar"
           }
          ],
          "scatterpolargl": [
           {
            "marker": {
             "colorbar": {
              "outlinewidth": 0,
              "ticks": ""
             }
            },
            "type": "scatterpolargl"
           }
          ],
          "scatterternary": [
           {
            "marker": {
             "colorbar": {
              "outlinewidth": 0,
              "ticks": ""
             }
            },
            "type": "scatterternary"
           }
          ],
          "surface": [
           {
            "colorbar": {
             "outlinewidth": 0,
             "ticks": ""
            },
            "colorscale": [
             [
              0,
              "#0d0887"
             ],
             [
              0.1111111111111111,
              "#46039f"
             ],
             [
              0.2222222222222222,
              "#7201a8"
             ],
             [
              0.3333333333333333,
              "#9c179e"
             ],
             [
              0.4444444444444444,
              "#bd3786"
             ],
             [
              0.5555555555555556,
              "#d8576b"
             ],
             [
              0.6666666666666666,
              "#ed7953"
             ],
             [
              0.7777777777777778,
              "#fb9f3a"
             ],
             [
              0.8888888888888888,
              "#fdca26"
             ],
             [
              1,
              "#f0f921"
             ]
            ],
            "type": "surface"
           }
          ],
          "table": [
           {
            "cells": {
             "fill": {
              "color": "#EBF0F8"
             },
             "line": {
              "color": "white"
             }
            },
            "header": {
             "fill": {
              "color": "#C8D4E3"
             },
             "line": {
              "color": "white"
             }
            },
            "type": "table"
           }
          ]
         },
         "layout": {
          "annotationdefaults": {
           "arrowcolor": "#2a3f5f",
           "arrowhead": 0,
           "arrowwidth": 1
          },
          "autotypenumbers": "strict",
          "coloraxis": {
           "colorbar": {
            "outlinewidth": 0,
            "ticks": ""
           }
          },
          "colorscale": {
           "diverging": [
            [
             0,
             "#8e0152"
            ],
            [
             0.1,
             "#c51b7d"
            ],
            [
             0.2,
             "#de77ae"
            ],
            [
             0.3,
             "#f1b6da"
            ],
            [
             0.4,
             "#fde0ef"
            ],
            [
             0.5,
             "#f7f7f7"
            ],
            [
             0.6,
             "#e6f5d0"
            ],
            [
             0.7,
             "#b8e186"
            ],
            [
             0.8,
             "#7fbc41"
            ],
            [
             0.9,
             "#4d9221"
            ],
            [
             1,
             "#276419"
            ]
           ],
           "sequential": [
            [
             0,
             "#0d0887"
            ],
            [
             0.1111111111111111,
             "#46039f"
            ],
            [
             0.2222222222222222,
             "#7201a8"
            ],
            [
             0.3333333333333333,
             "#9c179e"
            ],
            [
             0.4444444444444444,
             "#bd3786"
            ],
            [
             0.5555555555555556,
             "#d8576b"
            ],
            [
             0.6666666666666666,
             "#ed7953"
            ],
            [
             0.7777777777777778,
             "#fb9f3a"
            ],
            [
             0.8888888888888888,
             "#fdca26"
            ],
            [
             1,
             "#f0f921"
            ]
           ],
           "sequentialminus": [
            [
             0,
             "#0d0887"
            ],
            [
             0.1111111111111111,
             "#46039f"
            ],
            [
             0.2222222222222222,
             "#7201a8"
            ],
            [
             0.3333333333333333,
             "#9c179e"
            ],
            [
             0.4444444444444444,
             "#bd3786"
            ],
            [
             0.5555555555555556,
             "#d8576b"
            ],
            [
             0.6666666666666666,
             "#ed7953"
            ],
            [
             0.7777777777777778,
             "#fb9f3a"
            ],
            [
             0.8888888888888888,
             "#fdca26"
            ],
            [
             1,
             "#f0f921"
            ]
           ]
          },
          "colorway": [
           "#636efa",
           "#EF553B",
           "#00cc96",
           "#ab63fa",
           "#FFA15A",
           "#19d3f3",
           "#FF6692",
           "#B6E880",
           "#FF97FF",
           "#FECB52"
          ],
          "font": {
           "color": "#2a3f5f"
          },
          "geo": {
           "bgcolor": "white",
           "lakecolor": "white",
           "landcolor": "#E5ECF6",
           "showlakes": true,
           "showland": true,
           "subunitcolor": "white"
          },
          "hoverlabel": {
           "align": "left"
          },
          "hovermode": "closest",
          "mapbox": {
           "style": "light"
          },
          "paper_bgcolor": "white",
          "plot_bgcolor": "#E5ECF6",
          "polar": {
           "angularaxis": {
            "gridcolor": "white",
            "linecolor": "white",
            "ticks": ""
           },
           "bgcolor": "#E5ECF6",
           "radialaxis": {
            "gridcolor": "white",
            "linecolor": "white",
            "ticks": ""
           }
          },
          "scene": {
           "xaxis": {
            "backgroundcolor": "#E5ECF6",
            "gridcolor": "white",
            "gridwidth": 2,
            "linecolor": "white",
            "showbackground": true,
            "ticks": "",
            "zerolinecolor": "white"
           },
           "yaxis": {
            "backgroundcolor": "#E5ECF6",
            "gridcolor": "white",
            "gridwidth": 2,
            "linecolor": "white",
            "showbackground": true,
            "ticks": "",
            "zerolinecolor": "white"
           },
           "zaxis": {
            "backgroundcolor": "#E5ECF6",
            "gridcolor": "white",
            "gridwidth": 2,
            "linecolor": "white",
            "showbackground": true,
            "ticks": "",
            "zerolinecolor": "white"
           }
          },
          "shapedefaults": {
           "line": {
            "color": "#2a3f5f"
           }
          },
          "ternary": {
           "aaxis": {
            "gridcolor": "white",
            "linecolor": "white",
            "ticks": ""
           },
           "baxis": {
            "gridcolor": "white",
            "linecolor": "white",
            "ticks": ""
           },
           "bgcolor": "#E5ECF6",
           "caxis": {
            "gridcolor": "white",
            "linecolor": "white",
            "ticks": ""
           }
          },
          "title": {
           "x": 0.05
          },
          "xaxis": {
           "automargin": true,
           "gridcolor": "white",
           "linecolor": "white",
           "ticks": "",
           "title": {
            "standoff": 15
           },
           "zerolinecolor": "white",
           "zerolinewidth": 2
          },
          "yaxis": {
           "automargin": true,
           "gridcolor": "white",
           "linecolor": "white",
           "ticks": "",
           "title": {
            "standoff": 15
           },
           "zerolinecolor": "white",
           "zerolinewidth": 2
          }
         }
        },
        "title": {
         "text": "<b>Cars count based on car condition according to year</b>",
         "x": 0.5
        },
        "xaxis": {
         "anchor": "y",
         "categoryorder": "total descending",
         "domain": [
          0,
          1
         ],
         "linecolor": "black",
         "linewidth": 2,
         "showline": true,
         "showticklabels": true,
         "title": {
          "text": "Manufacturing Year"
         }
        },
        "yaxis": {
         "anchor": "x",
         "domain": [
          0,
          1
         ],
         "linecolor": "black",
         "linewidth": 2,
         "showline": true,
         "showticklabels": true,
         "title": {
          "text": "Count of Cars"
         }
        }
       }
      },
      "text/html": [
       "<div>                            <div id=\"30fcaae3-39ab-42bb-b44b-e433f1063462\" class=\"plotly-graph-div\" style=\"height:525px; width:100%;\"></div>            <script type=\"text/javascript\">                require([\"plotly\"], function(Plotly) {                    window.PLOTLYENV=window.PLOTLYENV || {};                                    if (document.getElementById(\"30fcaae3-39ab-42bb-b44b-e433f1063462\")) {                    Plotly.newPlot(                        \"30fcaae3-39ab-42bb-b44b-e433f1063462\",                        [{\"alignmentgroup\":\"True\",\"bingroup\":\"x\",\"hovertemplate\":\"condition=Occasion<br>manufacture_year=%{x}<br>count=%{y}<extra></extra>\",\"legendgroup\":\"Occasion\",\"marker\":{\"color\":\"#636efa\",\"pattern\":{\"shape\":\"\"}},\"name\":\"Occasion\",\"offsetgroup\":\"Occasion\",\"orientation\":\"v\",\"showlegend\":true,\"type\":\"histogram\",\"x\":[2004,1972,1999,1972,1984,1981,2008,1984,1988,2011,1998,2004,2005,2005,2012,2010,1987,2007,2003,1991,2004,1998,2002,2004,2002,1998,2004,2000,1999,2004,1999,1997,1996,2007,2009,2012,2010,2006,2013,2006,2001,2006,2011,2013,2008,2008,2008,2002,2010,2002,2000,2008,2000,1997,2001,1998,2014,2001,2005,2008,1990,1974,2000,2005,2001,2002,1995,2006,2005,2008,2007,1994,2010,2000,1979,1986,1990,1995,2008,2007,2009,1996,1979,2000,1980,1997,1998,1995,1996,2002,2000,2001,2007,2002,2007,1997,2010,2004,2001,2006,2012,1996,2011,1996,1998,2003,2007,2004,2013,1998,2007,2007,1999,1995,1999,2004,1997,2009,1995,2003,1982,1977,1973,1982,2001,2004,1999,2012,1974,2012,2004,2001,2002,2004,2003,1990,1974,1998,1997,2003,2012,2007,1985,1986,1984,1999,1998,2008,2007,1961,1967,1994,2008,2010,2010,1969,1981,2007,2000,1996,1986,2001,2003,1985,1996,1998,1969,1981,1974,1979,2001,2006,1994,1981,1974,1994,1996,2000,1999,2010,2012,2006,2008,2010,2004,2008,2013,1995,1997,1998,2004,2000,2003,2007,2008,2007,1997,1992,2003,1989,1989,1972,1970,1978,1974,2004,1980,2006,1994,1978,1971,1986,1990,2015,1999,2012,1968,2014,2006,1998,2001,2006,2007,1956,1974,1999,2002,1997,2007,1996,2001,1998,2009,1999,2000,1996,1996,1995,1966,2014,1993,1999,1993,1998,1995,2004,2006,2009,2009,2011,2011,2007,2014,2016,2003,2006,2007,2010,2008,1996,1992,1993,1995,1978,1984,1989,2011,1998,2007,2003,2012,1995,2010,2006,2010,2006,2003,2002,2001,2002,2002,2005,1969,2000,1995,2002,2005,1996,2009,2009,2005,2006,2008,2009,2003,1979,2001,2007,1989,1992,1991,1971,1960,1955,1991,1985,1991,2000,1996,2004,2005,2006,2012,2012,2012,2006,1997,1997,2000,1997,2002,2006,1998,2009,2000,2000,2011,2006,2002,2001,2008,2008,1998,2000,2008,2005,2008,2010,2004,2005,2007,1997,2003,2003,2010,2001,1996,1999,2005,1996,1996,1998,1997,2004,1994,2002,1996,2009,2007,2012,2013,2008,2013,2003,2002,2001,2002,2012,2007,2005,2008,2011,1997,2004,2010,2001,2005,2006,1999,2002,1999,2003,1996,2003,2010,2008,2006,2007,2004,1971,1967,1993,2000,2004,1990,2000,1996,2004,1992,2003,2008,2005,2011,2002,2003,2000,2008,2005,2011,1986,1968,1999,2003,1983,2006,2013,2012,2013,1992,1990,2005,2007,2002,1992,1972,1971,1982,2001,2003,2004,2006,2003,1984,2008,1998,1992,1995,1999,1995,2002,2004,2006,2006,1984,2004,1996,2005,2006,2002,2004,2000,2011,1997,2003,2008,1991,2011,2011,1985,1990,1998,2000,2007,2006,2009,2004,2010,2001,2000,2007,2001,2010,2009,1983,1971,2007,1980,1993,1978,1973,1971,1969,1972,1973,1976,1970,1971,1979,1977,1981,1981,1984,1992,1984,1988,2008,2004,1960,2004,1972,1978,1985,2000,1997,1983,2000,1977,1987,2002,1978,1990,1983,2004,1988,1990,1997,2007,2005,2003,2001,2002,2005,2009,1976,2003,2006,1982,1982,1977,1971,1976,1979,1981,1983,1986,2004,1982,1990,2009,1974,1977,2001,1999,2001,2002,2007,2007,2011,2007,2009,2000,2008,2003,2003,2006,2008,2008,2008,2007],\"xaxis\":\"x\",\"yaxis\":\"y\"},{\"alignmentgroup\":\"True\",\"bingroup\":\"x\",\"hovertemplate\":\"condition=Oldtimer<br>manufacture_year=%{x}<br>count=%{y}<extra></extra>\",\"legendgroup\":\"Oldtimer\",\"marker\":{\"color\":\"#EF553B\",\"pattern\":{\"shape\":\"\"}},\"name\":\"Oldtimer\",\"offsetgroup\":\"Oldtimer\",\"orientation\":\"v\",\"showlegend\":true,\"type\":\"histogram\",\"x\":[1970,1959,1960,1975,1980,1970,1966,1927,1973,1968,1939,1973,1930,1957,1976,1976,1972,1976,1979,1982,1969,1982,1980,1981,1985,1972,1957],\"xaxis\":\"x\",\"yaxis\":\"y\"},{\"alignmentgroup\":\"True\",\"bingroup\":\"x\",\"hovertemplate\":\"condition=Vorf\\u00fchrmodell<br>manufacture_year=%{x}<br>count=%{y}<extra></extra>\",\"legendgroup\":\"Vorf\\u00fchrmodell\",\"marker\":{\"color\":\"#00cc96\",\"pattern\":{\"shape\":\"\"}},\"name\":\"Vorf\\u00fchrmodell\",\"offsetgroup\":\"Vorf\\u00fchrmodell\",\"orientation\":\"v\",\"showlegend\":true,\"type\":\"histogram\",\"x\":[2010,1997,2011,2008,2001,2007,2009],\"xaxis\":\"x\",\"yaxis\":\"y\"},{\"alignmentgroup\":\"True\",\"bingroup\":\"x\",\"hovertemplate\":\"condition=Neu<br>manufacture_year=%{x}<br>count=%{y}<extra></extra>\",\"legendgroup\":\"Neu\",\"marker\":{\"color\":\"#ab63fa\",\"pattern\":{\"shape\":\"\"}},\"name\":\"Neu\",\"offsetgroup\":\"Neu\",\"orientation\":\"v\",\"showlegend\":true,\"type\":\"histogram\",\"x\":[2015,2005,2006,2012,2015,2011,2006],\"xaxis\":\"x\",\"yaxis\":\"y\"}],                        {\"barmode\":\"relative\",\"legend\":{\"title\":{\"text\":\"condition\"},\"tracegroupgap\":0},\"margin\":{\"t\":60},\"plot_bgcolor\":\"white\",\"template\":{\"data\":{\"bar\":[{\"error_x\":{\"color\":\"#2a3f5f\"},\"error_y\":{\"color\":\"#2a3f5f\"},\"marker\":{\"line\":{\"color\":\"#E5ECF6\",\"width\":0.5},\"pattern\":{\"fillmode\":\"overlay\",\"size\":10,\"solidity\":0.2}},\"type\":\"bar\"}],\"barpolar\":[{\"marker\":{\"line\":{\"color\":\"#E5ECF6\",\"width\":0.5},\"pattern\":{\"fillmode\":\"overlay\",\"size\":10,\"solidity\":0.2}},\"type\":\"barpolar\"}],\"carpet\":[{\"aaxis\":{\"endlinecolor\":\"#2a3f5f\",\"gridcolor\":\"white\",\"linecolor\":\"white\",\"minorgridcolor\":\"white\",\"startlinecolor\":\"#2a3f5f\"},\"baxis\":{\"endlinecolor\":\"#2a3f5f\",\"gridcolor\":\"white\",\"linecolor\":\"white\",\"minorgridcolor\":\"white\",\"startlinecolor\":\"#2a3f5f\"},\"type\":\"carpet\"}],\"choropleth\":[{\"colorbar\":{\"outlinewidth\":0,\"ticks\":\"\"},\"type\":\"choropleth\"}],\"contour\":[{\"colorbar\":{\"outlinewidth\":0,\"ticks\":\"\"},\"colorscale\":[[0.0,\"#0d0887\"],[0.1111111111111111,\"#46039f\"],[0.2222222222222222,\"#7201a8\"],[0.3333333333333333,\"#9c179e\"],[0.4444444444444444,\"#bd3786\"],[0.5555555555555556,\"#d8576b\"],[0.6666666666666666,\"#ed7953\"],[0.7777777777777778,\"#fb9f3a\"],[0.8888888888888888,\"#fdca26\"],[1.0,\"#f0f921\"]],\"type\":\"contour\"}],\"contourcarpet\":[{\"colorbar\":{\"outlinewidth\":0,\"ticks\":\"\"},\"type\":\"contourcarpet\"}],\"heatmap\":[{\"colorbar\":{\"outlinewidth\":0,\"ticks\":\"\"},\"colorscale\":[[0.0,\"#0d0887\"],[0.1111111111111111,\"#46039f\"],[0.2222222222222222,\"#7201a8\"],[0.3333333333333333,\"#9c179e\"],[0.4444444444444444,\"#bd3786\"],[0.5555555555555556,\"#d8576b\"],[0.6666666666666666,\"#ed7953\"],[0.7777777777777778,\"#fb9f3a\"],[0.8888888888888888,\"#fdca26\"],[1.0,\"#f0f921\"]],\"type\":\"heatmap\"}],\"heatmapgl\":[{\"colorbar\":{\"outlinewidth\":0,\"ticks\":\"\"},\"colorscale\":[[0.0,\"#0d0887\"],[0.1111111111111111,\"#46039f\"],[0.2222222222222222,\"#7201a8\"],[0.3333333333333333,\"#9c179e\"],[0.4444444444444444,\"#bd3786\"],[0.5555555555555556,\"#d8576b\"],[0.6666666666666666,\"#ed7953\"],[0.7777777777777778,\"#fb9f3a\"],[0.8888888888888888,\"#fdca26\"],[1.0,\"#f0f921\"]],\"type\":\"heatmapgl\"}],\"histogram\":[{\"marker\":{\"pattern\":{\"fillmode\":\"overlay\",\"size\":10,\"solidity\":0.2}},\"type\":\"histogram\"}],\"histogram2d\":[{\"colorbar\":{\"outlinewidth\":0,\"ticks\":\"\"},\"colorscale\":[[0.0,\"#0d0887\"],[0.1111111111111111,\"#46039f\"],[0.2222222222222222,\"#7201a8\"],[0.3333333333333333,\"#9c179e\"],[0.4444444444444444,\"#bd3786\"],[0.5555555555555556,\"#d8576b\"],[0.6666666666666666,\"#ed7953\"],[0.7777777777777778,\"#fb9f3a\"],[0.8888888888888888,\"#fdca26\"],[1.0,\"#f0f921\"]],\"type\":\"histogram2d\"}],\"histogram2dcontour\":[{\"colorbar\":{\"outlinewidth\":0,\"ticks\":\"\"},\"colorscale\":[[0.0,\"#0d0887\"],[0.1111111111111111,\"#46039f\"],[0.2222222222222222,\"#7201a8\"],[0.3333333333333333,\"#9c179e\"],[0.4444444444444444,\"#bd3786\"],[0.5555555555555556,\"#d8576b\"],[0.6666666666666666,\"#ed7953\"],[0.7777777777777778,\"#fb9f3a\"],[0.8888888888888888,\"#fdca26\"],[1.0,\"#f0f921\"]],\"type\":\"histogram2dcontour\"}],\"mesh3d\":[{\"colorbar\":{\"outlinewidth\":0,\"ticks\":\"\"},\"type\":\"mesh3d\"}],\"parcoords\":[{\"line\":{\"colorbar\":{\"outlinewidth\":0,\"ticks\":\"\"}},\"type\":\"parcoords\"}],\"pie\":[{\"automargin\":true,\"type\":\"pie\"}],\"scatter\":[{\"marker\":{\"colorbar\":{\"outlinewidth\":0,\"ticks\":\"\"}},\"type\":\"scatter\"}],\"scatter3d\":[{\"line\":{\"colorbar\":{\"outlinewidth\":0,\"ticks\":\"\"}},\"marker\":{\"colorbar\":{\"outlinewidth\":0,\"ticks\":\"\"}},\"type\":\"scatter3d\"}],\"scattercarpet\":[{\"marker\":{\"colorbar\":{\"outlinewidth\":0,\"ticks\":\"\"}},\"type\":\"scattercarpet\"}],\"scattergeo\":[{\"marker\":{\"colorbar\":{\"outlinewidth\":0,\"ticks\":\"\"}},\"type\":\"scattergeo\"}],\"scattergl\":[{\"marker\":{\"colorbar\":{\"outlinewidth\":0,\"ticks\":\"\"}},\"type\":\"scattergl\"}],\"scattermapbox\":[{\"marker\":{\"colorbar\":{\"outlinewidth\":0,\"ticks\":\"\"}},\"type\":\"scattermapbox\"}],\"scatterpolar\":[{\"marker\":{\"colorbar\":{\"outlinewidth\":0,\"ticks\":\"\"}},\"type\":\"scatterpolar\"}],\"scatterpolargl\":[{\"marker\":{\"colorbar\":{\"outlinewidth\":0,\"ticks\":\"\"}},\"type\":\"scatterpolargl\"}],\"scatterternary\":[{\"marker\":{\"colorbar\":{\"outlinewidth\":0,\"ticks\":\"\"}},\"type\":\"scatterternary\"}],\"surface\":[{\"colorbar\":{\"outlinewidth\":0,\"ticks\":\"\"},\"colorscale\":[[0.0,\"#0d0887\"],[0.1111111111111111,\"#46039f\"],[0.2222222222222222,\"#7201a8\"],[0.3333333333333333,\"#9c179e\"],[0.4444444444444444,\"#bd3786\"],[0.5555555555555556,\"#d8576b\"],[0.6666666666666666,\"#ed7953\"],[0.7777777777777778,\"#fb9f3a\"],[0.8888888888888888,\"#fdca26\"],[1.0,\"#f0f921\"]],\"type\":\"surface\"}],\"table\":[{\"cells\":{\"fill\":{\"color\":\"#EBF0F8\"},\"line\":{\"color\":\"white\"}},\"header\":{\"fill\":{\"color\":\"#C8D4E3\"},\"line\":{\"color\":\"white\"}},\"type\":\"table\"}]},\"layout\":{\"annotationdefaults\":{\"arrowcolor\":\"#2a3f5f\",\"arrowhead\":0,\"arrowwidth\":1},\"autotypenumbers\":\"strict\",\"coloraxis\":{\"colorbar\":{\"outlinewidth\":0,\"ticks\":\"\"}},\"colorscale\":{\"diverging\":[[0,\"#8e0152\"],[0.1,\"#c51b7d\"],[0.2,\"#de77ae\"],[0.3,\"#f1b6da\"],[0.4,\"#fde0ef\"],[0.5,\"#f7f7f7\"],[0.6,\"#e6f5d0\"],[0.7,\"#b8e186\"],[0.8,\"#7fbc41\"],[0.9,\"#4d9221\"],[1,\"#276419\"]],\"sequential\":[[0.0,\"#0d0887\"],[0.1111111111111111,\"#46039f\"],[0.2222222222222222,\"#7201a8\"],[0.3333333333333333,\"#9c179e\"],[0.4444444444444444,\"#bd3786\"],[0.5555555555555556,\"#d8576b\"],[0.6666666666666666,\"#ed7953\"],[0.7777777777777778,\"#fb9f3a\"],[0.8888888888888888,\"#fdca26\"],[1.0,\"#f0f921\"]],\"sequentialminus\":[[0.0,\"#0d0887\"],[0.1111111111111111,\"#46039f\"],[0.2222222222222222,\"#7201a8\"],[0.3333333333333333,\"#9c179e\"],[0.4444444444444444,\"#bd3786\"],[0.5555555555555556,\"#d8576b\"],[0.6666666666666666,\"#ed7953\"],[0.7777777777777778,\"#fb9f3a\"],[0.8888888888888888,\"#fdca26\"],[1.0,\"#f0f921\"]]},\"colorway\":[\"#636efa\",\"#EF553B\",\"#00cc96\",\"#ab63fa\",\"#FFA15A\",\"#19d3f3\",\"#FF6692\",\"#B6E880\",\"#FF97FF\",\"#FECB52\"],\"font\":{\"color\":\"#2a3f5f\"},\"geo\":{\"bgcolor\":\"white\",\"lakecolor\":\"white\",\"landcolor\":\"#E5ECF6\",\"showlakes\":true,\"showland\":true,\"subunitcolor\":\"white\"},\"hoverlabel\":{\"align\":\"left\"},\"hovermode\":\"closest\",\"mapbox\":{\"style\":\"light\"},\"paper_bgcolor\":\"white\",\"plot_bgcolor\":\"#E5ECF6\",\"polar\":{\"angularaxis\":{\"gridcolor\":\"white\",\"linecolor\":\"white\",\"ticks\":\"\"},\"bgcolor\":\"#E5ECF6\",\"radialaxis\":{\"gridcolor\":\"white\",\"linecolor\":\"white\",\"ticks\":\"\"}},\"scene\":{\"xaxis\":{\"backgroundcolor\":\"#E5ECF6\",\"gridcolor\":\"white\",\"gridwidth\":2,\"linecolor\":\"white\",\"showbackground\":true,\"ticks\":\"\",\"zerolinecolor\":\"white\"},\"yaxis\":{\"backgroundcolor\":\"#E5ECF6\",\"gridcolor\":\"white\",\"gridwidth\":2,\"linecolor\":\"white\",\"showbackground\":true,\"ticks\":\"\",\"zerolinecolor\":\"white\"},\"zaxis\":{\"backgroundcolor\":\"#E5ECF6\",\"gridcolor\":\"white\",\"gridwidth\":2,\"linecolor\":\"white\",\"showbackground\":true,\"ticks\":\"\",\"zerolinecolor\":\"white\"}},\"shapedefaults\":{\"line\":{\"color\":\"#2a3f5f\"}},\"ternary\":{\"aaxis\":{\"gridcolor\":\"white\",\"linecolor\":\"white\",\"ticks\":\"\"},\"baxis\":{\"gridcolor\":\"white\",\"linecolor\":\"white\",\"ticks\":\"\"},\"bgcolor\":\"#E5ECF6\",\"caxis\":{\"gridcolor\":\"white\",\"linecolor\":\"white\",\"ticks\":\"\"}},\"title\":{\"x\":0.05},\"xaxis\":{\"automargin\":true,\"gridcolor\":\"white\",\"linecolor\":\"white\",\"ticks\":\"\",\"title\":{\"standoff\":15},\"zerolinecolor\":\"white\",\"zerolinewidth\":2},\"yaxis\":{\"automargin\":true,\"gridcolor\":\"white\",\"linecolor\":\"white\",\"ticks\":\"\",\"title\":{\"standoff\":15},\"zerolinecolor\":\"white\",\"zerolinewidth\":2}}},\"title\":{\"text\":\"<b>Cars count based on car condition according to year</b>\",\"x\":0.5},\"xaxis\":{\"anchor\":\"y\",\"categoryorder\":\"total descending\",\"domain\":[0.0,1.0],\"linecolor\":\"black\",\"linewidth\":2,\"showline\":true,\"showticklabels\":true,\"title\":{\"text\":\"Manufacturing Year\"}},\"yaxis\":{\"anchor\":\"x\",\"domain\":[0.0,1.0],\"linecolor\":\"black\",\"linewidth\":2,\"showline\":true,\"showticklabels\":true,\"title\":{\"text\":\"Count of Cars\"}}},                        {\"responsive\": true}                    ).then(function(){\n",
       "                            \n",
       "var gd = document.getElementById('30fcaae3-39ab-42bb-b44b-e433f1063462');\n",
       "var x = new MutationObserver(function (mutations, observer) {{\n",
       "        var display = window.getComputedStyle(gd).display;\n",
       "        if (!display || display === 'none') {{\n",
       "            console.log([gd, 'removed!']);\n",
       "            Plotly.purge(gd);\n",
       "            observer.disconnect();\n",
       "        }}\n",
       "}});\n",
       "\n",
       "// Listen for the removal of the full notebook cells\n",
       "var notebookContainer = gd.closest('#notebook-container');\n",
       "if (notebookContainer) {{\n",
       "    x.observe(notebookContainer, {childList: true});\n",
       "}}\n",
       "\n",
       "// Listen for the clearing of the current output cell\n",
       "var outputEl = gd.closest('.output');\n",
       "if (outputEl) {{\n",
       "    x.observe(outputEl, {childList: true});\n",
       "}}\n",
       "\n",
       "                        })                };                });            </script>        </div>"
      ]
     },
     "metadata": {},
     "output_type": "display_data"
    }
   ],
   "source": [
    "fig = px.histogram(df12, x='manufacture_year', color='condition')\n",
    "fig.update_layout(xaxis={'categoryorder':'total descending'},\n",
    "                 plot_bgcolor = \"white\",\n",
    "                  yaxis_title = \"Count of Cars\",\n",
    "                  xaxis_title = \"Manufacturing Year\",\n",
    "                  title = \"<b>Cars count based on car condition according to year</b>\",\n",
    "                 title_x=0.5)\n",
    "\n",
    "fig.update_yaxes(showticklabels = True, showline = True, linewidth = 2, linecolor = \"black\")\n",
    "fig.update_xaxes(showticklabels = True, showline = True, linewidth = 2, linecolor = \"black\")\n",
    "\n",
    "fig.show()"
   ]
  },
  {
   "cell_type": "code",
   "execution_count": 18,
   "metadata": {},
   "outputs": [
    {
     "data": {
      "application/vnd.plotly.v1+json": {
       "config": {
        "plotlyServerURL": "https://plot.ly"
       },
       "data": [
        {
         "alignmentgroup": "True",
         "bingroup": "x",
         "hovertemplate": "condition=Occasion<br>carType=%{x}<br>count=%{y}<extra></extra>",
         "legendgroup": "Occasion",
         "marker": {
          "color": "#636efa",
          "pattern": {
           "shape": ""
          }
         },
         "name": "Occasion",
         "offsetgroup": "Occasion",
         "orientation": "v",
         "showlegend": true,
         "type": "histogram",
         "x": [
          "Cabriolet",
          "Limousine",
          "Limousine",
          "Coupé",
          "Coupé",
          "Limousine",
          "Coupé",
          "Coupé",
          "Cabriolet",
          "Cabriolet",
          "Coupé",
          "Cabriolet",
          "Coupé",
          "Cabriolet",
          "Coupé",
          "Cabriolet",
          "Kombi",
          "Coupé",
          "Coupé",
          "Coupé",
          "Limousine",
          "Kombi",
          "Kombi",
          "Kombi",
          "Limousine",
          "Limousine",
          "Limousine",
          "Kombi",
          "Kombi",
          "Limousine",
          "Limousine",
          "Limousine",
          "Cabriolet",
          "Coupé",
          "Coupé",
          "Cabriolet",
          "Cabriolet",
          "Limousine",
          "Kombi",
          "Kombi",
          "Kombi",
          "Cabriolet",
          "Coupé",
          "Kombi",
          "Kombi",
          "Kombi",
          "Kombi",
          "Kombi",
          "Limousine",
          "Limousine",
          "Kombi",
          "Coupé",
          "Kombi",
          "Kombi",
          "Limousine",
          "Limousine",
          "Limousine",
          "Limousine",
          "Cabriolet",
          "Coupé",
          "Coupé",
          "Kleinwagen",
          "Limousine",
          "Limousine",
          "Limousine",
          "Limousine",
          "Limousine",
          "Limousine",
          "Coupé",
          "Coupé",
          "Cabriolet",
          "Coupé",
          "Cabriolet",
          "Limousine",
          "Limousine",
          "Limousine",
          "Limousine",
          "Coupé",
          "Cabriolet",
          "Kombi",
          "Limousine",
          "Kombi",
          "Coupé",
          "Cabriolet",
          "Limousine",
          "Limousine",
          "Limousine",
          "Cabriolet",
          "Coupé",
          "Coupé",
          "Limousine",
          "Limousine",
          "Cabriolet",
          "Limousine",
          "Limousine",
          "Kombi",
          "Limousine",
          "Kombi",
          "Kombi",
          "Limousine",
          "Limousine",
          "Limousine",
          "Kombi",
          "Limousine",
          "Kombi",
          "Limousine",
          "Kombi",
          "Coupé",
          "Cabriolet",
          "Limousine",
          "Limousine",
          "Limousine",
          "Limousine",
          "Limousine",
          "Limousine",
          "Limousine",
          "Limousine",
          "Limousine",
          "Limousine",
          "Limousine",
          "Coupé",
          "Coupé",
          "Limousine",
          "Coupé",
          "Limousine",
          "Coupé",
          "Limousine",
          "Coupé",
          "Limousine",
          "SUV / Geländewagen",
          "SUV / Geländewagen",
          "SUV / Geländewagen",
          "SUV / Geländewagen",
          "SUV / Geländewagen",
          "Cabriolet",
          "Cabriolet",
          "Limousine",
          "Limousine",
          "Coupé",
          "Limousine",
          "Limousine",
          "Cabriolet",
          "Limousine",
          "Limousine",
          "Coupé",
          "Limousine",
          "Coupé",
          "Coupé",
          "Pick-up",
          "Cabriolet",
          "Coupé",
          "Cabriolet",
          "Coupé",
          "Coupé",
          "Coupé",
          "Cabriolet",
          "Coupé",
          "Kombi",
          "Coupé",
          "Cabriolet",
          "Kleinwagen",
          "Limousine",
          "Kompaktvan / Minivan",
          "Kleinwagen",
          "Limousine",
          "Limousine",
          "Cabriolet",
          "Coupé",
          "Limousine",
          "Kompaktvan / Minivan",
          "Cabriolet",
          "Pick-up",
          "Cabriolet",
          "Coupé",
          "Cabriolet",
          "Coupé",
          "Coupé",
          "Coupé",
          "Coupé",
          "Coupé",
          "Cabriolet",
          "Coupé",
          "Coupé",
          "Coupé",
          "Coupé",
          "Coupé",
          "Coupé",
          "Coupé",
          "Cabriolet",
          "Cabriolet",
          "Coupé",
          "Coupé",
          "Cabriolet",
          "Coupé",
          "Coupé",
          "Cabriolet",
          "Coupé",
          "Coupé",
          "Coupé",
          "Coupé",
          "Coupé",
          "Coupé",
          "Coupé",
          "Coupé",
          "Cabriolet",
          "Kleinwagen",
          "Limousine",
          "Limousine",
          "Limousine",
          "Coupé",
          "Coupé",
          "Coupé",
          "Limousine",
          "Coupé",
          "SUV / Geländewagen",
          "Coupé",
          "Cabriolet",
          "Wohnkabine",
          null,
          "Coupé",
          "Limousine",
          "SUV / Geländewagen",
          "Coupé",
          "Coupé",
          "Cabriolet",
          "Limousine",
          "Limousine",
          "Limousine",
          "Limousine",
          "Limousine",
          "Limousine",
          "Cabriolet",
          "Cabriolet",
          "Coupé",
          "Cabriolet",
          "Coupé",
          "SUV / Geländewagen",
          "SUV / Geländewagen",
          "SUV / Geländewagen",
          "Cabriolet",
          "Coupé",
          "Coupé",
          "Coupé",
          "Cabriolet",
          "Coupé",
          "Coupé",
          "Coupé",
          "Coupé",
          "Coupé",
          "Cabriolet",
          "Coupé",
          "Coupé",
          "Coupé",
          "Coupé",
          "Coupé",
          "Cabriolet",
          "Coupé",
          "Coupé",
          "Coupé",
          "Coupé",
          "Limousine",
          "Limousine",
          "Limousine",
          "Limousine",
          "Limousine",
          "SUV / Geländewagen",
          "Kombi",
          "SUV / Geländewagen",
          "SUV / Geländewagen",
          "SUV / Geländewagen",
          "SUV / Geländewagen",
          "SUV / Geländewagen",
          "SUV / Geländewagen",
          "SUV / Geländewagen",
          "SUV / Geländewagen",
          "Limousine",
          "SUV / Geländewagen",
          "Limousine",
          "Cabriolet",
          "Coupé",
          "Cabriolet",
          "Cabriolet",
          "Coupé",
          "Coupé",
          "Cabriolet",
          "Coupé",
          "Coupé",
          "Coupé",
          "Coupé",
          "Coupé",
          "Limousine",
          "Limousine",
          "Limousine",
          "Limousine",
          "Cabriolet",
          "Coupé",
          "Limousine",
          "Cabriolet",
          "Cabriolet",
          "Limousine",
          "Limousine",
          "Cabriolet",
          "Cabriolet",
          "Coupé",
          "Limousine",
          "Cabriolet",
          "Cabriolet",
          "Coupé",
          "Sattelschlepper",
          "Coupé",
          "Limousine",
          "Kompaktvan / Minivan",
          "Coupé",
          "Coupé",
          "Coupé",
          "Coupé",
          "Limousine",
          "Limousine",
          "Limousine",
          "Kombi",
          "Limousine",
          "Limousine",
          "Kombi",
          "Kombi",
          "Coupé",
          "Coupé",
          "Coupé",
          "Coupé",
          "Coupé",
          "Coupé",
          "Coupé",
          "Coupé",
          "Coupé",
          "Cabriolet",
          "Coupé",
          "Cabriolet",
          "Cabriolet",
          "Limousine",
          "Limousine",
          "Limousine",
          "Limousine",
          "Kombi",
          "Limousine",
          "Limousine",
          "Limousine",
          "Kombi",
          "Limousine",
          "Limousine",
          "Kombi",
          "Limousine",
          "Limousine",
          "Limousine",
          "Limousine",
          "Limousine",
          "Limousine",
          "Limousine",
          "Limousine",
          "Limousine",
          "Limousine",
          "Limousine",
          "Limousine",
          "SUV / Geländewagen",
          "SUV / Geländewagen",
          "SUV / Geländewagen",
          "SUV / Geländewagen",
          "SUV / Geländewagen",
          "SUV / Geländewagen",
          "SUV / Geländewagen",
          "Cabriolet",
          "Coupé",
          "Cabriolet",
          "Limousine",
          "Limousine",
          "Limousine",
          "Limousine",
          "Limousine",
          "Limousine",
          "Limousine",
          "Limousine",
          "Limousine",
          "Limousine",
          "Limousine",
          "Coupé",
          "Limousine",
          "Limousine",
          "Limousine",
          "Limousine",
          "Limousine",
          "Limousine",
          "Limousine",
          "Cabriolet",
          "Cabriolet",
          "Cabriolet",
          "Cabriolet",
          "Cabriolet",
          "Cabriolet",
          "Cabriolet",
          "Cabriolet",
          "Cabriolet",
          "Cabriolet",
          "Cabriolet",
          "Cabriolet",
          "Cabriolet",
          "Cabriolet",
          "Cabriolet",
          "Cabriolet",
          "Cabriolet",
          "Cabriolet",
          "Coupé",
          "Coupé",
          "Coupé",
          "Limousine",
          "Limousine",
          "Coupé",
          "Cabriolet",
          "Cabriolet",
          "Coupé",
          "Cabriolet",
          "Limousine",
          "Coupé",
          "SUV / Geländewagen",
          "Coupé",
          "Coupé",
          "Limousine",
          "Limousine",
          "Limousine",
          "Coupé",
          "SUV / Geländewagen",
          "Cabriolet",
          "Cabriolet",
          "Limousine",
          "Coupé",
          "Coupé",
          "Cabriolet",
          "Coupé",
          "Coupé",
          "Coupé",
          "Cabriolet",
          "Coupé",
          "Coupé",
          "Cabriolet",
          "Coupé",
          "Cabriolet",
          "Cabriolet",
          "Coupé",
          "Coupé",
          "Coupé",
          "Cabriolet",
          "Cabriolet",
          "Coupé",
          "Coupé",
          "Coupé",
          "Cabriolet",
          "Coupé",
          "Cabriolet",
          "Coupé",
          "Cabriolet",
          "Cabriolet",
          "Coupé",
          "Cabriolet",
          "Cabriolet",
          "Cabriolet",
          "Cabriolet",
          "Cabriolet",
          "SUV / Geländewagen",
          "SUV / Geländewagen",
          "SUV / Geländewagen",
          "Coupé",
          "Coupé",
          "Coupé",
          "Coupé",
          "Limousine",
          "Limousine",
          "Coupé",
          "Cabriolet",
          "Coupé",
          "Coupé",
          "Coupé",
          "Coupé",
          "Coupé",
          "Coupé",
          "Coupé",
          "Coupé",
          "Coupé",
          "Coupé",
          "Coupé",
          "Coupé",
          "Coupé",
          "Coupé",
          "Kleinwagen",
          "Coupé",
          "Coupé",
          "Coupé",
          "Coupé",
          "Coupé",
          "Kleinwagen",
          "Kleinwagen",
          "Limousine",
          "Kompaktvan / Minivan",
          "Limousine",
          "Coupé",
          "Kleinwagen",
          "Limousine",
          "Cabriolet",
          "Coupé",
          "Cabriolet",
          "Coupé",
          "Cabriolet",
          "Cabriolet",
          "Limousine",
          "Cabriolet",
          "Limousine",
          "Limousine",
          "Limousine",
          "Coupé",
          "Coupé",
          "Coupé",
          "Limousine",
          "Cabriolet",
          "Limousine",
          "Kombi",
          "Kleinwagen",
          "Limousine",
          "Coupé",
          "Cabriolet",
          "Limousine",
          "Coupé",
          "Coupé",
          "Limousine",
          "Coupé",
          "Coupé",
          "SUV / Geländewagen",
          "Pick-up",
          "Coupé",
          "Coupé",
          "Kombi",
          "SUV / Geländewagen",
          "Coupé",
          "Limousine",
          "Cabriolet",
          "Limousine",
          "Coupé",
          "Limousine",
          "Limousine",
          "Kombi",
          "Cabriolet",
          "Limousine",
          "Limousine",
          "Limousine",
          "Limousine",
          "Limousine",
          "Limousine",
          "Limousine",
          "Limousine",
          "SUV / Geländewagen",
          "SUV / Geländewagen",
          "Kompaktvan / Minivan",
          "Coupé",
          "Cabriolet"
         ],
         "xaxis": "x",
         "yaxis": "y"
        },
        {
         "alignmentgroup": "True",
         "bingroup": "x",
         "hovertemplate": "condition=Oldtimer<br>carType=%{x}<br>count=%{y}<extra></extra>",
         "legendgroup": "Oldtimer",
         "marker": {
          "color": "#EF553B",
          "pattern": {
           "shape": ""
          }
         },
         "name": "Oldtimer",
         "offsetgroup": "Oldtimer",
         "orientation": "v",
         "showlegend": true,
         "type": "histogram",
         "x": [
          "Cabriolet",
          "Cabriolet",
          "Cabriolet",
          "Limousine",
          "Limousine",
          "Coupé",
          "Limousine",
          "Coupé",
          "Coupé",
          "Coupé",
          "Coupé",
          "Limousine",
          "Coupé",
          "Coupé",
          "Limousine",
          "Coupé",
          "Coupé",
          "Limousine",
          "Coupé",
          "Kleinwagen",
          "Kleinwagen",
          "Cabriolet",
          "Coupé",
          "Coupé",
          "Limousine",
          "Limousine",
          "Cabriolet"
         ],
         "xaxis": "x",
         "yaxis": "y"
        },
        {
         "alignmentgroup": "True",
         "bingroup": "x",
         "hovertemplate": "condition=Vorführmodell<br>carType=%{x}<br>count=%{y}<extra></extra>",
         "legendgroup": "Vorführmodell",
         "marker": {
          "color": "#00cc96",
          "pattern": {
           "shape": ""
          }
         },
         "name": "Vorführmodell",
         "offsetgroup": "Vorführmodell",
         "orientation": "v",
         "showlegend": true,
         "type": "histogram",
         "x": [
          "Cabriolet",
          "Kombi",
          "Coupé",
          "SUV / Geländewagen",
          "Coupé",
          "Limousine",
          "Cabriolet"
         ],
         "xaxis": "x",
         "yaxis": "y"
        },
        {
         "alignmentgroup": "True",
         "bingroup": "x",
         "hovertemplate": "condition=Neu<br>carType=%{x}<br>count=%{y}<extra></extra>",
         "legendgroup": "Neu",
         "marker": {
          "color": "#ab63fa",
          "pattern": {
           "shape": ""
          }
         },
         "name": "Neu",
         "offsetgroup": "Neu",
         "orientation": "v",
         "showlegend": true,
         "type": "histogram",
         "x": [
          "Coupé",
          "SUV / Geländewagen",
          "Kombi",
          "Coupé",
          "Coupé",
          "Cabriolet",
          "SUV / Geländewagen"
         ],
         "xaxis": "x",
         "yaxis": "y"
        }
       ],
       "layout": {
        "barmode": "group",
        "legend": {
         "title": {
          "text": "condition"
         },
         "tracegroupgap": 0
        },
        "margin": {
         "t": 60
        },
        "plot_bgcolor": "white",
        "template": {
         "data": {
          "bar": [
           {
            "error_x": {
             "color": "#2a3f5f"
            },
            "error_y": {
             "color": "#2a3f5f"
            },
            "marker": {
             "line": {
              "color": "#E5ECF6",
              "width": 0.5
             },
             "pattern": {
              "fillmode": "overlay",
              "size": 10,
              "solidity": 0.2
             }
            },
            "type": "bar"
           }
          ],
          "barpolar": [
           {
            "marker": {
             "line": {
              "color": "#E5ECF6",
              "width": 0.5
             },
             "pattern": {
              "fillmode": "overlay",
              "size": 10,
              "solidity": 0.2
             }
            },
            "type": "barpolar"
           }
          ],
          "carpet": [
           {
            "aaxis": {
             "endlinecolor": "#2a3f5f",
             "gridcolor": "white",
             "linecolor": "white",
             "minorgridcolor": "white",
             "startlinecolor": "#2a3f5f"
            },
            "baxis": {
             "endlinecolor": "#2a3f5f",
             "gridcolor": "white",
             "linecolor": "white",
             "minorgridcolor": "white",
             "startlinecolor": "#2a3f5f"
            },
            "type": "carpet"
           }
          ],
          "choropleth": [
           {
            "colorbar": {
             "outlinewidth": 0,
             "ticks": ""
            },
            "type": "choropleth"
           }
          ],
          "contour": [
           {
            "colorbar": {
             "outlinewidth": 0,
             "ticks": ""
            },
            "colorscale": [
             [
              0,
              "#0d0887"
             ],
             [
              0.1111111111111111,
              "#46039f"
             ],
             [
              0.2222222222222222,
              "#7201a8"
             ],
             [
              0.3333333333333333,
              "#9c179e"
             ],
             [
              0.4444444444444444,
              "#bd3786"
             ],
             [
              0.5555555555555556,
              "#d8576b"
             ],
             [
              0.6666666666666666,
              "#ed7953"
             ],
             [
              0.7777777777777778,
              "#fb9f3a"
             ],
             [
              0.8888888888888888,
              "#fdca26"
             ],
             [
              1,
              "#f0f921"
             ]
            ],
            "type": "contour"
           }
          ],
          "contourcarpet": [
           {
            "colorbar": {
             "outlinewidth": 0,
             "ticks": ""
            },
            "type": "contourcarpet"
           }
          ],
          "heatmap": [
           {
            "colorbar": {
             "outlinewidth": 0,
             "ticks": ""
            },
            "colorscale": [
             [
              0,
              "#0d0887"
             ],
             [
              0.1111111111111111,
              "#46039f"
             ],
             [
              0.2222222222222222,
              "#7201a8"
             ],
             [
              0.3333333333333333,
              "#9c179e"
             ],
             [
              0.4444444444444444,
              "#bd3786"
             ],
             [
              0.5555555555555556,
              "#d8576b"
             ],
             [
              0.6666666666666666,
              "#ed7953"
             ],
             [
              0.7777777777777778,
              "#fb9f3a"
             ],
             [
              0.8888888888888888,
              "#fdca26"
             ],
             [
              1,
              "#f0f921"
             ]
            ],
            "type": "heatmap"
           }
          ],
          "heatmapgl": [
           {
            "colorbar": {
             "outlinewidth": 0,
             "ticks": ""
            },
            "colorscale": [
             [
              0,
              "#0d0887"
             ],
             [
              0.1111111111111111,
              "#46039f"
             ],
             [
              0.2222222222222222,
              "#7201a8"
             ],
             [
              0.3333333333333333,
              "#9c179e"
             ],
             [
              0.4444444444444444,
              "#bd3786"
             ],
             [
              0.5555555555555556,
              "#d8576b"
             ],
             [
              0.6666666666666666,
              "#ed7953"
             ],
             [
              0.7777777777777778,
              "#fb9f3a"
             ],
             [
              0.8888888888888888,
              "#fdca26"
             ],
             [
              1,
              "#f0f921"
             ]
            ],
            "type": "heatmapgl"
           }
          ],
          "histogram": [
           {
            "marker": {
             "pattern": {
              "fillmode": "overlay",
              "size": 10,
              "solidity": 0.2
             }
            },
            "type": "histogram"
           }
          ],
          "histogram2d": [
           {
            "colorbar": {
             "outlinewidth": 0,
             "ticks": ""
            },
            "colorscale": [
             [
              0,
              "#0d0887"
             ],
             [
              0.1111111111111111,
              "#46039f"
             ],
             [
              0.2222222222222222,
              "#7201a8"
             ],
             [
              0.3333333333333333,
              "#9c179e"
             ],
             [
              0.4444444444444444,
              "#bd3786"
             ],
             [
              0.5555555555555556,
              "#d8576b"
             ],
             [
              0.6666666666666666,
              "#ed7953"
             ],
             [
              0.7777777777777778,
              "#fb9f3a"
             ],
             [
              0.8888888888888888,
              "#fdca26"
             ],
             [
              1,
              "#f0f921"
             ]
            ],
            "type": "histogram2d"
           }
          ],
          "histogram2dcontour": [
           {
            "colorbar": {
             "outlinewidth": 0,
             "ticks": ""
            },
            "colorscale": [
             [
              0,
              "#0d0887"
             ],
             [
              0.1111111111111111,
              "#46039f"
             ],
             [
              0.2222222222222222,
              "#7201a8"
             ],
             [
              0.3333333333333333,
              "#9c179e"
             ],
             [
              0.4444444444444444,
              "#bd3786"
             ],
             [
              0.5555555555555556,
              "#d8576b"
             ],
             [
              0.6666666666666666,
              "#ed7953"
             ],
             [
              0.7777777777777778,
              "#fb9f3a"
             ],
             [
              0.8888888888888888,
              "#fdca26"
             ],
             [
              1,
              "#f0f921"
             ]
            ],
            "type": "histogram2dcontour"
           }
          ],
          "mesh3d": [
           {
            "colorbar": {
             "outlinewidth": 0,
             "ticks": ""
            },
            "type": "mesh3d"
           }
          ],
          "parcoords": [
           {
            "line": {
             "colorbar": {
              "outlinewidth": 0,
              "ticks": ""
             }
            },
            "type": "parcoords"
           }
          ],
          "pie": [
           {
            "automargin": true,
            "type": "pie"
           }
          ],
          "scatter": [
           {
            "marker": {
             "colorbar": {
              "outlinewidth": 0,
              "ticks": ""
             }
            },
            "type": "scatter"
           }
          ],
          "scatter3d": [
           {
            "line": {
             "colorbar": {
              "outlinewidth": 0,
              "ticks": ""
             }
            },
            "marker": {
             "colorbar": {
              "outlinewidth": 0,
              "ticks": ""
             }
            },
            "type": "scatter3d"
           }
          ],
          "scattercarpet": [
           {
            "marker": {
             "colorbar": {
              "outlinewidth": 0,
              "ticks": ""
             }
            },
            "type": "scattercarpet"
           }
          ],
          "scattergeo": [
           {
            "marker": {
             "colorbar": {
              "outlinewidth": 0,
              "ticks": ""
             }
            },
            "type": "scattergeo"
           }
          ],
          "scattergl": [
           {
            "marker": {
             "colorbar": {
              "outlinewidth": 0,
              "ticks": ""
             }
            },
            "type": "scattergl"
           }
          ],
          "scattermapbox": [
           {
            "marker": {
             "colorbar": {
              "outlinewidth": 0,
              "ticks": ""
             }
            },
            "type": "scattermapbox"
           }
          ],
          "scatterpolar": [
           {
            "marker": {
             "colorbar": {
              "outlinewidth": 0,
              "ticks": ""
             }
            },
            "type": "scatterpolar"
           }
          ],
          "scatterpolargl": [
           {
            "marker": {
             "colorbar": {
              "outlinewidth": 0,
              "ticks": ""
             }
            },
            "type": "scatterpolargl"
           }
          ],
          "scatterternary": [
           {
            "marker": {
             "colorbar": {
              "outlinewidth": 0,
              "ticks": ""
             }
            },
            "type": "scatterternary"
           }
          ],
          "surface": [
           {
            "colorbar": {
             "outlinewidth": 0,
             "ticks": ""
            },
            "colorscale": [
             [
              0,
              "#0d0887"
             ],
             [
              0.1111111111111111,
              "#46039f"
             ],
             [
              0.2222222222222222,
              "#7201a8"
             ],
             [
              0.3333333333333333,
              "#9c179e"
             ],
             [
              0.4444444444444444,
              "#bd3786"
             ],
             [
              0.5555555555555556,
              "#d8576b"
             ],
             [
              0.6666666666666666,
              "#ed7953"
             ],
             [
              0.7777777777777778,
              "#fb9f3a"
             ],
             [
              0.8888888888888888,
              "#fdca26"
             ],
             [
              1,
              "#f0f921"
             ]
            ],
            "type": "surface"
           }
          ],
          "table": [
           {
            "cells": {
             "fill": {
              "color": "#EBF0F8"
             },
             "line": {
              "color": "white"
             }
            },
            "header": {
             "fill": {
              "color": "#C8D4E3"
             },
             "line": {
              "color": "white"
             }
            },
            "type": "table"
           }
          ]
         },
         "layout": {
          "annotationdefaults": {
           "arrowcolor": "#2a3f5f",
           "arrowhead": 0,
           "arrowwidth": 1
          },
          "autotypenumbers": "strict",
          "coloraxis": {
           "colorbar": {
            "outlinewidth": 0,
            "ticks": ""
           }
          },
          "colorscale": {
           "diverging": [
            [
             0,
             "#8e0152"
            ],
            [
             0.1,
             "#c51b7d"
            ],
            [
             0.2,
             "#de77ae"
            ],
            [
             0.3,
             "#f1b6da"
            ],
            [
             0.4,
             "#fde0ef"
            ],
            [
             0.5,
             "#f7f7f7"
            ],
            [
             0.6,
             "#e6f5d0"
            ],
            [
             0.7,
             "#b8e186"
            ],
            [
             0.8,
             "#7fbc41"
            ],
            [
             0.9,
             "#4d9221"
            ],
            [
             1,
             "#276419"
            ]
           ],
           "sequential": [
            [
             0,
             "#0d0887"
            ],
            [
             0.1111111111111111,
             "#46039f"
            ],
            [
             0.2222222222222222,
             "#7201a8"
            ],
            [
             0.3333333333333333,
             "#9c179e"
            ],
            [
             0.4444444444444444,
             "#bd3786"
            ],
            [
             0.5555555555555556,
             "#d8576b"
            ],
            [
             0.6666666666666666,
             "#ed7953"
            ],
            [
             0.7777777777777778,
             "#fb9f3a"
            ],
            [
             0.8888888888888888,
             "#fdca26"
            ],
            [
             1,
             "#f0f921"
            ]
           ],
           "sequentialminus": [
            [
             0,
             "#0d0887"
            ],
            [
             0.1111111111111111,
             "#46039f"
            ],
            [
             0.2222222222222222,
             "#7201a8"
            ],
            [
             0.3333333333333333,
             "#9c179e"
            ],
            [
             0.4444444444444444,
             "#bd3786"
            ],
            [
             0.5555555555555556,
             "#d8576b"
            ],
            [
             0.6666666666666666,
             "#ed7953"
            ],
            [
             0.7777777777777778,
             "#fb9f3a"
            ],
            [
             0.8888888888888888,
             "#fdca26"
            ],
            [
             1,
             "#f0f921"
            ]
           ]
          },
          "colorway": [
           "#636efa",
           "#EF553B",
           "#00cc96",
           "#ab63fa",
           "#FFA15A",
           "#19d3f3",
           "#FF6692",
           "#B6E880",
           "#FF97FF",
           "#FECB52"
          ],
          "font": {
           "color": "#2a3f5f"
          },
          "geo": {
           "bgcolor": "white",
           "lakecolor": "white",
           "landcolor": "#E5ECF6",
           "showlakes": true,
           "showland": true,
           "subunitcolor": "white"
          },
          "hoverlabel": {
           "align": "left"
          },
          "hovermode": "closest",
          "mapbox": {
           "style": "light"
          },
          "paper_bgcolor": "white",
          "plot_bgcolor": "#E5ECF6",
          "polar": {
           "angularaxis": {
            "gridcolor": "white",
            "linecolor": "white",
            "ticks": ""
           },
           "bgcolor": "#E5ECF6",
           "radialaxis": {
            "gridcolor": "white",
            "linecolor": "white",
            "ticks": ""
           }
          },
          "scene": {
           "xaxis": {
            "backgroundcolor": "#E5ECF6",
            "gridcolor": "white",
            "gridwidth": 2,
            "linecolor": "white",
            "showbackground": true,
            "ticks": "",
            "zerolinecolor": "white"
           },
           "yaxis": {
            "backgroundcolor": "#E5ECF6",
            "gridcolor": "white",
            "gridwidth": 2,
            "linecolor": "white",
            "showbackground": true,
            "ticks": "",
            "zerolinecolor": "white"
           },
           "zaxis": {
            "backgroundcolor": "#E5ECF6",
            "gridcolor": "white",
            "gridwidth": 2,
            "linecolor": "white",
            "showbackground": true,
            "ticks": "",
            "zerolinecolor": "white"
           }
          },
          "shapedefaults": {
           "line": {
            "color": "#2a3f5f"
           }
          },
          "ternary": {
           "aaxis": {
            "gridcolor": "white",
            "linecolor": "white",
            "ticks": ""
           },
           "baxis": {
            "gridcolor": "white",
            "linecolor": "white",
            "ticks": ""
           },
           "bgcolor": "#E5ECF6",
           "caxis": {
            "gridcolor": "white",
            "linecolor": "white",
            "ticks": ""
           }
          },
          "title": {
           "x": 0.05
          },
          "xaxis": {
           "automargin": true,
           "gridcolor": "white",
           "linecolor": "white",
           "ticks": "",
           "title": {
            "standoff": 15
           },
           "zerolinecolor": "white",
           "zerolinewidth": 2
          },
          "yaxis": {
           "automargin": true,
           "gridcolor": "white",
           "linecolor": "white",
           "ticks": "",
           "title": {
            "standoff": 15
           },
           "zerolinecolor": "white",
           "zerolinewidth": 2
          }
         }
        },
        "title": {
         "text": "<b>Total count of car type according to its condition</b>",
         "x": 0.5
        },
        "xaxis": {
         "anchor": "y",
         "categoryorder": "total descending",
         "domain": [
          0,
          1
         ],
         "linecolor": "black",
         "linewidth": 2,
         "showline": true,
         "showticklabels": true,
         "title": {
          "text": "Car Type"
         }
        },
        "yaxis": {
         "anchor": "x",
         "domain": [
          0,
          1
         ],
         "linecolor": "black",
         "linewidth": 2,
         "showline": true,
         "showticklabels": true,
         "title": {
          "text": "Car Type Count"
         }
        }
       }
      },
      "text/html": [
       "<div>                            <div id=\"11e7f7ce-485a-4b6e-80c5-745d7affda02\" class=\"plotly-graph-div\" style=\"height:525px; width:100%;\"></div>            <script type=\"text/javascript\">                require([\"plotly\"], function(Plotly) {                    window.PLOTLYENV=window.PLOTLYENV || {};                                    if (document.getElementById(\"11e7f7ce-485a-4b6e-80c5-745d7affda02\")) {                    Plotly.newPlot(                        \"11e7f7ce-485a-4b6e-80c5-745d7affda02\",                        [{\"alignmentgroup\":\"True\",\"bingroup\":\"x\",\"hovertemplate\":\"condition=Occasion<br>carType=%{x}<br>count=%{y}<extra></extra>\",\"legendgroup\":\"Occasion\",\"marker\":{\"color\":\"#636efa\",\"pattern\":{\"shape\":\"\"}},\"name\":\"Occasion\",\"offsetgroup\":\"Occasion\",\"orientation\":\"v\",\"showlegend\":true,\"type\":\"histogram\",\"x\":[\"Cabriolet\",\"Limousine\",\"Limousine\",\"Coup\\u00e9\",\"Coup\\u00e9\",\"Limousine\",\"Coup\\u00e9\",\"Coup\\u00e9\",\"Cabriolet\",\"Cabriolet\",\"Coup\\u00e9\",\"Cabriolet\",\"Coup\\u00e9\",\"Cabriolet\",\"Coup\\u00e9\",\"Cabriolet\",\"Kombi\",\"Coup\\u00e9\",\"Coup\\u00e9\",\"Coup\\u00e9\",\"Limousine\",\"Kombi\",\"Kombi\",\"Kombi\",\"Limousine\",\"Limousine\",\"Limousine\",\"Kombi\",\"Kombi\",\"Limousine\",\"Limousine\",\"Limousine\",\"Cabriolet\",\"Coup\\u00e9\",\"Coup\\u00e9\",\"Cabriolet\",\"Cabriolet\",\"Limousine\",\"Kombi\",\"Kombi\",\"Kombi\",\"Cabriolet\",\"Coup\\u00e9\",\"Kombi\",\"Kombi\",\"Kombi\",\"Kombi\",\"Kombi\",\"Limousine\",\"Limousine\",\"Kombi\",\"Coup\\u00e9\",\"Kombi\",\"Kombi\",\"Limousine\",\"Limousine\",\"Limousine\",\"Limousine\",\"Cabriolet\",\"Coup\\u00e9\",\"Coup\\u00e9\",\"Kleinwagen\",\"Limousine\",\"Limousine\",\"Limousine\",\"Limousine\",\"Limousine\",\"Limousine\",\"Coup\\u00e9\",\"Coup\\u00e9\",\"Cabriolet\",\"Coup\\u00e9\",\"Cabriolet\",\"Limousine\",\"Limousine\",\"Limousine\",\"Limousine\",\"Coup\\u00e9\",\"Cabriolet\",\"Kombi\",\"Limousine\",\"Kombi\",\"Coup\\u00e9\",\"Cabriolet\",\"Limousine\",\"Limousine\",\"Limousine\",\"Cabriolet\",\"Coup\\u00e9\",\"Coup\\u00e9\",\"Limousine\",\"Limousine\",\"Cabriolet\",\"Limousine\",\"Limousine\",\"Kombi\",\"Limousine\",\"Kombi\",\"Kombi\",\"Limousine\",\"Limousine\",\"Limousine\",\"Kombi\",\"Limousine\",\"Kombi\",\"Limousine\",\"Kombi\",\"Coup\\u00e9\",\"Cabriolet\",\"Limousine\",\"Limousine\",\"Limousine\",\"Limousine\",\"Limousine\",\"Limousine\",\"Limousine\",\"Limousine\",\"Limousine\",\"Limousine\",\"Limousine\",\"Coup\\u00e9\",\"Coup\\u00e9\",\"Limousine\",\"Coup\\u00e9\",\"Limousine\",\"Coup\\u00e9\",\"Limousine\",\"Coup\\u00e9\",\"Limousine\",\"SUV / Gel\\u00e4ndewagen\",\"SUV / Gel\\u00e4ndewagen\",\"SUV / Gel\\u00e4ndewagen\",\"SUV / Gel\\u00e4ndewagen\",\"SUV / Gel\\u00e4ndewagen\",\"Cabriolet\",\"Cabriolet\",\"Limousine\",\"Limousine\",\"Coup\\u00e9\",\"Limousine\",\"Limousine\",\"Cabriolet\",\"Limousine\",\"Limousine\",\"Coup\\u00e9\",\"Limousine\",\"Coup\\u00e9\",\"Coup\\u00e9\",\"Pick-up\",\"Cabriolet\",\"Coup\\u00e9\",\"Cabriolet\",\"Coup\\u00e9\",\"Coup\\u00e9\",\"Coup\\u00e9\",\"Cabriolet\",\"Coup\\u00e9\",\"Kombi\",\"Coup\\u00e9\",\"Cabriolet\",\"Kleinwagen\",\"Limousine\",\"Kompaktvan / Minivan\",\"Kleinwagen\",\"Limousine\",\"Limousine\",\"Cabriolet\",\"Coup\\u00e9\",\"Limousine\",\"Kompaktvan / Minivan\",\"Cabriolet\",\"Pick-up\",\"Cabriolet\",\"Coup\\u00e9\",\"Cabriolet\",\"Coup\\u00e9\",\"Coup\\u00e9\",\"Coup\\u00e9\",\"Coup\\u00e9\",\"Coup\\u00e9\",\"Cabriolet\",\"Coup\\u00e9\",\"Coup\\u00e9\",\"Coup\\u00e9\",\"Coup\\u00e9\",\"Coup\\u00e9\",\"Coup\\u00e9\",\"Coup\\u00e9\",\"Cabriolet\",\"Cabriolet\",\"Coup\\u00e9\",\"Coup\\u00e9\",\"Cabriolet\",\"Coup\\u00e9\",\"Coup\\u00e9\",\"Cabriolet\",\"Coup\\u00e9\",\"Coup\\u00e9\",\"Coup\\u00e9\",\"Coup\\u00e9\",\"Coup\\u00e9\",\"Coup\\u00e9\",\"Coup\\u00e9\",\"Coup\\u00e9\",\"Cabriolet\",\"Kleinwagen\",\"Limousine\",\"Limousine\",\"Limousine\",\"Coup\\u00e9\",\"Coup\\u00e9\",\"Coup\\u00e9\",\"Limousine\",\"Coup\\u00e9\",\"SUV / Gel\\u00e4ndewagen\",\"Coup\\u00e9\",\"Cabriolet\",\"Wohnkabine\",null,\"Coup\\u00e9\",\"Limousine\",\"SUV / Gel\\u00e4ndewagen\",\"Coup\\u00e9\",\"Coup\\u00e9\",\"Cabriolet\",\"Limousine\",\"Limousine\",\"Limousine\",\"Limousine\",\"Limousine\",\"Limousine\",\"Cabriolet\",\"Cabriolet\",\"Coup\\u00e9\",\"Cabriolet\",\"Coup\\u00e9\",\"SUV / Gel\\u00e4ndewagen\",\"SUV / Gel\\u00e4ndewagen\",\"SUV / Gel\\u00e4ndewagen\",\"Cabriolet\",\"Coup\\u00e9\",\"Coup\\u00e9\",\"Coup\\u00e9\",\"Cabriolet\",\"Coup\\u00e9\",\"Coup\\u00e9\",\"Coup\\u00e9\",\"Coup\\u00e9\",\"Coup\\u00e9\",\"Cabriolet\",\"Coup\\u00e9\",\"Coup\\u00e9\",\"Coup\\u00e9\",\"Coup\\u00e9\",\"Coup\\u00e9\",\"Cabriolet\",\"Coup\\u00e9\",\"Coup\\u00e9\",\"Coup\\u00e9\",\"Coup\\u00e9\",\"Limousine\",\"Limousine\",\"Limousine\",\"Limousine\",\"Limousine\",\"SUV / Gel\\u00e4ndewagen\",\"Kombi\",\"SUV / Gel\\u00e4ndewagen\",\"SUV / Gel\\u00e4ndewagen\",\"SUV / Gel\\u00e4ndewagen\",\"SUV / Gel\\u00e4ndewagen\",\"SUV / Gel\\u00e4ndewagen\",\"SUV / Gel\\u00e4ndewagen\",\"SUV / Gel\\u00e4ndewagen\",\"SUV / Gel\\u00e4ndewagen\",\"Limousine\",\"SUV / Gel\\u00e4ndewagen\",\"Limousine\",\"Cabriolet\",\"Coup\\u00e9\",\"Cabriolet\",\"Cabriolet\",\"Coup\\u00e9\",\"Coup\\u00e9\",\"Cabriolet\",\"Coup\\u00e9\",\"Coup\\u00e9\",\"Coup\\u00e9\",\"Coup\\u00e9\",\"Coup\\u00e9\",\"Limousine\",\"Limousine\",\"Limousine\",\"Limousine\",\"Cabriolet\",\"Coup\\u00e9\",\"Limousine\",\"Cabriolet\",\"Cabriolet\",\"Limousine\",\"Limousine\",\"Cabriolet\",\"Cabriolet\",\"Coup\\u00e9\",\"Limousine\",\"Cabriolet\",\"Cabriolet\",\"Coup\\u00e9\",\"Sattelschlepper\",\"Coup\\u00e9\",\"Limousine\",\"Kompaktvan / Minivan\",\"Coup\\u00e9\",\"Coup\\u00e9\",\"Coup\\u00e9\",\"Coup\\u00e9\",\"Limousine\",\"Limousine\",\"Limousine\",\"Kombi\",\"Limousine\",\"Limousine\",\"Kombi\",\"Kombi\",\"Coup\\u00e9\",\"Coup\\u00e9\",\"Coup\\u00e9\",\"Coup\\u00e9\",\"Coup\\u00e9\",\"Coup\\u00e9\",\"Coup\\u00e9\",\"Coup\\u00e9\",\"Coup\\u00e9\",\"Cabriolet\",\"Coup\\u00e9\",\"Cabriolet\",\"Cabriolet\",\"Limousine\",\"Limousine\",\"Limousine\",\"Limousine\",\"Kombi\",\"Limousine\",\"Limousine\",\"Limousine\",\"Kombi\",\"Limousine\",\"Limousine\",\"Kombi\",\"Limousine\",\"Limousine\",\"Limousine\",\"Limousine\",\"Limousine\",\"Limousine\",\"Limousine\",\"Limousine\",\"Limousine\",\"Limousine\",\"Limousine\",\"Limousine\",\"SUV / Gel\\u00e4ndewagen\",\"SUV / Gel\\u00e4ndewagen\",\"SUV / Gel\\u00e4ndewagen\",\"SUV / Gel\\u00e4ndewagen\",\"SUV / Gel\\u00e4ndewagen\",\"SUV / Gel\\u00e4ndewagen\",\"SUV / Gel\\u00e4ndewagen\",\"Cabriolet\",\"Coup\\u00e9\",\"Cabriolet\",\"Limousine\",\"Limousine\",\"Limousine\",\"Limousine\",\"Limousine\",\"Limousine\",\"Limousine\",\"Limousine\",\"Limousine\",\"Limousine\",\"Limousine\",\"Coup\\u00e9\",\"Limousine\",\"Limousine\",\"Limousine\",\"Limousine\",\"Limousine\",\"Limousine\",\"Limousine\",\"Cabriolet\",\"Cabriolet\",\"Cabriolet\",\"Cabriolet\",\"Cabriolet\",\"Cabriolet\",\"Cabriolet\",\"Cabriolet\",\"Cabriolet\",\"Cabriolet\",\"Cabriolet\",\"Cabriolet\",\"Cabriolet\",\"Cabriolet\",\"Cabriolet\",\"Cabriolet\",\"Cabriolet\",\"Cabriolet\",\"Coup\\u00e9\",\"Coup\\u00e9\",\"Coup\\u00e9\",\"Limousine\",\"Limousine\",\"Coup\\u00e9\",\"Cabriolet\",\"Cabriolet\",\"Coup\\u00e9\",\"Cabriolet\",\"Limousine\",\"Coup\\u00e9\",\"SUV / Gel\\u00e4ndewagen\",\"Coup\\u00e9\",\"Coup\\u00e9\",\"Limousine\",\"Limousine\",\"Limousine\",\"Coup\\u00e9\",\"SUV / Gel\\u00e4ndewagen\",\"Cabriolet\",\"Cabriolet\",\"Limousine\",\"Coup\\u00e9\",\"Coup\\u00e9\",\"Cabriolet\",\"Coup\\u00e9\",\"Coup\\u00e9\",\"Coup\\u00e9\",\"Cabriolet\",\"Coup\\u00e9\",\"Coup\\u00e9\",\"Cabriolet\",\"Coup\\u00e9\",\"Cabriolet\",\"Cabriolet\",\"Coup\\u00e9\",\"Coup\\u00e9\",\"Coup\\u00e9\",\"Cabriolet\",\"Cabriolet\",\"Coup\\u00e9\",\"Coup\\u00e9\",\"Coup\\u00e9\",\"Cabriolet\",\"Coup\\u00e9\",\"Cabriolet\",\"Coup\\u00e9\",\"Cabriolet\",\"Cabriolet\",\"Coup\\u00e9\",\"Cabriolet\",\"Cabriolet\",\"Cabriolet\",\"Cabriolet\",\"Cabriolet\",\"SUV / Gel\\u00e4ndewagen\",\"SUV / Gel\\u00e4ndewagen\",\"SUV / Gel\\u00e4ndewagen\",\"Coup\\u00e9\",\"Coup\\u00e9\",\"Coup\\u00e9\",\"Coup\\u00e9\",\"Limousine\",\"Limousine\",\"Coup\\u00e9\",\"Cabriolet\",\"Coup\\u00e9\",\"Coup\\u00e9\",\"Coup\\u00e9\",\"Coup\\u00e9\",\"Coup\\u00e9\",\"Coup\\u00e9\",\"Coup\\u00e9\",\"Coup\\u00e9\",\"Coup\\u00e9\",\"Coup\\u00e9\",\"Coup\\u00e9\",\"Coup\\u00e9\",\"Coup\\u00e9\",\"Coup\\u00e9\",\"Kleinwagen\",\"Coup\\u00e9\",\"Coup\\u00e9\",\"Coup\\u00e9\",\"Coup\\u00e9\",\"Coup\\u00e9\",\"Kleinwagen\",\"Kleinwagen\",\"Limousine\",\"Kompaktvan / Minivan\",\"Limousine\",\"Coup\\u00e9\",\"Kleinwagen\",\"Limousine\",\"Cabriolet\",\"Coup\\u00e9\",\"Cabriolet\",\"Coup\\u00e9\",\"Cabriolet\",\"Cabriolet\",\"Limousine\",\"Cabriolet\",\"Limousine\",\"Limousine\",\"Limousine\",\"Coup\\u00e9\",\"Coup\\u00e9\",\"Coup\\u00e9\",\"Limousine\",\"Cabriolet\",\"Limousine\",\"Kombi\",\"Kleinwagen\",\"Limousine\",\"Coup\\u00e9\",\"Cabriolet\",\"Limousine\",\"Coup\\u00e9\",\"Coup\\u00e9\",\"Limousine\",\"Coup\\u00e9\",\"Coup\\u00e9\",\"SUV / Gel\\u00e4ndewagen\",\"Pick-up\",\"Coup\\u00e9\",\"Coup\\u00e9\",\"Kombi\",\"SUV / Gel\\u00e4ndewagen\",\"Coup\\u00e9\",\"Limousine\",\"Cabriolet\",\"Limousine\",\"Coup\\u00e9\",\"Limousine\",\"Limousine\",\"Kombi\",\"Cabriolet\",\"Limousine\",\"Limousine\",\"Limousine\",\"Limousine\",\"Limousine\",\"Limousine\",\"Limousine\",\"Limousine\",\"SUV / Gel\\u00e4ndewagen\",\"SUV / Gel\\u00e4ndewagen\",\"Kompaktvan / Minivan\",\"Coup\\u00e9\",\"Cabriolet\"],\"xaxis\":\"x\",\"yaxis\":\"y\"},{\"alignmentgroup\":\"True\",\"bingroup\":\"x\",\"hovertemplate\":\"condition=Oldtimer<br>carType=%{x}<br>count=%{y}<extra></extra>\",\"legendgroup\":\"Oldtimer\",\"marker\":{\"color\":\"#EF553B\",\"pattern\":{\"shape\":\"\"}},\"name\":\"Oldtimer\",\"offsetgroup\":\"Oldtimer\",\"orientation\":\"v\",\"showlegend\":true,\"type\":\"histogram\",\"x\":[\"Cabriolet\",\"Cabriolet\",\"Cabriolet\",\"Limousine\",\"Limousine\",\"Coup\\u00e9\",\"Limousine\",\"Coup\\u00e9\",\"Coup\\u00e9\",\"Coup\\u00e9\",\"Coup\\u00e9\",\"Limousine\",\"Coup\\u00e9\",\"Coup\\u00e9\",\"Limousine\",\"Coup\\u00e9\",\"Coup\\u00e9\",\"Limousine\",\"Coup\\u00e9\",\"Kleinwagen\",\"Kleinwagen\",\"Cabriolet\",\"Coup\\u00e9\",\"Coup\\u00e9\",\"Limousine\",\"Limousine\",\"Cabriolet\"],\"xaxis\":\"x\",\"yaxis\":\"y\"},{\"alignmentgroup\":\"True\",\"bingroup\":\"x\",\"hovertemplate\":\"condition=Vorf\\u00fchrmodell<br>carType=%{x}<br>count=%{y}<extra></extra>\",\"legendgroup\":\"Vorf\\u00fchrmodell\",\"marker\":{\"color\":\"#00cc96\",\"pattern\":{\"shape\":\"\"}},\"name\":\"Vorf\\u00fchrmodell\",\"offsetgroup\":\"Vorf\\u00fchrmodell\",\"orientation\":\"v\",\"showlegend\":true,\"type\":\"histogram\",\"x\":[\"Cabriolet\",\"Kombi\",\"Coup\\u00e9\",\"SUV / Gel\\u00e4ndewagen\",\"Coup\\u00e9\",\"Limousine\",\"Cabriolet\"],\"xaxis\":\"x\",\"yaxis\":\"y\"},{\"alignmentgroup\":\"True\",\"bingroup\":\"x\",\"hovertemplate\":\"condition=Neu<br>carType=%{x}<br>count=%{y}<extra></extra>\",\"legendgroup\":\"Neu\",\"marker\":{\"color\":\"#ab63fa\",\"pattern\":{\"shape\":\"\"}},\"name\":\"Neu\",\"offsetgroup\":\"Neu\",\"orientation\":\"v\",\"showlegend\":true,\"type\":\"histogram\",\"x\":[\"Coup\\u00e9\",\"SUV / Gel\\u00e4ndewagen\",\"Kombi\",\"Coup\\u00e9\",\"Coup\\u00e9\",\"Cabriolet\",\"SUV / Gel\\u00e4ndewagen\"],\"xaxis\":\"x\",\"yaxis\":\"y\"}],                        {\"barmode\":\"group\",\"legend\":{\"title\":{\"text\":\"condition\"},\"tracegroupgap\":0},\"margin\":{\"t\":60},\"plot_bgcolor\":\"white\",\"template\":{\"data\":{\"bar\":[{\"error_x\":{\"color\":\"#2a3f5f\"},\"error_y\":{\"color\":\"#2a3f5f\"},\"marker\":{\"line\":{\"color\":\"#E5ECF6\",\"width\":0.5},\"pattern\":{\"fillmode\":\"overlay\",\"size\":10,\"solidity\":0.2}},\"type\":\"bar\"}],\"barpolar\":[{\"marker\":{\"line\":{\"color\":\"#E5ECF6\",\"width\":0.5},\"pattern\":{\"fillmode\":\"overlay\",\"size\":10,\"solidity\":0.2}},\"type\":\"barpolar\"}],\"carpet\":[{\"aaxis\":{\"endlinecolor\":\"#2a3f5f\",\"gridcolor\":\"white\",\"linecolor\":\"white\",\"minorgridcolor\":\"white\",\"startlinecolor\":\"#2a3f5f\"},\"baxis\":{\"endlinecolor\":\"#2a3f5f\",\"gridcolor\":\"white\",\"linecolor\":\"white\",\"minorgridcolor\":\"white\",\"startlinecolor\":\"#2a3f5f\"},\"type\":\"carpet\"}],\"choropleth\":[{\"colorbar\":{\"outlinewidth\":0,\"ticks\":\"\"},\"type\":\"choropleth\"}],\"contour\":[{\"colorbar\":{\"outlinewidth\":0,\"ticks\":\"\"},\"colorscale\":[[0.0,\"#0d0887\"],[0.1111111111111111,\"#46039f\"],[0.2222222222222222,\"#7201a8\"],[0.3333333333333333,\"#9c179e\"],[0.4444444444444444,\"#bd3786\"],[0.5555555555555556,\"#d8576b\"],[0.6666666666666666,\"#ed7953\"],[0.7777777777777778,\"#fb9f3a\"],[0.8888888888888888,\"#fdca26\"],[1.0,\"#f0f921\"]],\"type\":\"contour\"}],\"contourcarpet\":[{\"colorbar\":{\"outlinewidth\":0,\"ticks\":\"\"},\"type\":\"contourcarpet\"}],\"heatmap\":[{\"colorbar\":{\"outlinewidth\":0,\"ticks\":\"\"},\"colorscale\":[[0.0,\"#0d0887\"],[0.1111111111111111,\"#46039f\"],[0.2222222222222222,\"#7201a8\"],[0.3333333333333333,\"#9c179e\"],[0.4444444444444444,\"#bd3786\"],[0.5555555555555556,\"#d8576b\"],[0.6666666666666666,\"#ed7953\"],[0.7777777777777778,\"#fb9f3a\"],[0.8888888888888888,\"#fdca26\"],[1.0,\"#f0f921\"]],\"type\":\"heatmap\"}],\"heatmapgl\":[{\"colorbar\":{\"outlinewidth\":0,\"ticks\":\"\"},\"colorscale\":[[0.0,\"#0d0887\"],[0.1111111111111111,\"#46039f\"],[0.2222222222222222,\"#7201a8\"],[0.3333333333333333,\"#9c179e\"],[0.4444444444444444,\"#bd3786\"],[0.5555555555555556,\"#d8576b\"],[0.6666666666666666,\"#ed7953\"],[0.7777777777777778,\"#fb9f3a\"],[0.8888888888888888,\"#fdca26\"],[1.0,\"#f0f921\"]],\"type\":\"heatmapgl\"}],\"histogram\":[{\"marker\":{\"pattern\":{\"fillmode\":\"overlay\",\"size\":10,\"solidity\":0.2}},\"type\":\"histogram\"}],\"histogram2d\":[{\"colorbar\":{\"outlinewidth\":0,\"ticks\":\"\"},\"colorscale\":[[0.0,\"#0d0887\"],[0.1111111111111111,\"#46039f\"],[0.2222222222222222,\"#7201a8\"],[0.3333333333333333,\"#9c179e\"],[0.4444444444444444,\"#bd3786\"],[0.5555555555555556,\"#d8576b\"],[0.6666666666666666,\"#ed7953\"],[0.7777777777777778,\"#fb9f3a\"],[0.8888888888888888,\"#fdca26\"],[1.0,\"#f0f921\"]],\"type\":\"histogram2d\"}],\"histogram2dcontour\":[{\"colorbar\":{\"outlinewidth\":0,\"ticks\":\"\"},\"colorscale\":[[0.0,\"#0d0887\"],[0.1111111111111111,\"#46039f\"],[0.2222222222222222,\"#7201a8\"],[0.3333333333333333,\"#9c179e\"],[0.4444444444444444,\"#bd3786\"],[0.5555555555555556,\"#d8576b\"],[0.6666666666666666,\"#ed7953\"],[0.7777777777777778,\"#fb9f3a\"],[0.8888888888888888,\"#fdca26\"],[1.0,\"#f0f921\"]],\"type\":\"histogram2dcontour\"}],\"mesh3d\":[{\"colorbar\":{\"outlinewidth\":0,\"ticks\":\"\"},\"type\":\"mesh3d\"}],\"parcoords\":[{\"line\":{\"colorbar\":{\"outlinewidth\":0,\"ticks\":\"\"}},\"type\":\"parcoords\"}],\"pie\":[{\"automargin\":true,\"type\":\"pie\"}],\"scatter\":[{\"marker\":{\"colorbar\":{\"outlinewidth\":0,\"ticks\":\"\"}},\"type\":\"scatter\"}],\"scatter3d\":[{\"line\":{\"colorbar\":{\"outlinewidth\":0,\"ticks\":\"\"}},\"marker\":{\"colorbar\":{\"outlinewidth\":0,\"ticks\":\"\"}},\"type\":\"scatter3d\"}],\"scattercarpet\":[{\"marker\":{\"colorbar\":{\"outlinewidth\":0,\"ticks\":\"\"}},\"type\":\"scattercarpet\"}],\"scattergeo\":[{\"marker\":{\"colorbar\":{\"outlinewidth\":0,\"ticks\":\"\"}},\"type\":\"scattergeo\"}],\"scattergl\":[{\"marker\":{\"colorbar\":{\"outlinewidth\":0,\"ticks\":\"\"}},\"type\":\"scattergl\"}],\"scattermapbox\":[{\"marker\":{\"colorbar\":{\"outlinewidth\":0,\"ticks\":\"\"}},\"type\":\"scattermapbox\"}],\"scatterpolar\":[{\"marker\":{\"colorbar\":{\"outlinewidth\":0,\"ticks\":\"\"}},\"type\":\"scatterpolar\"}],\"scatterpolargl\":[{\"marker\":{\"colorbar\":{\"outlinewidth\":0,\"ticks\":\"\"}},\"type\":\"scatterpolargl\"}],\"scatterternary\":[{\"marker\":{\"colorbar\":{\"outlinewidth\":0,\"ticks\":\"\"}},\"type\":\"scatterternary\"}],\"surface\":[{\"colorbar\":{\"outlinewidth\":0,\"ticks\":\"\"},\"colorscale\":[[0.0,\"#0d0887\"],[0.1111111111111111,\"#46039f\"],[0.2222222222222222,\"#7201a8\"],[0.3333333333333333,\"#9c179e\"],[0.4444444444444444,\"#bd3786\"],[0.5555555555555556,\"#d8576b\"],[0.6666666666666666,\"#ed7953\"],[0.7777777777777778,\"#fb9f3a\"],[0.8888888888888888,\"#fdca26\"],[1.0,\"#f0f921\"]],\"type\":\"surface\"}],\"table\":[{\"cells\":{\"fill\":{\"color\":\"#EBF0F8\"},\"line\":{\"color\":\"white\"}},\"header\":{\"fill\":{\"color\":\"#C8D4E3\"},\"line\":{\"color\":\"white\"}},\"type\":\"table\"}]},\"layout\":{\"annotationdefaults\":{\"arrowcolor\":\"#2a3f5f\",\"arrowhead\":0,\"arrowwidth\":1},\"autotypenumbers\":\"strict\",\"coloraxis\":{\"colorbar\":{\"outlinewidth\":0,\"ticks\":\"\"}},\"colorscale\":{\"diverging\":[[0,\"#8e0152\"],[0.1,\"#c51b7d\"],[0.2,\"#de77ae\"],[0.3,\"#f1b6da\"],[0.4,\"#fde0ef\"],[0.5,\"#f7f7f7\"],[0.6,\"#e6f5d0\"],[0.7,\"#b8e186\"],[0.8,\"#7fbc41\"],[0.9,\"#4d9221\"],[1,\"#276419\"]],\"sequential\":[[0.0,\"#0d0887\"],[0.1111111111111111,\"#46039f\"],[0.2222222222222222,\"#7201a8\"],[0.3333333333333333,\"#9c179e\"],[0.4444444444444444,\"#bd3786\"],[0.5555555555555556,\"#d8576b\"],[0.6666666666666666,\"#ed7953\"],[0.7777777777777778,\"#fb9f3a\"],[0.8888888888888888,\"#fdca26\"],[1.0,\"#f0f921\"]],\"sequentialminus\":[[0.0,\"#0d0887\"],[0.1111111111111111,\"#46039f\"],[0.2222222222222222,\"#7201a8\"],[0.3333333333333333,\"#9c179e\"],[0.4444444444444444,\"#bd3786\"],[0.5555555555555556,\"#d8576b\"],[0.6666666666666666,\"#ed7953\"],[0.7777777777777778,\"#fb9f3a\"],[0.8888888888888888,\"#fdca26\"],[1.0,\"#f0f921\"]]},\"colorway\":[\"#636efa\",\"#EF553B\",\"#00cc96\",\"#ab63fa\",\"#FFA15A\",\"#19d3f3\",\"#FF6692\",\"#B6E880\",\"#FF97FF\",\"#FECB52\"],\"font\":{\"color\":\"#2a3f5f\"},\"geo\":{\"bgcolor\":\"white\",\"lakecolor\":\"white\",\"landcolor\":\"#E5ECF6\",\"showlakes\":true,\"showland\":true,\"subunitcolor\":\"white\"},\"hoverlabel\":{\"align\":\"left\"},\"hovermode\":\"closest\",\"mapbox\":{\"style\":\"light\"},\"paper_bgcolor\":\"white\",\"plot_bgcolor\":\"#E5ECF6\",\"polar\":{\"angularaxis\":{\"gridcolor\":\"white\",\"linecolor\":\"white\",\"ticks\":\"\"},\"bgcolor\":\"#E5ECF6\",\"radialaxis\":{\"gridcolor\":\"white\",\"linecolor\":\"white\",\"ticks\":\"\"}},\"scene\":{\"xaxis\":{\"backgroundcolor\":\"#E5ECF6\",\"gridcolor\":\"white\",\"gridwidth\":2,\"linecolor\":\"white\",\"showbackground\":true,\"ticks\":\"\",\"zerolinecolor\":\"white\"},\"yaxis\":{\"backgroundcolor\":\"#E5ECF6\",\"gridcolor\":\"white\",\"gridwidth\":2,\"linecolor\":\"white\",\"showbackground\":true,\"ticks\":\"\",\"zerolinecolor\":\"white\"},\"zaxis\":{\"backgroundcolor\":\"#E5ECF6\",\"gridcolor\":\"white\",\"gridwidth\":2,\"linecolor\":\"white\",\"showbackground\":true,\"ticks\":\"\",\"zerolinecolor\":\"white\"}},\"shapedefaults\":{\"line\":{\"color\":\"#2a3f5f\"}},\"ternary\":{\"aaxis\":{\"gridcolor\":\"white\",\"linecolor\":\"white\",\"ticks\":\"\"},\"baxis\":{\"gridcolor\":\"white\",\"linecolor\":\"white\",\"ticks\":\"\"},\"bgcolor\":\"#E5ECF6\",\"caxis\":{\"gridcolor\":\"white\",\"linecolor\":\"white\",\"ticks\":\"\"}},\"title\":{\"x\":0.05},\"xaxis\":{\"automargin\":true,\"gridcolor\":\"white\",\"linecolor\":\"white\",\"ticks\":\"\",\"title\":{\"standoff\":15},\"zerolinecolor\":\"white\",\"zerolinewidth\":2},\"yaxis\":{\"automargin\":true,\"gridcolor\":\"white\",\"linecolor\":\"white\",\"ticks\":\"\",\"title\":{\"standoff\":15},\"zerolinecolor\":\"white\",\"zerolinewidth\":2}}},\"title\":{\"text\":\"<b>Total count of car type according to its condition</b>\",\"x\":0.5},\"xaxis\":{\"anchor\":\"y\",\"categoryorder\":\"total descending\",\"domain\":[0.0,1.0],\"linecolor\":\"black\",\"linewidth\":2,\"showline\":true,\"showticklabels\":true,\"title\":{\"text\":\"Car Type\"}},\"yaxis\":{\"anchor\":\"x\",\"domain\":[0.0,1.0],\"linecolor\":\"black\",\"linewidth\":2,\"showline\":true,\"showticklabels\":true,\"title\":{\"text\":\"Car Type Count\"}}},                        {\"responsive\": true}                    ).then(function(){\n",
       "                            \n",
       "var gd = document.getElementById('11e7f7ce-485a-4b6e-80c5-745d7affda02');\n",
       "var x = new MutationObserver(function (mutations, observer) {{\n",
       "        var display = window.getComputedStyle(gd).display;\n",
       "        if (!display || display === 'none') {{\n",
       "            console.log([gd, 'removed!']);\n",
       "            Plotly.purge(gd);\n",
       "            observer.disconnect();\n",
       "        }}\n",
       "}});\n",
       "\n",
       "// Listen for the removal of the full notebook cells\n",
       "var notebookContainer = gd.closest('#notebook-container');\n",
       "if (notebookContainer) {{\n",
       "    x.observe(notebookContainer, {childList: true});\n",
       "}}\n",
       "\n",
       "// Listen for the clearing of the current output cell\n",
       "var outputEl = gd.closest('.output');\n",
       "if (outputEl) {{\n",
       "    x.observe(outputEl, {childList: true});\n",
       "}}\n",
       "\n",
       "                        })                };                });            </script>        </div>"
      ]
     },
     "metadata": {},
     "output_type": "display_data"
    }
   ],
   "source": [
    "fig = px.histogram(df12, x=\"carType\", color=\"condition\", barmode = \"group\")\n",
    "fig.update_layout(xaxis={'categoryorder':'total descending'},\n",
    "                 plot_bgcolor = \"white\",\n",
    "                  yaxis_title = \"Car Type Count\",\n",
    "                  xaxis_title = \"Car Type\",\n",
    "                  title = \"<b>Total count of car type according to its condition</b>\",\n",
    "                 title_x=0.5)\n",
    "fig.update_yaxes(showticklabels = True, showline = True, linewidth = 2, linecolor = \"black\")\n",
    "fig.update_xaxes(showticklabels = True, showline = True, linewidth = 2, linecolor = \"black\")\n",
    "fig.show()"
   ]
  },
  {
   "cell_type": "code",
   "execution_count": null,
   "metadata": {},
   "outputs": [],
   "source": [
    "\n"
   ]
  }
 ],
 "metadata": {
  "kernelspec": {
   "display_name": "Python 3",
   "language": "python",
   "name": "python3"
  },
  "language_info": {
   "codemirror_mode": {
    "name": "ipython",
    "version": 3
   },
   "file_extension": ".py",
   "mimetype": "text/x-python",
   "name": "python",
   "nbconvert_exporter": "python",
   "pygments_lexer": "ipython3",
   "version": "3.8.5"
  },
  "toc": {
   "base_numbering": 1,
   "nav_menu": {},
   "number_sections": true,
   "sideBar": true,
   "skip_h1_title": false,
   "title_cell": "Table of Contents",
   "title_sidebar": "Contents",
   "toc_cell": false,
   "toc_position": {},
   "toc_section_display": true,
   "toc_window_display": false
  },
  "varInspector": {
   "cols": {
    "lenName": 16,
    "lenType": 16,
    "lenVar": 40
   },
   "kernels_config": {
    "python": {
     "delete_cmd_postfix": "",
     "delete_cmd_prefix": "del ",
     "library": "var_list.py",
     "varRefreshCmd": "print(var_dic_list())"
    },
    "r": {
     "delete_cmd_postfix": ") ",
     "delete_cmd_prefix": "rm(",
     "library": "var_list.r",
     "varRefreshCmd": "cat(var_dic_list()) "
    }
   },
   "types_to_exclude": [
    "module",
    "function",
    "builtin_function_or_method",
    "instance",
    "_Feature"
   ],
   "window_display": false
  }
 },
 "nbformat": 4,
 "nbformat_minor": 4
}
